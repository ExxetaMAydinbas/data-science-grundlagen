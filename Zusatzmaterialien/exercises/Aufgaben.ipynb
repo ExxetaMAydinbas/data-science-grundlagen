{
 "cells": [
  {
   "cell_type": "markdown",
   "metadata": {},
   "source": [
    "# Python als Taschenrechner und Variablen"
   ]
  },
  {
   "cell_type": "markdown",
   "metadata": {},
   "source": [
    "### 1. Schreiben Sie ein Programm, welches \"Hallo Welt!\" ausgibt."
   ]
  },
  {
   "cell_type": "code",
   "execution_count": null,
   "metadata": {},
   "outputs": [],
   "source": []
  },
  {
   "cell_type": "markdown",
   "metadata": {},
   "source": [
    "### 2. Nutzen Sie Python als Taschenrechner. Wie viele Sekunden sind 42 Minuten und 42 Sekunden?"
   ]
  },
  {
   "cell_type": "code",
   "execution_count": null,
   "metadata": {},
   "outputs": [],
   "source": []
  },
  {
   "cell_type": "markdown",
   "metadata": {},
   "source": [
    "### 3. Nutzen Sie Python als Taschenrechner. Das Volumen einer Kugel ist $\\frac{4}{3}\\pi r^3$. Was ist das Volumen einer Kugel mit Radius 5. Was ist das Volumen einer Kugel mit Radius 8?"
   ]
  },
  {
   "cell_type": "code",
   "execution_count": null,
   "metadata": {},
   "outputs": [],
   "source": []
  },
  {
   "cell_type": "markdown",
   "metadata": {},
   "source": [
    "### 4. Speichern Sie drei beliebige Zahlen in den Variablen a,b und c. Prüfen Sie, ob der Wert in a und b der gleiche sind. Prüfen Sie, ob c = a+b."
   ]
  },
  {
   "cell_type": "code",
   "execution_count": null,
   "metadata": {},
   "outputs": [],
   "source": []
  },
  {
   "cell_type": "markdown",
   "metadata": {},
   "source": [
    "### 5.\tSchreiben Sie ein Programm, welches zwei Zahlen a und b vom Benutzer abfragt. Multiplizieren Sie die Zahlen und geben Sie das Ergebnis aus."
   ]
  },
  {
   "cell_type": "code",
   "execution_count": null,
   "metadata": {},
   "outputs": [],
   "source": []
  },
  {
   "cell_type": "markdown",
   "metadata": {},
   "source": [
    "### 6. Von welchem Typ ist der Ausdruck 5 + 2.0"
   ]
  },
  {
   "cell_type": "code",
   "execution_count": null,
   "metadata": {},
   "outputs": [],
   "source": []
  },
  {
   "cell_type": "markdown",
   "metadata": {},
   "source": [
    "# Listen und Plots"
   ]
  },
  {
   "cell_type": "markdown",
   "metadata": {},
   "source": [
    "### 1. Erstellen Sie eine Liste L1 mit den Werten [3,6,2,7]. Sortieren Sie die Liste. Fragen Sie den User nach 5 Elementen, welche sie in der Liste L2 speichern. Prüfen Sie, ob das erste Element aus der sortieren Liste L1 größer ist als das dritte Element der Liste L2."
   ]
  },
  {
   "cell_type": "code",
   "execution_count": null,
   "metadata": {},
   "outputs": [],
   "source": []
  },
  {
   "cell_type": "markdown",
   "metadata": {},
   "source": [
    "### 2. Plotten Sie ein Rechteck und ein Dreieck."
   ]
  },
  {
   "cell_type": "code",
   "execution_count": null,
   "metadata": {},
   "outputs": [],
   "source": []
  },
  {
   "cell_type": "markdown",
   "metadata": {},
   "source": [
    "### 3. Importieren Sie die Tabelle Temperaturen.csv. Plotten Sie den Temperaturverlauf."
   ]
  },
  {
   "cell_type": "code",
   "execution_count": null,
   "metadata": {},
   "outputs": [],
   "source": []
  },
  {
   "cell_type": "markdown",
   "metadata": {},
   "source": [
    "# Funktionen"
   ]
  },
  {
   "cell_type": "markdown",
   "metadata": {},
   "source": [
    "### 1. Schreiben Sie eine Funktion \"print_spam\", die \"Spam\" schreibt (mit dem Befehl \"print\")."
   ]
  },
  {
   "cell_type": "code",
   "execution_count": null,
   "metadata": {},
   "outputs": [],
   "source": []
  },
  {
   "cell_type": "markdown",
   "metadata": {},
   "source": [
    "### 2. Schreiben Sie eine Funktion, welche die Breite, Höhe und Länge eines Quaders als Argumente nimmt und das Volumen zurückgibt."
   ]
  },
  {
   "cell_type": "code",
   "execution_count": null,
   "metadata": {},
   "outputs": [],
   "source": []
  },
  {
   "cell_type": "markdown",
   "metadata": {},
   "source": [
    "### 3.\tSie haben ein Quader mit den Maßen (10 cm, 5 cm, 10 cm) und ein Quader mit den Maßen (20 cm, 20cm, 3 cm). Nutzen Sie ihre Funktion aus der vorherigen Aufgabe: Welcher Quader hat mehr Volumen? Wievielmal größer ist der größere Quader?"
   ]
  },
  {
   "cell_type": "code",
   "execution_count": null,
   "metadata": {},
   "outputs": [],
   "source": []
  },
  {
   "cell_type": "markdown",
   "metadata": {},
   "source": [
    "### 4. Schreiben Sie eine Funktion, welche die ersten beiden Elemente einer Liste ausgibt."
   ]
  },
  {
   "cell_type": "code",
   "execution_count": null,
   "metadata": {},
   "outputs": [],
   "source": []
  },
  {
   "cell_type": "markdown",
   "metadata": {},
   "source": [
    "### 5.\tSchreiben Sie eine Funktion, welche die Fläche und den Umfang eines Kreises berechnen und zurückgeben. Das Argument ist der Radius. Versuchen Sie es auch mit der Funktion „Input“ statt des Arguments."
   ]
  },
  {
   "cell_type": "code",
   "execution_count": null,
   "metadata": {},
   "outputs": [],
   "source": []
  },
  {
   "cell_type": "markdown",
   "metadata": {},
   "source": [
    "### 6. Schreiben Sie eine Funktion mit einer Liste als Argument. Die Liste wird sortiert und das letzte Element zurückgegeben."
   ]
  },
  {
   "cell_type": "code",
   "execution_count": null,
   "metadata": {},
   "outputs": [],
   "source": []
  },
  {
   "cell_type": "markdown",
   "metadata": {},
   "source": [
    "### 7. Schreiben Sie eine Funktion \"bigger\" mit 2 Argumenten a und b, welche prüft, ob a > b ist. Falls a > b ist, gibt die Funktion \"True\" aus. Sonst \"False\"."
   ]
  },
  {
   "cell_type": "code",
   "execution_count": null,
   "metadata": {},
   "outputs": [],
   "source": []
  },
  {
   "cell_type": "markdown",
   "metadata": {},
   "source": [
    "### 8. Schreiben Sie eine Funktion, die prüft, ob die Argumente a und b vom gleichen Typ sind."
   ]
  },
  {
   "cell_type": "code",
   "execution_count": null,
   "metadata": {},
   "outputs": [],
   "source": []
  },
  {
   "cell_type": "markdown",
   "metadata": {},
   "source": [
    "### 9.\tSie können nicht nur Variablen als Argumente verwenden, sondern auch Funktionen. Betrachten Sie folgende Funktion:"
   ]
  },
  {
   "cell_type": "code",
   "execution_count": null,
   "metadata": {},
   "outputs": [],
   "source": [
    "def do_twice(f):\n",
    "f()\n",
    "f()"
   ]
  },
  {
   "cell_type": "markdown",
   "metadata": {},
   "source": [
    "### Diese Funktion führt die Funktion f zweimal aus. Probieren Sie die Funktion \"do_twice\" mit ihrer Funktion \"print_spam\" wie folgt aus:"
   ]
  },
  {
   "cell_type": "code",
   "execution_count": null,
   "metadata": {},
   "outputs": [],
   "source": [
    "do_twice(print_spam)"
   ]
  },
  {
   "cell_type": "markdown",
   "metadata": {},
   "source": [
    "### 10. Modifizieren Sie do_twice so, dass Sie zwei Argumente nimmt. Eine Funktion (wie bisher) und eine Variable arg. Die Funktion \"do_twice\" ruft (wie bisher) die Funktion f auf. Diesmal aber mit dem Argument arg. Also f(arg)"
   ]
  },
  {
   "cell_type": "code",
   "execution_count": null,
   "metadata": {},
   "outputs": [],
   "source": []
  },
  {
   "cell_type": "markdown",
   "metadata": {},
   "source": [
    "### 11. Schreiben Sie eine Funktion print_twice(arg), die den String \"arg\" zweimal ausgibt."
   ]
  },
  {
   "cell_type": "code",
   "execution_count": null,
   "metadata": {},
   "outputs": [],
   "source": []
  },
  {
   "cell_type": "markdown",
   "metadata": {},
   "source": [
    "### 12.\tNutzen Sie ihre modifizierte Version von \"do_twice\" mit den Argumenten \"print_twice\" und dem String \"spam\"."
   ]
  },
  {
   "cell_type": "code",
   "execution_count": null,
   "metadata": {},
   "outputs": [],
   "source": []
  },
  {
   "cell_type": "markdown",
   "metadata": {},
   "source": [
    "### 13.\tSchreiben Sie eine Funktion \"do_four\", die eine Funktion viermal ausführt. Nutzen Sie hierbei ihre ursprüngliche (nicht modifizierte) Funktion \"do_twice\". Ihre Funktion \"do_four\" soll aus nur 2 Zeilen bestehen."
   ]
  },
  {
   "cell_type": "code",
   "execution_count": null,
   "metadata": {},
   "outputs": [],
   "source": []
  },
  {
   "cell_type": "markdown",
   "metadata": {},
   "source": [
    "### 14. Schreiben Sie eine Funktion, welche folgendes Gitter schreibt:"
   ]
  },
  {
   "cell_type": "markdown",
   "metadata": {},
   "source": [
    "+ - - - - + - - - - +\n",
    "|         |         |\n",
    "|         |         |\n",
    "|         |         |\n",
    "|         |         |\n",
    "+ - - - - + - - - - +\n",
    "|         |         |\n",
    "|         |         |\n",
    "|         |         |\n",
    "|         |         |\n",
    "+ - - - - + - - - - +"
   ]
  },
  {
   "cell_type": "markdown",
   "metadata": {},
   "source": [
    "### Schreiben Sie so viele Funktionen, wie sie benötigen zur Hilfe und nutzen Sie gerne auch \"do_twice\" oder \"do_four\". Der Befehl \"print\" springt am Ende in eine neue Zeile. Sie können dies aber unterdrücken und zum Beispiel durch ein Leerzeichen ersetzen. Der Befehl sieht dann so aus:"
   ]
  },
  {
   "cell_type": "code",
   "execution_count": null,
   "metadata": {},
   "outputs": [],
   "source": [
    "print('+ - - - -', end=' ')"
   ]
  },
  {
   "cell_type": "markdown",
   "metadata": {},
   "source": [
    "### 15. Schreiben Sie eine Funktion \"ausrufezeichen\", welches ein String als Argument nimmt. Die Funktion schreibt den String und fügt noch ein Ausrufezeichen an. Schreiben Sie die Funktion normal und mit lambda expression."
   ]
  },
  {
   "cell_type": "code",
   "execution_count": null,
   "metadata": {},
   "outputs": [],
   "source": []
  },
  {
   "cell_type": "markdown",
   "metadata": {},
   "source": [
    "# Bedinungen und Schleifen"
   ]
  },
  {
   "cell_type": "markdown",
   "metadata": {},
   "source": [
    "### 1. Schreiben Sie alle Zahlen von 0 bis 20 mit einer Schleife."
   ]
  },
  {
   "cell_type": "code",
   "execution_count": null,
   "metadata": {},
   "outputs": [],
   "source": []
  },
  {
   "cell_type": "markdown",
   "metadata": {},
   "source": [
    "### 2. Schreiben Sie alle Zahlen zwischen 20 und 30."
   ]
  },
  {
   "cell_type": "code",
   "execution_count": null,
   "metadata": {},
   "outputs": [],
   "source": []
  },
  {
   "cell_type": "markdown",
   "metadata": {},
   "source": [
    "### 3. Schreiben Sie eine Liste (Das Python-Objekt Liste!), welche die Jahre von ihrem Geburtsjahr bis 2019 enthält."
   ]
  },
  {
   "cell_type": "code",
   "execution_count": null,
   "metadata": {},
   "outputs": [],
   "source": []
  },
  {
   "cell_type": "markdown",
   "metadata": {},
   "source": [
    "### 4. Schreiben Sie eine Funktion mit einem Integer als Argument, welche prüft, ob der Integer gerade oder ungerade ist."
   ]
  },
  {
   "cell_type": "code",
   "execution_count": null,
   "metadata": {},
   "outputs": [],
   "source": []
  },
  {
   "cell_type": "markdown",
   "metadata": {},
   "source": [
    "### 5. Schreiben Sie ein Programm, welches alle Zahlen von -10 bis 10 ausgibt. Wenn die Zahl positiv ist schreibt das Programm „positiv“ neben die Zahl. Wenn die Zahl negativ ist, schreibt das Programm „negativ“ neben die Zahl."
   ]
  },
  {
   "cell_type": "code",
   "execution_count": null,
   "metadata": {},
   "outputs": [],
   "source": []
  },
  {
   "cell_type": "markdown",
   "metadata": {},
   "source": [
    "### 6. Schreiben Sie ein Programm, welches alle Zahlen, die durch 7 teilbar sind und zwischen 0 und 100 liegen, aufschreibt."
   ]
  },
  {
   "cell_type": "code",
   "execution_count": null,
   "metadata": {},
   "outputs": [],
   "source": []
  },
  {
   "cell_type": "markdown",
   "metadata": {},
   "source": [
    "### 7. Schreiben Sie eine Funktion \"string_len_5\", welche die Eingabe eines Strings des Nutzers abfragt. Falls der String die Länge 5 hat, gibt die Funktion \"Ihr String ist 5 Zeichen lang!\" aus. Falls der String eine andere Länge hat, gibt die Funktion aus: \"Ihr String hat die falsche Länge. Versuchen Sie es nochmal!\" und fragt erneut nach einen String. Dies geht solange weiter, bis der Nutzer einen String der Länge 5 eingegeben hat."
   ]
  },
  {
   "cell_type": "code",
   "execution_count": null,
   "metadata": {},
   "outputs": [],
   "source": []
  },
  {
   "cell_type": "markdown",
   "metadata": {},
   "source": [
    "### 8. Fermats Theorem besagt, dass es keine positiven ganze Zahlen $a,b,c$ und $n$ mit $n> 2$ gibt, sodass gilt $a^n+b^n=c^n$. Schreiben Sie eine Funktion \"check_fermat\", die $a,b,c$ und $n$ als Argumente nimmt. Sie gibt aus \"Heiliger Strohsack, Fermat lag falsch!\", falls $n > 2$ und $a^n+b^n=c^n$. Ansonsten gibt sie aus \"Nein, das funktioniert nicht!\"."
   ]
  },
  {
   "cell_type": "code",
   "execution_count": null,
   "metadata": {},
   "outputs": [],
   "source": []
  },
  {
   "cell_type": "markdown",
   "metadata": {},
   "source": [
    "### 9. Prüfen Sie mit einer Schleife und ihrer Funktion check_fermat, ob Fermats Theorem für die Zahlen a=5, b=8, c=23 und n= 1 bis 20 erfüllt ist."
   ]
  },
  {
   "cell_type": "code",
   "execution_count": null,
   "metadata": {},
   "outputs": [],
   "source": []
  },
  {
   "cell_type": "markdown",
   "metadata": {},
   "source": [
    "### 10. Prüfen Sie mit einer genesteten Schleife und ihrer Funktion check_fermat, ob Fermats Theorem für die Zahlen a=5, b=8, c= 1 bis 20 und n = 1 bis 20 erfüllt ist."
   ]
  },
  {
   "cell_type": "code",
   "execution_count": null,
   "metadata": {},
   "outputs": [],
   "source": []
  },
  {
   "cell_type": "markdown",
   "metadata": {},
   "source": [
    "### 11.\tSchreiben Sie eine Funktion „ausrufezeichen“, welches einen String als Argument nimmt. Ihre Funktion hängt ein Ausrufezeichen an den String an und gibt den neuen String zurück. Schreiben Sie eine zweite Funktion „hallo_vorne_dran“ mit einem String als Argument, welches „Hallo“ vorne an den String hängt. Sie haben nun 2 Funktionen, mit denen Sie tätig werden sollen. Fangen Sie in einer neuen Zelle ein Programm an: x=“Peter“ ist ihr String, mit dem Sie arbeiten sollen. Nutzen Sie ihre Funktionen um aus x den String „Hallo Hallo Peter!!!!!!“ zu machen. Schreiben Sie diesen neuen String x nun 25 Mal und hängen Sie bei jedem Mal ein Ausrufezeichen an."
   ]
  },
  {
   "cell_type": "code",
   "execution_count": null,
   "metadata": {},
   "outputs": [],
   "source": []
  },
  {
   "cell_type": "markdown",
   "metadata": {},
   "source": [
    "### 12.\tSchreiben Sie eine Funktion mit einem String als Argument, welches die Länge des Strings ausgibt."
   ]
  },
  {
   "cell_type": "code",
   "execution_count": null,
   "metadata": {},
   "outputs": [],
   "source": []
  },
  {
   "cell_type": "markdown",
   "metadata": {},
   "source": [
    "### 13. Schreiben Sie eine Funktion mit einem String als Argument, welche True ausgibt, falls die Länge des String 5 ist."
   ]
  },
  {
   "cell_type": "code",
   "execution_count": null,
   "metadata": {},
   "outputs": [],
   "source": []
  },
  {
   "cell_type": "markdown",
   "metadata": {},
   "source": [
    "### 14. Schreiben Sie ein Ratespiel: Der erste Spieler wird vom Programm nach der geheimen Zahl gefragt, ohne dass der zweite Spieler die Eingabe sieht. Der zweite Spieler versucht nun die Zahl zu erraten. Er gibt eine Zahl ein: Falls die Zahl die geheime Zahl des ersten Spielers ist, ist die Ausgabe „Richtig, sie haben die geheime Zahl gefunden.“ Falls die Zahl nicht die geheime Zahl ist schreibt das Programm „Leider falsch. Versuchen Sie es nochmal“. Dies geht solange weiter, bis der zweite Spieler die geheime Zahl gefunden hat."
   ]
  },
  {
   "cell_type": "code",
   "execution_count": null,
   "metadata": {},
   "outputs": [],
   "source": []
  },
  {
   "cell_type": "markdown",
   "metadata": {},
   "source": [
    "### 15.\tModifizieren Sie ihr Ratespiel. Wenn der zweite Spieler die geheime Zahl gefunden hat schreibt ihr Programm auch wie viele Versuche er gebraucht hat. Zum Beispiel. „Richtig, Sie haben die geheime Zahl gefunden! Sie haben 5 Versuche gebraucht.“"
   ]
  },
  {
   "cell_type": "code",
   "execution_count": null,
   "metadata": {},
   "outputs": [],
   "source": []
  },
  {
   "cell_type": "markdown",
   "metadata": {},
   "source": [
    "### 16.\tSchreiben Sie eine Funktion „ist_primzahl“, welche einen Integer als Input hat und True ausgibt, falls dies eine Primzahl ist. Ansonsten gibt sie False aus. Eine Primzahl ist eine Zahl, die nur durch 1 und sich selbst teilbar ist."
   ]
  },
  {
   "cell_type": "code",
   "execution_count": null,
   "metadata": {},
   "outputs": [],
   "source": []
  },
  {
   "cell_type": "markdown",
   "metadata": {},
   "source": [
    "### 17.\tSchreiben Sie ein Programm, welches alle Primzahlen bis 100 schreibt. "
   ]
  },
  {
   "cell_type": "code",
   "execution_count": null,
   "metadata": {},
   "outputs": [],
   "source": []
  },
  {
   "cell_type": "markdown",
   "metadata": {},
   "source": [
    "# Dictionaries und Sets"
   ]
  },
  {
   "cell_type": "markdown",
   "metadata": {},
   "source": [
    "### 1. Schreiben Sie eine Funktion, welche die Elemente einer Liste ohne Duplikate schreibt."
   ]
  },
  {
   "cell_type": "code",
   "execution_count": null,
   "metadata": {},
   "outputs": [],
   "source": []
  },
  {
   "cell_type": "markdown",
   "metadata": {},
   "source": [
    "### 2. Schreiben Sie eine Funktion, welche aus zwei Listen als Input ein Dictionary erstellt. Nehmen Sie an, dass die Listen gleiche Länge haben. Eine Liste gibt die Keys und die andere Liste die Values an."
   ]
  },
  {
   "cell_type": "code",
   "execution_count": null,
   "metadata": {},
   "outputs": [],
   "source": []
  },
  {
   "cell_type": "markdown",
   "metadata": {},
   "source": [
    "### 3. Modifizieren Sie die Funktion. Falls die Listen nicht die gleiche Länge haben, soll eine Fehlermeldung erscheinen."
   ]
  },
  {
   "cell_type": "code",
   "execution_count": null,
   "metadata": {},
   "outputs": [],
   "source": []
  },
  {
   "cell_type": "markdown",
   "metadata": {},
   "source": [
    "### 4. Schreiben Sie eine Funktion, welche die Values eines Dictionaries schreibt, nachdem diese nach Keys sortiert wurden."
   ]
  },
  {
   "cell_type": "markdown",
   "metadata": {},
   "source": [
    "# Texte einlesen und bearbeiten"
   ]
  },
  {
   "cell_type": "markdown",
   "metadata": {},
   "source": [
    "### 1. Schreiben Sie eine Funktion, die einen String als Argument nimmt. Alle „Hallo“ werden durch „Halli Hallo“ ersetzt. Außerdem soll die Funktion den String komplett in Kleinbuchstaben verwandeln. Die Funktion gibt den neuen String zurück. Jetzt nutzen Sie ihre Funktion! Geben Sie ihrer Funktion den String „Hallo, wie geht es dir“. Nachdem Sie das getan haben, hängen Sie noch ein Ausrufezeichen an."
   ]
  },
  {
   "cell_type": "code",
   "execution_count": null,
   "metadata": {},
   "outputs": [],
   "source": []
  },
  {
   "cell_type": "markdown",
   "metadata": {},
   "source": [
    "### 2. Lesen Sie den Text „input.txt“ ein. Ersetzen Sie im Text das Wort „Class“ durch das Wort „unknown“.  Schauen Sie sich dafür die Funktion „replace“ an. Mit der Funktion „lower“ können Sie den Text zunächst komplett in Kleinbuchstaben umwandeln. Speichern Sie diesen Text in einer neuen Datei."
   ]
  },
  {
   "cell_type": "code",
   "execution_count": null,
   "metadata": {},
   "outputs": [],
   "source": []
  },
  {
   "cell_type": "markdown",
   "metadata": {},
   "source": [
    "### 3. Lesen Sie den Text „input.txt“ ein. Schreiben Sie ein Programm, welches zählt, wie oft das Wort „the“ vorkommt. Mit der Funktion „lower“ können Sie den Text zunächst komplett in Kleinbuchstaben umwandeln."
   ]
  },
  {
   "cell_type": "code",
   "execution_count": null,
   "metadata": {},
   "outputs": [],
   "source": []
  },
  {
   "cell_type": "markdown",
   "metadata": {},
   "source": [
    "# Tabellen und Dateien einlesen und bearbeiten"
   ]
  },
  {
   "cell_type": "markdown",
   "metadata": {},
   "source": [
    "### 1. Schreiben Sie eine Funktion, welche prüft, ob das Wort „only“ in einem String vorkommt. Testen Sie ihre Funktion mit dem Text aus „input.txt“."
   ]
  },
  {
   "cell_type": "code",
   "execution_count": null,
   "metadata": {},
   "outputs": [],
   "source": []
  },
  {
   "cell_type": "markdown",
   "metadata": {},
   "source": [
    "### 2. Schreiben Sie eine Funktion, welche prüft ob eine vierstellige Zahl in einem String vorkommt."
   ]
  },
  {
   "cell_type": "code",
   "execution_count": null,
   "metadata": {},
   "outputs": [],
   "source": []
  },
  {
   "cell_type": "markdown",
   "metadata": {},
   "source": [
    "### 3. Laden Sie die Datei Temperaturen.csv in Python. Finden Sie alle Einträge, wo das Datum falsch formatiert ist (inklusive Index)."
   ]
  },
  {
   "cell_type": "code",
   "execution_count": null,
   "metadata": {},
   "outputs": [],
   "source": []
  },
  {
   "cell_type": "markdown",
   "metadata": {},
   "source": [
    "### 4. Schreiben Sie alle Einträge, welche falsch formatiert sind, in eine Datenbank."
   ]
  },
  {
   "cell_type": "code",
   "execution_count": null,
   "metadata": {},
   "outputs": [],
   "source": []
  },
  {
   "cell_type": "markdown",
   "metadata": {},
   "source": [
    "### 5. Laden Sie sich den Ordner Texte herunter. Benennen Sie die Dateien um, indem Sie vor den jeweiligen Namen „Text_“ schreiben."
   ]
  },
  {
   "cell_type": "code",
   "execution_count": null,
   "metadata": {},
   "outputs": [],
   "source": []
  },
  {
   "cell_type": "markdown",
   "metadata": {},
   "source": [
    "### 6. Schreiben Sie ein Rechentrainingsprogramm. Der Benutzer soll zufällig ausgewählte Zahlen zwischen 1 und 10 subtrahieren, addieren und multiplizieren. Bevor das Programm startet soll der User gefragt werden, wie viele Aufgaben er rechnen will. Er bekommt eine Aufgabe gestellt und macht eine Eingabe. Er bekommt sofort das Feedback, ob die Aufgabe richtig oder falsch war. Am Ende bekommt er angezeigt, wie viel % der Aufgaben er richtig gerechnet hat."
   ]
  },
  {
   "cell_type": "code",
   "execution_count": null,
   "metadata": {},
   "outputs": [],
   "source": []
  },
  {
   "cell_type": "markdown",
   "metadata": {},
   "source": [
    "### 7.\tModifizieren Sie ihr Rechentrainingsprogramm: Der User gibt am Anfang zusätzlich seinen Namen ein. Sein Name, seine Punktzahl (in %) und die Anzahl der Aufgaben, die er gerechnet hat, werden am Ende in einer Textdatei gespeichert. In der Textdatei sollen alle Spiele, die je gespielt worden sind, zu finden sein. Bonus: In der Textdatei sollen die Spiele alphabetisch nach Namen der Spieler sortiert sein.\n"
   ]
  },
  {
   "cell_type": "code",
   "execution_count": null,
   "metadata": {},
   "outputs": [],
   "source": []
  },
  {
   "cell_type": "markdown",
   "metadata": {},
   "source": [
    "### 8. Modifizieren Sie ihr Programm. Speichern Sie die Punktliste in einer Datenbank statt einer Textdatei."
   ]
  },
  {
   "cell_type": "code",
   "execution_count": null,
   "metadata": {},
   "outputs": [],
   "source": []
  },
  {
   "cell_type": "markdown",
   "metadata": {},
   "source": [
    "# Klassen"
   ]
  },
  {
   "cell_type": "markdown",
   "metadata": {},
   "source": [
    "### 1. Schreiben Sie eine Klasse \"Circle\" mit den Attributen \"Center\" und \"Radius\". Erstellen Sie ein Objekt mit dem Mittelpunkt (Center) (150,100) und einem Radius von 75."
   ]
  },
  {
   "cell_type": "code",
   "execution_count": null,
   "metadata": {},
   "outputs": [],
   "source": []
  },
  {
   "cell_type": "markdown",
   "metadata": {},
   "source": [
    "### 2. Erweitern Sie die Klasse \"Circle\" um die Methode move_right(d), welche den Kreis um d nach rechts verschiebt."
   ]
  },
  {
   "cell_type": "code",
   "execution_count": null,
   "metadata": {},
   "outputs": [],
   "source": []
  },
  {
   "cell_type": "markdown",
   "metadata": {},
   "source": [
    "### 3. Erweitern Sie die Klasse \"Circle\" um die Methode double_size(), welche den Radius des Kreises verdoppelt."
   ]
  },
  {
   "cell_type": "code",
   "execution_count": null,
   "metadata": {},
   "outputs": [],
   "source": []
  },
  {
   "cell_type": "markdown",
   "metadata": {},
   "source": [
    "### 4. Schreiben Sie eine Funktion square_in_circle, welche ein Viereck und ein Kreis als Argument hat und prüft, ob das Viereck komplett im Kreis ist. Sie müssen dazu zunächst eine Klasse „square“ schreiben. Hinweis: Schreiben Sie zunächste eine Funktion „point_in_circle“. Die Kreisgleichung lautet $(x-c_x)^2+(y-c_y)^2=r^2$ Ein Punk ist innerhalb eines Kreises, wenn $(x-c_x)^2+(y-c_y)^2 < r^2$ gilt."
   ]
  },
  {
   "cell_type": "code",
   "execution_count": null,
   "metadata": {},
   "outputs": [],
   "source": []
  },
  {
   "cell_type": "markdown",
   "metadata": {},
   "source": [
    "### 5. Schreiben Sie eine Funktion square_circle_overlap, welche ein Viereck und ein Kreis als Argument hat und prüft, ob das Viereck bund der Kreis sich überlappen."
   ]
  },
  {
   "cell_type": "code",
   "execution_count": null,
   "metadata": {},
   "outputs": [],
   "source": []
  },
  {
   "cell_type": "markdown",
   "metadata": {},
   "source": [
    "# Web-Server und Requests"
   ]
  },
  {
   "cell_type": "markdown",
   "metadata": {},
   "source": [
    "### 1. Schreiben Sie einen Web-Server. Es soll eine GET-Methode geben, welche eine Beschreibung des Programms als Antwort liefert. Es soll eine weitere POST-Methode geben: Sie sollen 3 Integer übergeben, der Web-Server gibt ihnen das Produkt der drei Zahlen zurück."
   ]
  },
  {
   "cell_type": "code",
   "execution_count": null,
   "metadata": {},
   "outputs": [],
   "source": []
  },
  {
   "cell_type": "markdown",
   "metadata": {},
   "source": [
    "# Pandas"
   ]
  },
  {
   "cell_type": "markdown",
   "metadata": {},
   "source": [
    "### 1. Importieren Sie die notwendigen Bibliotheken"
   ]
  },
  {
   "cell_type": "code",
   "execution_count": null,
   "metadata": {},
   "outputs": [],
   "source": []
  },
  {
   "cell_type": "markdown",
   "metadata": {},
   "source": [
    "### 2. Importieren Sie den Datensatz \"chipo_data.csv\""
   ]
  },
  {
   "cell_type": "code",
   "execution_count": null,
   "metadata": {},
   "outputs": [],
   "source": []
  },
  {
   "cell_type": "markdown",
   "metadata": {},
   "source": [
    "### 3. Weisen Sie den Datensatz einer Variable \"chipo\" zu"
   ]
  },
  {
   "cell_type": "code",
   "execution_count": null,
   "metadata": {},
   "outputs": [],
   "source": []
  },
  {
   "cell_type": "markdown",
   "metadata": {},
   "source": [
    "### 4. Sehen Sie sich die ersten 10 Einträge an"
   ]
  },
  {
   "cell_type": "code",
   "execution_count": null,
   "metadata": {},
   "outputs": [],
   "source": []
  },
  {
   "cell_type": "markdown",
   "metadata": {},
   "source": [
    "### 5. Wie viele Zeilen hat der Datensatz?"
   ]
  },
  {
   "cell_type": "code",
   "execution_count": null,
   "metadata": {},
   "outputs": [],
   "source": []
  },
  {
   "cell_type": "markdown",
   "metadata": {},
   "source": [
    "### 6. Wie viele Spalten hat der Datensatz?"
   ]
  },
  {
   "cell_type": "code",
   "execution_count": null,
   "metadata": {},
   "outputs": [],
   "source": []
  },
  {
   "cell_type": "markdown",
   "metadata": {},
   "source": [
    "### 7. Finden Sie die Namen aller Spalten"
   ]
  },
  {
   "cell_type": "code",
   "execution_count": null,
   "metadata": {},
   "outputs": [],
   "source": []
  },
  {
   "cell_type": "markdown",
   "metadata": {},
   "source": [
    "### 8. Welches Objekt wurde am öftesten bestellt?"
   ]
  },
  {
   "cell_type": "code",
   "execution_count": null,
   "metadata": {},
   "outputs": [],
   "source": []
  },
  {
   "cell_type": "markdown",
   "metadata": {},
   "source": [
    "### 9. Wie oft wurde dieses Objekt bestellt?"
   ]
  },
  {
   "cell_type": "code",
   "execution_count": null,
   "metadata": {},
   "outputs": [],
   "source": []
  },
  {
   "cell_type": "markdown",
   "metadata": {},
   "source": [
    "### 10. Welches Objekt in der Spalte choice_description wurde am häufigsten bestellt?"
   ]
  },
  {
   "cell_type": "code",
   "execution_count": null,
   "metadata": {},
   "outputs": [],
   "source": []
  },
  {
   "cell_type": "markdown",
   "metadata": {},
   "source": [
    "### 11. Wie viele Objekte wurden insgesamt bestellt?"
   ]
  },
  {
   "cell_type": "code",
   "execution_count": null,
   "metadata": {},
   "outputs": [],
   "source": []
  },
  {
   "cell_type": "markdown",
   "metadata": {},
   "source": [
    "### 12. Wandeln Sie \"item price\" in eine float um"
   ]
  },
  {
   "cell_type": "markdown",
   "metadata": {},
   "source": [
    "#### 12.a Bestimmen Sie den Typ von \"item price\""
   ]
  },
  {
   "cell_type": "code",
   "execution_count": null,
   "metadata": {},
   "outputs": [],
   "source": []
  },
  {
   "cell_type": "markdown",
   "metadata": {},
   "source": [
    "#### 12.b Schreiben Sie eine lambda-Funktion, um den Typ von \"item price\" zu ändern"
   ]
  },
  {
   "cell_type": "code",
   "execution_count": null,
   "metadata": {},
   "outputs": [],
   "source": []
  },
  {
   "cell_type": "markdown",
   "metadata": {},
   "source": [
    "#### 12.c Checken Sie den Typ von \"item price\""
   ]
  },
  {
   "cell_type": "code",
   "execution_count": null,
   "metadata": {},
   "outputs": [],
   "source": []
  },
  {
   "cell_type": "markdown",
   "metadata": {},
   "source": [
    "### 13. Wie groß war der Umsatz für den Zeitraum im Datensatz?"
   ]
  },
  {
   "cell_type": "code",
   "execution_count": null,
   "metadata": {},
   "outputs": [],
   "source": []
  },
  {
   "cell_type": "markdown",
   "metadata": {},
   "source": [
    "### 15. Wie viele Bestellungen wurden in diesem Zeitraum gemacht?"
   ]
  },
  {
   "cell_type": "code",
   "execution_count": null,
   "metadata": {},
   "outputs": [],
   "source": []
  },
  {
   "cell_type": "markdown",
   "metadata": {},
   "source": [
    "### 16. Was ist der durchschnittliche Gewinn pro Bestellung?"
   ]
  },
  {
   "cell_type": "code",
   "execution_count": null,
   "metadata": {},
   "outputs": [],
   "source": []
  },
  {
   "cell_type": "markdown",
   "metadata": {},
   "source": [
    "### 17. Wie viele unterschiedliche Objekte wurden verkauft?"
   ]
  },
  {
   "cell_type": "code",
   "execution_count": null,
   "metadata": {},
   "outputs": [],
   "source": []
  }
 ],
 "metadata": {
  "kernelspec": {
   "display_name": "Python 3",
   "language": "python",
   "name": "python3"
  },
  "language_info": {
   "codemirror_mode": {
    "name": "ipython",
    "version": 3
   },
   "file_extension": ".py",
   "mimetype": "text/x-python",
   "name": "python",
   "nbconvert_exporter": "python",
   "pygments_lexer": "ipython3",
   "version": "3.6.8"
  }
 },
 "nbformat": 4,
 "nbformat_minor": 2
}
