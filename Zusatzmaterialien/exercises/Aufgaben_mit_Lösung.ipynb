{
 "cells": [
  {
   "cell_type": "markdown",
   "metadata": {},
   "source": [
    "# Python als Taschenrechner und Variablen"
   ]
  },
  {
   "cell_type": "markdown",
   "metadata": {},
   "source": [
    "### 1. Schreiben Sie ein Programm, welches \"Hallo Welt!\" ausgibt."
   ]
  },
  {
   "cell_type": "code",
   "execution_count": 1,
   "metadata": {},
   "outputs": [
    {
     "name": "stdout",
     "output_type": "stream",
     "text": [
      "Hallo Welt!\n"
     ]
    }
   ],
   "source": [
    "print(\"Hallo Welt!\")"
   ]
  },
  {
   "cell_type": "markdown",
   "metadata": {},
   "source": [
    "### 2. Nutzen Sie Python als Taschenrechner. Wie viele Sekunden sind 42 Minuten und 42 Sekunden?"
   ]
  },
  {
   "cell_type": "code",
   "execution_count": 2,
   "metadata": {},
   "outputs": [
    {
     "data": {
      "text/plain": [
       "2562"
      ]
     },
     "execution_count": 2,
     "metadata": {},
     "output_type": "execute_result"
    }
   ],
   "source": [
    "42*60+42"
   ]
  },
  {
   "cell_type": "markdown",
   "metadata": {},
   "source": [
    "### 3. Nutzen Sie Python als Taschenrechner. Das Volumen einer Kugel ist $\\frac{4}{3}\\pi r^3$. Was ist das Volumen einer Kugel mit Radius 5. Was ist das Volumen einer Kugel mit Radius 8?"
   ]
  },
  {
   "cell_type": "code",
   "execution_count": 3,
   "metadata": {},
   "outputs": [
    {
     "data": {
      "text/plain": [
       "523.5833333333333"
      ]
     },
     "execution_count": 3,
     "metadata": {},
     "output_type": "execute_result"
    }
   ],
   "source": [
    "r = 5\n",
    "4/3*3.1415*r**3"
   ]
  },
  {
   "cell_type": "code",
   "execution_count": 4,
   "metadata": {},
   "outputs": [
    {
     "data": {
      "text/plain": [
       "2144.597333333333"
      ]
     },
     "execution_count": 4,
     "metadata": {},
     "output_type": "execute_result"
    }
   ],
   "source": [
    "r = 8\n",
    "4/3*3.1415*r**3"
   ]
  },
  {
   "cell_type": "markdown",
   "metadata": {},
   "source": [
    "### 4. Speichern Sie drei beliebige Zahlen in den Variablen a,b und c. Prüfen Sie, ob der Wert in a und b der gleiche sind. Prüfen Sie, ob c = a+b."
   ]
  },
  {
   "cell_type": "code",
   "execution_count": 5,
   "metadata": {},
   "outputs": [
    {
     "data": {
      "text/plain": [
       "False"
      ]
     },
     "execution_count": 5,
     "metadata": {},
     "output_type": "execute_result"
    }
   ],
   "source": [
    "a = 4\n",
    "b = 6\n",
    "c = 8\n",
    "a == b"
   ]
  },
  {
   "cell_type": "code",
   "execution_count": 6,
   "metadata": {},
   "outputs": [
    {
     "data": {
      "text/plain": [
       "False"
      ]
     },
     "execution_count": 6,
     "metadata": {},
     "output_type": "execute_result"
    }
   ],
   "source": [
    "c == a+b"
   ]
  },
  {
   "cell_type": "markdown",
   "metadata": {},
   "source": [
    "### 5.\tSchreiben Sie ein Programm, welches zwei Zahlen a und b vom Benutzer abfragt. Multiplizieren Sie die Zahlen und geben Sie das Ergebnis aus."
   ]
  },
  {
   "cell_type": "code",
   "execution_count": 7,
   "metadata": {},
   "outputs": [
    {
     "name": "stdout",
     "output_type": "stream",
     "text": [
      "Geben Sie a ein: 3\n",
      "Geben Sie b ein: 4\n",
      "12\n"
     ]
    }
   ],
   "source": [
    "a = int(input(\"Geben Sie a ein: \"))\n",
    "b = int(input(\"Geben Sie b ein: \"))\n",
    "print(a*b)"
   ]
  },
  {
   "cell_type": "markdown",
   "metadata": {},
   "source": [
    "### 6. Von welchem Typ ist der Ausdruck 5 + 2.0"
   ]
  },
  {
   "cell_type": "code",
   "execution_count": 8,
   "metadata": {},
   "outputs": [
    {
     "data": {
      "text/plain": [
       "float"
      ]
     },
     "execution_count": 8,
     "metadata": {},
     "output_type": "execute_result"
    }
   ],
   "source": [
    "type(5+2.0)"
   ]
  },
  {
   "cell_type": "markdown",
   "metadata": {},
   "source": [
    "# Listen und Plots"
   ]
  },
  {
   "cell_type": "markdown",
   "metadata": {},
   "source": [
    "### 1. Erstellen Sie eine Liste L1 mit den Werten [3,6,2,7]. Sortieren Sie die Liste. Fragen Sie den User nach 5 Elementen, welche sie in der Liste L2 speichern. Prüfen Sie, ob das erste Element aus der sortieren Liste L1 größer ist als das dritte Element der Liste L2."
   ]
  },
  {
   "cell_type": "code",
   "execution_count": 9,
   "metadata": {},
   "outputs": [
    {
     "name": "stdout",
     "output_type": "stream",
     "text": [
      "Erste Zahl: 1\n",
      "Zweite Zahl: 4\n",
      "Dritte Zahl: 5\n",
      "Vierte Zahl: 2\n",
      "Fünfte Zahl: 8\n"
     ]
    },
    {
     "data": {
      "text/plain": [
       "False"
      ]
     },
     "execution_count": 9,
     "metadata": {},
     "output_type": "execute_result"
    }
   ],
   "source": [
    "L1 = [3,6,2,7]\n",
    "L1 = sorted(L1)\n",
    "L2 = []\n",
    "Input = int(input(\"Erste Zahl: \"))\n",
    "L2.append(Input)\n",
    "Input = int(input(\"Zweite Zahl: \"))\n",
    "L2.append(Input)\n",
    "Input = int(input(\"Dritte Zahl: \"))\n",
    "L2.append(Input)\n",
    "Input = int(input(\"Vierte Zahl: \"))\n",
    "L2.append(Input)\n",
    "Input = int(input(\"Fünfte Zahl: \"))\n",
    "L2.append(Input)\n",
    "L1[0] > L2[2]"
   ]
  },
  {
   "cell_type": "markdown",
   "metadata": {},
   "source": [
    "### 2. Plotten Sie ein Rechteck und ein Dreieck."
   ]
  },
  {
   "cell_type": "code",
   "execution_count": 11,
   "metadata": {},
   "outputs": [
    {
     "data": {
      "text/plain": [
       "[<matplotlib.lines.Line2D at 0x11773e278>]"
      ]
     },
     "execution_count": 11,
     "metadata": {},
     "output_type": "execute_result"
    },
    {
     "data": {
      "image/png": "[encoded data removed]",
      "text/plain": [
       "<Figure size 432x288 with 1 Axes>"
      ]
     },
     "metadata": {
      "needs_background": "light"
     },
     "output_type": "display_data"
    }
   ],
   "source": [
    "import matplotlib.pyplot as plt\n",
    "plt.plot([0,2,1,0],[0,0,1,0])"
   ]
  },
  {
   "cell_type": "code",
   "execution_count": 12,
   "metadata": {},
   "outputs": [
    {
     "data": {
      "text/plain": [
       "[<matplotlib.lines.Line2D at 0x1177722e8>]"
      ]
     },
     "execution_count": 12,
     "metadata": {},
     "output_type": "execute_result"
    },
    {
     "data": {
      "image/png": "[encoded data removed]",
      "text/plain": [
       "<Figure size 432x288 with 1 Axes>"
      ]
     },
     "metadata": {
      "needs_background": "light"
     },
     "output_type": "display_data"
    }
   ],
   "source": [
    "plt.plot([0,2,2,0,0],[0,0,1,1,0])"
   ]
  },
  {
   "cell_type": "markdown",
   "metadata": {},
   "source": [
    "### 3. Importieren Sie die Tabelle Temperaturen.csv. Plotten Sie den Temperaturverlauf."
   ]
  },
  {
   "cell_type": "code",
   "execution_count": 13,
   "metadata": {},
   "outputs": [
    {
     "data": {
      "text/plain": [
       "[<matplotlib.lines.Line2D at 0x119aa1320>]"
      ]
     },
     "execution_count": 13,
     "metadata": {},
     "output_type": "execute_result"
    },
    {
     "data": {
      "image/png": "[encoded data removed]",
      "text/plain": [
       "<Figure size 432x288 with 1 Axes>"
      ]
     },
     "metadata": {
      "needs_background": "light"
     },
     "output_type": "display_data"
    }
   ],
   "source": [
    "import pandas as pd\n",
    "import matplotlib.pyplot as plt\n",
    "plt.plot(list(pd.read_csv(\"Temperaturen.csv\")[\"Temperatur\"]))"
   ]
  },
  {
   "cell_type": "code",
   "execution_count": 14,
   "metadata": {},
   "outputs": [],
   "source": [
    "tabelle = pd.read_csv(\"Temperaturen.csv\")\n",
    "Temperatur = list(tabelle[\"Temperatur\"])"
   ]
  },
  {
   "cell_type": "markdown",
   "metadata": {},
   "source": [
    "### Erstellung der Temperaturen.csv"
   ]
  },
  {
   "cell_type": "code",
   "execution_count": 15,
   "metadata": {},
   "outputs": [],
   "source": [
    "import pandas as pd\n",
    "import random"
   ]
  },
  {
   "cell_type": "code",
   "execution_count": 38,
   "metadata": {},
   "outputs": [],
   "source": [
    "T = []\n",
    "for i in range(3000):\n",
    "    T_actual = (i/100)+2*random.gauss(0,1)-0.000002*i**2\n",
    "    T.append(T_actual)"
   ]
  },
  {
   "cell_type": "code",
   "execution_count": 44,
   "metadata": {},
   "outputs": [],
   "source": [
    "import time\n",
    "now = time.ctime(int(time.time()))"
   ]
  },
  {
   "cell_type": "code",
   "execution_count": 65,
   "metadata": {},
   "outputs": [
    {
     "data": {
      "text/plain": [
       "'Thu Feb  2 10:19:24 2017'"
      ]
     },
     "execution_count": 65,
     "metadata": {},
     "output_type": "execute_result"
    }
   ],
   "source": [
    "time.ctime(int(time.time())-8.64*10**7)"
   ]
  },
  {
   "cell_type": "code",
   "execution_count": 70,
   "metadata": {},
   "outputs": [
    {
     "data": {
      "text/plain": [
       "8640000"
      ]
     },
     "execution_count": 70,
     "metadata": {},
     "output_type": "execute_result"
    }
   ],
   "source": [
    "24*60*60*100"
   ]
  },
  {
   "cell_type": "code",
   "execution_count": 18,
   "metadata": {},
   "outputs": [
    {
     "ename": "NameError",
     "evalue": "name 'time' is not defined",
     "output_type": "error",
     "traceback": [
      "\u001b[0;31m---------------------------------------------------------------------------\u001b[0m",
      "\u001b[0;31mNameError\u001b[0m                                 Traceback (most recent call last)",
      "\u001b[0;32m<ipython-input-18-993e580d31dc>\u001b[0m in \u001b[0;36m<module>\u001b[0;34m\u001b[0m\n\u001b[1;32m      1\u001b[0m \u001b[0mdatum\u001b[0m \u001b[0;34m=\u001b[0m \u001b[0;34m[\u001b[0m\u001b[0;34m]\u001b[0m\u001b[0;34m\u001b[0m\u001b[0;34m\u001b[0m\u001b[0m\n\u001b[1;32m      2\u001b[0m \u001b[0;32mfor\u001b[0m \u001b[0mi\u001b[0m \u001b[0;32min\u001b[0m \u001b[0mrange\u001b[0m\u001b[0;34m(\u001b[0m\u001b[0;36m3000\u001b[0m\u001b[0;34m)\u001b[0m\u001b[0;34m:\u001b[0m\u001b[0;34m\u001b[0m\u001b[0;34m\u001b[0m\u001b[0m\n\u001b[0;32m----> 3\u001b[0;31m     \u001b[0mdatum_actual\u001b[0m \u001b[0;34m=\u001b[0m \u001b[0mtime\u001b[0m\u001b[0;34m.\u001b[0m\u001b[0mctime\u001b[0m\u001b[0;34m(\u001b[0m\u001b[0mint\u001b[0m\u001b[0;34m(\u001b[0m\u001b[0mtime\u001b[0m\u001b[0;34m.\u001b[0m\u001b[0mtime\u001b[0m\u001b[0;34m(\u001b[0m\u001b[0;34m)\u001b[0m\u001b[0;34m)\u001b[0m\u001b[0;34m-\u001b[0m\u001b[0mi\u001b[0m\u001b[0;34m*\u001b[0m\u001b[0;36m60\u001b[0m\u001b[0;34m*\u001b[0m\u001b[0;36m60\u001b[0m\u001b[0;34m*\u001b[0m\u001b[0;36m24\u001b[0m\u001b[0;34m)\u001b[0m\u001b[0;34m\u001b[0m\u001b[0;34m\u001b[0m\u001b[0m\n\u001b[0m\u001b[1;32m      4\u001b[0m     \u001b[0mdatum\u001b[0m\u001b[0;34m.\u001b[0m\u001b[0mappend\u001b[0m\u001b[0;34m(\u001b[0m\u001b[0mdatum_actual\u001b[0m\u001b[0;34m)\u001b[0m\u001b[0;34m\u001b[0m\u001b[0;34m\u001b[0m\u001b[0m\n",
      "\u001b[0;31mNameError\u001b[0m: name 'time' is not defined"
     ]
    }
   ],
   "source": [
    "datum = []\n",
    "for i in range(3000):\n",
    "    datum_actual = time.ctime(int(time.time())-i*60*60*24)\n",
    "    datum.append(datum_actual)"
   ]
  },
  {
   "cell_type": "code",
   "execution_count": 86,
   "metadata": {},
   "outputs": [
    {
     "data": {
      "text/plain": [
       "['Wed Oct 30 10:23:08 2019',\n",
       " 'Tue Oct 29 10:23:08 2019',\n",
       " 'Mon Oct 28 10:23:08 2019',\n",
       " 'Sun Oct 27 10:23:08 2019',\n",
       " 'Sat Oct 26 11:23:08 2019',\n",
       " 'Fri Oct 25 11:23:08 2019',\n",
       " 'Thu Oct 24 11:23:08 2019',\n",
       " 'Wed Oct 23 11:23:08 2019',\n",
       " 'Tue Oct 22 11:23:08 2019',\n",
       " 'Mon Oct 21 11:23:08 2019',\n",
       " 'Sun Oct 20 11:23:08 2019',\n",
       " 'Sat Oct 19 11:23:08 2019',\n",
       " 'Fri Oct 18 11:23:08 2019',\n",
       " 'Thu Oct 17 11:23:08 2019',\n",
       " 'Wed Oct 16 11:23:08 2019',\n",
       " 'Tue Oct 15 11:23:08 2019',\n",
       " 'Mon Oct 14 11:23:08 2019',\n",
       " 'Sun Oct 13 11:23:08 2019',\n",
       " 'Sat Oct 12 11:23:08 2019',\n",
       " 'Fri Oct 11 11:23:08 2019',\n",
       " 'Thu Oct 10 11:23:08 2019',\n",
       " 'Wed Oct  9 11:23:08 2019',\n",
       " 'Tue Oct  8 11:23:08 2019',\n",
       " 'Mon Oct  7 11:23:08 2019',\n",
       " 'Sun Oct  6 11:23:08 2019',\n",
       " 'Sat Oct  5 11:23:08 2019',\n",
       " 'Fri Oct  4 11:23:08 2019',\n",
       " 'Thu Oct  3 11:23:08 2019',\n",
       " 'Wed Oct  2 11:23:08 2019',\n",
       " 'Tue Oct  1 11:23:08 2019',\n",
       " 'Mon Sep 30 11:23:08 2019',\n",
       " 'Sun Sep 29 11:23:08 2019',\n",
       " 'Sat Sep 28 11:23:08 2019',\n",
       " 'Fri Sep 27 11:23:08 2019',\n",
       " 'Thu Sep 26 11:23:08 2019',\n",
       " 'Wed Sep 25 11:23:08 2019',\n",
       " 'Tue Sep 24 11:23:08 2019',\n",
       " 'Mon Sep 23 11:23:08 2019',\n",
       " 'Sun Sep 22 11:23:08 2019',\n",
       " 'Sat Sep 21 11:23:08 2019',\n",
       " 'Fri Sep 20 11:23:08 2019',\n",
       " 'Thu Sep 19 11:23:08 2019',\n",
       " 'Wed Sep 18 11:23:08 2019',\n",
       " 'Tue Sep 17 11:23:08 2019',\n",
       " 'Mon Sep 16 11:23:08 2019',\n",
       " 'Sun Sep 15 11:23:08 2019',\n",
       " 'Sat Sep 14 11:23:08 2019',\n",
       " 'Fri Sep 13 11:23:08 2019',\n",
       " 'Thu Sep 12 11:23:08 2019',\n",
       " 'Wed Sep 11 11:23:08 2019',\n",
       " 'Tue Sep 10 11:23:08 2019',\n",
       " 'Mon Sep  9 11:23:08 2019',\n",
       " 'Sun Sep  8 11:23:08 2019',\n",
       " 'Sat Sep  7 11:23:08 2019',\n",
       " 'Fri Sep  6 11:23:08 2019',\n",
       " 'Thu Sep  5 11:23:08 2019',\n",
       " 'Wed Sep  4 11:23:08 2019',\n",
       " 'Tue Sep  3 11:23:08 2019',\n",
       " 'Mon Sep  2 11:23:08 2019',\n",
       " 'Sun Sep  1 11:23:08 2019',\n",
       " 'Sat Aug 31 11:23:08 2019',\n",
       " 'Fri Aug 30 11:23:08 2019',\n",
       " 'Thu Aug 29 11:23:08 2019',\n",
       " 'Wed Aug 28 11:23:08 2019',\n",
       " 'Tue Aug 27 11:23:08 2019',\n",
       " 'Mon Aug 26 11:23:08 2019',\n",
       " 'Sun Aug 25 11:23:08 2019',\n",
       " 'Sat Aug 24 11:23:08 2019',\n",
       " 'Fri Aug 23 11:23:08 2019',\n",
       " 'Thu Aug 22 11:23:08 2019',\n",
       " 'Wed Aug 21 11:23:08 2019',\n",
       " 'Tue Aug 20 11:23:08 2019',\n",
       " 'Mon Aug 19 11:23:08 2019',\n",
       " 'Sun Aug 18 11:23:08 2019',\n",
       " 'Sat Aug 17 11:23:08 2019',\n",
       " 'Fri Aug 16 11:23:08 2019',\n",
       " 'Thu Aug 15 11:23:08 2019',\n",
       " 'Wed Aug 14 11:23:08 2019',\n",
       " 'Tue Aug 13 11:23:08 2019',\n",
       " 'Mon Aug 12 11:23:08 2019',\n",
       " 'Sun Aug 11 11:23:08 2019',\n",
       " 'Sat Aug 10 11:23:08 2019',\n",
       " 'Fri Aug  9 11:23:08 2019',\n",
       " 'Thu Aug  8 11:23:08 2019',\n",
       " 'Wed Aug  7 11:23:08 2019',\n",
       " 'Tue Aug  6 11:23:08 2019',\n",
       " 'Mon Aug  5 11:23:08 2019',\n",
       " 'Sun Aug  4 11:23:08 2019',\n",
       " 'Sat Aug  3 11:23:08 2019',\n",
       " 'Fri Aug  2 11:23:08 2019',\n",
       " 'Thu Aug  1 11:23:08 2019',\n",
       " 'Wed Jul 31 11:23:08 2019',\n",
       " 'Tue Jul 30 11:23:08 2019',\n",
       " 'Mon Jul 29 11:23:08 2019',\n",
       " 'Sun Jul 28 11:23:08 2019',\n",
       " 'Sat Jul 27 11:23:08 2019',\n",
       " 'Fri Jul 26 11:23:08 2019',\n",
       " 'Thu Jul 25 11:23:08 2019',\n",
       " 'Wed Jul 24 11:23:08 2019',\n",
       " 'Tue Jul 23 11:23:08 2019',\n",
       " 'Mon Jul 22 11:23:08 2019',\n",
       " 'Sun Jul 21 11:23:08 2019',\n",
       " 'Sat Jul 20 11:23:08 2019',\n",
       " 'Fri Jul 19 11:23:08 2019',\n",
       " 'Thu Jul 18 11:23:08 2019',\n",
       " 'Wed Jul 17 11:23:08 2019',\n",
       " 'Tue Jul 16 11:23:08 2019',\n",
       " 'Mon Jul 15 11:23:08 2019',\n",
       " 'Sun Jul 14 11:23:08 2019',\n",
       " 'Sat Jul 13 11:23:08 2019',\n",
       " 'Fri Jul 12 11:23:08 2019',\n",
       " 'Thu Jul 11 11:23:08 2019',\n",
       " 'Wed Jul 10 11:23:08 2019',\n",
       " 'Tue Jul  9 11:23:08 2019',\n",
       " 'Mon Jul  8 11:23:08 2019',\n",
       " 'Sun Jul  7 11:23:08 2019',\n",
       " 'Sat Jul  6 11:23:08 2019',\n",
       " 'Fri Jul  5 11:23:08 2019',\n",
       " 'Thu Jul  4 11:23:08 2019',\n",
       " 'Wed Jul  3 11:23:08 2019',\n",
       " 'Tue Jul  2 11:23:08 2019',\n",
       " 'Mon Jul  1 11:23:08 2019',\n",
       " 'Sun Jun 30 11:23:08 2019',\n",
       " 'Sat Jun 29 11:23:08 2019',\n",
       " 'Fri Jun 28 11:23:08 2019',\n",
       " 'Thu Jun 27 11:23:08 2019',\n",
       " 'Wed Jun 26 11:23:08 2019',\n",
       " 'Tue Jun 25 11:23:08 2019',\n",
       " 'Mon Jun 24 11:23:08 2019',\n",
       " 'Sun Jun 23 11:23:08 2019',\n",
       " 'Sat Jun 22 11:23:08 2019',\n",
       " 'Fri Jun 21 11:23:08 2019',\n",
       " 'Thu Jun 20 11:23:08 2019',\n",
       " 'Wed Jun 19 11:23:08 2019',\n",
       " 'Tue Jun 18 11:23:08 2019',\n",
       " 'Mon Jun 17 11:23:08 2019',\n",
       " 'Sun Jun 16 11:23:08 2019',\n",
       " 'Sat Jun 15 11:23:08 2019',\n",
       " 'Fri Jun 14 11:23:08 2019',\n",
       " 'Thu Jun 13 11:23:08 2019',\n",
       " 'Wed Jun 12 11:23:08 2019',\n",
       " 'Tue Jun 11 11:23:08 2019',\n",
       " 'Mon Jun 10 11:23:08 2019',\n",
       " 'Sun Jun  9 11:23:08 2019',\n",
       " 'Sat Jun  8 11:23:08 2019',\n",
       " 'Fri Jun  7 11:23:08 2019',\n",
       " 'Thu Jun  6 11:23:08 2019',\n",
       " 'Wed Jun  5 11:23:08 2019',\n",
       " 'Tue Jun  4 11:23:08 2019',\n",
       " 'Mon Jun  3 11:23:08 2019',\n",
       " 'Sun Jun  2 11:23:08 2019',\n",
       " 'Sat Jun  1 11:23:08 2019',\n",
       " 'Fri May 31 11:23:08 2019',\n",
       " 'Thu May 30 11:23:08 2019',\n",
       " 'Wed May 29 11:23:08 2019',\n",
       " 'Tue May 28 11:23:08 2019',\n",
       " 'Mon May 27 11:23:08 2019',\n",
       " 'Sun May 26 11:23:08 2019',\n",
       " 'Sat May 25 11:23:08 2019',\n",
       " 'Fri May 24 11:23:08 2019',\n",
       " 'Thu May 23 11:23:08 2019',\n",
       " 'Wed May 22 11:23:08 2019',\n",
       " 'Tue May 21 11:23:08 2019',\n",
       " 'Mon May 20 11:23:08 2019',\n",
       " 'Sun May 19 11:23:08 2019',\n",
       " 'Sat May 18 11:23:08 2019',\n",
       " 'Fri May 17 11:23:08 2019',\n",
       " 'Thu May 16 11:23:08 2019',\n",
       " 'Wed May 15 11:23:08 2019',\n",
       " 'Tue May 14 11:23:08 2019',\n",
       " 'Mon May 13 11:23:08 2019',\n",
       " 'Sun May 12 11:23:08 2019',\n",
       " 'Sat May 11 11:23:08 2019',\n",
       " 'Fri May 10 11:23:08 2019',\n",
       " 'Thu May  9 11:23:08 2019',\n",
       " 'Wed May  8 11:23:08 2019',\n",
       " 'Tue May  7 11:23:08 2019',\n",
       " 'Mon May  6 11:23:08 2019',\n",
       " 'Sun May  5 11:23:08 2019',\n",
       " 'Sat May  4 11:23:08 2019',\n",
       " 'Fri May  3 11:23:08 2019',\n",
       " 'Thu May  2 11:23:08 2019',\n",
       " 'Wed May  1 11:23:08 2019',\n",
       " 'Tue Apr 30 11:23:08 2019',\n",
       " 'Mon Apr 29 11:23:08 2019',\n",
       " 'Sun Apr 28 11:23:08 2019',\n",
       " 'Sat Apr 27 11:23:08 2019',\n",
       " 'Fri Apr 26 11:23:08 2019',\n",
       " 'Thu Apr 25 11:23:08 2019',\n",
       " 'Wed Apr 24 11:23:08 2019',\n",
       " 'Tue Apr 23 11:23:08 2019',\n",
       " 'Mon Apr 22 11:23:08 2019',\n",
       " 'Sun Apr 21 11:23:08 2019',\n",
       " 'Sat Apr 20 11:23:08 2019',\n",
       " 'Fri Apr 19 11:23:08 2019',\n",
       " 'Thu Apr 18 11:23:08 2019',\n",
       " 'Wed Apr 17 11:23:08 2019',\n",
       " 'Tue Apr 16 11:23:08 2019',\n",
       " 'Mon Apr 15 11:23:08 2019',\n",
       " 'Sun Apr 14 11:23:08 2019',\n",
       " 'Sat Apr 13 11:23:08 2019',\n",
       " 'Fri Apr 12 11:23:08 2019',\n",
       " 'Thu Apr 11 11:23:08 2019',\n",
       " 'Wed Apr 10 11:23:08 2019',\n",
       " 'Tue Apr  9 11:23:08 2019',\n",
       " 'Mon Apr  8 11:23:08 2019',\n",
       " 'Sun Apr  7 11:23:08 2019',\n",
       " 'Sat Apr  6 11:23:08 2019',\n",
       " 'Fri Apr  5 11:23:08 2019',\n",
       " 'Thu Apr  4 11:23:08 2019',\n",
       " 'Wed Apr  3 11:23:08 2019',\n",
       " 'Tue Apr  2 11:23:08 2019',\n",
       " 'Mon Apr  1 11:23:08 2019',\n",
       " 'Sun Mar 31 11:23:08 2019',\n",
       " 'Sat Mar 30 10:23:08 2019',\n",
       " 'Fri Mar 29 10:23:08 2019',\n",
       " 'Thu Mar 28 10:23:08 2019',\n",
       " 'Wed Mar 27 10:23:08 2019',\n",
       " 'Tue Mar 26 10:23:08 2019',\n",
       " 'Mon Mar 25 10:23:08 2019',\n",
       " 'Sun Mar 24 10:23:08 2019',\n",
       " 'Sat Mar 23 10:23:08 2019',\n",
       " 'Fri Mar 22 10:23:08 2019',\n",
       " 'Thu Mar 21 10:23:08 2019',\n",
       " 'Wed Mar 20 10:23:08 2019',\n",
       " 'Tue Mar 19 10:23:08 2019',\n",
       " 'Mon Mar 18 10:23:08 2019',\n",
       " 'Sun Mar 17 10:23:08 2019',\n",
       " 'Sat Mar 16 10:23:08 2019',\n",
       " 'Fri Mar 15 10:23:08 2019',\n",
       " 'Thu Mar 14 10:23:08 2019',\n",
       " 'Wed Mar 13 10:23:08 2019',\n",
       " 'Tue Mar 12 10:23:08 2019',\n",
       " 'Mon Mar 11 10:23:08 2019',\n",
       " 'Sun Mar 10 10:23:08 2019',\n",
       " 'Sat Mar  9 10:23:08 2019',\n",
       " 'Fri Mar  8 10:23:08 2019',\n",
       " 'Thu Mar  7 10:23:08 2019',\n",
       " 'Wed Mar  6 10:23:08 2019',\n",
       " 'Tue Mar  5 10:23:08 2019',\n",
       " 'Mon Mar  4 10:23:08 2019',\n",
       " 'Sun Mar  3 10:23:08 2019',\n",
       " 'Sat Mar  2 10:23:08 2019',\n",
       " 'Fri Mar  1 10:23:08 2019',\n",
       " 'Thu Feb 28 10:23:08 2019',\n",
       " 'Wed Feb 27 10:23:08 2019',\n",
       " 'Tue Feb 26 10:23:08 2019',\n",
       " 'Mon Feb 25 10:23:08 2019',\n",
       " 'Sun Feb 24 10:23:08 2019',\n",
       " 'Sat Feb 23 10:23:08 2019',\n",
       " 'Fri Feb 22 10:23:08 2019',\n",
       " 'Thu Feb 21 10:23:08 2019',\n",
       " 'Wed Feb 20 10:23:08 2019',\n",
       " 'Tue Feb 19 10:23:08 2019',\n",
       " 'Mon Feb 18 10:23:08 2019',\n",
       " 'Sun Feb 17 10:23:08 2019',\n",
       " 'Sat Feb 16 10:23:08 2019',\n",
       " 'Fri Feb 15 10:23:08 2019',\n",
       " 'Thu Feb 14 10:23:08 2019',\n",
       " 'Wed Feb 13 10:23:08 2019',\n",
       " 'Tue Feb 12 10:23:08 2019',\n",
       " 'Mon Feb 11 10:23:08 2019',\n",
       " 'Sun Feb 10 10:23:08 2019',\n",
       " 'Sat Feb  9 10:23:08 2019',\n",
       " 'Fri Feb  8 10:23:08 2019',\n",
       " 'Thu Feb  7 10:23:08 2019',\n",
       " 'Wed Feb  6 10:23:08 2019',\n",
       " 'Tue Feb  5 10:23:08 2019',\n",
       " 'Mon Feb  4 10:23:08 2019',\n",
       " 'Sun Feb  3 10:23:08 2019',\n",
       " 'Sat Feb  2 10:23:08 2019',\n",
       " 'Fri Feb  1 10:23:08 2019',\n",
       " 'Thu Jan 31 10:23:08 2019',\n",
       " 'Wed Jan 30 10:23:08 2019',\n",
       " 'Tue Jan 29 10:23:08 2019',\n",
       " 'Mon Jan 28 10:23:08 2019',\n",
       " 'Sun Jan 27 10:23:08 2019',\n",
       " 'Sat Jan 26 10:23:08 2019',\n",
       " 'Fri Jan 25 10:23:08 2019',\n",
       " 'Thu Jan 24 10:23:08 2019',\n",
       " 'Wed Jan 23 10:23:08 2019',\n",
       " 'Tue Jan 22 10:23:08 2019',\n",
       " 'Mon Jan 21 10:23:08 2019',\n",
       " 'Sun Jan 20 10:23:08 2019',\n",
       " 'Sat Jan 19 10:23:08 2019',\n",
       " 'Fri Jan 18 10:23:08 2019',\n",
       " 'Thu Jan 17 10:23:08 2019',\n",
       " 'Wed Jan 16 10:23:08 2019',\n",
       " 'Tue Jan 15 10:23:08 2019',\n",
       " 'Mon Jan 14 10:23:08 2019',\n",
       " 'Sun Jan 13 10:23:08 2019',\n",
       " 'Sat Jan 12 10:23:08 2019',\n",
       " 'Fri Jan 11 10:23:08 2019',\n",
       " 'Thu Jan 10 10:23:08 2019',\n",
       " 'Wed Jan  9 10:23:08 2019',\n",
       " 'Tue Jan  8 10:23:08 2019',\n",
       " 'Mon Jan  7 10:23:08 2019',\n",
       " 'Sun Jan  6 10:23:08 2019',\n",
       " 'Sat Jan  5 10:23:08 2019',\n",
       " 'Fri Jan  4 10:23:08 2019',\n",
       " 'Thu Jan  3 10:23:08 2019',\n",
       " 'Wed Jan  2 10:23:08 2019',\n",
       " 'Tue Jan  1 10:23:08 2019',\n",
       " 'Mon Dec 31 10:23:08 2018',\n",
       " 'Sun Dec 30 10:23:08 2018',\n",
       " 'Sat Dec 29 10:23:08 2018',\n",
       " 'Fri Dec 28 10:23:08 2018',\n",
       " 'Thu Dec 27 10:23:08 2018',\n",
       " 'Wed Dec 26 10:23:08 2018',\n",
       " 'Tue Dec 25 10:23:08 2018',\n",
       " 'Mon Dec 24 10:23:08 2018',\n",
       " 'Sun Dec 23 10:23:08 2018',\n",
       " 'Sat Dec 22 10:23:08 2018',\n",
       " 'Fri Dec 21 10:23:08 2018',\n",
       " 'Thu Dec 20 10:23:08 2018',\n",
       " 'Wed Dec 19 10:23:08 2018',\n",
       " 'Tue Dec 18 10:23:08 2018',\n",
       " 'Mon Dec 17 10:23:08 2018',\n",
       " 'Sun Dec 16 10:23:08 2018',\n",
       " 'Sat Dec 15 10:23:08 2018',\n",
       " 'Fri Dec 14 10:23:08 2018',\n",
       " 'Thu Dec 13 10:23:08 2018',\n",
       " 'Wed Dec 12 10:23:08 2018',\n",
       " 'Tue Dec 11 10:23:08 2018',\n",
       " 'Mon Dec 10 10:23:08 2018',\n",
       " 'Sun Dec  9 10:23:08 2018',\n",
       " 'Sat Dec  8 10:23:08 2018',\n",
       " 'Fri Dec  7 10:23:08 2018',\n",
       " 'Thu Dec  6 10:23:08 2018',\n",
       " 'Wed Dec  5 10:23:08 2018',\n",
       " 'Tue Dec  4 10:23:08 2018',\n",
       " 'Mon Dec  3 10:23:08 2018',\n",
       " 'Sun Dec  2 10:23:08 2018',\n",
       " 'Sat Dec  1 10:23:08 2018',\n",
       " 'Fri Nov 30 10:23:08 2018',\n",
       " 'Thu Nov 29 10:23:08 2018',\n",
       " 'Wed Nov 28 10:23:08 2018',\n",
       " 'Tue Nov 27 10:23:08 2018',\n",
       " 'Mon Nov 26 10:23:08 2018',\n",
       " 'Sun Nov 25 10:23:08 2018',\n",
       " 'Sat Nov 24 10:23:08 2018',\n",
       " 'Fri Nov 23 10:23:08 2018',\n",
       " 'Thu Nov 22 10:23:08 2018',\n",
       " 'Wed Nov 21 10:23:08 2018',\n",
       " 'Tue Nov 20 10:23:08 2018',\n",
       " 'Mon Nov 19 10:23:08 2018',\n",
       " 'Sun Nov 18 10:23:08 2018',\n",
       " 'Sat Nov 17 10:23:08 2018',\n",
       " 'Fri Nov 16 10:23:08 2018',\n",
       " 'Thu Nov 15 10:23:08 2018',\n",
       " 'Wed Nov 14 10:23:08 2018',\n",
       " 'Tue Nov 13 10:23:08 2018',\n",
       " 'Mon Nov 12 10:23:08 2018',\n",
       " 'Sun Nov 11 10:23:08 2018',\n",
       " 'Sat Nov 10 10:23:08 2018',\n",
       " 'Fri Nov  9 10:23:08 2018',\n",
       " 'Thu Nov  8 10:23:08 2018',\n",
       " 'Wed Nov  7 10:23:08 2018',\n",
       " 'Tue Nov  6 10:23:08 2018',\n",
       " 'Mon Nov  5 10:23:08 2018',\n",
       " 'Sun Nov  4 10:23:08 2018',\n",
       " 'Sat Nov  3 10:23:08 2018',\n",
       " 'Fri Nov  2 10:23:08 2018',\n",
       " 'Thu Nov  1 10:23:08 2018',\n",
       " 'Wed Oct 31 10:23:08 2018',\n",
       " 'Tue Oct 30 10:23:08 2018',\n",
       " 'Mon Oct 29 10:23:08 2018',\n",
       " 'Sun Oct 28 10:23:08 2018',\n",
       " 'Sat Oct 27 11:23:08 2018',\n",
       " 'Fri Oct 26 11:23:08 2018',\n",
       " 'Thu Oct 25 11:23:08 2018',\n",
       " 'Wed Oct 24 11:23:08 2018',\n",
       " 'Tue Oct 23 11:23:08 2018',\n",
       " 'Mon Oct 22 11:23:08 2018',\n",
       " 'Sun Oct 21 11:23:08 2018',\n",
       " 'Sat Oct 20 11:23:08 2018',\n",
       " 'Fri Oct 19 11:23:08 2018',\n",
       " 'Thu Oct 18 11:23:08 2018',\n",
       " 'Wed Oct 17 11:23:08 2018',\n",
       " 'Tue Oct 16 11:23:08 2018',\n",
       " 'Mon Oct 15 11:23:08 2018',\n",
       " 'Sun Oct 14 11:23:08 2018',\n",
       " 'Sat Oct 13 11:23:08 2018',\n",
       " 'Fri Oct 12 11:23:08 2018',\n",
       " 'Thu Oct 11 11:23:08 2018',\n",
       " 'Wed Oct 10 11:23:08 2018',\n",
       " 'Tue Oct  9 11:23:08 2018',\n",
       " 'Mon Oct  8 11:23:08 2018',\n",
       " 'Sun Oct  7 11:23:08 2018',\n",
       " 'Sat Oct  6 11:23:08 2018',\n",
       " 'Fri Oct  5 11:23:08 2018',\n",
       " 'Thu Oct  4 11:23:08 2018',\n",
       " 'Wed Oct  3 11:23:08 2018',\n",
       " 'Tue Oct  2 11:23:08 2018',\n",
       " 'Mon Oct  1 11:23:08 2018',\n",
       " 'Sun Sep 30 11:23:08 2018',\n",
       " 'Sat Sep 29 11:23:08 2018',\n",
       " 'Fri Sep 28 11:23:08 2018',\n",
       " 'Thu Sep 27 11:23:08 2018',\n",
       " 'Wed Sep 26 11:23:08 2018',\n",
       " 'Tue Sep 25 11:23:08 2018',\n",
       " 'Mon Sep 24 11:23:08 2018',\n",
       " 'Sun Sep 23 11:23:08 2018',\n",
       " 'Sat Sep 22 11:23:08 2018',\n",
       " 'Fri Sep 21 11:23:08 2018',\n",
       " 'Thu Sep 20 11:23:08 2018',\n",
       " 'Wed Sep 19 11:23:08 2018',\n",
       " 'Tue Sep 18 11:23:08 2018',\n",
       " 'Mon Sep 17 11:23:08 2018',\n",
       " 'Sun Sep 16 11:23:08 2018',\n",
       " 'Sat Sep 15 11:23:08 2018',\n",
       " 'Fri Sep 14 11:23:08 2018',\n",
       " 'Thu Sep 13 11:23:08 2018',\n",
       " 'Wed Sep 12 11:23:08 2018',\n",
       " 'Tue Sep 11 11:23:08 2018',\n",
       " 'Mon Sep 10 11:23:08 2018',\n",
       " 'Sun Sep  9 11:23:08 2018',\n",
       " 'Sat Sep  8 11:23:08 2018',\n",
       " 'Fri Sep  7 11:23:08 2018',\n",
       " 'Thu Sep  6 11:23:08 2018',\n",
       " 'Wed Sep  5 11:23:08 2018',\n",
       " 'Tue Sep  4 11:23:08 2018',\n",
       " 'Mon Sep  3 11:23:08 2018',\n",
       " 'Sun Sep  2 11:23:08 2018',\n",
       " 'Sat Sep  1 11:23:08 2018',\n",
       " 'Fri Aug 31 11:23:08 2018',\n",
       " 'Thu Aug 30 11:23:08 2018',\n",
       " 'Wed Aug 29 11:23:08 2018',\n",
       " 'Tue Aug 28 11:23:08 2018',\n",
       " 'Mon Aug 27 11:23:08 2018',\n",
       " 'Sun Aug 26 11:23:08 2018',\n",
       " 'Sat Aug 25 11:23:08 2018',\n",
       " 'Fri Aug 24 11:23:08 2018',\n",
       " 'Thu Aug 23 11:23:08 2018',\n",
       " 'Wed Aug 22 11:23:08 2018',\n",
       " 'Tue Aug 21 11:23:08 2018',\n",
       " 'Mon Aug 20 11:23:08 2018',\n",
       " 'Sun Aug 19 11:23:08 2018',\n",
       " 'Sat Aug 18 11:23:08 2018',\n",
       " 'Fri Aug 17 11:23:08 2018',\n",
       " 'Thu Aug 16 11:23:08 2018',\n",
       " 'Wed Aug 15 11:23:08 2018',\n",
       " 'Tue Aug 14 11:23:08 2018',\n",
       " 'Mon Aug 13 11:23:08 2018',\n",
       " 'Sun Aug 12 11:23:08 2018',\n",
       " 'Sat Aug 11 11:23:08 2018',\n",
       " 'Fri Aug 10 11:23:08 2018',\n",
       " 'Thu Aug  9 11:23:08 2018',\n",
       " 'Wed Aug  8 11:23:08 2018',\n",
       " 'Tue Aug  7 11:23:08 2018',\n",
       " 'Mon Aug  6 11:23:08 2018',\n",
       " 'Sun Aug  5 11:23:08 2018',\n",
       " 'Sat Aug  4 11:23:08 2018',\n",
       " 'Fri Aug  3 11:23:08 2018',\n",
       " 'Thu Aug  2 11:23:08 2018',\n",
       " 'Wed Aug  1 11:23:08 2018',\n",
       " 'Tue Jul 31 11:23:08 2018',\n",
       " 'Mon Jul 30 11:23:08 2018',\n",
       " 'Sun Jul 29 11:23:08 2018',\n",
       " 'Sat Jul 28 11:23:08 2018',\n",
       " 'Fri Jul 27 11:23:08 2018',\n",
       " 'Thu Jul 26 11:23:08 2018',\n",
       " 'Wed Jul 25 11:23:08 2018',\n",
       " 'Tue Jul 24 11:23:08 2018',\n",
       " 'Mon Jul 23 11:23:08 2018',\n",
       " 'Sun Jul 22 11:23:08 2018',\n",
       " 'Sat Jul 21 11:23:08 2018',\n",
       " 'Fri Jul 20 11:23:08 2018',\n",
       " 'Thu Jul 19 11:23:08 2018',\n",
       " 'Wed Jul 18 11:23:08 2018',\n",
       " 'Tue Jul 17 11:23:08 2018',\n",
       " 'Mon Jul 16 11:23:08 2018',\n",
       " 'Sun Jul 15 11:23:08 2018',\n",
       " 'Sat Jul 14 11:23:08 2018',\n",
       " 'Fri Jul 13 11:23:08 2018',\n",
       " 'Thu Jul 12 11:23:08 2018',\n",
       " 'Wed Jul 11 11:23:08 2018',\n",
       " 'Tue Jul 10 11:23:08 2018',\n",
       " 'Mon Jul  9 11:23:08 2018',\n",
       " 'Sun Jul  8 11:23:08 2018',\n",
       " 'Sat Jul  7 11:23:08 2018',\n",
       " 'Fri Jul  6 11:23:08 2018',\n",
       " 'Thu Jul  5 11:23:08 2018',\n",
       " 'Wed Jul  4 11:23:08 2018',\n",
       " 'Tue Jul  3 11:23:08 2018',\n",
       " 'Mon Jul  2 11:23:08 2018',\n",
       " 'Sun Jul  1 11:23:08 2018',\n",
       " 'Sat Jun 30 11:23:08 2018',\n",
       " 'Fri Jun 29 11:23:08 2018',\n",
       " 'Thu Jun 28 11:23:08 2018',\n",
       " 'Wed Jun 27 11:23:08 2018',\n",
       " 'Tue Jun 26 11:23:08 2018',\n",
       " 'Mon Jun 25 11:23:08 2018',\n",
       " 'Sun Jun 24 11:23:08 2018',\n",
       " 'Sat Jun 23 11:23:08 2018',\n",
       " 'Fri Jun 22 11:23:08 2018',\n",
       " 'Thu Jun 21 11:23:08 2018',\n",
       " 'Wed Jun 20 11:23:08 2018',\n",
       " 'Tue Jun 19 11:23:08 2018',\n",
       " 'Mon Jun 18 11:23:08 2018',\n",
       " 'Sun Jun 17 11:23:08 2018',\n",
       " 'Sat Jun 16 11:23:08 2018',\n",
       " 'Fri Jun 15 11:23:08 2018',\n",
       " 'Thu Jun 14 11:23:08 2018',\n",
       " 'Wed Jun 13 11:23:08 2018',\n",
       " 'Tue Jun 12 11:23:08 2018',\n",
       " 'Mon Jun 11 11:23:08 2018',\n",
       " 'Sun Jun 10 11:23:08 2018',\n",
       " 'Sat Jun  9 11:23:08 2018',\n",
       " 'Fri Jun  8 11:23:08 2018',\n",
       " 'Thu Jun  7 11:23:08 2018',\n",
       " 'Wed Jun  6 11:23:08 2018',\n",
       " 'Tue Jun  5 11:23:08 2018',\n",
       " 'Mon Jun  4 11:23:08 2018',\n",
       " 'Sun Jun  3 11:23:08 2018',\n",
       " 'Sat Jun  2 11:23:08 2018',\n",
       " 'Fri Jun  1 11:23:08 2018',\n",
       " 'Thu May 31 11:23:08 2018',\n",
       " 'Wed May 30 11:23:08 2018',\n",
       " 'Tue May 29 11:23:08 2018',\n",
       " 'Mon May 28 11:23:08 2018',\n",
       " 'Sun May 27 11:23:08 2018',\n",
       " 'Sat May 26 11:23:08 2018',\n",
       " 'Fri May 25 11:23:08 2018',\n",
       " 'Thu May 24 11:23:08 2018',\n",
       " 'Wed May 23 11:23:08 2018',\n",
       " 'Tue May 22 11:23:08 2018',\n",
       " 'Mon May 21 11:23:08 2018',\n",
       " 'Sun May 20 11:23:08 2018',\n",
       " 'Sat May 19 11:23:08 2018',\n",
       " 'Fri May 18 11:23:08 2018',\n",
       " 'Thu May 17 11:23:08 2018',\n",
       " 'Wed May 16 11:23:08 2018',\n",
       " 'Tue May 15 11:23:08 2018',\n",
       " 'Mon May 14 11:23:08 2018',\n",
       " 'Sun May 13 11:23:08 2018',\n",
       " 'Sat May 12 11:23:08 2018',\n",
       " 'Fri May 11 11:23:08 2018',\n",
       " 'Thu May 10 11:23:08 2018',\n",
       " 'Wed May  9 11:23:08 2018',\n",
       " 'Tue May  8 11:23:08 2018',\n",
       " 'Mon May  7 11:23:08 2018',\n",
       " 'Sun May  6 11:23:08 2018',\n",
       " 'Sat May  5 11:23:08 2018',\n",
       " 'Fri May  4 11:23:08 2018',\n",
       " 'Thu May  3 11:23:08 2018',\n",
       " 'Wed May  2 11:23:08 2018',\n",
       " 'Tue May  1 11:23:08 2018',\n",
       " 'Mon Apr 30 11:23:08 2018',\n",
       " 'Sun Apr 29 11:23:08 2018',\n",
       " 'Sat Apr 28 11:23:08 2018',\n",
       " 'Fri Apr 27 11:23:08 2018',\n",
       " 'Thu Apr 26 11:23:08 2018',\n",
       " 'Wed Apr 25 11:23:08 2018',\n",
       " 'Tue Apr 24 11:23:08 2018',\n",
       " 'Mon Apr 23 11:23:08 2018',\n",
       " 'Sun Apr 22 11:23:08 2018',\n",
       " 'Sat Apr 21 11:23:08 2018',\n",
       " 'Fri Apr 20 11:23:08 2018',\n",
       " 'Thu Apr 19 11:23:08 2018',\n",
       " 'Wed Apr 18 11:23:08 2018',\n",
       " 'Tue Apr 17 11:23:08 2018',\n",
       " 'Mon Apr 16 11:23:08 2018',\n",
       " 'Sun Apr 15 11:23:08 2018',\n",
       " 'Sat Apr 14 11:23:08 2018',\n",
       " 'Fri Apr 13 11:23:08 2018',\n",
       " 'Thu Apr 12 11:23:08 2018',\n",
       " 'Wed Apr 11 11:23:08 2018',\n",
       " 'Tue Apr 10 11:23:08 2018',\n",
       " 'Mon Apr  9 11:23:08 2018',\n",
       " 'Sun Apr  8 11:23:08 2018',\n",
       " 'Sat Apr  7 11:23:08 2018',\n",
       " 'Fri Apr  6 11:23:08 2018',\n",
       " 'Thu Apr  5 11:23:08 2018',\n",
       " 'Wed Apr  4 11:23:08 2018',\n",
       " 'Tue Apr  3 11:23:08 2018',\n",
       " 'Mon Apr  2 11:23:08 2018',\n",
       " 'Sun Apr  1 11:23:08 2018',\n",
       " 'Sat Mar 31 11:23:08 2018',\n",
       " 'Fri Mar 30 11:23:08 2018',\n",
       " 'Thu Mar 29 11:23:08 2018',\n",
       " 'Wed Mar 28 11:23:08 2018',\n",
       " 'Tue Mar 27 11:23:08 2018',\n",
       " 'Mon Mar 26 11:23:08 2018',\n",
       " 'Sun Mar 25 11:23:08 2018',\n",
       " 'Sat Mar 24 10:23:08 2018',\n",
       " 'Fri Mar 23 10:23:08 2018',\n",
       " 'Thu Mar 22 10:23:08 2018',\n",
       " 'Wed Mar 21 10:23:08 2018',\n",
       " 'Tue Mar 20 10:23:08 2018',\n",
       " 'Mon Mar 19 10:23:08 2018',\n",
       " 'Sun Mar 18 10:23:08 2018',\n",
       " 'Sat Mar 17 10:23:08 2018',\n",
       " 'Fri Mar 16 10:23:08 2018',\n",
       " 'Thu Mar 15 10:23:08 2018',\n",
       " 'Wed Mar 14 10:23:08 2018',\n",
       " 'Tue Mar 13 10:23:08 2018',\n",
       " 'Mon Mar 12 10:23:08 2018',\n",
       " 'Sun Mar 11 10:23:08 2018',\n",
       " 'Sat Mar 10 10:23:08 2018',\n",
       " 'Fri Mar  9 10:23:08 2018',\n",
       " 'Thu Mar  8 10:23:08 2018',\n",
       " 'Wed Mar  7 10:23:08 2018',\n",
       " 'Tue Mar  6 10:23:08 2018',\n",
       " 'Mon Mar  5 10:23:08 2018',\n",
       " 'Sun Mar  4 10:23:08 2018',\n",
       " 'Sat Mar  3 10:23:08 2018',\n",
       " 'Fri Mar  2 10:23:08 2018',\n",
       " 'Thu Mar  1 10:23:08 2018',\n",
       " 'Wed Feb 28 10:23:08 2018',\n",
       " 'Tue Feb 27 10:23:08 2018',\n",
       " 'Mon Feb 26 10:23:08 2018',\n",
       " 'Sun Feb 25 10:23:08 2018',\n",
       " 'Sat Feb 24 10:23:08 2018',\n",
       " 'Fri Feb 23 10:23:08 2018',\n",
       " 'Thu Feb 22 10:23:08 2018',\n",
       " 'Wed Feb 21 10:23:08 2018',\n",
       " 'Tue Feb 20 10:23:08 2018',\n",
       " 'Mon Feb 19 10:23:08 2018',\n",
       " 'Sun Feb 18 10:23:08 2018',\n",
       " 'Sat Feb 17 10:23:08 2018',\n",
       " 'Fri Feb 16 10:23:08 2018',\n",
       " 'Thu Feb 15 10:23:08 2018',\n",
       " 'Wed Feb 14 10:23:08 2018',\n",
       " 'Tue Feb 13 10:23:08 2018',\n",
       " 'Mon Feb 12 10:23:08 2018',\n",
       " 'Sun Feb 11 10:23:08 2018',\n",
       " 'Sat Feb 10 10:23:08 2018',\n",
       " 'Fri Feb  9 10:23:08 2018',\n",
       " 'Thu Feb  8 10:23:08 2018',\n",
       " 'Wed Feb  7 10:23:08 2018',\n",
       " 'Tue Feb  6 10:23:08 2018',\n",
       " 'Mon Feb  5 10:23:08 2018',\n",
       " 'Sun Feb  4 10:23:08 2018',\n",
       " 'Sat Feb  3 10:23:08 2018',\n",
       " 'Fri Feb  2 10:23:08 2018',\n",
       " 'Thu Feb  1 10:23:08 2018',\n",
       " 'Wed Jan 31 10:23:08 2018',\n",
       " 'Tue Jan 30 10:23:08 2018',\n",
       " 'Mon Jan 29 10:23:08 2018',\n",
       " 'Sun Jan 28 10:23:08 2018',\n",
       " 'Sat Jan 27 10:23:08 2018',\n",
       " 'Fri Jan 26 10:23:08 2018',\n",
       " 'Thu Jan 25 10:23:08 2018',\n",
       " 'Wed Jan 24 10:23:08 2018',\n",
       " 'Tue Jan 23 10:23:08 2018',\n",
       " 'Mon Jan 22 10:23:08 2018',\n",
       " 'Sun Jan 21 10:23:08 2018',\n",
       " 'Sat Jan 20 10:23:08 2018',\n",
       " 'Fri Jan 19 10:23:08 2018',\n",
       " 'Thu Jan 18 10:23:08 2018',\n",
       " 'Wed Jan 17 10:23:08 2018',\n",
       " 'Tue Jan 16 10:23:08 2018',\n",
       " 'Mon Jan 15 10:23:08 2018',\n",
       " 'Sun Jan 14 10:23:08 2018',\n",
       " 'Sat Jan 13 10:23:08 2018',\n",
       " 'Fri Jan 12 10:23:08 2018',\n",
       " 'Thu Jan 11 10:23:08 2018',\n",
       " 'Wed Jan 10 10:23:08 2018',\n",
       " 'Tue Jan  9 10:23:08 2018',\n",
       " 'Mon Jan  8 10:23:08 2018',\n",
       " 'Sun Jan  7 10:23:08 2018',\n",
       " 'Sat Jan  6 10:23:08 2018',\n",
       " 'Fri Jan  5 10:23:08 2018',\n",
       " 'Thu Jan  4 10:23:08 2018',\n",
       " 'Wed Jan  3 10:23:08 2018',\n",
       " 'Tue Jan  2 10:23:08 2018',\n",
       " 'Mon Jan  1 10:23:08 2018',\n",
       " 'Sun Dec 31 10:23:08 2017',\n",
       " 'Sat Dec 30 10:23:08 2017',\n",
       " 'Fri Dec 29 10:23:08 2017',\n",
       " 'Thu Dec 28 10:23:08 2017',\n",
       " 'Wed Dec 27 10:23:08 2017',\n",
       " 'Tue Dec 26 10:23:08 2017',\n",
       " 'Mon Dec 25 10:23:08 2017',\n",
       " 'Sun Dec 24 10:23:08 2017',\n",
       " 'Sat Dec 23 10:23:08 2017',\n",
       " 'Fri Dec 22 10:23:08 2017',\n",
       " 'Thu Dec 21 10:23:08 2017',\n",
       " 'Wed Dec 20 10:23:08 2017',\n",
       " 'Tue Dec 19 10:23:08 2017',\n",
       " 'Mon Dec 18 10:23:08 2017',\n",
       " 'Sun Dec 17 10:23:08 2017',\n",
       " 'Sat Dec 16 10:23:08 2017',\n",
       " 'Fri Dec 15 10:23:08 2017',\n",
       " 'Thu Dec 14 10:23:08 2017',\n",
       " 'Wed Dec 13 10:23:08 2017',\n",
       " 'Tue Dec 12 10:23:08 2017',\n",
       " 'Mon Dec 11 10:23:08 2017',\n",
       " 'Sun Dec 10 10:23:08 2017',\n",
       " 'Sat Dec  9 10:23:08 2017',\n",
       " 'Fri Dec  8 10:23:08 2017',\n",
       " 'Thu Dec  7 10:23:08 2017',\n",
       " 'Wed Dec  6 10:23:08 2017',\n",
       " 'Tue Dec  5 10:23:08 2017',\n",
       " 'Mon Dec  4 10:23:08 2017',\n",
       " 'Sun Dec  3 10:23:08 2017',\n",
       " 'Sat Dec  2 10:23:08 2017',\n",
       " 'Fri Dec  1 10:23:08 2017',\n",
       " 'Thu Nov 30 10:23:08 2017',\n",
       " 'Wed Nov 29 10:23:08 2017',\n",
       " 'Tue Nov 28 10:23:08 2017',\n",
       " 'Mon Nov 27 10:23:08 2017',\n",
       " 'Sun Nov 26 10:23:08 2017',\n",
       " 'Sat Nov 25 10:23:08 2017',\n",
       " 'Fri Nov 24 10:23:08 2017',\n",
       " 'Thu Nov 23 10:23:08 2017',\n",
       " 'Wed Nov 22 10:23:08 2017',\n",
       " 'Tue Nov 21 10:23:08 2017',\n",
       " 'Mon Nov 20 10:23:08 2017',\n",
       " 'Sun Nov 19 10:23:08 2017',\n",
       " 'Sat Nov 18 10:23:08 2017',\n",
       " 'Fri Nov 17 10:23:08 2017',\n",
       " 'Thu Nov 16 10:23:08 2017',\n",
       " 'Wed Nov 15 10:23:08 2017',\n",
       " 'Tue Nov 14 10:23:08 2017',\n",
       " 'Mon Nov 13 10:23:08 2017',\n",
       " 'Sun Nov 12 10:23:08 2017',\n",
       " 'Sat Nov 11 10:23:08 2017',\n",
       " 'Fri Nov 10 10:23:08 2017',\n",
       " 'Thu Nov  9 10:23:08 2017',\n",
       " 'Wed Nov  8 10:23:08 2017',\n",
       " 'Tue Nov  7 10:23:08 2017',\n",
       " 'Mon Nov  6 10:23:08 2017',\n",
       " 'Sun Nov  5 10:23:08 2017',\n",
       " 'Sat Nov  4 10:23:08 2017',\n",
       " 'Fri Nov  3 10:23:08 2017',\n",
       " 'Thu Nov  2 10:23:08 2017',\n",
       " 'Wed Nov  1 10:23:08 2017',\n",
       " 'Tue Oct 31 10:23:08 2017',\n",
       " 'Mon Oct 30 10:23:08 2017',\n",
       " 'Sun Oct 29 10:23:08 2017',\n",
       " 'Sat Oct 28 11:23:08 2017',\n",
       " 'Fri Oct 27 11:23:08 2017',\n",
       " 'Thu Oct 26 11:23:08 2017',\n",
       " 'Wed Oct 25 11:23:08 2017',\n",
       " 'Tue Oct 24 11:23:08 2017',\n",
       " 'Mon Oct 23 11:23:08 2017',\n",
       " 'Sun Oct 22 11:23:08 2017',\n",
       " 'Sat Oct 21 11:23:08 2017',\n",
       " 'Fri Oct 20 11:23:08 2017',\n",
       " 'Thu Oct 19 11:23:08 2017',\n",
       " 'Wed Oct 18 11:23:08 2017',\n",
       " 'Tue Oct 17 11:23:08 2017',\n",
       " 'Mon Oct 16 11:23:08 2017',\n",
       " 'Sun Oct 15 11:23:08 2017',\n",
       " 'Sat Oct 14 11:23:08 2017',\n",
       " 'Fri Oct 13 11:23:08 2017',\n",
       " 'Thu Oct 12 11:23:08 2017',\n",
       " 'Wed Oct 11 11:23:08 2017',\n",
       " 'Tue Oct 10 11:23:08 2017',\n",
       " 'Mon Oct  9 11:23:08 2017',\n",
       " 'Sun Oct  8 11:23:08 2017',\n",
       " 'Sat Oct  7 11:23:08 2017',\n",
       " 'Fri Oct  6 11:23:08 2017',\n",
       " 'Thu Oct  5 11:23:08 2017',\n",
       " 'Wed Oct  4 11:23:08 2017',\n",
       " 'Tue Oct  3 11:23:08 2017',\n",
       " 'Mon Oct  2 11:23:08 2017',\n",
       " 'Sun Oct  1 11:23:08 2017',\n",
       " 'Sat Sep 30 11:23:08 2017',\n",
       " 'Fri Sep 29 11:23:08 2017',\n",
       " 'Thu Sep 28 11:23:08 2017',\n",
       " 'Wed Sep 27 11:23:08 2017',\n",
       " 'Tue Sep 26 11:23:08 2017',\n",
       " 'Mon Sep 25 11:23:08 2017',\n",
       " 'Sun Sep 24 11:23:08 2017',\n",
       " 'Sat Sep 23 11:23:08 2017',\n",
       " 'Fri Sep 22 11:23:08 2017',\n",
       " 'Thu Sep 21 11:23:08 2017',\n",
       " 'Wed Sep 20 11:23:08 2017',\n",
       " 'Tue Sep 19 11:23:08 2017',\n",
       " 'Mon Sep 18 11:23:08 2017',\n",
       " 'Sun Sep 17 11:23:08 2017',\n",
       " 'Sat Sep 16 11:23:08 2017',\n",
       " 'Fri Sep 15 11:23:08 2017',\n",
       " 'Thu Sep 14 11:23:08 2017',\n",
       " 'Wed Sep 13 11:23:08 2017',\n",
       " 'Tue Sep 12 11:23:08 2017',\n",
       " 'Mon Sep 11 11:23:08 2017',\n",
       " 'Sun Sep 10 11:23:08 2017',\n",
       " 'Sat Sep  9 11:23:08 2017',\n",
       " 'Fri Sep  8 11:23:08 2017',\n",
       " 'Thu Sep  7 11:23:08 2017',\n",
       " 'Wed Sep  6 11:23:08 2017',\n",
       " 'Tue Sep  5 11:23:08 2017',\n",
       " 'Mon Sep  4 11:23:08 2017',\n",
       " 'Sun Sep  3 11:23:08 2017',\n",
       " 'Sat Sep  2 11:23:08 2017',\n",
       " 'Fri Sep  1 11:23:08 2017',\n",
       " 'Thu Aug 31 11:23:08 2017',\n",
       " 'Wed Aug 30 11:23:08 2017',\n",
       " 'Tue Aug 29 11:23:08 2017',\n",
       " 'Mon Aug 28 11:23:08 2017',\n",
       " 'Sun Aug 27 11:23:08 2017',\n",
       " 'Sat Aug 26 11:23:08 2017',\n",
       " 'Fri Aug 25 11:23:08 2017',\n",
       " 'Thu Aug 24 11:23:08 2017',\n",
       " 'Wed Aug 23 11:23:08 2017',\n",
       " 'Tue Aug 22 11:23:08 2017',\n",
       " 'Mon Aug 21 11:23:08 2017',\n",
       " 'Sun Aug 20 11:23:08 2017',\n",
       " 'Sat Aug 19 11:23:08 2017',\n",
       " 'Fri Aug 18 11:23:08 2017',\n",
       " 'Thu Aug 17 11:23:08 2017',\n",
       " 'Wed Aug 16 11:23:08 2017',\n",
       " 'Tue Aug 15 11:23:08 2017',\n",
       " 'Mon Aug 14 11:23:08 2017',\n",
       " 'Sun Aug 13 11:23:08 2017',\n",
       " 'Sat Aug 12 11:23:08 2017',\n",
       " 'Fri Aug 11 11:23:08 2017',\n",
       " 'Thu Aug 10 11:23:08 2017',\n",
       " 'Wed Aug  9 11:23:08 2017',\n",
       " 'Tue Aug  8 11:23:08 2017',\n",
       " 'Mon Aug  7 11:23:08 2017',\n",
       " 'Sun Aug  6 11:23:08 2017',\n",
       " 'Sat Aug  5 11:23:08 2017',\n",
       " 'Fri Aug  4 11:23:08 2017',\n",
       " 'Thu Aug  3 11:23:08 2017',\n",
       " 'Wed Aug  2 11:23:08 2017',\n",
       " 'Tue Aug  1 11:23:08 2017',\n",
       " 'Mon Jul 31 11:23:08 2017',\n",
       " 'Sun Jul 30 11:23:08 2017',\n",
       " 'Sat Jul 29 11:23:08 2017',\n",
       " 'Fri Jul 28 11:23:08 2017',\n",
       " 'Thu Jul 27 11:23:08 2017',\n",
       " 'Wed Jul 26 11:23:08 2017',\n",
       " 'Tue Jul 25 11:23:08 2017',\n",
       " 'Mon Jul 24 11:23:08 2017',\n",
       " 'Sun Jul 23 11:23:08 2017',\n",
       " 'Sat Jul 22 11:23:08 2017',\n",
       " 'Fri Jul 21 11:23:08 2017',\n",
       " 'Thu Jul 20 11:23:08 2017',\n",
       " 'Wed Jul 19 11:23:08 2017',\n",
       " 'Tue Jul 18 11:23:08 2017',\n",
       " 'Mon Jul 17 11:23:08 2017',\n",
       " 'Sun Jul 16 11:23:08 2017',\n",
       " 'Sat Jul 15 11:23:08 2017',\n",
       " 'Fri Jul 14 11:23:08 2017',\n",
       " 'Thu Jul 13 11:23:08 2017',\n",
       " 'Wed Jul 12 11:23:08 2017',\n",
       " 'Tue Jul 11 11:23:08 2017',\n",
       " 'Mon Jul 10 11:23:08 2017',\n",
       " 'Sun Jul  9 11:23:08 2017',\n",
       " 'Sat Jul  8 11:23:08 2017',\n",
       " 'Fri Jul  7 11:23:08 2017',\n",
       " 'Thu Jul  6 11:23:08 2017',\n",
       " 'Wed Jul  5 11:23:08 2017',\n",
       " 'Tue Jul  4 11:23:08 2017',\n",
       " 'Mon Jul  3 11:23:08 2017',\n",
       " 'Sun Jul  2 11:23:08 2017',\n",
       " 'Sat Jul  1 11:23:08 2017',\n",
       " 'Fri Jun 30 11:23:08 2017',\n",
       " 'Thu Jun 29 11:23:08 2017',\n",
       " 'Wed Jun 28 11:23:08 2017',\n",
       " 'Tue Jun 27 11:23:08 2017',\n",
       " 'Mon Jun 26 11:23:08 2017',\n",
       " 'Sun Jun 25 11:23:08 2017',\n",
       " 'Sat Jun 24 11:23:08 2017',\n",
       " 'Fri Jun 23 11:23:08 2017',\n",
       " 'Thu Jun 22 11:23:08 2017',\n",
       " 'Wed Jun 21 11:23:08 2017',\n",
       " 'Tue Jun 20 11:23:08 2017',\n",
       " 'Mon Jun 19 11:23:08 2017',\n",
       " 'Sun Jun 18 11:23:08 2017',\n",
       " 'Sat Jun 17 11:23:08 2017',\n",
       " 'Fri Jun 16 11:23:08 2017',\n",
       " 'Thu Jun 15 11:23:08 2017',\n",
       " 'Wed Jun 14 11:23:08 2017',\n",
       " 'Tue Jun 13 11:23:08 2017',\n",
       " 'Mon Jun 12 11:23:08 2017',\n",
       " 'Sun Jun 11 11:23:08 2017',\n",
       " 'Sat Jun 10 11:23:08 2017',\n",
       " 'Fri Jun  9 11:23:08 2017',\n",
       " 'Thu Jun  8 11:23:08 2017',\n",
       " 'Wed Jun  7 11:23:08 2017',\n",
       " 'Tue Jun  6 11:23:08 2017',\n",
       " 'Mon Jun  5 11:23:08 2017',\n",
       " 'Sun Jun  4 11:23:08 2017',\n",
       " 'Sat Jun  3 11:23:08 2017',\n",
       " 'Fri Jun  2 11:23:08 2017',\n",
       " 'Thu Jun  1 11:23:08 2017',\n",
       " 'Wed May 31 11:23:08 2017',\n",
       " 'Tue May 30 11:23:08 2017',\n",
       " 'Mon May 29 11:23:08 2017',\n",
       " 'Sun May 28 11:23:08 2017',\n",
       " 'Sat May 27 11:23:08 2017',\n",
       " 'Fri May 26 11:23:08 2017',\n",
       " 'Thu May 25 11:23:08 2017',\n",
       " 'Wed May 24 11:23:08 2017',\n",
       " 'Tue May 23 11:23:08 2017',\n",
       " 'Mon May 22 11:23:08 2017',\n",
       " 'Sun May 21 11:23:08 2017',\n",
       " 'Sat May 20 11:23:08 2017',\n",
       " 'Fri May 19 11:23:08 2017',\n",
       " 'Thu May 18 11:23:08 2017',\n",
       " 'Wed May 17 11:23:08 2017',\n",
       " 'Tue May 16 11:23:08 2017',\n",
       " 'Mon May 15 11:23:08 2017',\n",
       " 'Sun May 14 11:23:08 2017',\n",
       " 'Sat May 13 11:23:08 2017',\n",
       " 'Fri May 12 11:23:08 2017',\n",
       " 'Thu May 11 11:23:08 2017',\n",
       " 'Wed May 10 11:23:08 2017',\n",
       " 'Tue May  9 11:23:08 2017',\n",
       " 'Mon May  8 11:23:08 2017',\n",
       " 'Sun May  7 11:23:08 2017',\n",
       " 'Sat May  6 11:23:08 2017',\n",
       " 'Fri May  5 11:23:08 2017',\n",
       " 'Thu May  4 11:23:08 2017',\n",
       " 'Wed May  3 11:23:08 2017',\n",
       " 'Tue May  2 11:23:08 2017',\n",
       " 'Mon May  1 11:23:08 2017',\n",
       " 'Sun Apr 30 11:23:08 2017',\n",
       " 'Sat Apr 29 11:23:08 2017',\n",
       " 'Fri Apr 28 11:23:08 2017',\n",
       " 'Thu Apr 27 11:23:08 2017',\n",
       " 'Wed Apr 26 11:23:08 2017',\n",
       " 'Tue Apr 25 11:23:08 2017',\n",
       " 'Mon Apr 24 11:23:08 2017',\n",
       " 'Sun Apr 23 11:23:08 2017',\n",
       " 'Sat Apr 22 11:23:08 2017',\n",
       " 'Fri Apr 21 11:23:08 2017',\n",
       " 'Thu Apr 20 11:23:08 2017',\n",
       " 'Wed Apr 19 11:23:08 2017',\n",
       " 'Tue Apr 18 11:23:08 2017',\n",
       " 'Mon Apr 17 11:23:08 2017',\n",
       " 'Sun Apr 16 11:23:08 2017',\n",
       " 'Sat Apr 15 11:23:08 2017',\n",
       " 'Fri Apr 14 11:23:08 2017',\n",
       " 'Thu Apr 13 11:23:08 2017',\n",
       " 'Wed Apr 12 11:23:08 2017',\n",
       " 'Tue Apr 11 11:23:08 2017',\n",
       " 'Mon Apr 10 11:23:08 2017',\n",
       " 'Sun Apr  9 11:23:08 2017',\n",
       " 'Sat Apr  8 11:23:08 2017',\n",
       " 'Fri Apr  7 11:23:08 2017',\n",
       " 'Thu Apr  6 11:23:08 2017',\n",
       " 'Wed Apr  5 11:23:08 2017',\n",
       " 'Tue Apr  4 11:23:08 2017',\n",
       " 'Mon Apr  3 11:23:08 2017',\n",
       " 'Sun Apr  2 11:23:08 2017',\n",
       " 'Sat Apr  1 11:23:08 2017',\n",
       " 'Fri Mar 31 11:23:08 2017',\n",
       " 'Thu Mar 30 11:23:08 2017',\n",
       " 'Wed Mar 29 11:23:08 2017',\n",
       " 'Tue Mar 28 11:23:08 2017',\n",
       " 'Mon Mar 27 11:23:08 2017',\n",
       " 'Sun Mar 26 11:23:08 2017',\n",
       " 'Sat Mar 25 10:23:08 2017',\n",
       " 'Fri Mar 24 10:23:08 2017',\n",
       " 'Thu Mar 23 10:23:08 2017',\n",
       " 'Wed Mar 22 10:23:08 2017',\n",
       " 'Tue Mar 21 10:23:08 2017',\n",
       " 'Mon Mar 20 10:23:08 2017',\n",
       " 'Sun Mar 19 10:23:08 2017',\n",
       " 'Sat Mar 18 10:23:08 2017',\n",
       " 'Fri Mar 17 10:23:08 2017',\n",
       " 'Thu Mar 16 10:23:08 2017',\n",
       " 'Wed Mar 15 10:23:08 2017',\n",
       " 'Tue Mar 14 10:23:08 2017',\n",
       " 'Mon Mar 13 10:23:08 2017',\n",
       " 'Sun Mar 12 10:23:08 2017',\n",
       " 'Sat Mar 11 10:23:08 2017',\n",
       " 'Fri Mar 10 10:23:08 2017',\n",
       " 'Thu Mar  9 10:23:08 2017',\n",
       " 'Wed Mar  8 10:23:08 2017',\n",
       " 'Tue Mar  7 10:23:08 2017',\n",
       " 'Mon Mar  6 10:23:08 2017',\n",
       " 'Sun Mar  5 10:23:08 2017',\n",
       " 'Sat Mar  4 10:23:08 2017',\n",
       " 'Fri Mar  3 10:23:08 2017',\n",
       " 'Thu Mar  2 10:23:08 2017',\n",
       " 'Wed Mar  1 10:23:08 2017',\n",
       " 'Tue Feb 28 10:23:08 2017',\n",
       " 'Mon Feb 27 10:23:08 2017',\n",
       " 'Sun Feb 26 10:23:08 2017',\n",
       " 'Sat Feb 25 10:23:08 2017',\n",
       " 'Fri Feb 24 10:23:08 2017',\n",
       " 'Thu Feb 23 10:23:08 2017',\n",
       " 'Wed Feb 22 10:23:08 2017',\n",
       " 'Tue Feb 21 10:23:08 2017',\n",
       " 'Mon Feb 20 10:23:08 2017',\n",
       " 'Sun Feb 19 10:23:08 2017',\n",
       " 'Sat Feb 18 10:23:08 2017',\n",
       " 'Fri Feb 17 10:23:08 2017',\n",
       " 'Thu Feb 16 10:23:08 2017',\n",
       " 'Wed Feb 15 10:23:08 2017',\n",
       " 'Tue Feb 14 10:23:08 2017',\n",
       " 'Mon Feb 13 10:23:08 2017',\n",
       " 'Sun Feb 12 10:23:08 2017',\n",
       " 'Sat Feb 11 10:23:08 2017',\n",
       " 'Fri Feb 10 10:23:08 2017',\n",
       " 'Thu Feb  9 10:23:08 2017',\n",
       " 'Wed Feb  8 10:23:08 2017',\n",
       " 'Tue Feb  7 10:23:08 2017',\n",
       " 'Mon Feb  6 10:23:08 2017',\n",
       " 'Sun Feb  5 10:23:08 2017',\n",
       " 'Sat Feb  4 10:23:08 2017',\n",
       " 'Fri Feb  3 10:23:08 2017',\n",
       " ...]"
      ]
     },
     "execution_count": 86,
     "metadata": {},
     "output_type": "execute_result"
    }
   ],
   "source": [
    "datum"
   ]
  },
  {
   "cell_type": "code",
   "execution_count": 91,
   "metadata": {
    "scrolled": true
   },
   "outputs": [],
   "source": [
    "df = pd.DataFrame([datum,T]).T"
   ]
  },
  {
   "cell_type": "code",
   "execution_count": 94,
   "metadata": {},
   "outputs": [],
   "source": [
    "df.columns = [\"Datum\",\"Temperatur\"]"
   ]
  },
  {
   "cell_type": "code",
   "execution_count": 96,
   "metadata": {},
   "outputs": [],
   "source": [
    "df.to_csv(\"Temperaturen.csv\")"
   ]
  },
  {
   "cell_type": "markdown",
   "metadata": {},
   "source": [
    "# Funktionen"
   ]
  },
  {
   "cell_type": "markdown",
   "metadata": {},
   "source": [
    "### 1. Schreiben Sie eine Funktion \"print_spam\", die \"Spam\" schreibt (mit dem Befehl \"print\")."
   ]
  },
  {
   "cell_type": "code",
   "execution_count": 21,
   "metadata": {},
   "outputs": [],
   "source": [
    "def print_spam():\n",
    "    print(\"Spam\")"
   ]
  },
  {
   "cell_type": "markdown",
   "metadata": {},
   "source": [
    "### 2. Schreiben Sie eine Funktion, welche die Breite, Höhe und Länge eines Quaders als Argumente nimmt und das Volumen zurückgibt."
   ]
  },
  {
   "cell_type": "code",
   "execution_count": 15,
   "metadata": {},
   "outputs": [],
   "source": [
    "def Volumen(breite,hoehe,laenge):\n",
    "    V = breite*hoehe*laenge\n",
    "    return V"
   ]
  },
  {
   "cell_type": "markdown",
   "metadata": {},
   "source": [
    "### 3.\tSie haben ein Quader mit den Maßen (10 cm, 5 cm, 10 cm) und ein Quader mit den Maßen (20 cm, 20cm, 3 cm). Nutzen Sie ihre Funktion aus der vorherigen Aufgabe: Welcher Quader hat mehr Volumen? Wievielmal größer ist der größere Quader?"
   ]
  },
  {
   "cell_type": "code",
   "execution_count": 18,
   "metadata": {},
   "outputs": [
    {
     "data": {
      "text/plain": [
       "False"
      ]
     },
     "execution_count": 18,
     "metadata": {},
     "output_type": "execute_result"
    }
   ],
   "source": [
    "Volumen1 = Volumen(10,5,10)\n",
    "Volumen2 = Volumen(20,20,3)\n",
    "Volumen1 > Volumen2"
   ]
  },
  {
   "cell_type": "code",
   "execution_count": 19,
   "metadata": {},
   "outputs": [
    {
     "data": {
      "text/plain": [
       "2.4"
      ]
     },
     "execution_count": 19,
     "metadata": {},
     "output_type": "execute_result"
    }
   ],
   "source": [
    "Volumen2/Volumen1"
   ]
  },
  {
   "cell_type": "markdown",
   "metadata": {},
   "source": [
    "### 4. Schreiben Sie eine Funktion, welche die ersten beiden Elemente einer Liste ausgibt."
   ]
  },
  {
   "cell_type": "code",
   "execution_count": null,
   "metadata": {},
   "outputs": [],
   "source": [
    "def first_two_elemnts(L):\n",
    "    return L[:2]"
   ]
  },
  {
   "cell_type": "markdown",
   "metadata": {},
   "source": [
    "### 5.\tSchreiben Sie eine Funktion, welche die Fläche und den Umfang eines Kreises berechnen und zurückgeben. Das Argument ist der Radius. Versuchen Sie es auch mit der Funktion „Input“ statt des Arguments."
   ]
  },
  {
   "cell_type": "code",
   "execution_count": null,
   "metadata": {},
   "outputs": [],
   "source": [
    "import numpy as np"
   ]
  },
  {
   "cell_type": "code",
   "execution_count": null,
   "metadata": {},
   "outputs": [],
   "source": [
    "def flaeche_und_umfang(radius):\n",
    "    flaeche = np.pi*radius**2\n",
    "    umfang = 2*np.pi*radius\n",
    "    return flaeche,umfang"
   ]
  },
  {
   "cell_type": "code",
   "execution_count": null,
   "metadata": {},
   "outputs": [],
   "source": [
    "def flaeche_und_umfang():\n",
    "    radius = int(input(\"Geben Sie den Radius ein: \"))\n",
    "    flaeche = np.pi*radius**2\n",
    "    umfang = 2*np.pi*radius\n",
    "    return flaeche,umfang"
   ]
  },
  {
   "cell_type": "markdown",
   "metadata": {},
   "source": [
    "### 6. Schreiben Sie eine Funktion mit einer Liste als Argument. Die Liste wird sortiert und das letzte Element zurückgegeben."
   ]
  },
  {
   "cell_type": "code",
   "execution_count": null,
   "metadata": {},
   "outputs": [],
   "source": [
    "def last_element_of_sorted_list(L):\n",
    "    L = sorted(L)\n",
    "    return L[-1]"
   ]
  },
  {
   "cell_type": "markdown",
   "metadata": {},
   "source": [
    "### 7. Schreiben Sie eine Funktion \"bigger\" mit 2 Argumenten a und b, welche prüft, ob a > b ist. Falls a > b ist, gibt die Funktion \"True\" aus. Sonst \"False\"."
   ]
  },
  {
   "cell_type": "code",
   "execution_count": null,
   "metadata": {},
   "outputs": [],
   "source": [
    "def bigger(a,b):\n",
    "    return a>b"
   ]
  },
  {
   "cell_type": "markdown",
   "metadata": {},
   "source": [
    "### 8. Schreiben Sie eine Funktion, die prüft, ob die Argumente a und b vom gleichen Typ sind."
   ]
  },
  {
   "cell_type": "code",
   "execution_count": null,
   "metadata": {},
   "outputs": [],
   "source": [
    "def same(a,b):\n",
    "    return type(a) == type(b)"
   ]
  },
  {
   "cell_type": "markdown",
   "metadata": {},
   "source": [
    "### 9.\tSie können nicht nur Variablen als Argumente verwenden, sondern auch Funktionen. Betrachten Sie folgende Funktion:"
   ]
  },
  {
   "cell_type": "code",
   "execution_count": 23,
   "metadata": {},
   "outputs": [],
   "source": [
    "def do_twice(f):\n",
    "    f()\n",
    "    f()"
   ]
  },
  {
   "cell_type": "markdown",
   "metadata": {},
   "source": [
    "### Diese Funktion führt die Funktion f zweimal aus. Probieren Sie die Funktion \"do_twice\" mit ihrer Funktion \"print_spam\" wie folgt aus:"
   ]
  },
  {
   "cell_type": "code",
   "execution_count": 24,
   "metadata": {},
   "outputs": [
    {
     "name": "stdout",
     "output_type": "stream",
     "text": [
      "Spam\n",
      "Spam\n"
     ]
    }
   ],
   "source": [
    "do_twice(print_spam)"
   ]
  },
  {
   "cell_type": "markdown",
   "metadata": {},
   "source": [
    "### 10. Modifizieren Sie do_twice so, dass Sie zwei Argumente nimmt. Eine Funktion (wie bisher) und eine Variable arg. Die Funktion \"do_twice\" ruft (wie bisher) die Funktion f auf. Diesmal aber mit dem Argument arg. Also f(arg)"
   ]
  },
  {
   "cell_type": "code",
   "execution_count": null,
   "metadata": {},
   "outputs": [],
   "source": [
    "def do_twice(f,arg):\n",
    "    f(arg)\n",
    "    f(arg)"
   ]
  },
  {
   "cell_type": "code",
   "execution_count": null,
   "metadata": {},
   "outputs": [],
   "source": [
    "def print_spam(text):\n",
    "    print(text)"
   ]
  },
  {
   "cell_type": "markdown",
   "metadata": {},
   "source": [
    "### 11. Schreiben Sie eine Funktion print_twice(arg), die den String \"arg\" zweimal ausgibt."
   ]
  },
  {
   "cell_type": "code",
   "execution_count": null,
   "metadata": {},
   "outputs": [],
   "source": [
    "def print_twice(arg):\n",
    "    print(arg)\n",
    "    print(arg)"
   ]
  },
  {
   "cell_type": "markdown",
   "metadata": {},
   "source": [
    "### 12.\tNutzen Sie ihre modifizierte Version von \"do_twice\" mit den Argumenten \"print_twice\" und dem String \"spam\"."
   ]
  },
  {
   "cell_type": "code",
   "execution_count": null,
   "metadata": {},
   "outputs": [],
   "source": [
    "do_twice(print_twice,\"spam\")"
   ]
  },
  {
   "cell_type": "markdown",
   "metadata": {},
   "source": [
    "### 13.\tSchreiben Sie eine Funktion \"do_four\", die eine Funktion viermal ausführt. Nutzen Sie hierbei ihre ursprüngliche (nicht modifizierte) Funktion \"do_twice\". Ihre Funktion \"do_four\" soll aus nur 2 Zeilen bestehen."
   ]
  },
  {
   "cell_type": "code",
   "execution_count": 25,
   "metadata": {},
   "outputs": [],
   "source": [
    "def do_twice(f):\n",
    "    f()\n",
    "    f()"
   ]
  },
  {
   "cell_type": "code",
   "execution_count": 26,
   "metadata": {},
   "outputs": [],
   "source": [
    "def do_four(f):\n",
    "    do_twice(f)\n",
    "    do_twice(f)"
   ]
  },
  {
   "cell_type": "code",
   "execution_count": 27,
   "metadata": {},
   "outputs": [
    {
     "name": "stdout",
     "output_type": "stream",
     "text": [
      "Spam\n",
      "Spam\n",
      "Spam\n",
      "Spam\n"
     ]
    }
   ],
   "source": [
    "do_four(print_spam)"
   ]
  },
  {
   "cell_type": "markdown",
   "metadata": {},
   "source": [
    "### 14. Schreiben Sie eine Funktion, welche folgendes Gitter schreibt:"
   ]
  },
  {
   "cell_type": "markdown",
   "metadata": {},
   "source": [
    "+ - - - - + - - - - +\n",
    "|         |         |\n",
    "|         |         |\n",
    "|         |         |\n",
    "|         |         |\n",
    "+ - - - - + - - - - +\n",
    "|         |         |\n",
    "|         |         |\n",
    "|         |         |\n",
    "|         |         |\n",
    "+ - - - - + - - - - +"
   ]
  },
  {
   "cell_type": "markdown",
   "metadata": {},
   "source": [
    "### Schreiben Sie so viele Funktionen, wie sie benötigen zur Hilfe und nutzen Sie gerne auch \"do_twice\" oder \"do_four\". Der Befehl \"print\" springt am Ende in eine neue Zeile. Sie können dies aber unterdrücken und zum Beispiel durch ein Leerzeichen ersetzen. Der Befehl sieht dann so aus:"
   ]
  },
  {
   "cell_type": "code",
   "execution_count": null,
   "metadata": {},
   "outputs": [],
   "source": [
    "print('+ - - - -', end=' ')"
   ]
  },
  {
   "cell_type": "code",
   "execution_count": 28,
   "metadata": {},
   "outputs": [
    {
     "name": "stdout",
     "output_type": "stream",
     "text": [
      "+ - - - - + - - - - +\n",
      "|         |         |\n",
      "|         |         |\n",
      "|         |         |\n",
      "|         |         |\n",
      "+ - - - - + - - - - +\n",
      "|         |         |\n",
      "|         |         |\n",
      "|         |         |\n",
      "|         |         |\n",
      "+ - - - - + - - - - +\n"
     ]
    }
   ],
   "source": [
    "def do_twice(f):\n",
    "    f()\n",
    "    f()\n",
    "\n",
    "def do_four(f):\n",
    "    do_twice(f)\n",
    "    do_twice(f)\n",
    "\n",
    "def print_beam():\n",
    "    print('+ - - - -', end=' ')\n",
    "\n",
    "def print_post():\n",
    "    print('|        ', end=' ')\n",
    "\n",
    "def print_beams():\n",
    "    do_twice(print_beam)\n",
    "    print('+')\n",
    "\n",
    "def print_posts():\n",
    "    do_twice(print_post)\n",
    "    print('|')\n",
    "\n",
    "def print_row():\n",
    "    print_beams()\n",
    "    do_four(print_posts)\n",
    "\n",
    "def print_grid():\n",
    "    do_twice(print_row)\n",
    "    print_beams()\n",
    "\n",
    "print_grid()"
   ]
  },
  {
   "cell_type": "markdown",
   "metadata": {},
   "source": [
    "### 15. Schreiben Sie eine Funktion \"ausrufezeichen\", welches ein String als Argument nimmt. Die Funktion schreibt den String und fügt noch ein Ausrufezeichen an. Schreiben Sie die Funktion normal und mit lambda expression."
   ]
  },
  {
   "cell_type": "code",
   "execution_count": null,
   "metadata": {},
   "outputs": [],
   "source": [
    "def ausrufezeichen(x):\n",
    "    return x+\"!\""
   ]
  },
  {
   "cell_type": "code",
   "execution_count": null,
   "metadata": {},
   "outputs": [],
   "source": [
    "ausrufezeichen = lambda x: x+\"!\""
   ]
  },
  {
   "cell_type": "markdown",
   "metadata": {},
   "source": [
    "# Bedinungen und Schleifen"
   ]
  },
  {
   "cell_type": "markdown",
   "metadata": {},
   "source": [
    "### 1. Schreiben Sie alle Zahlen von 0 bis 20 mit einer Schleife."
   ]
  },
  {
   "cell_type": "code",
   "execution_count": null,
   "metadata": {},
   "outputs": [],
   "source": [
    "for i in range(21):\n",
    "    print(i)"
   ]
  },
  {
   "cell_type": "markdown",
   "metadata": {},
   "source": [
    "### 2. Schreiben Sie alle Zahlen zwischen 20 und 30."
   ]
  },
  {
   "cell_type": "code",
   "execution_count": null,
   "metadata": {},
   "outputs": [],
   "source": [
    "for i in range(20,31):\n",
    "    print(i)"
   ]
  },
  {
   "cell_type": "markdown",
   "metadata": {},
   "source": [
    "### 3. Schreiben Sie eine Liste (Das Python-Objekt Liste!), welche die Jahre von ihrem Geburtsjahr bis 2019 enthält."
   ]
  },
  {
   "cell_type": "code",
   "execution_count": null,
   "metadata": {},
   "outputs": [],
   "source": [
    "L = []\n",
    "for i in range(1992,2020):\n",
    "    L.append(i)"
   ]
  },
  {
   "cell_type": "markdown",
   "metadata": {},
   "source": [
    "oder"
   ]
  },
  {
   "cell_type": "code",
   "execution_count": null,
   "metadata": {},
   "outputs": [],
   "source": [
    "L = [i for i in range(1992,2020)]"
   ]
  },
  {
   "cell_type": "markdown",
   "metadata": {},
   "source": [
    "### 4. Schreiben Sie eine Funktion mit einem Integer als Argument, welche prüft, ob der Integer gerade oder ungerade ist."
   ]
  },
  {
   "cell_type": "code",
   "execution_count": null,
   "metadata": {},
   "outputs": [],
   "source": [
    "def even_or_odd(i):\n",
    "    if i % 2 == 0:\n",
    "        print(\"even\")\n",
    "    else:\n",
    "        print(\"odd\")"
   ]
  },
  {
   "cell_type": "markdown",
   "metadata": {},
   "source": [
    "### 5. Schreiben Sie ein Programm, welches alle Zahlen von -10 bis 10 ausgibt. Wenn die Zahl positiv ist schreibt das Programm „positiv“ neben die Zahl. Wenn die Zahl negativ ist, schreibt das Programm „negativ“ neben die Zahl."
   ]
  },
  {
   "cell_type": "code",
   "execution_count": null,
   "metadata": {},
   "outputs": [],
   "source": [
    "for i in range(-10,11):\n",
    "    if i < 0:\n",
    "        print(str(i)+\" negativ\")\n",
    "    elif i == 0:\n",
    "        print(str(i)+\" neutral\")\n",
    "    else:\n",
    "        print(str(i)+\" positiv\")"
   ]
  },
  {
   "cell_type": "markdown",
   "metadata": {},
   "source": [
    "### 6. Schreiben Sie ein Programm, welches alle Zahlen, die durch 7 teilbar sind und zwischen 0 und 100 liegen, aufschreibt."
   ]
  },
  {
   "cell_type": "code",
   "execution_count": null,
   "metadata": {},
   "outputs": [],
   "source": [
    "for i in range(101):\n",
    "    if i % 7 == 0:\n",
    "        print(i)"
   ]
  },
  {
   "cell_type": "markdown",
   "metadata": {},
   "source": [
    "### 7. Schreiben Sie eine Funktion \"string_len_5\", welche die Eingabe eines Strings des Nutzers abfragt. Falls der String die Länge 5 hat, gibt die Funktion \"Ihr String ist 5 Zeichen lang!\" aus. Falls der String eine andere Länge hat, gibt die Funktion aus: \"Ihr String hat die falsche Länge. Versuchen Sie es nochmal!\" und fragt erneut nach einen String. Dies geht solange weiter, bis der Nutzer einen String der Länge 5 eingegeben hat."
   ]
  },
  {
   "cell_type": "code",
   "execution_count": null,
   "metadata": {},
   "outputs": [],
   "source": [
    "def string_len_5():\n",
    "    while True:\n",
    "        a = input(\"Geben Sie einen String ein: \")\n",
    "        if len(a) == 5:\n",
    "            print(\"Ihr String hat die Länge 5.\")\n",
    "            break\n",
    "        else:\n",
    "            print(\"Ihr String hat die falsche Länge. Versuchen Sie es nochmal!\")"
   ]
  },
  {
   "cell_type": "markdown",
   "metadata": {},
   "source": [
    "### 8. Fermats Theorem besagt, dass es keine positiven ganze Zahlen $a,b,c$ und $n$ mit $n> 2$ gibt, sodass gilt $a^n+b^n=c^n$. Schreiben Sie eine Funktion \"check_fermat\", die $a,b,c$ und $n$ als Argumente nimmt. Sie gibt aus \"Heiliger Strohsack, Fermat lag falsch!\", falls $n > 2$ und $a^n+b^n=c^n$. Ansonsten gibt sie aus \"Nein, das funktioniert nicht!\"."
   ]
  },
  {
   "cell_type": "code",
   "execution_count": null,
   "metadata": {},
   "outputs": [],
   "source": [
    "def check_fermat(a,b,c,n):\n",
    "    if n > 2 and a**n+b**n == c**n:\n",
    "        print(\"Heiliger Strohsack, Fermat lag falsch!\")\n",
    "    else:\n",
    "        print(\"Nein, das funktioniert nicht!\")"
   ]
  },
  {
   "cell_type": "markdown",
   "metadata": {},
   "source": [
    "### 9. Prüfen Sie mit einer Schleife und ihrer Funktion check_fermat, ob Fermats Theorem für die Zahlen a=5, b=8, c=23 und n= 1 bis 20 erfüllt ist."
   ]
  },
  {
   "cell_type": "code",
   "execution_count": null,
   "metadata": {},
   "outputs": [],
   "source": [
    "a = 5\n",
    "b = 8\n",
    "c = 23\n",
    "for n in range(1,21):\n",
    "    check_fermat(a,b,c,n)"
   ]
  },
  {
   "cell_type": "markdown",
   "metadata": {},
   "source": [
    "### 10. Prüfen Sie mit einer genesteten Schleife und ihrer Funktion check_fermat, ob Fermats Theorem für die Zahlen a=5, b=8, c= 1 bis 20 und n = 1 bis 20 erfüllt ist."
   ]
  },
  {
   "cell_type": "code",
   "execution_count": null,
   "metadata": {},
   "outputs": [],
   "source": [
    "a = 5\n",
    "b = 8\n",
    "for n in range(1,21):\n",
    "    for c in range(1,21):\n",
    "        check_fermat(a,b,c,n)"
   ]
  },
  {
   "cell_type": "markdown",
   "metadata": {},
   "source": [
    "### 11.\tSchreiben Sie eine Funktion „ausrufezeichen“, welches einen String als Argument nimmt. Ihre Funktion hängt ein Ausrufezeichen an den String an und gibt den neuen String zurück. Schreiben Sie eine zweite Funktion „hallo_vorne_dran“ mit einem String als Argument, welches „Hallo“ vorne an den String hängt. Sie haben nun 2 Funktionen, mit denen Sie tätig werden sollen. Fangen Sie in einer neuen Zelle ein Programm an: x=“Peter“ ist ihr String, mit dem Sie arbeiten sollen. Nutzen Sie ihre Funktionen um aus x den String „Hallo Hallo Peter!!!!!!“ zu machen. Schreiben Sie diesen neuen String x nun 25 Mal und hängen Sie bei jedem Mal ein Ausrufezeichen an."
   ]
  },
  {
   "cell_type": "code",
   "execution_count": 29,
   "metadata": {},
   "outputs": [],
   "source": [
    "def ausrufezeichen(string):\n",
    "    return string+\"!\"\n",
    "\n",
    "def hallo_vorne_dran(string):\n",
    "    return \"Hallo \"+string"
   ]
  },
  {
   "cell_type": "code",
   "execution_count": 30,
   "metadata": {},
   "outputs": [
    {
     "data": {
      "text/plain": [
       "'Hallo Hallo Peter!!!!!!'"
      ]
     },
     "execution_count": 30,
     "metadata": {},
     "output_type": "execute_result"
    }
   ],
   "source": [
    "x = \"Peter\"\n",
    "x = hallo_vorne_dran(x)\n",
    "x = hallo_vorne_dran(x)\n",
    "for _ in range(6):\n",
    "    x = ausrufezeichen(x)\n",
    "x"
   ]
  },
  {
   "cell_type": "code",
   "execution_count": 31,
   "metadata": {},
   "outputs": [
    {
     "name": "stdout",
     "output_type": "stream",
     "text": [
      "Hallo Hallo Peter!!!!!!!\n",
      "Hallo Hallo Peter!!!!!!!!\n",
      "Hallo Hallo Peter!!!!!!!!!\n",
      "Hallo Hallo Peter!!!!!!!!!!\n",
      "Hallo Hallo Peter!!!!!!!!!!!\n",
      "Hallo Hallo Peter!!!!!!!!!!!!\n",
      "Hallo Hallo Peter!!!!!!!!!!!!!\n",
      "Hallo Hallo Peter!!!!!!!!!!!!!!\n",
      "Hallo Hallo Peter!!!!!!!!!!!!!!!\n",
      "Hallo Hallo Peter!!!!!!!!!!!!!!!!\n",
      "Hallo Hallo Peter!!!!!!!!!!!!!!!!!\n",
      "Hallo Hallo Peter!!!!!!!!!!!!!!!!!!\n",
      "Hallo Hallo Peter!!!!!!!!!!!!!!!!!!!\n",
      "Hallo Hallo Peter!!!!!!!!!!!!!!!!!!!!\n",
      "Hallo Hallo Peter!!!!!!!!!!!!!!!!!!!!!\n",
      "Hallo Hallo Peter!!!!!!!!!!!!!!!!!!!!!!\n",
      "Hallo Hallo Peter!!!!!!!!!!!!!!!!!!!!!!!\n",
      "Hallo Hallo Peter!!!!!!!!!!!!!!!!!!!!!!!!\n",
      "Hallo Hallo Peter!!!!!!!!!!!!!!!!!!!!!!!!!\n",
      "Hallo Hallo Peter!!!!!!!!!!!!!!!!!!!!!!!!!!\n",
      "Hallo Hallo Peter!!!!!!!!!!!!!!!!!!!!!!!!!!!\n",
      "Hallo Hallo Peter!!!!!!!!!!!!!!!!!!!!!!!!!!!!\n",
      "Hallo Hallo Peter!!!!!!!!!!!!!!!!!!!!!!!!!!!!!\n",
      "Hallo Hallo Peter!!!!!!!!!!!!!!!!!!!!!!!!!!!!!!\n",
      "Hallo Hallo Peter!!!!!!!!!!!!!!!!!!!!!!!!!!!!!!!\n"
     ]
    }
   ],
   "source": [
    "for _ in range(25):\n",
    "    x = ausrufezeichen(x)\n",
    "    print(x)"
   ]
  },
  {
   "cell_type": "markdown",
   "metadata": {},
   "source": [
    "### 12.\tSchreiben Sie eine Funktion mit einem String als Argument, welches die Länge des Strings ausgibt."
   ]
  },
  {
   "cell_type": "code",
   "execution_count": null,
   "metadata": {},
   "outputs": [],
   "source": [
    "def string_length(string):\n",
    "    return len(string)"
   ]
  },
  {
   "cell_type": "markdown",
   "metadata": {},
   "source": [
    "### 13. Schreiben Sie eine Funktion mit einem String als Argument, welche True ausgibt, falls die Länge des String 5 ist."
   ]
  },
  {
   "cell_type": "code",
   "execution_count": null,
   "metadata": {},
   "outputs": [],
   "source": [
    "def string_length_5(string):\n",
    "    return len(string) == 5"
   ]
  },
  {
   "cell_type": "markdown",
   "metadata": {},
   "source": [
    "### 14. Schreiben Sie ein Ratespiel: Der erste Spieler wird vom Programm nach der geheimen Zahl gefragt, ohne dass der zweite Spieler die Eingabe sieht. Der zweite Spieler versucht nun die Zahl zu erraten. Er gibt eine Zahl ein: Falls die Zahl die geheime Zahl des ersten Spielers ist, ist die Ausgabe „Richtig, sie haben die geheime Zahl gefunden.“ Falls die Zahl nicht die geheime Zahl ist schreibt das Programm „Leider falsch. Versuchen Sie es nochmal“. Dies geht solange weiter, bis der zweite Spieler die geheime Zahl gefunden hat."
   ]
  },
  {
   "cell_type": "code",
   "execution_count": null,
   "metadata": {},
   "outputs": [],
   "source": [
    "geheime_zahl = int(input(\"Spieler 1, gib eine geheime Zahl ein: \"))\n",
    "while True:\n",
    "    rate_zahl = int(input(\"Spieler 2, rate die geheime Zahl: \"))\n",
    "    if rate_zahl == geheime_zahl:\n",
    "        print(\"Richtig, sie haben die geheime Zahl gefunden.\")\n",
    "        break\n",
    "    else:\n",
    "        print(\"Leider falsch. Versuchen Sie es nochmal.\")"
   ]
  },
  {
   "cell_type": "markdown",
   "metadata": {},
   "source": [
    "### 15.\tModifizieren Sie ihr Ratespiel. Wenn der zweite Spieler die geheime Zahl gefunden hat schreibt ihr Programm auch wie viele Versuche er gebraucht hat. Zum Beispiel. „Richtig, Sie haben die geheime Zahl gefunden! Sie haben 5 Versuche gebraucht.“"
   ]
  },
  {
   "cell_type": "code",
   "execution_count": null,
   "metadata": {},
   "outputs": [],
   "source": [
    "counter = 1\n",
    "geheime_zahl = int(input(\"Spieler 1, gib eine geheime Zahl ein: \"))\n",
    "while True:\n",
    "    rate_zahl = int(input(\"Spieler 2, rate die geheime Zahl: \"))\n",
    "    if rate_zahl == geheime_zahl:\n",
    "        print(\"Richtig, sie haben die geheime Zahl gefunden.\")\n",
    "        print(\"Sie haben \"+str(counter)+\" Versuche gebraucht.\")\n",
    "        break\n",
    "    else:\n",
    "        counter +=1\n",
    "        print(\"Leider falsch. Versuchen Sie es nochmal.\")"
   ]
  },
  {
   "cell_type": "markdown",
   "metadata": {},
   "source": [
    "### 16.\tSchreiben Sie eine Funktion „ist_primzahl“, welche einen Integer als Input hat und True ausgibt, falls dies eine Primzahl ist. Ansonsten gibt sie False aus. Eine Primzahl ist eine Zahl, die nur durch 1 und sich selbst teilbar ist."
   ]
  },
  {
   "cell_type": "code",
   "execution_count": null,
   "metadata": {},
   "outputs": [],
   "source": [
    "def ist_primzahl(zahl):\n",
    "    for i in range(2,zahl):\n",
    "        if zahl % i == 0:\n",
    "            return False \n",
    "    return True"
   ]
  },
  {
   "cell_type": "markdown",
   "metadata": {},
   "source": [
    "### 17.\tSchreiben Sie ein Programm, welches alle Primzahlen bis 100 schreibt. "
   ]
  },
  {
   "cell_type": "code",
   "execution_count": null,
   "metadata": {},
   "outputs": [],
   "source": [
    "for i in range(1,100):\n",
    "    if ist_primzahl(i):\n",
    "        print(i)"
   ]
  },
  {
   "cell_type": "markdown",
   "metadata": {},
   "source": [
    "# Dictionaries und Sets"
   ]
  },
  {
   "cell_type": "markdown",
   "metadata": {},
   "source": [
    "### 1. Schreiben Sie eine Funktion, welche die Elemente einer Liste ohne Duplikate schreibt."
   ]
  },
  {
   "cell_type": "code",
   "execution_count": null,
   "metadata": {},
   "outputs": [],
   "source": [
    "def ohne_duplikate(L):\n",
    "    for i in set(L):\n",
    "        print(i)\n",
    "\n",
    "ohne_duplikate([1,1,2])"
   ]
  },
  {
   "cell_type": "markdown",
   "metadata": {},
   "source": [
    "### 2. Schreiben Sie eine Funktion, welche aus zwei Listen als Input ein Dictionary erstellt. Nehmen Sie an, dass die Listen gleiche Länge haben. Eine Liste gibt die Keys und die andere Liste die Values an."
   ]
  },
  {
   "cell_type": "code",
   "execution_count": null,
   "metadata": {},
   "outputs": [],
   "source": [
    "def make_dict(liste1,liste2):\n",
    "    dic={}\n",
    "    for i in range(len(liste1)):\n",
    "        dic[liste1[i]] = liste2[i]\n",
    "    return dic\n",
    "\n",
    "make_dict([1,4,3],[\"12\",\"hallo\",\"nein\"])"
   ]
  },
  {
   "cell_type": "markdown",
   "metadata": {},
   "source": [
    "### 3. Modifizieren Sie die Funktion. Falls die Listen nicht die gleiche Länge haben, soll eine Fehlermeldung erscheinen."
   ]
  },
  {
   "cell_type": "code",
   "execution_count": null,
   "metadata": {},
   "outputs": [],
   "source": [
    "def make_dict(liste1,liste2):\n",
    "    if len(liste1) != len(liste2):\n",
    "        return \"Liste haben nicht die gleiche Länge!\"\n",
    "    dic={}\n",
    "    for i in range(len(liste1)):\n",
    "        dic[liste1[i]] = liste2[i]\n",
    "    return dic\n",
    "\n",
    "make_dict([1,4,3],[\"12\",\"hallo\",\"nein\"])"
   ]
  },
  {
   "cell_type": "markdown",
   "metadata": {},
   "source": [
    "### 4. Schreiben Sie eine Funktion, welche die Values eines Dictionaries schreibt, nachdem diese nach Keys sortiert wurden."
   ]
  },
  {
   "cell_type": "code",
   "execution_count": null,
   "metadata": {},
   "outputs": [],
   "source": [
    "def write_sorted_values(dic):\n",
    "    L = [(k, v) for k, v in dic.items()] \n",
    "    L = sorted(L)\n",
    "    for i in range(len(L)):\n",
    "        print(L[i][1])\n",
    "        \n",
    "write_sorted_values({6:\"hallo\",5:\"nein\"})"
   ]
  },
  {
   "cell_type": "markdown",
   "metadata": {},
   "source": [
    "# Texte einlesen und bearbeiten"
   ]
  },
  {
   "cell_type": "markdown",
   "metadata": {},
   "source": [
    "### 1. Schreiben Sie eine Funktion, die einen String als Argument nimmt. Alle „Hallo“ werden durch „Halli Hallo“ ersetzt. Außerdem soll die Funktion den String komplett in Kleinbuchstaben verwandeln. Die Funktion gibt den neuen String zurück. Jetzt nutzen Sie ihre Funktion! Geben Sie ihrer Funktion den String „Hallo, wie geht es dir“. Nachdem Sie das getan haben, hängen Sie noch ein Ausrufezeichen an."
   ]
  },
  {
   "cell_type": "code",
   "execution_count": 32,
   "metadata": {},
   "outputs": [],
   "source": [
    "def replace_hallos(string):\n",
    "    string = string.replace(\"Hallo\",\"Halli Hallo\")\n",
    "    string = string.lower()\n",
    "    return string"
   ]
  },
  {
   "cell_type": "code",
   "execution_count": 33,
   "metadata": {},
   "outputs": [
    {
     "data": {
      "text/plain": [
       "'halli hallo wie gehts'"
      ]
     },
     "execution_count": 33,
     "metadata": {},
     "output_type": "execute_result"
    }
   ],
   "source": [
    "replace_hallos(\"Hallo wie gehts\")"
   ]
  },
  {
   "cell_type": "markdown",
   "metadata": {},
   "source": [
    "### 2. Lesen Sie den Text „input.txt“ ein. Ersetzen Sie im Text das Wort „Class“ durch das Wort „unknown“.  Schauen Sie sich dafür die Funktion „replace“ an. Mit der Funktion „lower“ können Sie den Text zunächst komplett in Kleinbuchstaben umwandeln. Speichern Sie diesen Text in einer neuen Datei."
   ]
  },
  {
   "cell_type": "code",
   "execution_count": null,
   "metadata": {},
   "outputs": [],
   "source": [
    "data = open('input.txt','r')\n",
    "text = data.read()\n",
    "data.close()"
   ]
  },
  {
   "cell_type": "code",
   "execution_count": null,
   "metadata": {},
   "outputs": [],
   "source": [
    "text = text.lower().replace(\"class\",\"unknown\")"
   ]
  },
  {
   "cell_type": "code",
   "execution_count": null,
   "metadata": {},
   "outputs": [],
   "source": [
    "data = open('new_output.txt','w')\n",
    "data.write(text)\n",
    "data.close()"
   ]
  },
  {
   "cell_type": "markdown",
   "metadata": {},
   "source": [
    "### 3. Lesen Sie den Text „input.txt“ ein. Schreiben Sie ein Programm, welches zählt, wie oft das Wort „the“ vorkommt. Mit der Funktion „lower“ können Sie den Text zunächst komplett in Kleinbuchstaben umwandeln."
   ]
  },
  {
   "cell_type": "code",
   "execution_count": null,
   "metadata": {},
   "outputs": [],
   "source": [
    "data = open('input.txt','r')\n",
    "text = data.read()\n",
    "data.close()"
   ]
  },
  {
   "cell_type": "code",
   "execution_count": null,
   "metadata": {},
   "outputs": [],
   "source": [
    "counter = 0\n",
    "for wort in text.lower().split():\n",
    "    if wort == \"the\":\n",
    "        counter = counter + 1\n",
    "print(counter)"
   ]
  },
  {
   "cell_type": "markdown",
   "metadata": {},
   "source": [
    "# Tabellen und Dateien einlesen und bearbeiten"
   ]
  },
  {
   "cell_type": "markdown",
   "metadata": {},
   "source": [
    "### 1. Schreiben Sie eine Funktion, welche prüft, ob das Wort „only“ in einem String vorkommt. Testen Sie ihre Funktion mit dem Text aus „input.txt“."
   ]
  },
  {
   "cell_type": "code",
   "execution_count": null,
   "metadata": {},
   "outputs": [],
   "source": [
    "def only_in_string(string):\n",
    "    for word in string.split():\n",
    "        if \"only\" == word:\n",
    "            return True\n",
    "    return False"
   ]
  },
  {
   "cell_type": "code",
   "execution_count": null,
   "metadata": {},
   "outputs": [],
   "source": [
    "data = open('input.txt','r')\n",
    "text = data.read()\n",
    "data.close()"
   ]
  },
  {
   "cell_type": "code",
   "execution_count": null,
   "metadata": {},
   "outputs": [],
   "source": [
    "only_in_string(text)"
   ]
  },
  {
   "cell_type": "markdown",
   "metadata": {},
   "source": [
    "### 2. Schreiben Sie eine Funktion, welche prüft ob eine vierstellige Zahl in einem String vorkommt."
   ]
  },
  {
   "cell_type": "code",
   "execution_count": null,
   "metadata": {},
   "outputs": [],
   "source": [
    "import re"
   ]
  },
  {
   "cell_type": "code",
   "execution_count": null,
   "metadata": {},
   "outputs": [],
   "source": [
    "def wort_vierstellige_zahl(wort):\n",
    "    regex = re.search(\"^\\d\\d\\d\\d$\",wort)\n",
    "    if regex:\n",
    "        return True\n",
    "    else: \n",
    "        return False"
   ]
  },
  {
   "cell_type": "code",
   "execution_count": null,
   "metadata": {},
   "outputs": [],
   "source": [
    "def vierstellige_zahl_in_string(string):\n",
    "    for wort in string.split():\n",
    "        if wort_vierstellige_zahl(wort) == True:\n",
    "            return True\n",
    "    return False"
   ]
  },
  {
   "cell_type": "code",
   "execution_count": null,
   "metadata": {},
   "outputs": [],
   "source": [
    "vierstellige_zahl_in_string(\"asd 23422 asd\")"
   ]
  },
  {
   "cell_type": "code",
   "execution_count": null,
   "metadata": {},
   "outputs": [],
   "source": [
    "vierstellige_zahl_in_string(\"asd 2322 asd\")"
   ]
  },
  {
   "cell_type": "code",
   "execution_count": null,
   "metadata": {},
   "outputs": [],
   "source": [
    "vierstellige_zahl_in_string(\"asd 2342\")"
   ]
  },
  {
   "cell_type": "markdown",
   "metadata": {},
   "source": [
    "### 3. Laden Sie die Datei Temperaturen.csv in Python. Finden Sie alle Einträge, wo das Datum falsch formatiert ist (inklusive Index)."
   ]
  },
  {
   "cell_type": "code",
   "execution_count": null,
   "metadata": {},
   "outputs": [],
   "source": [
    "import pandas as pd\n",
    "import re\n",
    "datum = list(pd.read_csv(\"Temperaturen.csv\",)[\"Datum\"])"
   ]
  },
  {
   "cell_type": "code",
   "execution_count": null,
   "metadata": {},
   "outputs": [],
   "source": [
    "false_dates = []\n",
    "for i in range(len(datum)):\n",
    "    a = re.match(\"\\w\\w\\w \\w\\w\\w [\\d ]\\d \\d\\d:\\d\\d:\\d\\d \\d\\d\\d\\d\",datum[i])\n",
    "    if not a:\n",
    "        print(datum[i])\n",
    "        print(i)\n",
    "        false_dates.append([i,datum[i]])"
   ]
  },
  {
   "cell_type": "code",
   "execution_count": null,
   "metadata": {},
   "outputs": [],
   "source": [
    "false_dates"
   ]
  },
  {
   "cell_type": "markdown",
   "metadata": {},
   "source": [
    "### 4. Schreiben Sie alle Einträge, welche falsch formatiert sind, in eine Datenbank."
   ]
  },
  {
   "cell_type": "code",
   "execution_count": null,
   "metadata": {},
   "outputs": [],
   "source": [
    "import sqlite3\n",
    "db = sqlite3.connect(\"false_dates.sql\")\n",
    "cursor = db.cursor()"
   ]
  },
  {
   "cell_type": "code",
   "execution_count": null,
   "metadata": {},
   "outputs": [],
   "source": [
    "false_dates"
   ]
  },
  {
   "cell_type": "code",
   "execution_count": null,
   "metadata": {},
   "outputs": [],
   "source": [
    "cursor.execute('create table false_dates (i integer, date text)')\n",
    "cursor.executemany('insert into false_dates values (?,?)', false_dates)"
   ]
  },
  {
   "cell_type": "code",
   "execution_count": null,
   "metadata": {},
   "outputs": [],
   "source": [
    "list(cursor.execute('select * from false_dates'))"
   ]
  },
  {
   "cell_type": "code",
   "execution_count": null,
   "metadata": {},
   "outputs": [],
   "source": [
    "db.commit()"
   ]
  },
  {
   "cell_type": "markdown",
   "metadata": {},
   "source": [
    "### 5. Laden Sie sich den Ordner Texte herunter. Benennen Sie die Dateien um, indem Sie vor den jeweiligen Namen „Text_“ schreiben."
   ]
  },
  {
   "cell_type": "code",
   "execution_count": null,
   "metadata": {},
   "outputs": [],
   "source": [
    "import os\n",
    "files = os.listdir(\"Texte\")\n",
    "for file in files:\n",
    "    os.rename(\"Texte/\"+file,\"Texte/Text_\"+file)"
   ]
  },
  {
   "cell_type": "markdown",
   "metadata": {},
   "source": [
    "### 6. Schreiben Sie ein Rechentrainingsprogramm. Der Benutzer soll zufällig ausgewählte Zahlen zwischen 1 und 10 subtrahieren, addieren und multiplizieren. Bevor das Programm startet soll der User gefragt werden, wie viele Aufgaben er rechnen will. Er bekommt eine Aufgabe gestellt und macht eine Eingabe. Er bekommt sofort das Feedback, ob die Aufgabe richtig oder falsch war. Am Ende bekommt er angezeigt, wie viel % der Aufgaben er richtig gerechnet hat."
   ]
  },
  {
   "cell_type": "code",
   "execution_count": null,
   "metadata": {},
   "outputs": [],
   "source": [
    "import random"
   ]
  },
  {
   "cell_type": "code",
   "execution_count": null,
   "metadata": {},
   "outputs": [],
   "source": [
    "def operation(zahl1,zahl2,art_der_operation):\n",
    "    if art_der_operation == \"+\": return zahl1+zahl2\n",
    "    elif art_der_operation == \"-\": return zahl1-zahl2\n",
    "    elif art_der_operation == \"*\": return zahl1*zahl2"
   ]
  },
  {
   "cell_type": "code",
   "execution_count": null,
   "metadata": {},
   "outputs": [],
   "source": [
    "counter_richtg = 0\n",
    "anzahl_aufgaben = int(input(\"Wie viele Aufgaben willst du rechnen?: \"))\n",
    "\n",
    "for _ in range(anzahl_aufgaben):\n",
    "    zahl1 = random.randint(0,10)\n",
    "    zahl2 = random.randint(0,10)\n",
    "    art_der_aufgabe = random.choice([\"+\",\"-\",\"*\"])\n",
    "    ergebnis = int(input(\"Wie viel ist \"+str(zahl1)+\" \"+art_der_aufgabe+\" \"+str(zahl2)))\n",
    "    if operation(zahl1,zahl2,art_der_aufgabe) == ergebnis:\n",
    "        print(\"Richtig!\")\n",
    "        counter_richtg += 1\n",
    "    else:\n",
    "        print(\"Falsch!\")\n",
    "        \n",
    "prozent = (counter_richtg/anzahl_aufgaben)*100\n",
    "print(\"Du hast \"+str(prozent)+\" Prozent der Aufgaben richtig.\")"
   ]
  },
  {
   "cell_type": "markdown",
   "metadata": {},
   "source": [
    "### 7.\tModifizieren Sie ihr Rechentrainingsprogramm: Der User gibt am Anfang zusätzlich seinen Namen ein. Sein Name, seine Punktzahl (in %) und die Anzahl der Aufgaben, die er gerechnet hat, werden am Ende in einer Textdatei gespeichert. In der Textdatei sollen alle Spiele, die je gespielt worden sind, zu finden sein. Bonus: In der Textdatei sollen die Spiele alphabetisch nach Namen der Spieler sortiert sein.\n"
   ]
  },
  {
   "cell_type": "code",
   "execution_count": null,
   "metadata": {},
   "outputs": [],
   "source": [
    "counter_richtg = 0\n",
    "anzahl_aufgaben = int(input(\"Wie viele Aufgaben willst du rechnen?: \"))\n",
    "name = input(\"Wie ist dein Name?: \")\n",
    "\n",
    "for _ in range(anzahl_aufgaben):\n",
    "    zahl1 = random.randint(0,10)\n",
    "    zahl2 = random.randint(0,10)\n",
    "    art_der_aufgabe = random.choice([\"+\",\"-\",\"*\"])\n",
    "    ergebnis = int(input(\"Wie viel ist \"+str(zahl1)+\" \"+art_der_aufgabe+\" \"+str(zahl2)))\n",
    "    if operation(zahl1,zahl2,art_der_aufgabe) == ergebnis:\n",
    "        print(\"Richtig!\")\n",
    "        counter_richtg += 1\n",
    "    else:\n",
    "        print(\"Falsch!\")\n",
    "        \n",
    "prozent = (counter_richtg/anzahl_aufgaben)*100\n",
    "print(\"Du hast \"+str(prozent)+\" Prozent der Aufgaben richtig.\")\n",
    "\n",
    "data = open('Spiele.txt','a')\n",
    "data.write(name+\" \"+str(prozent)+\"\\n\")\n",
    "data.close()"
   ]
  },
  {
   "cell_type": "markdown",
   "metadata": {},
   "source": [
    "### 8. Modifizieren Sie ihr Programm. Speichern Sie die Punktliste in einer Datenbank statt einer Textdatei."
   ]
  },
  {
   "cell_type": "code",
   "execution_count": null,
   "metadata": {},
   "outputs": [],
   "source": []
  },
  {
   "cell_type": "markdown",
   "metadata": {},
   "source": [
    "# Klassen"
   ]
  },
  {
   "cell_type": "markdown",
   "metadata": {},
   "source": [
    "### 1. Schreiben Sie eine Klasse \"Circle\" mit den Attributen \"Center\" und \"Radius\". Erstellen Sie ein Objekt mit dem Mittelpunkt (Center) (150,100) und einem Radius von 75."
   ]
  },
  {
   "cell_type": "code",
   "execution_count": null,
   "metadata": {},
   "outputs": [],
   "source": [
    "class Circle:\n",
    "    def __init__(self,center,radius):\n",
    "        self.center = center\n",
    "        self.radius = radius\n",
    "        \n",
    "Circle_1 = Circle([150,100],75)"
   ]
  },
  {
   "cell_type": "markdown",
   "metadata": {},
   "source": [
    "### 2. Erweitern Sie die Klasse \"Circle\" um die Methode move_right(d), welche den Kreis um d nach rechts verschiebt."
   ]
  },
  {
   "cell_type": "code",
   "execution_count": null,
   "metadata": {},
   "outputs": [],
   "source": [
    "class Circle:\n",
    "    def __init__(self,center,radius):\n",
    "        self.center = center\n",
    "        self.radius = radius\n",
    "    def move_right(self,d):\n",
    "        self.center[0] = self.center[0]+d"
   ]
  },
  {
   "cell_type": "markdown",
   "metadata": {},
   "source": [
    "### 3. Erweitern Sie die Klasse \"Circle\" um die Methode double_size(), welche den Radius des Kreises verdoppelt."
   ]
  },
  {
   "cell_type": "code",
   "execution_count": null,
   "metadata": {},
   "outputs": [],
   "source": [
    "class Circle:\n",
    "    def __init__(self,center,radius):\n",
    "        self.center = center\n",
    "        self.radius = radius\n",
    "    def move_right(self,d):\n",
    "        self.center[0] = self.center[0]+d\n",
    "    def double_size(self):\n",
    "        self.radius = 2*self.radius"
   ]
  },
  {
   "cell_type": "markdown",
   "metadata": {},
   "source": [
    "### 4. Schreiben Sie eine Funktion square_in_circle, welche ein Viereck und ein Kreis als Argument hat und prüft, ob das Viereck komplett im Kreis ist. Sie müssen dazu zunächst eine Klasse „square“ schreiben. Hinweis: Schreiben Sie zunächste eine Funktion „point_in_circle“. Die Kreisgleichung lautet $(x-c_x)^2+(y-c_y)^2=r^2$ Ein Punk ist innerhalb eines Kreises, wenn $(x-c_x)^2+(y-c_y)^2 < r^2$ gilt."
   ]
  },
  {
   "cell_type": "code",
   "execution_count": null,
   "metadata": {},
   "outputs": [],
   "source": [
    "#check if angle 90 degree missing\n",
    "\n",
    "class Square:\n",
    "    def __init__(self,corners):\n",
    "        self.corners = corners\n",
    "        if isinstance(corners, list) == False:\n",
    "            raise Exception(\"Geben Sie die Ecken als Liste an!\")\n",
    "        if len(corners) != 4: \n",
    "            raise Exception(\"Ein Rechteck hat 4 Ecken!\")"
   ]
  },
  {
   "cell_type": "code",
   "execution_count": null,
   "metadata": {},
   "outputs": [],
   "source": [
    "Square1 = Square([[0,0],[0,1],[1,1],[1,0]])\n",
    "Circle1 = Circle([150,100],75)"
   ]
  },
  {
   "cell_type": "code",
   "execution_count": null,
   "metadata": {},
   "outputs": [],
   "source": [
    "def point_in_circle(point,circle):\n",
    "    if (circle.center[0]-point[0])**2+(circle.center[1]-point[1])**2 <= circle.radius**2:\n",
    "        return True\n",
    "    else:\n",
    "        return False"
   ]
  },
  {
   "cell_type": "code",
   "execution_count": null,
   "metadata": {},
   "outputs": [],
   "source": [
    "def square_in_circle(square,circle):\n",
    "    for corner in square.corners:\n",
    "        if point_in_circle(corner,circle) == False:\n",
    "            return False\n",
    "    return True"
   ]
  },
  {
   "cell_type": "code",
   "execution_count": null,
   "metadata": {},
   "outputs": [],
   "source": [
    "square_in_circle(Square1,Circle1)"
   ]
  },
  {
   "cell_type": "markdown",
   "metadata": {},
   "source": [
    "### 5. Schreiben Sie eine Funktion square_circle_overlap, welche ein Viereck und ein Kreis als Argument hat und prüft, ob das Viereck bund der Kreis sich überlappen."
   ]
  },
  {
   "cell_type": "code",
   "execution_count": null,
   "metadata": {},
   "outputs": [],
   "source": [
    "def square_circle_overlap(square,circle):\n",
    "    for corner in square.corners:\n",
    "        if point_in_circle(corner,circle) == True:\n",
    "            return True\n",
    "    return False"
   ]
  },
  {
   "cell_type": "markdown",
   "metadata": {},
   "source": [
    "# Web-Server und Requests"
   ]
  },
  {
   "cell_type": "markdown",
   "metadata": {},
   "source": [
    "### 1. Schreiben Sie einen Web-Server. Es soll eine GET-Methode geben, welche eine Beschreibung des Programms als Antwort liefert. Es soll eine weitere POST-Methode geben: Sie sollen 3 Integer übergeben, der Web-Server gibt ihnen das Produkt der drei Zahlen zurück."
   ]
  },
  {
   "cell_type": "code",
   "execution_count": null,
   "metadata": {},
   "outputs": [],
   "source": []
  },
  {
   "cell_type": "markdown",
   "metadata": {},
   "source": [
    "# Pandas"
   ]
  },
  {
   "cell_type": "markdown",
   "metadata": {},
   "source": [
    "### 1. Importieren Sie die notwendigen Bibliotheken"
   ]
  },
  {
   "cell_type": "code",
   "execution_count": null,
   "metadata": {},
   "outputs": [],
   "source": [
    "import pandas as pd\n",
    "import numpy as np"
   ]
  },
  {
   "cell_type": "markdown",
   "metadata": {},
   "source": [
    "### 2. Importieren Sie den Datensatz \"chipo_data.csv\""
   ]
  },
  {
   "cell_type": "code",
   "execution_count": 34,
   "metadata": {},
   "outputs": [],
   "source": [
    "chipo = pd.read_csv(\"chipo_data.csv\")"
   ]
  },
  {
   "cell_type": "markdown",
   "metadata": {},
   "source": [
    "### 3. Weisen Sie den Datensatz einer Variable \"chipo\" zu"
   ]
  },
  {
   "cell_type": "code",
   "execution_count": null,
   "metadata": {},
   "outputs": [],
   "source": [
    "chipo = pd.read_csv(\"chipo_data.csv\")"
   ]
  },
  {
   "cell_type": "markdown",
   "metadata": {},
   "source": [
    "### 4. Sehen Sie sich die ersten 10 Einträge an"
   ]
  },
  {
   "cell_type": "code",
   "execution_count": 36,
   "metadata": {},
   "outputs": [
    {
     "data": {
      "text/html": [
       "<div>\n",
       "<style scoped>\n",
       "    .dataframe tbody tr th:only-of-type {\n",
       "        vertical-align: middle;\n",
       "    }\n",
       "\n",
       "    .dataframe tbody tr th {\n",
       "        vertical-align: top;\n",
       "    }\n",
       "\n",
       "    .dataframe thead th {\n",
       "        text-align: right;\n",
       "    }\n",
       "</style>\n",
       "<table border=\"1\" class=\"dataframe\">\n",
       "  <thead>\n",
       "    <tr style=\"text-align: right;\">\n",
       "      <th></th>\n",
       "      <th>Unnamed: 0</th>\n",
       "      <th>order_id</th>\n",
       "      <th>quantity</th>\n",
       "      <th>item_name</th>\n",
       "      <th>choice_description</th>\n",
       "      <th>item_price</th>\n",
       "    </tr>\n",
       "  </thead>\n",
       "  <tbody>\n",
       "    <tr>\n",
       "      <th>0</th>\n",
       "      <td>0</td>\n",
       "      <td>1</td>\n",
       "      <td>1</td>\n",
       "      <td>Chips and Fresh Tomato Salsa</td>\n",
       "      <td>NaN</td>\n",
       "      <td>$2.39</td>\n",
       "    </tr>\n",
       "    <tr>\n",
       "      <th>1</th>\n",
       "      <td>1</td>\n",
       "      <td>1</td>\n",
       "      <td>1</td>\n",
       "      <td>Izze</td>\n",
       "      <td>[Clementine]</td>\n",
       "      <td>$3.39</td>\n",
       "    </tr>\n",
       "    <tr>\n",
       "      <th>2</th>\n",
       "      <td>2</td>\n",
       "      <td>1</td>\n",
       "      <td>1</td>\n",
       "      <td>Nantucket Nectar</td>\n",
       "      <td>[Apple]</td>\n",
       "      <td>$3.39</td>\n",
       "    </tr>\n",
       "    <tr>\n",
       "      <th>3</th>\n",
       "      <td>3</td>\n",
       "      <td>1</td>\n",
       "      <td>1</td>\n",
       "      <td>Chips and Tomatillo-Green Chili Salsa</td>\n",
       "      <td>NaN</td>\n",
       "      <td>$2.39</td>\n",
       "    </tr>\n",
       "    <tr>\n",
       "      <th>4</th>\n",
       "      <td>4</td>\n",
       "      <td>2</td>\n",
       "      <td>2</td>\n",
       "      <td>Chicken Bowl</td>\n",
       "      <td>[Tomatillo-Red Chili Salsa (Hot), [Black Beans...</td>\n",
       "      <td>$16.98</td>\n",
       "    </tr>\n",
       "  </tbody>\n",
       "</table>\n",
       "</div>"
      ],
      "text/plain": [
       "   Unnamed: 0  order_id  quantity                              item_name  \\\n",
       "0           0         1         1           Chips and Fresh Tomato Salsa   \n",
       "1           1         1         1                                   Izze   \n",
       "2           2         1         1                       Nantucket Nectar   \n",
       "3           3         1         1  Chips and Tomatillo-Green Chili Salsa   \n",
       "4           4         2         2                           Chicken Bowl   \n",
       "\n",
       "                                  choice_description item_price  \n",
       "0                                                NaN     $2.39   \n",
       "1                                       [Clementine]     $3.39   \n",
       "2                                            [Apple]     $3.39   \n",
       "3                                                NaN     $2.39   \n",
       "4  [Tomatillo-Red Chili Salsa (Hot), [Black Beans...    $16.98   "
      ]
     },
     "execution_count": 36,
     "metadata": {},
     "output_type": "execute_result"
    }
   ],
   "source": [
    "chipo.head()"
   ]
  },
  {
   "cell_type": "markdown",
   "metadata": {},
   "source": [
    "### 5. Wie viele Zeilen hat der Datensatz?"
   ]
  },
  {
   "cell_type": "code",
   "execution_count": 37,
   "metadata": {},
   "outputs": [
    {
     "data": {
      "text/plain": [
       "4622"
      ]
     },
     "execution_count": 37,
     "metadata": {},
     "output_type": "execute_result"
    }
   ],
   "source": [
    "# Solution 1\n",
    "\n",
    "chipo.shape[0]  # entries <= 4622 observations"
   ]
  },
  {
   "cell_type": "code",
   "execution_count": 38,
   "metadata": {},
   "outputs": [
    {
     "name": "stdout",
     "output_type": "stream",
     "text": [
      "<class 'pandas.core.frame.DataFrame'>\n",
      "RangeIndex: 4622 entries, 0 to 4621\n",
      "Data columns (total 6 columns):\n",
      "Unnamed: 0            4622 non-null int64\n",
      "order_id              4622 non-null int64\n",
      "quantity              4622 non-null int64\n",
      "item_name             4622 non-null object\n",
      "choice_description    3376 non-null object\n",
      "item_price            4622 non-null object\n",
      "dtypes: int64(3), object(3)\n",
      "memory usage: 216.7+ KB\n"
     ]
    }
   ],
   "source": [
    "# Solution 2\n",
    "\n",
    "chipo.info() # entries <= 4622 observations"
   ]
  },
  {
   "cell_type": "markdown",
   "metadata": {},
   "source": [
    "### 6. Wie viele Spalten hat der Datensatz?"
   ]
  },
  {
   "cell_type": "code",
   "execution_count": 39,
   "metadata": {},
   "outputs": [
    {
     "data": {
      "text/plain": [
       "6"
      ]
     },
     "execution_count": 39,
     "metadata": {},
     "output_type": "execute_result"
    }
   ],
   "source": [
    "chipo.shape[1]"
   ]
  },
  {
   "cell_type": "markdown",
   "metadata": {},
   "source": [
    "### 7. Finden Sie die Namen aller Spalten"
   ]
  },
  {
   "cell_type": "code",
   "execution_count": 40,
   "metadata": {},
   "outputs": [
    {
     "data": {
      "text/plain": [
       "Index(['Unnamed: 0', 'order_id', 'quantity', 'item_name', 'choice_description',\n",
       "       'item_price'],\n",
       "      dtype='object')"
      ]
     },
     "execution_count": 40,
     "metadata": {},
     "output_type": "execute_result"
    }
   ],
   "source": [
    "chipo.columns"
   ]
  },
  {
   "cell_type": "markdown",
   "metadata": {},
   "source": [
    "### 8. Welches Objekt wurde am öftesten bestellt?"
   ]
  },
  {
   "cell_type": "code",
   "execution_count": 41,
   "metadata": {},
   "outputs": [
    {
     "data": {
      "text/html": [
       "<div>\n",
       "<style scoped>\n",
       "    .dataframe tbody tr th:only-of-type {\n",
       "        vertical-align: middle;\n",
       "    }\n",
       "\n",
       "    .dataframe tbody tr th {\n",
       "        vertical-align: top;\n",
       "    }\n",
       "\n",
       "    .dataframe thead th {\n",
       "        text-align: right;\n",
       "    }\n",
       "</style>\n",
       "<table border=\"1\" class=\"dataframe\">\n",
       "  <thead>\n",
       "    <tr style=\"text-align: right;\">\n",
       "      <th></th>\n",
       "      <th>Unnamed: 0</th>\n",
       "      <th>order_id</th>\n",
       "      <th>quantity</th>\n",
       "    </tr>\n",
       "    <tr>\n",
       "      <th>item_name</th>\n",
       "      <th></th>\n",
       "      <th></th>\n",
       "      <th></th>\n",
       "    </tr>\n",
       "  </thead>\n",
       "  <tbody>\n",
       "    <tr>\n",
       "      <th>Chicken Bowl</th>\n",
       "      <td>1779909</td>\n",
       "      <td>713926</td>\n",
       "      <td>761</td>\n",
       "    </tr>\n",
       "  </tbody>\n",
       "</table>\n",
       "</div>"
      ],
      "text/plain": [
       "              Unnamed: 0  order_id  quantity\n",
       "item_name                                   \n",
       "Chicken Bowl     1779909    713926       761"
      ]
     },
     "execution_count": 41,
     "metadata": {},
     "output_type": "execute_result"
    }
   ],
   "source": [
    "c = chipo.groupby('item_name')\n",
    "c = c.sum()\n",
    "c = c.sort_values(['quantity'], ascending=False)\n",
    "c.head(1)"
   ]
  },
  {
   "cell_type": "markdown",
   "metadata": {},
   "source": [
    "### 9. Wie oft wurde dieses Objekt bestellt?"
   ]
  },
  {
   "cell_type": "code",
   "execution_count": 42,
   "metadata": {},
   "outputs": [
    {
     "data": {
      "text/html": [
       "<div>\n",
       "<style scoped>\n",
       "    .dataframe tbody tr th:only-of-type {\n",
       "        vertical-align: middle;\n",
       "    }\n",
       "\n",
       "    .dataframe tbody tr th {\n",
       "        vertical-align: top;\n",
       "    }\n",
       "\n",
       "    .dataframe thead th {\n",
       "        text-align: right;\n",
       "    }\n",
       "</style>\n",
       "<table border=\"1\" class=\"dataframe\">\n",
       "  <thead>\n",
       "    <tr style=\"text-align: right;\">\n",
       "      <th></th>\n",
       "      <th>Unnamed: 0</th>\n",
       "      <th>order_id</th>\n",
       "      <th>quantity</th>\n",
       "    </tr>\n",
       "    <tr>\n",
       "      <th>item_name</th>\n",
       "      <th></th>\n",
       "      <th></th>\n",
       "      <th></th>\n",
       "    </tr>\n",
       "  </thead>\n",
       "  <tbody>\n",
       "    <tr>\n",
       "      <th>Chicken Bowl</th>\n",
       "      <td>1779909</td>\n",
       "      <td>713926</td>\n",
       "      <td>761</td>\n",
       "    </tr>\n",
       "  </tbody>\n",
       "</table>\n",
       "</div>"
      ],
      "text/plain": [
       "              Unnamed: 0  order_id  quantity\n",
       "item_name                                   \n",
       "Chicken Bowl     1779909    713926       761"
      ]
     },
     "execution_count": 42,
     "metadata": {},
     "output_type": "execute_result"
    }
   ],
   "source": [
    "c = chipo.groupby('item_name')\n",
    "c = c.sum()\n",
    "c = c.sort_values(['quantity'], ascending=False)\n",
    "c.head(1)"
   ]
  },
  {
   "cell_type": "markdown",
   "metadata": {},
   "source": [
    "### 10. Welches Objekt in der Spalte choice_description wurde am häufigsten bestellt?"
   ]
  },
  {
   "cell_type": "code",
   "execution_count": 43,
   "metadata": {},
   "outputs": [
    {
     "data": {
      "text/html": [
       "<div>\n",
       "<style scoped>\n",
       "    .dataframe tbody tr th:only-of-type {\n",
       "        vertical-align: middle;\n",
       "    }\n",
       "\n",
       "    .dataframe tbody tr th {\n",
       "        vertical-align: top;\n",
       "    }\n",
       "\n",
       "    .dataframe thead th {\n",
       "        text-align: right;\n",
       "    }\n",
       "</style>\n",
       "<table border=\"1\" class=\"dataframe\">\n",
       "  <thead>\n",
       "    <tr style=\"text-align: right;\">\n",
       "      <th></th>\n",
       "      <th>Unnamed: 0</th>\n",
       "      <th>order_id</th>\n",
       "      <th>quantity</th>\n",
       "    </tr>\n",
       "    <tr>\n",
       "      <th>choice_description</th>\n",
       "      <th></th>\n",
       "      <th></th>\n",
       "      <th></th>\n",
       "    </tr>\n",
       "  </thead>\n",
       "  <tbody>\n",
       "    <tr>\n",
       "      <th>[Diet Coke]</th>\n",
       "      <td>307515</td>\n",
       "      <td>123455</td>\n",
       "      <td>159</td>\n",
       "    </tr>\n",
       "  </tbody>\n",
       "</table>\n",
       "</div>"
      ],
      "text/plain": [
       "                    Unnamed: 0  order_id  quantity\n",
       "choice_description                                \n",
       "[Diet Coke]             307515    123455       159"
      ]
     },
     "execution_count": 43,
     "metadata": {},
     "output_type": "execute_result"
    }
   ],
   "source": [
    "c = chipo.groupby('choice_description').sum()\n",
    "c = c.sort_values(['quantity'], ascending=False)\n",
    "c.head(1)\n",
    "# Diet Coke 159"
   ]
  },
  {
   "cell_type": "markdown",
   "metadata": {},
   "source": [
    "### 11. Wie viele Objekte wurden insgesamt bestellt?"
   ]
  },
  {
   "cell_type": "code",
   "execution_count": 44,
   "metadata": {},
   "outputs": [
    {
     "data": {
      "text/plain": [
       "4972"
      ]
     },
     "execution_count": 44,
     "metadata": {},
     "output_type": "execute_result"
    }
   ],
   "source": [
    "total_items_orders = chipo.quantity.sum()\n",
    "total_items_orders"
   ]
  },
  {
   "cell_type": "markdown",
   "metadata": {},
   "source": [
    "### 12. Wandeln Sie \"item price\" in eine float um"
   ]
  },
  {
   "cell_type": "markdown",
   "metadata": {},
   "source": [
    "#### 12.a Bestimmen Sie den Typ von \"item price\""
   ]
  },
  {
   "cell_type": "code",
   "execution_count": 45,
   "metadata": {},
   "outputs": [
    {
     "data": {
      "text/plain": [
       "dtype('O')"
      ]
     },
     "execution_count": 45,
     "metadata": {},
     "output_type": "execute_result"
    }
   ],
   "source": [
    "chipo.item_price.dtype"
   ]
  },
  {
   "cell_type": "markdown",
   "metadata": {},
   "source": [
    "#### 12.b Schreiben Sie eine lambda-Funktion, um den Typ von \"item price\" zu ändern"
   ]
  },
  {
   "cell_type": "code",
   "execution_count": 46,
   "metadata": {},
   "outputs": [],
   "source": [
    "dollarizer = lambda x: float(x[1:-1])\n",
    "chipo.item_price = chipo.item_price.apply(dollarizer)"
   ]
  },
  {
   "cell_type": "markdown",
   "metadata": {},
   "source": [
    "#### 12.c Checken Sie den Typ von \"item price\""
   ]
  },
  {
   "cell_type": "code",
   "execution_count": 47,
   "metadata": {},
   "outputs": [
    {
     "data": {
      "text/plain": [
       "dtype('float64')"
      ]
     },
     "execution_count": 47,
     "metadata": {},
     "output_type": "execute_result"
    }
   ],
   "source": [
    "chipo.item_price.dtype"
   ]
  },
  {
   "cell_type": "markdown",
   "metadata": {},
   "source": [
    "### 13. Wie groß war der Umsatz für den Zeitraum im Datensatz?"
   ]
  },
  {
   "cell_type": "code",
   "execution_count": 48,
   "metadata": {
    "scrolled": true
   },
   "outputs": [
    {
     "data": {
      "text/html": [
       "<div>\n",
       "<style scoped>\n",
       "    .dataframe tbody tr th:only-of-type {\n",
       "        vertical-align: middle;\n",
       "    }\n",
       "\n",
       "    .dataframe tbody tr th {\n",
       "        vertical-align: top;\n",
       "    }\n",
       "\n",
       "    .dataframe thead th {\n",
       "        text-align: right;\n",
       "    }\n",
       "</style>\n",
       "<table border=\"1\" class=\"dataframe\">\n",
       "  <thead>\n",
       "    <tr style=\"text-align: right;\">\n",
       "      <th></th>\n",
       "      <th>Unnamed: 0</th>\n",
       "      <th>order_id</th>\n",
       "      <th>quantity</th>\n",
       "      <th>item_name</th>\n",
       "      <th>choice_description</th>\n",
       "      <th>item_price</th>\n",
       "    </tr>\n",
       "  </thead>\n",
       "  <tbody>\n",
       "    <tr>\n",
       "      <th>0</th>\n",
       "      <td>0</td>\n",
       "      <td>1</td>\n",
       "      <td>1</td>\n",
       "      <td>Chips and Fresh Tomato Salsa</td>\n",
       "      <td>NaN</td>\n",
       "      <td>2.39</td>\n",
       "    </tr>\n",
       "    <tr>\n",
       "      <th>1</th>\n",
       "      <td>1</td>\n",
       "      <td>1</td>\n",
       "      <td>1</td>\n",
       "      <td>Izze</td>\n",
       "      <td>[Clementine]</td>\n",
       "      <td>3.39</td>\n",
       "    </tr>\n",
       "    <tr>\n",
       "      <th>2</th>\n",
       "      <td>2</td>\n",
       "      <td>1</td>\n",
       "      <td>1</td>\n",
       "      <td>Nantucket Nectar</td>\n",
       "      <td>[Apple]</td>\n",
       "      <td>3.39</td>\n",
       "    </tr>\n",
       "    <tr>\n",
       "      <th>3</th>\n",
       "      <td>3</td>\n",
       "      <td>1</td>\n",
       "      <td>1</td>\n",
       "      <td>Chips and Tomatillo-Green Chili Salsa</td>\n",
       "      <td>NaN</td>\n",
       "      <td>2.39</td>\n",
       "    </tr>\n",
       "    <tr>\n",
       "      <th>4</th>\n",
       "      <td>4</td>\n",
       "      <td>2</td>\n",
       "      <td>2</td>\n",
       "      <td>Chicken Bowl</td>\n",
       "      <td>[Tomatillo-Red Chili Salsa (Hot), [Black Beans...</td>\n",
       "      <td>16.98</td>\n",
       "    </tr>\n",
       "  </tbody>\n",
       "</table>\n",
       "</div>"
      ],
      "text/plain": [
       "   Unnamed: 0  order_id  quantity                              item_name  \\\n",
       "0           0         1         1           Chips and Fresh Tomato Salsa   \n",
       "1           1         1         1                                   Izze   \n",
       "2           2         1         1                       Nantucket Nectar   \n",
       "3           3         1         1  Chips and Tomatillo-Green Chili Salsa   \n",
       "4           4         2         2                           Chicken Bowl   \n",
       "\n",
       "                                  choice_description  item_price  \n",
       "0                                                NaN        2.39  \n",
       "1                                       [Clementine]        3.39  \n",
       "2                                            [Apple]        3.39  \n",
       "3                                                NaN        2.39  \n",
       "4  [Tomatillo-Red Chili Salsa (Hot), [Black Beans...       16.98  "
      ]
     },
     "execution_count": 48,
     "metadata": {},
     "output_type": "execute_result"
    }
   ],
   "source": [
    "chipo.head()"
   ]
  },
  {
   "cell_type": "code",
   "execution_count": 51,
   "metadata": {},
   "outputs": [
    {
     "name": "stdout",
     "output_type": "stream",
     "text": [
      "Revenue was: $39237.02\n"
     ]
    }
   ],
   "source": [
    "import numpy as np\n",
    "revenue = (chipo['quantity']* chipo['item_price']).sum()\n",
    "\n",
    "print('Revenue was: $' + str(np.round(revenue,2)))"
   ]
  },
  {
   "cell_type": "markdown",
   "metadata": {},
   "source": [
    "### 15. Wie viele Bestellungen wurden in diesem Zeitraum gemacht?"
   ]
  },
  {
   "cell_type": "code",
   "execution_count": 52,
   "metadata": {},
   "outputs": [
    {
     "data": {
      "text/plain": [
       "1834"
      ]
     },
     "execution_count": 52,
     "metadata": {},
     "output_type": "execute_result"
    }
   ],
   "source": [
    "orders = chipo.order_id.value_counts().count()\n",
    "orders"
   ]
  },
  {
   "cell_type": "markdown",
   "metadata": {},
   "source": [
    "### 16. Was ist der durchschnittliche Gewinn pro Bestellung?"
   ]
  },
  {
   "cell_type": "code",
   "execution_count": 53,
   "metadata": {},
   "outputs": [
    {
     "data": {
      "text/plain": [
       "21.394231188658654"
      ]
     },
     "execution_count": 53,
     "metadata": {},
     "output_type": "execute_result"
    }
   ],
   "source": [
    "# Solution 1\n",
    "\n",
    "chipo['revenue'] = chipo['quantity'] * chipo['item_price']\n",
    "order_grouped = chipo.groupby(by=['order_id']).sum()\n",
    "order_grouped.mean()['revenue']"
   ]
  },
  {
   "cell_type": "code",
   "execution_count": 54,
   "metadata": {},
   "outputs": [
    {
     "data": {
      "text/plain": [
       "21.394231188658654"
      ]
     },
     "execution_count": 54,
     "metadata": {},
     "output_type": "execute_result"
    }
   ],
   "source": [
    "# Solution 2\n",
    "\n",
    "chipo.groupby(by=['order_id']).sum().mean()['revenue']"
   ]
  },
  {
   "cell_type": "markdown",
   "metadata": {},
   "source": [
    "### 17. Wie viele unterschiedliche Objekte wurden verkauft?"
   ]
  },
  {
   "cell_type": "code",
   "execution_count": 55,
   "metadata": {},
   "outputs": [
    {
     "data": {
      "text/plain": [
       "50"
      ]
     },
     "execution_count": 55,
     "metadata": {},
     "output_type": "execute_result"
    }
   ],
   "source": [
    "chipo.item_name.value_counts().count()"
   ]
  }
 ],
 "metadata": {
  "kernelspec": {
   "display_name": "Python 3",
   "language": "python",
   "name": "python3"
  },
  "language_info": {
   "codemirror_mode": {
    "name": "ipython",
    "version": 3
   },
   "file_extension": ".py",
   "mimetype": "text/x-python",
   "name": "python",
   "nbconvert_exporter": "python",
   "pygments_lexer": "ipython3",
   "version": "3.6.8"
  }
 },
 "nbformat": 4,
 "nbformat_minor": 2
}
