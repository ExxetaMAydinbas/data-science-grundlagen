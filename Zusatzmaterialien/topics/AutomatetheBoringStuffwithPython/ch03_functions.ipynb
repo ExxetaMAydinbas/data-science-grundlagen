{
 "cells": [
  {
   "cell_type": "markdown",
   "id": "horizontal-literature",
   "metadata": {},
   "source": [
    "# FUNCTIONS\n",
    "\n",
    "You’re already familiar with the `print()`, `input()`, and `len()` functions from the previous chapters. Python provides several built-in functions like these, but you can also write your own functions. A function is like a miniprogram within a program."
   ]
  },
  {
   "cell_type": "markdown",
   "id": "wrapped-leone",
   "metadata": {},
   "source": [
    "To better understand how functions work, let’s create one."
   ]
  },
  {
   "cell_type": "code",
   "execution_count": 3,
   "id": "peripheral-medline",
   "metadata": {},
   "outputs": [
    {
     "name": "stdout",
     "output_type": "stream",
     "text": [
      "Howdy!\n",
      "Howdy!!!\n",
      "Hello there.\n",
      "Howdy!\n",
      "Howdy!!!\n",
      "Hello there.\n",
      "Howdy!\n",
      "Howdy!!!\n",
      "Hello there.\n"
     ]
    }
   ],
   "source": [
    "def hello():\n",
    "    print('Howdy!')\n",
    "    print('Howdy!!!')\n",
    "    print('Hello there.')\n",
    "\n",
    "hello()\n",
    "hello()\n",
    "hello()"
   ]
  },
  {
   "cell_type": "markdown",
   "id": "figured-classification",
   "metadata": {},
   "source": [
    "The `hello()` lines after the function are **function calls**. In code, a function call is just the function’s name followed by parentheses, possibly with some number of arguments in between the parentheses. When the program execution reaches these calls, it will jump to the top line in the function and begin executing the code there. When it reaches the end of the function, the execution returns to the line that called the function and continues moving through the code as before."
   ]
  },
  {
   "cell_type": "markdown",
   "id": "empirical-wallace",
   "metadata": {},
   "source": [
    "As you get more programming experience, you’ll often find yourself **deduplicating** code, which means getting rid of duplicated or copy-and-pasted code. Deduplication makes your programs shorter, easier to read, and easier to update."
   ]
  },
  {
   "cell_type": "markdown",
   "id": "undefined-confidentiality",
   "metadata": {},
   "source": [
    "## `def` Statements with Parameters"
   ]
  },
  {
   "cell_type": "markdown",
   "id": "threaded-conversion",
   "metadata": {},
   "source": [
    "When you call the `print()` or `len()` function, you pass them values, called arguments, by typing them between the parentheses. You can also define your own functions that accept arguments."
   ]
  },
  {
   "cell_type": "code",
   "execution_count": 5,
   "id": "economic-panic",
   "metadata": {},
   "outputs": [
    {
     "data": {
      "text/plain": [
       "'Hello, Bob'"
      ]
     },
     "execution_count": 5,
     "metadata": {},
     "output_type": "execute_result"
    }
   ],
   "source": [
    "def hello(name):\n",
    "    print('Hello, ' + name)\n",
    "\n",
    "hello('Alice')\n",
    "hello('Bob')"
   ]
  },
  {
   "cell_type": "markdown",
   "id": "furnished-mumbai",
   "metadata": {},
   "source": [
    "The definition of the `hello()` function in this program has a **parameter** called `name`. Parameters are variables that contain arguments. When a function is called with arguments, the arguments are stored in the parameters. The first time the `hello()` function is called, it is passed the argument 'Alice'. The program execution enters the function, and the parameter name is automatically set to 'Alice', which is what gets printed by the `print()` statement.\n",
    "\n",
    "One special thing to note about parameters is that the value stored in a parameter is **forgotten** when the function returns. For example, if you added `print(name)` after `hello('Bob')` in the previous program, the program would give you a `NameError` because there is no variable named `name`. This variable is destroyed after the function call `hello('Bob')` returns, so `print(name)` would refer to a `name` variable that does not exist.\n",
    "\n",
    "This is similar to how a program’s variables are forgotten when the program terminates. I’ll talk more about why that happens later in the chapter, when I discuss what a function’s local scope is."
   ]
  },
  {
   "cell_type": "markdown",
   "id": "breeding-proof",
   "metadata": {
    "tags": []
   },
   "source": [
    "### Define, Call, Pass, Argument, Parameter"
   ]
  },
  {
   "cell_type": "markdown",
   "id": "dirty-health",
   "metadata": {},
   "source": [
    "The terms define, call, pass, argument, and parameter can be confusing. Let’s look at a code example to review these terms:"
   ]
  },
  {
   "cell_type": "code",
   "execution_count": null,
   "id": "dirty-engineering",
   "metadata": {},
   "outputs": [],
   "source": [
    "➊ def sayHello(name):\n",
    "       print('Hello, ' + name)\n",
    "➋ sayHello('Al')"
   ]
  },
  {
   "cell_type": "markdown",
   "id": "velvet-tyler",
   "metadata": {},
   "source": [
    "To *define* a function is to create it, just like an assignment statement like `spam = 42` creates the spam variable. The `def` statement *defines* the `sayHello()` function ➊. The `sayHello('Al')` line ➋ *calls* the now-created function, sending the execution to the top of the function’s code. This function call is also known as passing the string value 'Al' to the function. A value being passed to a function in a function call is an *argument*. The *argument* 'Al' is assigned to a local variable named `name`. Variables that have arguments assigned to them are parameters.\n",
    "\n",
    "It’s easy to mix up these terms, but keeping them straight will ensure that you know precisely what the text in this chapter means."
   ]
  },
  {
   "cell_type": "markdown",
   "id": "decimal-potter",
   "metadata": {},
   "source": [
    "## Return Values and `return` Statements"
   ]
  },
  {
   "cell_type": "markdown",
   "id": "alternate-liabilities",
   "metadata": {},
   "source": [
    "When you call the `len()` function and pass it an argument such as 'Hello', the function call evaluates to the integer value 5, which is the length of the string you passed it. In general, the value that a function call evaluates to is called the *return value* of the function.\n",
    "\n",
    "When creating a function using the `def` statement, you can specify what the return value should be with a `return` statement. A `return` statement consists of the following:\n",
    "\n",
    "- The `return` keyword\n",
    "- The value or expression that the function should return\n",
    "\n",
    "When an expression is used with a return statement, the return value is what this expression evaluates to. For example, the following program defines a function that returns a different string depending on what number it is passed as an argument."
   ]
  },
  {
   "cell_type": "code",
   "execution_count": 32,
   "id": "alert-panama",
   "metadata": {},
   "outputs": [
    {
     "name": "stdout",
     "output_type": "stream",
     "text": [
      "Reply hazy try again\n"
     ]
    }
   ],
   "source": [
    "import random\n",
    "\n",
    "def getAnswer(answerNumber):\n",
    "    #answerNumber = random.randint(1, 9)\n",
    "    if answerNumber == 1:\n",
    "        return 'It is certain'\n",
    "    elif answerNumber == 2:\n",
    "        return 'It is decidedly so'\n",
    "    elif answerNumber == 3:\n",
    "        return 'Yes'\n",
    "    elif answerNumber == 4:\n",
    "        return 'Reply hazy try again'\n",
    "    elif answerNumber == 5:\n",
    "        return 'Ask again later'\n",
    "    elif answerNumber == 6:\n",
    "        return 'Concentrate and ask again'\n",
    "    elif answerNumber == 7:\n",
    "        return 'My reply is no'\n",
    "    elif answerNumber == 8:\n",
    "        return 'Outlook not so good'\n",
    "    elif answerNumber == 9:\n",
    "        return 'Very doubtful'\n",
    "\n",
    "r = random.randint(1, 9)\n",
    "fortune = getAnswer(answerNumber=r)\n",
    "print(fortune)"
   ]
  },
  {
   "cell_type": "markdown",
   "id": "imported-agency",
   "metadata": {},
   "source": [
    "**Exercise**: Change the above program so that the function `getAnswer` no longer requires an argument to return an answer."
   ]
  },
  {
   "cell_type": "markdown",
   "id": "alleged-comedy",
   "metadata": {},
   "source": [
    "Note that since you can pass return values as an argument to another function call, you could shorten these three lines:"
   ]
  },
  {
   "cell_type": "code",
   "execution_count": null,
   "id": "sublime-hypothetical",
   "metadata": {},
   "outputs": [],
   "source": [
    "r = random.randint(1, 9)\n",
    "fortune = getAnswer(r)\n",
    "print(fortune)"
   ]
  },
  {
   "cell_type": "markdown",
   "id": "thirty-decimal",
   "metadata": {},
   "source": [
    "to this single equivalent line:"
   ]
  },
  {
   "cell_type": "code",
   "execution_count": null,
   "id": "breeding-signature",
   "metadata": {},
   "outputs": [],
   "source": [
    "print(getAnswer(random.randint(1, 9)))"
   ]
  },
  {
   "cell_type": "markdown",
   "id": "consolidated-frequency",
   "metadata": {},
   "source": [
    "## The `None` Value"
   ]
  },
  {
   "cell_type": "markdown",
   "id": "searching-priority",
   "metadata": {},
   "source": [
    "In Python, there is a value called `None`, which represents the absence of a value. The `None` value is the only value of the `NoneType` data type. (Other programming languages might call this value null, nil, or undefined.) Just like the Boolean `True` and `False` values, `None` must be typed with a capital N.\n",
    "\n",
    "This value-without-a-value can be helpful when you need to store something that won’t be confused for a real value in a variable. One place where `None` is used is as the return value of `print()`. The `print()` function displays text on the screen, but it doesn’t need to return anything in the same way `len()` or `input()` does. But since all function calls need to evaluate to a return value, `print()` returns `None`. To see this in action, enter the following:"
   ]
  },
  {
   "cell_type": "code",
   "execution_count": 41,
   "id": "adjustable-medline",
   "metadata": {},
   "outputs": [
    {
     "name": "stdout",
     "output_type": "stream",
     "text": [
      "Hello!\n"
     ]
    }
   ],
   "source": [
    "spam = print(\"Hello!\")\n",
    "\n",
    "assert spam is None"
   ]
  },
  {
   "cell_type": "markdown",
   "id": "elegant-belgium",
   "metadata": {},
   "source": [
    "Behind the scenes, Python adds `return None` to the end of any function definition with no return statement. This is similar to how a `while` or `for` loop implicitly ends with a `continue` statement. Also, if you use a `return` statement without a value (that is, just the return keyword by itself), then `None` is returned."
   ]
  },
  {
   "cell_type": "code",
   "execution_count": 42,
   "id": "spanish-investor",
   "metadata": {},
   "outputs": [],
   "source": [
    "def f(x):\n",
    "    x + 2\n",
    "    \n",
    "def g():\n",
    "    return\n",
    "    \n",
    "assert f(2) == None\n",
    "assert g() == None"
   ]
  },
  {
   "cell_type": "code",
   "execution_count": null,
   "id": "thousand-hazard",
   "metadata": {},
   "outputs": [],
   "source": [
    "f(2) is None"
   ]
  },
  {
   "cell_type": "markdown",
   "id": "local-mathematics",
   "metadata": {},
   "source": [
    "## Keyword Arguments and the `print()` Function"
   ]
  },
  {
   "cell_type": "markdown",
   "id": "yellow-associate",
   "metadata": {},
   "source": [
    "Most arguments are identified by their *position* in the function call. For example, `random.randint(1, 10)` is different from `random.randint(10, 1)`. The function call `random.randint(1, 10)` will return a random integer between 1 and 10 because the first argument is the low end of the range and the second argument is the high end (while `random.randint(10, 1)` causes an error)."
   ]
  },
  {
   "cell_type": "markdown",
   "id": "adolescent-organization",
   "metadata": {},
   "source": [
    "However, rather than through their position, **keyword arguments** are identified by the keyword put before them in the function call. Keyword arguments are often used for *optional parameters*. For example, the `print()` function has the optional parameters `end` and `sep` to specify what should be printed at the end of its arguments and between its arguments (separating them), respectively.\n",
    "\n",
    "If you ran a program with the following code:"
   ]
  },
  {
   "cell_type": "code",
   "execution_count": null,
   "id": "occupational-rough",
   "metadata": {},
   "outputs": [],
   "source": [
    "print('Hello')\n",
    "print('World')"
   ]
  },
  {
   "cell_type": "code",
   "execution_count": 44,
   "id": "invalid-courage",
   "metadata": {},
   "outputs": [
    {
     "name": "stdout",
     "output_type": "stream",
     "text": [
      "Hello World\n"
     ]
    }
   ],
   "source": [
    "print('Hello', end=' ')\n",
    "print('World')"
   ]
  },
  {
   "cell_type": "markdown",
   "id": "junior-container",
   "metadata": {},
   "source": [
    "he output is printed on a single line because there is no longer a newline printed after 'Hello'. Instead, the blank string is printed. This is useful if you need to disable the newline that gets added to the end of every `print()` function call.\n",
    "\n",
    "Similarly, when you pass multiple string values to `print()`, the function will automatically separate them with a single space."
   ]
  },
  {
   "cell_type": "code",
   "execution_count": null,
   "id": "aerial-range",
   "metadata": {},
   "outputs": [],
   "source": [
    "print('cats', 'dogs', 'mice')"
   ]
  },
  {
   "cell_type": "code",
   "execution_count": 45,
   "id": "painted-escape",
   "metadata": {},
   "outputs": [
    {
     "name": "stdout",
     "output_type": "stream",
     "text": [
      "cats,dogs,mice\n"
     ]
    }
   ],
   "source": [
    "print('cats', 'dogs', 'mice', sep=',')"
   ]
  },
  {
   "cell_type": "markdown",
   "id": "short-suggestion",
   "metadata": {},
   "source": [
    "## The Call Stack"
   ]
  },
  {
   "cell_type": "markdown",
   "id": "personalized-fiction",
   "metadata": {},
   "source": [
    "Imagine that you have a meandering conversation with someone. You talk about your friend Alice, which then reminds you of a story about your coworker Bob, but first you have to explain something about your cousin Carol. You finish you story about Carol and go back to talking about Bob, and when you finish your story about Bob, you go back to talking about Alice. But then you are reminded about your brother David, so you tell a story about him, and then get back to finishing your original story about Alice. Your conversation followed a **stack-like structure**, like in Figure 3-1. The conversation is stack-like because the c*urrent topic is always at the top of the stack*.\n",
    "\n",
    "![](https://automatetheboringstuff.com/2e/images/000109.jpg)"
   ]
  },
  {
   "cell_type": "code",
   "execution_count": 48,
   "id": "activated-shareware",
   "metadata": {},
   "outputs": [
    {
     "name": "stdout",
     "output_type": "stream",
     "text": [
      "a() starts\n",
      "b() starts\n",
      "c() starts\n",
      "c() returns\n",
      "b() returns\n",
      "d() starts\n",
      "d() returns\n",
      "a() returns\n"
     ]
    }
   ],
   "source": [
    "def a():\n",
    "    print('a() starts')\n",
    "    b()\n",
    "    d()\n",
    "    print('a() returns')\n",
    "\n",
    "def b():\n",
    "    print('b() starts')\n",
    "    c()\n",
    "    print('b() returns')\n",
    "\n",
    "def c():\n",
    "    print('c() starts')\n",
    "    print('c() returns')\n",
    "\n",
    "def d():\n",
    "   print('d() starts')\n",
    "   print('d() returns')\n",
    "\n",
    "a()"
   ]
  },
  {
   "cell_type": "markdown",
   "id": "sorted-mount",
   "metadata": {},
   "source": [
    "The **call stack** is how Python remembers where to return the execution after each function call. The call stack isn’t stored in a variable in your program; rather, Python handles it behind the scenes. When your program calls a function, Python creates a **frame object** on the top of the call stack. Frame objects *store the line number* of the original function call so that Python can remember where to return. If another function call is made, Python puts another frame object on the call stack above the other one.\n",
    "\n",
    "When a function call returns, Python removes a frame object from the top of the stack and moves the execution to the line number stored in it. "
   ]
  },
  {
   "cell_type": "markdown",
   "id": "genetic-employer",
   "metadata": {},
   "source": [
    "## Local and Global Scope"
   ]
  },
  {
   "cell_type": "markdown",
   "id": "hydraulic-publicity",
   "metadata": {},
   "source": [
    "Parameters and variables that are assigned in a called function are said to exist in that function’s **local scope**. Variables that are assigned outside all functions are said to exist in the **global scope**. A variable that exists in a local scope is called a **local variable**, while a variable that exists in the global scope is called a **global variable**. A variable must be one or the other; it cannot be both local and global.\n",
    "\n",
    "Think of a *scope as a container for variables*. When a scope is destroyed, *all the values stored in the scope’s variables are forgotten*. There is only one global scope, and it is created when your program begins. When your program terminates, the *global scope is destroyed*, and all its variables are forgotten. Otherwise, the next time you ran a program, the variables would remember their values from the last time you ran it.\n",
    "\n",
    "A local scope is created whenever a function is *called*. Any variables assigned in the function exist within the function’s local scope. *When the function returns, the local scope is destroyed, and these variables are forgotten*. The next time you call the function, the local variables will not remember the values stored in them from the last time the function was called. Local variables are also stored in frame objects on the call stack.\n",
    "\n",
    "Scopes matter for several reasons:\n",
    "\n",
    "- Code in the global scope, outside of all functions, cannot use any local variables.\n",
    "- However, code in a local scope can access global variables.\n",
    "- Code in a function’s local scope cannot use variables in any other local scope.\n",
    "- You can use the same name for different variables if they are in different scopes. That is, there can be a local variable named spam and a global variable also named spam.\n"
   ]
  },
  {
   "cell_type": "markdown",
   "id": "charged-barbados",
   "metadata": {},
   "source": [
    "### Local Variables Cannot Be Used in the Global Scope"
   ]
  },
  {
   "cell_type": "code",
   "execution_count": 49,
   "id": "interested-landscape",
   "metadata": {},
   "outputs": [
    {
     "ename": "NameError",
     "evalue": "name 'eggs' is not defined",
     "output_type": "error",
     "traceback": [
      "\u001b[0;31m---------------------------------------------------------------------------\u001b[0m",
      "\u001b[0;31mNameError\u001b[0m                                 Traceback (most recent call last)",
      "\u001b[0;32m<ipython-input-49-5d5d7146e63d>\u001b[0m in \u001b[0;36m<module>\u001b[0;34m\u001b[0m\n\u001b[1;32m      3\u001b[0m \u001b[0;34m\u001b[0m\u001b[0m\n\u001b[1;32m      4\u001b[0m \u001b[0mspam\u001b[0m\u001b[0;34m(\u001b[0m\u001b[0;34m)\u001b[0m\u001b[0;34m\u001b[0m\u001b[0;34m\u001b[0m\u001b[0m\n\u001b[0;32m----> 5\u001b[0;31m \u001b[0mprint\u001b[0m\u001b[0;34m(\u001b[0m\u001b[0meggs\u001b[0m\u001b[0;34m)\u001b[0m\u001b[0;34m\u001b[0m\u001b[0;34m\u001b[0m\u001b[0m\n\u001b[0m",
      "\u001b[0;31mNameError\u001b[0m: name 'eggs' is not defined"
     ]
    }
   ],
   "source": [
    "def spam():\n",
    "    eggs = 31337\n",
    "    \n",
    "spam()\n",
    "print(eggs)"
   ]
  },
  {
   "cell_type": "markdown",
   "id": "plastic-sigma",
   "metadata": {},
   "source": [
    "The error happens because the eggs variable exists only in the *local scope* created when `spam()` is called. Once the program execution returns from spam, that *local scope is destroyed*, and there is no longer a variable named eggs. So when your program tries to run `print(eggs)`, Python gives you an error saying that `eggs` is not defined. This makes sense if you think about it; when the program execution is in the global scope, no local scopes exist, so there can’t be any local variables. This is why only global variables can be used in the global scope."
   ]
  },
  {
   "cell_type": "markdown",
   "id": "supported-broadcasting",
   "metadata": {},
   "source": [
    "### Local Scopes Cannot Use Variables in Other Local Scopes"
   ]
  },
  {
   "cell_type": "markdown",
   "id": "fifteen-bacon",
   "metadata": {},
   "source": [
    "A new local scope is created whenever a function is called, including when a function is called from another function. Consider this program:"
   ]
  },
  {
   "cell_type": "code",
   "execution_count": 50,
   "id": "bored-burlington",
   "metadata": {},
   "outputs": [
    {
     "name": "stdout",
     "output_type": "stream",
     "text": [
      "99\n"
     ]
    }
   ],
   "source": [
    "def spam():\n",
    "    eggs = 99\n",
    "    bacon()\n",
    "    print(eggs)\n",
    "\n",
    "def bacon():\n",
    "    ham = 101\n",
    "    eggs = 0\n",
    "\n",
    "spam()"
   ]
  },
  {
   "cell_type": "markdown",
   "id": "general-sharp",
   "metadata": {},
   "source": [
    "When the program starts, the `spam()` function is called, and a local scope is created. The local variable `eggs` is set to 99. Then the `bacon()` function is called, and a *second local scope is created*. Multiple local scopes can exist at the same time. In this new local scope, the local variable `ham` is set to 101, and a local variable `eggs`—*which is different from the one in `spam()`’s local scope*—is also created and set to 0.\n",
    "When `bacon()` returns, the local scope for that call is *destroyed*, including its `eggs` variable. The program execution continues in the `spam()` function to print the value of `eggs`. Since the local scope for the call to `spam()` still exists, the only `eggs` variable is the `spam()` function’s `eggs` variable, which was set to 99. This is what the program prints."
   ]
  },
  {
   "cell_type": "markdown",
   "id": "foster-knife",
   "metadata": {},
   "source": [
    "### Global Variables Can Be Read from a Local Scope"
   ]
  },
  {
   "cell_type": "code",
   "execution_count": 51,
   "id": "labeled-honolulu",
   "metadata": {},
   "outputs": [
    {
     "name": "stdout",
     "output_type": "stream",
     "text": [
      "42\n",
      "42\n"
     ]
    }
   ],
   "source": [
    "def spam():\n",
    "    print(eggs)\n",
    "    \n",
    "eggs = 42\n",
    "spam()\n",
    "print(eggs)"
   ]
  },
  {
   "cell_type": "markdown",
   "id": "fatal-central",
   "metadata": {},
   "source": [
    "Since there is no parameter named `eggs` or any code that assigns `eggs` a value in the `spam()` function, when eggs is used in spam(), Python considers it a reference to the global variable eggs. This is why 42 is printed when the previous program is run."
   ]
  },
  {
   "cell_type": "markdown",
   "id": "accepted-particular",
   "metadata": {},
   "source": [
    "### Local and Global Variables with the Same Name"
   ]
  },
  {
   "cell_type": "markdown",
   "id": "driving-consensus",
   "metadata": {},
   "source": [
    "Technically, it’s perfectly acceptable to use the same variable name for a global variable and local variables in different scopes in Python. But, to simplify your life, avoid doing this. To see what happens, enter the following code:"
   ]
  },
  {
   "cell_type": "code",
   "execution_count": 52,
   "id": "beautiful-shift",
   "metadata": {},
   "outputs": [
    {
     "name": "stdout",
     "output_type": "stream",
     "text": [
      "bacon local\n",
      "spam local\n",
      "bacon local\n",
      "global\n"
     ]
    }
   ],
   "source": [
    "def spam():\n",
    "    eggs = 'spam local'\n",
    "    print(eggs)    # prints 'spam local'\n",
    "\n",
    "def bacon():\n",
    "    eggs = 'bacon local'\n",
    "    print(eggs)    # prints 'bacon local'\n",
    "    spam()\n",
    "    print(eggs)    # prints 'bacon local'\n",
    "\n",
    "eggs = 'global'\n",
    "bacon()\n",
    "print(eggs)        # prints 'global'"
   ]
  },
  {
   "cell_type": "markdown",
   "id": "stable-brook",
   "metadata": {},
   "source": [
    "There are actually three different variables in this program, but confusingly they are all named `eggs`. The variables are as follows:\n",
    "\n",
    "- A variable named `eggs` that exists in a local scope when `spam()` is called.\n",
    "- A variable named `eggs` that exists in a local scope when `bacon()` is called.\n",
    "- A variable named `eggs` that exists in the global scope."
   ]
  },
  {
   "cell_type": "markdown",
   "id": "mediterranean-french",
   "metadata": {},
   "source": [
    "## The global Statement"
   ]
  },
  {
   "cell_type": "markdown",
   "id": "blond-victorian",
   "metadata": {},
   "source": [
    "If you need to modify a global variable from within a function, use the `global` statement. If you have a line such as `global eggs` at the top of a function, it tells Python, “In this function, `eggs` refers to the global variable, so don’t create a local variable with this name.” For example, enter the following code:"
   ]
  },
  {
   "cell_type": "code",
   "execution_count": 54,
   "id": "distinct-government",
   "metadata": {},
   "outputs": [
    {
     "name": "stdout",
     "output_type": "stream",
     "text": [
      "spam\n"
     ]
    }
   ],
   "source": [
    "def spam():\n",
    "  global eggs\n",
    "  eggs = 'spam'\n",
    "\n",
    "eggs = 'global'\n",
    "spam()\n",
    "print(eggs)"
   ]
  },
  {
   "cell_type": "markdown",
   "id": "coastal-helena",
   "metadata": {},
   "source": [
    "Because `eggs` is declared global at the top of `spam()`, when `eggs` is set to 'spam', this assignment is done to the *globally scoped* `eggs`. No local `eggs` variable is created.\n",
    "\n",
    "There are four rules to tell whether a variable is in a local scope or global scope:\n",
    "\n",
    "- If a variable is being used in the global scope (that is, outside of all functions), then it is always a global variable.\n",
    "- If there is a global statement for that variable in a function, it is a global variable.\n",
    "- Otherwise, if the variable is used in an assignment statement in the function, it is a local variable.\n",
    "- But if the variable is not used in an assignment statement, it is a global variable.\n"
   ]
  },
  {
   "cell_type": "markdown",
   "id": "intense-allowance",
   "metadata": {},
   "source": [
    "To get a better feel for these rules, here’s an example program. Enter the following code:"
   ]
  },
  {
   "cell_type": "code",
   "execution_count": null,
   "id": "funded-hampshire",
   "metadata": {},
   "outputs": [],
   "source": [
    "def spam():\n",
    "    global eggs\n",
    "    eggs = 'spam' # this is the global\n",
    "\n",
    "def bacon():\n",
    "    eggs = 'bacon' # this is a local\n",
    "\n",
    "def ham():\n",
    "    print(eggs) # this is the global\n",
    "\n",
    "eggs = 42 # this is the global\n",
    "spam()\n",
    "print(eggs)"
   ]
  },
  {
   "cell_type": "markdown",
   "id": "9ff801e7-05e6-4c0a-b869-189cd9fafdb3",
   "metadata": {},
   "source": [
    "If you try to use a local variable in a function before you assign a value to it, as in the following program, Python will give you an error. To see this, enter the following:"
   ]
  },
  {
   "cell_type": "code",
   "execution_count": null,
   "id": "planned-angel",
   "metadata": {},
   "outputs": [],
   "source": [
    "def spam():\n",
    "    print(eggs) # ERROR! -> normally fine, but the next line makes eggs a local variable!\n",
    "    eggs = 'spam local'\n",
    "\n",
    "eggs = 'global'\n",
    "spam()"
   ]
  },
  {
   "cell_type": "markdown",
   "id": "valid-works",
   "metadata": {},
   "source": [
    "## Exception Handling"
   ]
  },
  {
   "cell_type": "markdown",
   "id": "metropolitan-procurement",
   "metadata": {},
   "source": [
    "Right now, getting an error, or **exception**, in your Python program means the entire program will crash. You don’t want this to happen in real-world programs. Instead, you want the program to *detect errors*, handle them, and then continue to run.\n",
    "\n",
    "For example, consider the following program, which has a divide-by-zero error."
   ]
  },
  {
   "cell_type": "code",
   "execution_count": null,
   "id": "uniform-morris",
   "metadata": {},
   "outputs": [],
   "source": [
    "def spam(divideBy):\n",
    "    return 42 / divideBy\n",
    "\n",
    "print(spam(2))\n",
    "print(spam(12))\n",
    "print(spam(0))\n",
    "print(spam(1))"
   ]
  },
  {
   "cell_type": "markdown",
   "id": "offshore-recycling",
   "metadata": {},
   "source": [
    "Errors can be handled with `try` and `except` statements. The code that could potentially have an error is put in a `try` clause. The program execution moves to the start of a following `except` clause if an error happens.\n",
    "\n",
    "You can put the previous divide-by-zero code in a `try` clause and have an `except` clause contain code to handle what happens when this error occurs. When code in a try clause causes an error, the program execution immediately moves to the code in the except clause. After running that code, the execution continues as normal. \n"
   ]
  },
  {
   "cell_type": "code",
   "execution_count": 61,
   "id": "temporal-heading",
   "metadata": {},
   "outputs": [
    {
     "name": "stdout",
     "output_type": "stream",
     "text": [
      "21.0\n",
      "3.5\n",
      "['__cause__', '__class__', '__context__', '__delattr__', '__dict__', '__dir__', '__doc__', '__eq__', '__format__', '__ge__', '__getattribute__', '__gt__', '__hash__', '__init__', '__init_subclass__', '__le__', '__lt__', '__ne__', '__new__', '__reduce__', '__reduce_ex__', '__repr__', '__setattr__', '__setstate__', '__sizeof__', '__str__', '__subclasshook__', '__suppress_context__', '__traceback__', 'args', 'with_traceback']\n",
      "Error: Invalid argument.\n",
      "None\n",
      "42.0\n"
     ]
    }
   ],
   "source": [
    "def spam(divideBy):\n",
    "    try:\n",
    "        return 42 / divideBy\n",
    "    except ZeroDivisionError as err:\n",
    "        print('Error: Invalid argument.')\n",
    "\n",
    "print(spam(2))\n",
    "print(spam(12))\n",
    "print(spam(0))\n",
    "print(spam(1))"
   ]
  },
  {
   "cell_type": "markdown",
   "id": "62e1bca0-9626-439b-9c3a-5fe5cd73aa58",
   "metadata": {},
   "source": [
    "Note that any errors that occur in function calls in a try block will also be caught. Consider the following program, which instead has the spam() calls in the try block:"
   ]
  },
  {
   "cell_type": "code",
   "execution_count": 62,
   "id": "607c087b-4402-4376-96a1-298b26f758af",
   "metadata": {},
   "outputs": [
    {
     "name": "stdout",
     "output_type": "stream",
     "text": [
      "21.0\n",
      "3.5\n",
      "Error: Invalid argument.\n"
     ]
    }
   ],
   "source": [
    "def spam(divideBy):\n",
    "    return 42 / divideBy\n",
    "\n",
    "try:\n",
    "    print(spam(2))\n",
    "    print(spam(12))\n",
    "    print(spam(0))\n",
    "    print(spam(1))\n",
    "except ZeroDivisionError:\n",
    "    print('Error: Invalid argument.')"
   ]
  },
  {
   "cell_type": "code",
   "execution_count": 78,
   "id": "26aef13c-fc7b-4390-8a86-3cae28f64a17",
   "metadata": {},
   "outputs": [
    {
     "name": "stdout",
     "output_type": "stream",
     "text": [
      "1 2 3 s\n"
     ]
    }
   ],
   "source": [
    "def myprint(*args, sep=\" \"):\n",
    "    s = str(args[0])\n",
    "    for x in args[1:]:\n",
    "        s += sep + str(x)\n",
    "    print(s)\n",
    "    \n",
    "myprint(1,2,3,\"s\")"
   ]
  },
  {
   "cell_type": "code",
   "execution_count": 79,
   "id": "99a7a99b-8ab2-45f9-b9cc-3a4fb161f146",
   "metadata": {},
   "outputs": [
    {
     "name": "stdout",
     "output_type": "stream",
     "text": [
      "<class 'dict'>\n",
      "a 1\n",
      "b 2\n",
      "c 3\n"
     ]
    }
   ],
   "source": [
    "def myprint(**kwargs):\n",
    "    print(type(kwargs))\n",
    "    for k,v in kwargs.items():\n",
    "        print(k,v)\n",
    "        \n",
    "myprint(a=1, b=2, c=3)"
   ]
  },
  {
   "cell_type": "code",
   "execution_count": 69,
   "id": "6e2eb17b-c121-46c8-a463-490dd66d794e",
   "metadata": {},
   "outputs": [
    {
     "name": "stdout",
     "output_type": "stream",
     "text": [
      "sprint-beliebig-viele\n"
     ]
    }
   ],
   "source": [
    "print(\"sprint\", \"beliebig\", \"viele\", sep=\"-\")"
   ]
  },
  {
   "cell_type": "markdown",
   "id": "cb0d277a-bd88-47c2-8ba0-099e7cc9f82f",
   "metadata": {
    "jp-MarkdownHeadingCollapsed": true,
    "tags": []
   },
   "source": [
    "## Summary\n",
    "\n",
    "**Functions** are the primary way to compartmentalize your code into logical groups. Since the variables in functions exist in their own local **scopes**, the code in one function cannot directly affect the values of variables in other functions. This limits what code could be changing the values of your variables, which can be helpful when it comes to debugging your code.\n",
    "\n",
    "Functions are a great tool to help you organize your code. You can think of them as black boxes: they have inputs in the form of parameters and outputs in the form of **return values**, and the code in them doesn’t affect variables in other functions.\n",
    "\n",
    "In previous chapters, a single error could cause your programs to crash. In this chapter, you learned about `try` and `except` statements, which can run code when an error has been detected. This can make your programs more resilient to common error cases."
   ]
  },
  {
   "cell_type": "markdown",
   "id": "ec1d3b16-f5e3-4400-8479-76bc035f4bde",
   "metadata": {
    "tags": []
   },
   "source": [
    "## Practice Questions\n",
    "\n",
    "1. Why are functions advantageous to have in your programs?\n",
    "\n",
    "2. When does the code in a function execute: when the function is defined or when the function is called?\n",
    "\n",
    "3. What statement creates a function?\n",
    "\n",
    "4. What is the difference between a function and a function call?\n",
    "\n",
    "5. How many global scopes are there in a Python program? How many local scopes?\n",
    "\n",
    "6. What happens to variables in a local scope when the function call returns?\n",
    "\n",
    "7. What is a return value? Can a return value be part of an expression?\n",
    "\n",
    "8. If a function does not have a `return` statement, what is the return value of a call to that function?\n",
    "\n",
    "9. How can you force a variable in a function to refer to the global variable?\n",
    "\n",
    "10. What is the data type of `None`?\n",
    "\n",
    "11. What does the `import areallyourpetsnamederic` statement do?\n",
    "\n",
    "12. If you had a function named `bacon()` in a module named `spam`, how would you call it after importing spam?\n",
    "\n",
    "13. How can you prevent a program from crashing when it gets an error?\n",
    "\n",
    "14. What goes in the `try` clause? What goes in the `except` clause?"
   ]
  },
  {
   "cell_type": "code",
   "execution_count": 85,
   "id": "8b0c5ab5-9226-45b6-b166-9794fbc4ee18",
   "metadata": {},
   "outputs": [
    {
     "data": {
      "text/plain": [
       "[0, 1, 4, 9, 16, 25, 36, 49, 64, 81]"
      ]
     },
     "execution_count": 85,
     "metadata": {},
     "output_type": "execute_result"
    }
   ],
   "source": [
    "def f(numbers):\n",
    "    return [x**2 for x in numbers]\n",
    "\n",
    "f(range(10))"
   ]
  },
  {
   "cell_type": "markdown",
   "id": "3ff971f1-0999-453e-8ff6-b36edc25560f",
   "metadata": {
    "tags": []
   },
   "source": [
    "## A Short Program: Zigzag\n",
    "\n",
    "Let’s use the programming concepts you’ve learned so far to create a small animation program. This program will create a back-and-forth, zigzag pattern until the user stops it by pressing the Mu editor’s Stop button or by pressing CTRL-C. When you run this program, the output will look something like this:\n",
    "\n",
    "```\n",
    "    ********\n",
    "   ********\n",
    "  ********\n",
    " ********\n",
    "********\n",
    " ********\n",
    "  ********\n",
    "   ********\n",
    "    ********\n",
    "```"
   ]
  },
  {
   "cell_type": "code",
   "execution_count": null,
   "id": "95968677-decc-4ce6-ad9f-4f5094249e7d",
   "metadata": {
    "tags": []
   },
   "outputs": [],
   "source": [
    "%run zigzag.py"
   ]
  },
  {
   "cell_type": "markdown",
   "id": "8ecf21b6-29cb-4c70-b55c-c693fdb50add",
   "metadata": {},
   "source": [
    "## Practice Projects\n",
    "\n",
    "For practice, write programs to do the following tasks."
   ]
  },
  {
   "cell_type": "markdown",
   "id": "408237de-eae8-4587-b489-7fe4baffcd1d",
   "metadata": {},
   "source": [
    "### The Collatz Sequence\n",
    "\n",
    "Write a function named `collatz()` that has one parameter named `number`. If `number` is even, then `collatz()` should print `number // 2` and return this value. If number is odd, then `collatz()` should print and return `3 * number + 1`.\n",
    "\n",
    "Then write a program that lets the user type in an integer and that keeps calling `collatz()` on that number until the function returns the value 1. (Amazingly enough, this sequence actually works for any integer—sooner or later, using this sequence, you’ll arrive at 1! Even mathematicians aren’t sure why. Your program is exploring what’s called the **Collatz sequence**, sometimes called “the simplest impossible math problem.”)\n",
    "\n",
    "Remember to convert the return value from `input()` to an integer with the `int()` function; otherwise, it will be a string value.\n",
    "\n",
    "Hint: An integer number is even if `number % 2 == 0`, and it’s odd if `number % 2 == 1`.\n",
    "\n",
    "The output of this program could look something like this:\n",
    "\n",
    "```\n",
    "Enter number:\n",
    "3\n",
    "10\n",
    "5\n",
    "16\n",
    "8\n",
    "4\n",
    "2\n",
    "1\n",
    "```"
   ]
  },
  {
   "cell_type": "code",
   "execution_count": 104,
   "id": "cdc1b43a-7313-4949-9737-a8fd7edbf4cd",
   "metadata": {},
   "outputs": [
    {
     "name": "stdin",
     "output_type": "stream",
     "text": [
      "Please enter the start number 3\n"
     ]
    },
    {
     "name": "stdout",
     "output_type": "stream",
     "text": [
      "3\n",
      "10\n",
      "5\n",
      "16\n",
      "8\n",
      "4\n",
      "2\n",
      "1\n"
     ]
    }
   ],
   "source": [
    "def collatz(number):\n",
    "    print(number)\n",
    "    if number == 1:\n",
    "        return number\n",
    "    \n",
    "    collatz(number // 2 if number % 2 == 0 else number * 3 + 1)\n",
    "\n",
    "number = int(input(\"Please enter the start number\"))\n",
    "collatz(number)"
   ]
  },
  {
   "cell_type": "code",
   "execution_count": 102,
   "id": "3fade6e7-3394-475d-98fe-01df8a966a28",
   "metadata": {},
   "outputs": [
    {
     "ename": "RecursionError",
     "evalue": "maximum recursion depth exceeded",
     "output_type": "error",
     "traceback": [
      "\u001b[0;31m---------------------------------------------------------------------------\u001b[0m",
      "\u001b[0;31mRecursionError\u001b[0m                            Traceback (most recent call last)",
      "\u001b[0;32m<ipython-input-102-2c7adf8fe907>\u001b[0m in \u001b[0;36m<module>\u001b[0;34m\u001b[0m\n\u001b[1;32m      2\u001b[0m     \u001b[0mf\u001b[0m\u001b[0;34m(\u001b[0m\u001b[0;34m)\u001b[0m\u001b[0;34m\u001b[0m\u001b[0;34m\u001b[0m\u001b[0m\n\u001b[1;32m      3\u001b[0m \u001b[0;34m\u001b[0m\u001b[0m\n\u001b[0;32m----> 4\u001b[0;31m \u001b[0mf\u001b[0m\u001b[0;34m(\u001b[0m\u001b[0;34m)\u001b[0m\u001b[0;34m\u001b[0m\u001b[0;34m\u001b[0m\u001b[0m\n\u001b[0m",
      "\u001b[0;32m<ipython-input-102-2c7adf8fe907>\u001b[0m in \u001b[0;36mf\u001b[0;34m()\u001b[0m\n\u001b[1;32m      1\u001b[0m \u001b[0;32mdef\u001b[0m \u001b[0mf\u001b[0m\u001b[0;34m(\u001b[0m\u001b[0;34m)\u001b[0m\u001b[0;34m:\u001b[0m\u001b[0;34m\u001b[0m\u001b[0;34m\u001b[0m\u001b[0m\n\u001b[0;32m----> 2\u001b[0;31m     \u001b[0mf\u001b[0m\u001b[0;34m(\u001b[0m\u001b[0;34m)\u001b[0m\u001b[0;34m\u001b[0m\u001b[0;34m\u001b[0m\u001b[0m\n\u001b[0m\u001b[1;32m      3\u001b[0m \u001b[0;34m\u001b[0m\u001b[0m\n\u001b[1;32m      4\u001b[0m \u001b[0mf\u001b[0m\u001b[0;34m(\u001b[0m\u001b[0;34m)\u001b[0m\u001b[0;34m\u001b[0m\u001b[0;34m\u001b[0m\u001b[0m\n",
      "... last 1 frames repeated, from the frame below ...\n",
      "\u001b[0;32m<ipython-input-102-2c7adf8fe907>\u001b[0m in \u001b[0;36mf\u001b[0;34m()\u001b[0m\n\u001b[1;32m      1\u001b[0m \u001b[0;32mdef\u001b[0m \u001b[0mf\u001b[0m\u001b[0;34m(\u001b[0m\u001b[0;34m)\u001b[0m\u001b[0;34m:\u001b[0m\u001b[0;34m\u001b[0m\u001b[0;34m\u001b[0m\u001b[0m\n\u001b[0;32m----> 2\u001b[0;31m     \u001b[0mf\u001b[0m\u001b[0;34m(\u001b[0m\u001b[0;34m)\u001b[0m\u001b[0;34m\u001b[0m\u001b[0;34m\u001b[0m\u001b[0m\n\u001b[0m\u001b[1;32m      3\u001b[0m \u001b[0;34m\u001b[0m\u001b[0m\n\u001b[1;32m      4\u001b[0m \u001b[0mf\u001b[0m\u001b[0;34m(\u001b[0m\u001b[0;34m)\u001b[0m\u001b[0;34m\u001b[0m\u001b[0;34m\u001b[0m\u001b[0m\n",
      "\u001b[0;31mRecursionError\u001b[0m: maximum recursion depth exceeded"
     ]
    }
   ],
   "source": [
    "def f():\n",
    "    f()"
   ]
  },
  {
   "cell_type": "markdown",
   "id": "96037d78-2faf-4bd4-9e8f-480a11d06966",
   "metadata": {},
   "source": [
    "### Input Validation\n",
    "\n",
    "Add `try` and `except` statements to the previous project to detect whether the user types in a noninteger string. Normally, the `int()` function will raise a `ValueError` error if it is passed a noninteger string, as in `int('puppy')`. In the `except` clause, print a message to the user saying they must enter an integer."
   ]
  },
  {
   "cell_type": "code",
   "execution_count": null,
   "id": "b7f199b3-c2a5-40e2-9a4d-22e89ab74aea",
   "metadata": {},
   "outputs": [],
   "source": []
  }
 ],
 "metadata": {
  "kernelspec": {
   "display_name": "base",
   "language": "python",
   "name": "base"
  },
  "language_info": {
   "codemirror_mode": {
    "name": "ipython",
    "version": 3
   },
   "file_extension": ".py",
   "mimetype": "text/x-python",
   "name": "python",
   "nbconvert_exporter": "python",
   "pygments_lexer": "ipython3",
   "version": "3.8.12"
  }
 },
 "nbformat": 4,
 "nbformat_minor": 5
}
