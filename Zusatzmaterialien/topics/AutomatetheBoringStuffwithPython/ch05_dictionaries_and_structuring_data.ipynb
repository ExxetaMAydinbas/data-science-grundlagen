{
 "cells": [
  {
   "cell_type": "markdown",
   "id": "6c98514c-c2cf-45e9-8346-7a388a0808d8",
   "metadata": {},
   "source": [
    "# DICTIONARIES AND STRUCTURING DATA\n",
    "\n",
    "In this chapter, I will cover the `dictionary` data type, which provides a flexible way to access and organize data. Then, combining dictionaries with your knowledge of lists from the previous chapter, you’ll learn how to create a data structure to model a tic-tac-toe board."
   ]
  },
  {
   "cell_type": "markdown",
   "id": "514206bc-5069-4639-8241-930af31a9e83",
   "metadata": {},
   "source": [
    "## The Dictionary Data Type"
   ]
  },
  {
   "cell_type": "markdown",
   "id": "43d952bf-1009-4eeb-9318-8c0881450526",
   "metadata": {},
   "source": [
    "Like a list, a `dictionary` is a **mutable collection** of many values. But unlike indexes for lists, indexes for dictionaries can use many different data types, not just integers. Indexes for dictionaries are called **keys**, and a key with its associated **value** is called a **key-value pair**.\n",
    "\n",
    "In code, a `dictionary` is typed with braces, `{}`:"
   ]
  },
  {
   "cell_type": "code",
   "execution_count": 5,
   "id": "5476584f-cc1f-48df-82f5-4a5f1ef374d2",
   "metadata": {},
   "outputs": [],
   "source": [
    "myCat = {'size': [1,2,3], 'color': 'gray', 'disposition': 'loud'}"
   ]
  },
  {
   "cell_type": "markdown",
   "id": "74158d68-52ff-41a1-8e52-78527af99b6e",
   "metadata": {},
   "source": [
    "This assigns a `dictionary` to the `myCat` variable. This `dictionary`’s keys are 'size', 'color', and 'disposition'. The values for these keys are 'fat', 'gray', and 'loud', respectively. You can access these values through their keys:"
   ]
  },
  {
   "cell_type": "code",
   "execution_count": 2,
   "id": "cd8ef77d-174a-4000-bade-68f40857d034",
   "metadata": {},
   "outputs": [],
   "source": [
    "assert myCat['size'] == 'fat'\n",
    "assert 'My cat has ' + myCat['color'] + ' fur.' == 'My cat has gray fur.'"
   ]
  },
  {
   "cell_type": "markdown",
   "id": "2e0dd898-3481-491f-aec8-5f91bc3adf36",
   "metadata": {},
   "source": [
    "Dictionaries can still use integer values as keys, just like lists use integers for indexes, but they do not have to start at 0 and can be any number."
   ]
  },
  {
   "cell_type": "code",
   "execution_count": 3,
   "id": "ecae516a-0369-4516-876e-fe366ce65b06",
   "metadata": {},
   "outputs": [],
   "source": [
    "spam = {12345: 'Luggage Combination', 42: 'The Answer'}"
   ]
  },
  {
   "cell_type": "markdown",
   "id": "ce7a3fc8-c404-4bd5-8d1d-d07e8dde5a4d",
   "metadata": {},
   "source": [
    "### Dictionaries vs. Lists\n",
    "\n",
    "Unlike lists, items in dictionaries are unordered. The first item in a list named spam would be `spam[0]`. But there is no “first” item in a dictionary. While the order of items matters for determining whether two lists are the same, it does not matter in what order the key-value pairs are typed in a dictionary."
   ]
  },
  {
   "cell_type": "code",
   "execution_count": 6,
   "id": "4316c6b2-5fe6-4e39-a929-e807468f719a",
   "metadata": {},
   "outputs": [],
   "source": [
    "spam = ['cats', 'dogs', 'moose']\n",
    "bacon = ['dogs', 'moose', 'cats']\n",
    "assert (spam == bacon) == False\n",
    "\n",
    "eggs = {'name': 'Zophie', 'species': 'cat', 'age': '8'}\n",
    "ham = {'species': 'cat', 'age': '8', 'name': 'Zophie'}\n",
    "assert (eggs == ham) == True"
   ]
  },
  {
   "cell_type": "markdown",
   "id": "4fe673c3-f0d2-4d03-8dd5-b5b742cfe513",
   "metadata": {},
   "source": [
    "Because dictionaries are not ordered, they can’t be sliced like lists.\n",
    "\n",
    "Trying to access a key that does not exist in a dictionary will result in a `KeyError` error message, much like a list’s “out-of-range” `IndexError` error message. Notice the error message that shows up because there is no 'color' key:"
   ]
  },
  {
   "cell_type": "code",
   "execution_count": 10,
   "id": "135a9f1c-d1ff-44b8-a0d6-87dfc7c4a4d6",
   "metadata": {},
   "outputs": [
    {
     "ename": "KeyError",
     "evalue": "'color'",
     "output_type": "error",
     "traceback": [
      "\u001b[0;31m---------------------------------------------------------------------------\u001b[0m",
      "\u001b[0;31mKeyError\u001b[0m                                  Traceback (most recent call last)",
      "\u001b[0;32m<ipython-input-10-f32da3a57750>\u001b[0m in \u001b[0;36m<module>\u001b[0;34m\u001b[0m\n\u001b[1;32m      1\u001b[0m \u001b[0mspam\u001b[0m \u001b[0;34m=\u001b[0m \u001b[0;34m{\u001b[0m\u001b[0;34m'name'\u001b[0m\u001b[0;34m:\u001b[0m \u001b[0;34m'Zophie'\u001b[0m\u001b[0;34m,\u001b[0m \u001b[0;34m'age'\u001b[0m\u001b[0;34m:\u001b[0m \u001b[0;36m7\u001b[0m\u001b[0;34m}\u001b[0m\u001b[0;34m\u001b[0m\u001b[0;34m\u001b[0m\u001b[0m\n\u001b[0;32m----> 2\u001b[0;31m \u001b[0mspam\u001b[0m\u001b[0;34m[\u001b[0m\u001b[0;34m'color'\u001b[0m\u001b[0;34m]\u001b[0m\u001b[0;34m\u001b[0m\u001b[0;34m\u001b[0m\u001b[0m\n\u001b[0m",
      "\u001b[0;31mKeyError\u001b[0m: 'color'"
     ]
    }
   ],
   "source": [
    "spam = {'name': 'Zophie', 'age': 7}\n",
    "spam['color']"
   ]
  },
  {
   "cell_type": "markdown",
   "id": "c64e7a8d-f1a0-4fbd-a543-e34310adbcbc",
   "metadata": {},
   "source": [
    "Though dictionaries are not ordered, the fact that you can have arbitrary values for the keys allows you to organize your data in powerful ways. Say you wanted your program to store data about your friends’ birthdays. You can use a dictionary with the names as keys and the birthdays as values."
   ]
  },
  {
   "cell_type": "code",
   "execution_count": 11,
   "id": "18343623-119b-4de0-b837-ffb5fe7ddb69",
   "metadata": {},
   "outputs": [
    {
     "name": "stdout",
     "output_type": "stream",
     "text": [
      "Enter a name: (blank to quit)\n"
     ]
    },
    {
     "name": "stdin",
     "output_type": "stream",
     "text": [
      " Alice\n"
     ]
    },
    {
     "name": "stdout",
     "output_type": "stream",
     "text": [
      "Apr 1 is the birthday of Alice\n",
      "Enter a name: (blank to quit)\n"
     ]
    },
    {
     "name": "stdin",
     "output_type": "stream",
     "text": [
      " Michael\n"
     ]
    },
    {
     "name": "stdout",
     "output_type": "stream",
     "text": [
      "I do not have birthday information for Michael\n",
      "What is their birthday?\n"
     ]
    },
    {
     "name": "stdin",
     "output_type": "stream",
     "text": [
      " Jan 11\n"
     ]
    },
    {
     "name": "stdout",
     "output_type": "stream",
     "text": [
      "Birthday database updated.\n",
      "Enter a name: (blank to quit)\n"
     ]
    },
    {
     "name": "stdin",
     "output_type": "stream",
     "text": [
      " Michael\n"
     ]
    },
    {
     "name": "stdout",
     "output_type": "stream",
     "text": [
      "Jan 11 is the birthday of Michael\n",
      "Enter a name: (blank to quit)\n"
     ]
    },
    {
     "name": "stdin",
     "output_type": "stream",
     "text": [
      " \n"
     ]
    }
   ],
   "source": [
    "birthdays = {'Alice': 'Apr 1', 'Bob': 'Dec 12', 'Carol': 'Mar 4'}\n",
    "\n",
    "while True:\n",
    "    print('Enter a name: (blank to quit)')\n",
    "    name = input()\n",
    "    if name == '':\n",
    "        break\n",
    "\n",
    "    if name in birthdays:\n",
    "        print(birthdays[name] + ' is the birthday of ' + name)\n",
    "    else:\n",
    "        print('I do not have birthday information for ' + name)\n",
    "        print('What is their birthday?')\n",
    "        bday = input()\n",
    "        birthdays[name] = bday\n",
    "        print('Birthday database updated.')"
   ]
  },
  {
   "cell_type": "markdown",
   "id": "72c1ceab-c4ea-41f8-9fe2-d1ab14284182",
   "metadata": {},
   "source": [
    "You can view the execution of this program at https://autbor.com/bdaydb. You create an initial dictionary and store it in birthdays. You can see if the entered name exists as a key in the dictionary with the `in` keyword, just as you did for lists. If the name is in the dictionary, you access the associated value using square brackets; if not, you can add it using the same square bracket syntax combined with the assignment operator."
   ]
  },
  {
   "cell_type": "markdown",
   "id": "e57c1e91-ae7e-47c5-a4a1-1db18f194bec",
   "metadata": {},
   "source": [
    "While they’re still not ordered and have no “first” key-value pair, dictionaries in Python 3.7 and later will remember the **insertion order** of their key-value pairs if you create a sequence value from them. For example, notice the order of items in the lists made from the `eggs` and `ham` dictionaries matches the order in which they were entered:"
   ]
  },
  {
   "cell_type": "code",
   "execution_count": 9,
   "id": "6772da9d-55e7-478a-bc15-e1755c18764d",
   "metadata": {},
   "outputs": [],
   "source": [
    "eggs = {'name': 'Zophie', 'species': 'cat', 'age': '8'}\n",
    "assert list(eggs) == ['name', 'species', 'age']\n",
    "\n",
    "ham = {'species': 'cat', 'age': '8', 'name': 'Zophie'}\n",
    "assert list(ham) == ['species', 'age', 'name']"
   ]
  },
  {
   "cell_type": "markdown",
   "id": "a72e67d7-7326-40eb-80b3-af4b3b4d797d",
   "metadata": {},
   "source": [
    "### The `keys()`, `values()`, and `items()` Methods\n",
    "\n",
    "There are three dictionary methods that will return *list-like values* of the dictionary’s keys, values, or both keys and values: `keys()`, `values()`, and `items()`. The values returned by these methods are not true lists: they cannot be modified and do not have an `append()` method. But these data types (`dict_keys`, `dict_values`, and `dict_items`, respectively) can be used in `for` loops.\n"
   ]
  },
  {
   "cell_type": "code",
   "execution_count": 11,
   "id": "a9b792fe-93b6-4c76-84d1-f359cfe6b327",
   "metadata": {},
   "outputs": [
    {
     "name": "stdout",
     "output_type": "stream",
     "text": [
      "red\n",
      "42\n"
     ]
    }
   ],
   "source": [
    "spam = {'color': 'red', 'age': 42}\n",
    "for v in spam.values():\n",
    "    print(v)\n"
   ]
  },
  {
   "cell_type": "markdown",
   "id": "36049266-4eef-43b1-af9e-c27e6bde920c",
   "metadata": {},
   "source": [
    "Here, a `for` loop iterates over each of the values in the `spam` dictionary. A `for` loop can also iterate over the keys or both keys and values:"
   ]
  },
  {
   "cell_type": "code",
   "execution_count": 12,
   "id": "d443cf39-a06f-440b-8140-6974921b567d",
   "metadata": {},
   "outputs": [
    {
     "name": "stdout",
     "output_type": "stream",
     "text": [
      "color\n",
      "age\n",
      "('color', 'red')\n",
      "('age', 42)\n"
     ]
    }
   ],
   "source": [
    "for k in spam.keys():  # identical to just spam\n",
    "    print(k)\n",
    "\n",
    "for i in spam.items():\n",
    "    print(i)"
   ]
  },
  {
   "cell_type": "markdown",
   "id": "0c76ae39-c793-4f07-aa10-67e518d75d34",
   "metadata": {},
   "source": [
    "When you use the `keys()`, `values()`, and `items()` methods, a `for` loop can iterate over the keys, values, or key-value pairs in a dictionary, respectively. Notice that the values in the `dict_items` value returned by the `items()` method are *tuples* of the key and value.\n",
    "\n",
    "If you want a true list from one of these methods, pass its list-like return value to the `list()` function:"
   ]
  },
  {
   "cell_type": "code",
   "execution_count": 13,
   "id": "e98191d9-05f7-4cb3-8a8d-f27ea1b858dc",
   "metadata": {},
   "outputs": [
    {
     "name": "stdout",
     "output_type": "stream",
     "text": [
      "dict_keys(['color', 'age'])\n",
      "['color', 'age']\n"
     ]
    }
   ],
   "source": [
    "spam = {'color': 'red', 'age': 42}\n",
    "print(spam.keys())\n",
    "\n",
    "print(list(spam.keys()))"
   ]
  },
  {
   "cell_type": "markdown",
   "id": "0a952b96-8ffd-40c3-a6e2-97678da8ffa3",
   "metadata": {},
   "source": [
    "The `list(spam.keys())` line takes the `dict_keys` value returned from `keys()` and passes it to `list()`, which then returns a list value of `['color', 'age']`.\n",
    "\n",
    "You can also use the *multiple assignment* trick in a `for` loop to assign the key and value to separate variables:"
   ]
  },
  {
   "cell_type": "code",
   "execution_count": 15,
   "id": "e56a08ac-c1de-4536-9a48-5b35e8f74dd2",
   "metadata": {},
   "outputs": [
    {
     "name": "stdout",
     "output_type": "stream",
     "text": [
      "Key: color, Value: red\n",
      "Key: age, Value: 42\n"
     ]
    }
   ],
   "source": [
    "spam = {'color': 'red', 'age': 42}\n",
    "for k, v in spam.items():\n",
    "    print('Key: ' + k + ', Value: ' + str(v))"
   ]
  },
  {
   "cell_type": "markdown",
   "id": "5b1c4078-8dfb-41d4-bd9e-72dafa53aab1",
   "metadata": {},
   "source": [
    "### Checking Whether a Key or Value Exists in a Dictionary\n",
    "\n",
    "Recall from the previous chapter that the `in` and `not in` operators can check whether a value exists in a list. You can also use these operators to see whether a certain key or value exists in a dictionary:"
   ]
  },
  {
   "cell_type": "code",
   "execution_count": 18,
   "id": "0f715f68-87ce-49e3-b328-cc156bc03dd9",
   "metadata": {},
   "outputs": [],
   "source": [
    "spam = {'name': 'Zophie', 'age': 7}\n",
    "\n",
    "assert ('name' in spam.keys()) == True\n",
    "assert ('Zophie' in spam.values()) == True\n",
    "assert ('color' in spam.keys()) == False\n",
    "assert ('color' not in spam.keys()) == True\n",
    "assert ('color' in spam) == False"
   ]
  },
  {
   "cell_type": "markdown",
   "id": "807b432f-4fd1-43b4-9a72-b2c10c854a8d",
   "metadata": {},
   "source": [
    "In the previous example, notice that 'color' in `spam` is essentially a shorter version of writing 'color' in `spam.keys()`. This is always the case: if you ever want to check whether a value is (or isn’t) a key in the dictionary, you can simply use the `in` (or `not in`) keyword with the dictionary value itself."
   ]
  },
  {
   "cell_type": "markdown",
   "id": "9c3df750-7152-4e9d-91ae-ded4b1dbd0ed",
   "metadata": {},
   "source": [
    "### The `get()` Method\n",
    "\n",
    "It’s tedious to check whether a key exists in a dictionary before accessing that key’s value. Fortunately, dictionaries have a `get()` method that takes two arguments: the key of the value to retrieve and a *fallback value* to return if that key does not exist.picnicItems = {'apples': 5, 'cups': 2}"
   ]
  },
  {
   "cell_type": "code",
   "execution_count": 19,
   "id": "7c98b15f-8c43-41e6-ac50-992ad15907ce",
   "metadata": {},
   "outputs": [],
   "source": [
    "picnicItems = {'apples': 5, 'cups': 2}\n",
    "assert 'I am bringing ' + str(picnicItems.get('cups', 0)) + ' cups.' == 'I am bringing 2 cups.'\n",
    "assert 'I am bringing ' + str(picnicItems.get('eggs', 0)) + ' eggs.' == 'I am bringing 0 eggs.'"
   ]
  },
  {
   "cell_type": "markdown",
   "id": "f92a0c99-d04f-4673-b68f-2fdce031a581",
   "metadata": {},
   "source": [
    "Because there is no 'eggs' key in the `picnicItems` dictionary, the default value 0 is returned by the `get()` method. Without using `get()`, the code would have caused an error message."
   ]
  },
  {
   "cell_type": "markdown",
   "id": "555db074-458c-4e0f-a4ae-4ca247d62cff",
   "metadata": {},
   "source": [
    "### The `setdefault()` Method\n",
    "\n",
    "You’ll often have to set a value in a dictionary for a certain key only if that key does not already have a value. The code looks something like this:"
   ]
  },
  {
   "cell_type": "code",
   "execution_count": 20,
   "id": "27fa26f3-4b24-4f3d-b67c-e789b33392d5",
   "metadata": {},
   "outputs": [],
   "source": [
    "spam = {'name': 'Pooka', 'age': 5}\n",
    "if 'color' not in spam:\n",
    "    spam['color'] = 'black'"
   ]
  },
  {
   "cell_type": "markdown",
   "id": "cb144523-8f20-47a8-aeb1-11dc8998914c",
   "metadata": {},
   "source": [
    "The `setdefault()` method offers a way to do this in one line of code. The first argument passed to the method is the key to check for, and the second argument is the value to set at that key if the key does not exist. If the key does exist, the `setdefault()` method returns the key’s value."
   ]
  },
  {
   "cell_type": "code",
   "execution_count": 21,
   "id": "e3eec812-6aa2-4ad8-8cd6-bec1d487cd13",
   "metadata": {},
   "outputs": [],
   "source": [
    "spam = {'name': 'Pooka', 'age': 5}\n",
    "\n",
    "assert spam.setdefault('color', 'black') == 'black'\n",
    "assert spam == {'color': 'black', 'age': 5, 'name': 'Pooka'}\n",
    "\n",
    "assert spam.setdefault('color', 'white') == 'black'\n",
    "assert spam == {'color': 'black', 'age': 5, 'name': 'Pooka'}"
   ]
  },
  {
   "cell_type": "markdown",
   "id": "3a07a994-8844-4996-beee-a1a93086a529",
   "metadata": {},
   "source": [
    "The first time `setdefault()` is called, the dictionary in `spam` changes to `{'color': 'black', 'age': 5, 'name': 'Pooka'}`. The method returns the value 'black' because this is now the value set for the key 'color'. When `spam.setdefault('color', 'white')` is called next, the value for that key is not changed to 'white', because `spam` already has a key named 'color'.\n",
    "\n",
    "The `setdefault()` method is a nice shortcut to ensure that a key exists. Here is a short program that counts the number of occurrences of each letter in a string."
   ]
  },
  {
   "cell_type": "code",
   "execution_count": 15,
   "id": "53044f99-b081-4e8a-bf67-2868f5377613",
   "metadata": {},
   "outputs": [
    {
     "name": "stdout",
     "output_type": "stream",
     "text": [
      "{'I': 1, 't': 6, ' ': 13, 'w': 2, 'a': 4, 's': 3, 'b': 1, 'r': 5, 'i': 6, 'g': 2, 'h': 3, 'c': 3, 'o': 2, 'l': 3, 'd': 3, 'y': 1, 'n': 4, 'A': 1, 'p': 1, ',': 1, 'e': 5, 'k': 2, '.': 1}\n"
     ]
    }
   ],
   "source": [
    "message = 'It was a bright cold day in April, and the clocks were striking thirteen.'\n",
    "count = {}\n",
    "\n",
    "for character in message:\n",
    "    count.setdefault(character, 0)\n",
    "    count[character] = count[character] + 1\n",
    "\n",
    "print(count)  "
   ]
  },
  {
   "cell_type": "code",
   "execution_count": 21,
   "id": "68875f8f-0202-47ec-b918-8e24de102fd0",
   "metadata": {},
   "outputs": [
    {
     "name": "stdout",
     "output_type": "stream",
     "text": [
      "  13\n",
      "t 6\n",
      "i 6\n",
      "r 5\n",
      "e 5\n",
      "a 4\n",
      "n 4\n",
      "s 3\n",
      "h 3\n",
      "c 3\n",
      "l 3\n",
      "d 3\n",
      "w 2\n",
      "g 2\n",
      "o 2\n",
      "k 2\n",
      "I 1\n",
      "b 1\n",
      "y 1\n",
      "A 1\n",
      "p 1\n",
      ", 1\n",
      ". 1\n"
     ]
    }
   ],
   "source": [
    "for key, item in sorted(count.items(), key=lambda item: item[1], reverse=True):\n",
    "    print(key, item)"
   ]
  },
  {
   "cell_type": "markdown",
   "id": "0f263950-3aae-4aa8-af1c-418e5e5d086d",
   "metadata": {},
   "source": [
    "You can view the execution of this program at https://autbor.com/setdefault. The program loops over each character in the message variable’s string, counting how often each character appears. The `setdefault()` method call ensures that the key is in the count dictionary (with a default value of 0) so the program doesn’t throw a `KeyError` error when `count[character] = count[character] + 1` is executed."
   ]
  },
  {
   "cell_type": "markdown",
   "id": "c2109f6c-add2-4d10-a3ab-3fb2ec446668",
   "metadata": {},
   "source": [
    "From the output, you can see that the lowercase letter c appears 3 times, the space character appears 13 times, and the uppercase letter A appears 1 time. This program will work no matter what string is inside the message variable, even if the string is millions of characters long!"
   ]
  },
  {
   "cell_type": "markdown",
   "id": "e1263f5c-fb95-4bee-b2d9-54ac6cbb4e45",
   "metadata": {},
   "source": [
    "### Pretty Printing\n",
    "\n",
    "If you import the `pprint` module into your programs, you’ll have access to the `pprint()` and `pformat()` functions that will “pretty print” a dictionary’s values. This is helpful when you want a cleaner display of the items in a dictionary than what `print()` provides."
   ]
  },
  {
   "cell_type": "code",
   "execution_count": 23,
   "id": "e8c58917-f124-43cc-a3c5-c274f2b762f6",
   "metadata": {},
   "outputs": [
    {
     "name": "stdout",
     "output_type": "stream",
     "text": [
      "{' ': 13,\n",
      " ',': 1,\n",
      " '.': 1,\n",
      " 'A': 1,\n",
      " 'I': 1,\n",
      " 'a': 4,\n",
      " 'b': 1,\n",
      " 'c': 3,\n",
      " 'd': 3,\n",
      " 'e': 5,\n",
      " 'g': 2,\n",
      " 'h': 3,\n",
      " 'i': 6,\n",
      " 'k': 2,\n",
      " 'l': 3,\n",
      " 'n': 4,\n",
      " 'o': 2,\n",
      " 'p': 1,\n",
      " 'r': 5,\n",
      " 's': 3,\n",
      " 't': 6,\n",
      " 'w': 2,\n",
      " 'y': 1}\n"
     ]
    }
   ],
   "source": [
    "import pprint\n",
    "message = 'It was a bright cold day in April, and the clocks were striking thirteen.'\n",
    "count = {}\n",
    "\n",
    "for character in message:\n",
    "    count.setdefault(character, 0)\n",
    "    count[character] = count[character] + 1\n",
    "\n",
    "pprint.pprint(count)"
   ]
  },
  {
   "cell_type": "markdown",
   "id": "eb904706-2d54-41e1-baf1-e2a3076f943b",
   "metadata": {},
   "source": [
    "The `pprint.pprint()` function is especially helpful when the dictionary itself contains nested lists or dictionaries.\n",
    "\n",
    "If you want to obtain the prettified text as a string value instead of displaying it on the screen, call `pprint.pformat()` instead. These two lines are equivalent to each other:"
   ]
  },
  {
   "cell_type": "code",
   "execution_count": null,
   "id": "1897e717-09ef-4db9-923c-7e7cd362cb0b",
   "metadata": {},
   "outputs": [],
   "source": [
    "print.pprint(count)\n",
    "print(pprint.pformat(count))"
   ]
  },
  {
   "cell_type": "markdown",
   "id": "c1ef676a-026a-4ff5-b6cd-5bc6261e852f",
   "metadata": {},
   "source": [
    "## Using Data Structures to Model Real-World Things"
   ]
  },
  {
   "cell_type": "markdown",
   "id": "a1f6a28d-0f03-46a2-bcc9-f3f200adf3c6",
   "metadata": {},
   "source": [
    "Even before the internet, it was possible to play a game of chess with someone on the other side of the world. Each player would set up a chessboard at their home and then take turns mailing a postcard to each other describing each move. To do this, the players needed a way to unambiguously describe the state of the board and their moves.\n",
    "\n",
    "In algebraic chess notation, the spaces on the chessboard are identified by a number and letter coordinate, as in Figure 5-1.\n",
    "\n",
    "![](https://automatetheboringstuff.com/2e/images/000006.jpg)\n",
    "\n",
    "The chess pieces are identified by *letters*: `K` for king, `Q` for queen, `R` for rook, `B` for bishop, and `N` for knight. Describing a move uses the letter of the piece and the coordinates of its destination. A pair of these moves describes what happens in a single turn (with white going first); for instance, the notation 2. Nf3 Nc6 indicates that white moved a knight to f3 and black moved a knight to c6 on the second turn of the game.\n",
    "\n",
    "There’s a bit more to algebraic notation than this, but the point is that you can unambiguously describe a game of chess without needing to be in front of a chessboard. Your opponent can even be on the other side of the world! In fact, you don’t even need a physical chess set if you have a good memory: you can just read the mailed chess moves and update boards you have in your imagination.\n",
    "\n",
    "Computers have good memories. A program on a modern computer can easily store billions of strings like '2. Nf3 Nc6'. This is how computers can play chess without having a physical chessboard. They model data to represent a chessboard, and you can write code to work with this model.\n",
    "\n",
    "This is where lists and dictionaries can come in. For example, the dictionary `{'1h': 'bking', '6c': 'wqueen', '2g': 'bbishop', '5h': 'bqueen', '3e': 'wking'}` could represent the chess board in Figure 5-2.\n",
    "\n",
    "![](https://automatetheboringstuff.com/2e/images/000101.jpg)\n",
    "\n",
    "But for another example, you’ll use a game that’s a little simpler than chess: tic-tac-toe."
   ]
  },
  {
   "cell_type": "markdown",
   "id": "931cdd5c-8ec4-4aab-a284-8ebe1b9f219f",
   "metadata": {},
   "source": [
    "### A Tic-Tac-Toe Board\n",
    "\n",
    "A tic-tac-toe board looks like a large hash symbol (#) with nine slots that can each contain an `X`, an `O`, or a blank. To represent the board with a dictionary, you can assign each slot a string-value key, as shown in Figure 5-3.\n",
    "\n",
    "![](https://automatetheboringstuff.com/2e/images/000048.jpg)\n",
    "\n",
    "You can use string values to represent what’s in each slot on the board: 'X', 'O', or ' ' (a space). Thus, you’ll need to store nine strings. You can use a dictionary of values for this. The string value with the key 'top-R' can represent the top-right corner, the string value with the key 'low-L' can represent the bottom-left corner, the string value with the key 'mid-M' can represent the middle, and so on.\n",
    "\n",
    "This dictionary is a data structure that represents a tic-tac-toe board. Store this board-as-a-dictionary in a variable named `theBoard`."
   ]
  },
  {
   "cell_type": "code",
   "execution_count": 28,
   "id": "5084cd8b-b4b0-45fb-b913-e6f308d60d92",
   "metadata": {},
   "outputs": [],
   "source": [
    "theBoard = {'top-L': ' ', 'top-M': ' ', 'top-R': ' ',\n",
    "            'mid-L': ' ', 'mid-M': ' ', 'mid-R': ' ',\n",
    "            'low-L': ' ', 'low-M': ' ', 'low-R': ' '}"
   ]
  },
  {
   "cell_type": "markdown",
   "id": "33b171a1-1763-4129-8c60-75ad46ab8d14",
   "metadata": {},
   "source": [
    "The data structure stored in the theBoard variable represents the tic-tac-toe board in Figure 5-4.\n",
    "\n",
    "![](https://automatetheboringstuff.com/2e/images/000141.jpg)"
   ]
  },
  {
   "cell_type": "markdown",
   "id": "285a65ca-afc1-4030-baa9-624d14a7c19d",
   "metadata": {},
   "source": [
    "Since the value for every key in theBoard is a single-space string, this dictionary represents a completely clear board. If player `X` went first and chose the middle space, you could represent that board with this dictionary:"
   ]
  },
  {
   "cell_type": "code",
   "execution_count": 29,
   "id": "9aa36ac5-24a4-4043-afce-dcd9525924fe",
   "metadata": {},
   "outputs": [],
   "source": [
    "theBoard = {'top-L': ' ', 'top-M': ' ', 'top-R': ' ',\n",
    "            'mid-L': ' ', 'mid-M': 'X', 'mid-R': ' ',\n",
    "            'low-L': ' ', 'low-M': ' ', 'low-R': ' '}"
   ]
  },
  {
   "cell_type": "markdown",
   "id": "01892da7-d23e-4971-9ec7-ffcdac39355f",
   "metadata": {},
   "source": [
    "![](https://automatetheboringstuff.com/2e/images/000084.jpg)"
   ]
  },
  {
   "cell_type": "markdown",
   "id": "cff54b73-34a5-4b99-82d5-90b308d3856a",
   "metadata": {},
   "source": [
    "A board where player `O` has won by placing Os across the top might look like this:"
   ]
  },
  {
   "cell_type": "code",
   "execution_count": 30,
   "id": "f0e6c386-c90a-42ca-a645-98bb4cad771a",
   "metadata": {},
   "outputs": [],
   "source": [
    "theBoard = {'top-L': 'O', 'top-M': 'O', 'top-R': 'O',\n",
    "            'mid-L': 'X', 'mid-M': 'X', 'mid-R': ' ',\n",
    "            'low-L': ' ', 'low-M': ' ', 'low-R': 'X'}"
   ]
  },
  {
   "cell_type": "markdown",
   "id": "983d500a-6a55-406c-827f-3865461d657d",
   "metadata": {},
   "source": [
    "![](https://automatetheboringstuff.com/2e/images/000020.jpg)"
   ]
  },
  {
   "cell_type": "markdown",
   "id": "3cc43290-a7f5-452f-b09c-343c90dd9157",
   "metadata": {},
   "source": [
    "Of course, the player sees only what is printed to the screen, not the contents of variables. Let’s create a function to print the board dictionary onto the screen."
   ]
  },
  {
   "cell_type": "code",
   "execution_count": 31,
   "id": "4c92b70c-7ff4-4410-aad7-904baa89a79a",
   "metadata": {},
   "outputs": [
    {
     "name": "stdout",
     "output_type": "stream",
     "text": [
      " | | \n",
      "-+-+-\n",
      " | | \n",
      "-+-+-\n",
      " | | \n"
     ]
    }
   ],
   "source": [
    "theBoard = {'top-L': ' ', 'top-M': ' ', 'top-R': ' ',\n",
    "            'mid-L': ' ', 'mid-M': ' ', 'mid-R': ' ',\n",
    "            'low-L': ' ', 'low-M': ' ', 'low-R': ' '}\n",
    "\n",
    "def printBoard(board):\n",
    "    print(board['top-L'] + '|' + board['top-M'] + '|' + board['top-R'])\n",
    "    print('-+-+-')\n",
    "    print(board['mid-L'] + '|' + board['mid-M'] + '|' + board['mid-R'])\n",
    "    print('-+-+-')\n",
    "    print(board['low-L'] + '|' + board['low-M'] + '|' + board['low-R'])\n",
    "    \n",
    "printBoard(theBoard)"
   ]
  },
  {
   "cell_type": "markdown",
   "id": "c22c052b-3be6-4ea1-9ca5-3de95a289f06",
   "metadata": {},
   "source": [
    "The `printBoard()` function can handle any tic-tac-toe data structure you pass it. Try changing the code to the following:"
   ]
  },
  {
   "cell_type": "code",
   "execution_count": 32,
   "id": "4a0edc65-961e-4ed2-b388-a72cd5f6e939",
   "metadata": {},
   "outputs": [
    {
     "name": "stdout",
     "output_type": "stream",
     "text": [
      "O|O|O\n",
      "-+-+-\n",
      "X|X| \n",
      "-+-+-\n",
      " | |X\n"
     ]
    }
   ],
   "source": [
    "theBoard = {'top-L': 'O', 'top-M': 'O', 'top-R': 'O', 'mid-L': 'X', 'mid-M':\n",
    "'X', 'mid-R': ' ', 'low-L': ' ', 'low-M': ' ', 'low-R': 'X'}\n",
    "\n",
    "printBoard(theBoard)"
   ]
  },
  {
   "cell_type": "markdown",
   "id": "7d63d253-8621-4c6d-8bc5-01aaef52f95a",
   "metadata": {},
   "source": [
    "Because you created a data structure to represent a tic-tac-toe board and wrote code in `printBoard()` to interpret that data structure, you now have a program that “models” the tic-tac-toe board. You could have organized your data structure differently (for example, using keys like 'TOP-LEFT' instead of 'top-L'), but as long as the code works with your data structures, you will have a correctly working program.\n",
    "\n",
    "For example, the `printBoard()` function expects the tic-tac-toe data structure to be a dictionary with keys for all nine slots. If the dictionary you passed was missing, say, the 'mid-L' key, your program would no longer work."
   ]
  },
  {
   "cell_type": "markdown",
   "id": "1c7bbc1f-9628-47ca-868d-f967ed32173e",
   "metadata": {},
   "source": [
    "Now let’s add code that allows the players to enter their moves."
   ]
  },
  {
   "cell_type": "code",
   "execution_count": 36,
   "id": "f6e8494f-446c-4c29-abe6-05359b684ee9",
   "metadata": {},
   "outputs": [
    {
     "name": "stdout",
     "output_type": "stream",
     "text": [
      " | | \n",
      "-+-+-\n",
      " | | \n",
      "-+-+-\n",
      " | | \n"
     ]
    },
    {
     "name": "stdin",
     "output_type": "stream",
     "text": [
      "Turn for X. Move on which space? mid-M\n"
     ]
    },
    {
     "name": "stdout",
     "output_type": "stream",
     "text": [
      " | | \n",
      "-+-+-\n",
      " |X| \n",
      "-+-+-\n",
      " | | \n"
     ]
    },
    {
     "name": "stdin",
     "output_type": "stream",
     "text": [
      "Turn for O. Move on which space? mid-M\n",
      "Turn for O. Move on which space? dgk\n"
     ]
    },
    {
     "ename": "KeyboardInterrupt",
     "evalue": "Interrupted by user",
     "output_type": "error",
     "traceback": [
      "\u001b[0;31m---------------------------------------------------------------------------\u001b[0m",
      "\u001b[0;31mKeyboardInterrupt\u001b[0m                         Traceback (most recent call last)",
      "\u001b[0;32m<ipython-input-36-ce14d3b99880>\u001b[0m in \u001b[0;36m<module>\u001b[0;34m\u001b[0m\n\u001b[1;32m      8\u001b[0m     \u001b[0mmove\u001b[0m \u001b[0;34m=\u001b[0m \u001b[0;32mNone\u001b[0m\u001b[0;34m\u001b[0m\u001b[0;34m\u001b[0m\u001b[0m\n\u001b[1;32m      9\u001b[0m     \u001b[0;32mwhile\u001b[0m \u001b[0mmove\u001b[0m \u001b[0;32mnot\u001b[0m \u001b[0;32min\u001b[0m \u001b[0mtheBoard\u001b[0m \u001b[0;32mor\u001b[0m \u001b[0mtheBoard\u001b[0m\u001b[0;34m[\u001b[0m\u001b[0mmove\u001b[0m\u001b[0;34m]\u001b[0m \u001b[0;34m!=\u001b[0m \u001b[0;34m' '\u001b[0m\u001b[0;34m:\u001b[0m\u001b[0;34m\u001b[0m\u001b[0;34m\u001b[0m\u001b[0m\n\u001b[0;32m---> 10\u001b[0;31m         \u001b[0mmove\u001b[0m \u001b[0;34m=\u001b[0m \u001b[0minput\u001b[0m\u001b[0;34m(\u001b[0m\u001b[0;34m'Turn for '\u001b[0m \u001b[0;34m+\u001b[0m \u001b[0mturn\u001b[0m \u001b[0;34m+\u001b[0m \u001b[0;34m'. Move on which space?'\u001b[0m\u001b[0;34m)\u001b[0m\u001b[0;34m\u001b[0m\u001b[0;34m\u001b[0m\u001b[0m\n\u001b[0m\u001b[1;32m     11\u001b[0m \u001b[0;34m\u001b[0m\u001b[0m\n\u001b[1;32m     12\u001b[0m     \u001b[0mtheBoard\u001b[0m\u001b[0;34m[\u001b[0m\u001b[0mmove\u001b[0m\u001b[0;34m]\u001b[0m \u001b[0;34m=\u001b[0m \u001b[0mturn\u001b[0m\u001b[0;34m\u001b[0m\u001b[0;34m\u001b[0m\u001b[0m\n",
      "\u001b[0;32m~/miniconda3/lib/python3.8/site-packages/ipykernel/kernelbase.py\u001b[0m in \u001b[0;36mraw_input\u001b[0;34m(self, prompt)\u001b[0m\n\u001b[1;32m    846\u001b[0m                 \u001b[0;34m\"raw_input was called, but this frontend does not support input requests.\"\u001b[0m\u001b[0;34m\u001b[0m\u001b[0;34m\u001b[0m\u001b[0m\n\u001b[1;32m    847\u001b[0m             )\n\u001b[0;32m--> 848\u001b[0;31m         return self._input_request(str(prompt),\n\u001b[0m\u001b[1;32m    849\u001b[0m             \u001b[0mself\u001b[0m\u001b[0;34m.\u001b[0m\u001b[0m_parent_ident\u001b[0m\u001b[0;34m,\u001b[0m\u001b[0;34m\u001b[0m\u001b[0;34m\u001b[0m\u001b[0m\n\u001b[1;32m    850\u001b[0m             \u001b[0mself\u001b[0m\u001b[0;34m.\u001b[0m\u001b[0m_parent_header\u001b[0m\u001b[0;34m,\u001b[0m\u001b[0;34m\u001b[0m\u001b[0;34m\u001b[0m\u001b[0m\n",
      "\u001b[0;32m~/miniconda3/lib/python3.8/site-packages/ipykernel/kernelbase.py\u001b[0m in \u001b[0;36m_input_request\u001b[0;34m(self, prompt, ident, parent, password)\u001b[0m\n\u001b[1;32m    890\u001b[0m             \u001b[0;32mexcept\u001b[0m \u001b[0mKeyboardInterrupt\u001b[0m\u001b[0;34m:\u001b[0m\u001b[0;34m\u001b[0m\u001b[0;34m\u001b[0m\u001b[0m\n\u001b[1;32m    891\u001b[0m                 \u001b[0;31m# re-raise KeyboardInterrupt, to truncate traceback\u001b[0m\u001b[0;34m\u001b[0m\u001b[0;34m\u001b[0m\u001b[0;34m\u001b[0m\u001b[0m\n\u001b[0;32m--> 892\u001b[0;31m                 \u001b[0;32mraise\u001b[0m \u001b[0mKeyboardInterrupt\u001b[0m\u001b[0;34m(\u001b[0m\u001b[0;34m\"Interrupted by user\"\u001b[0m\u001b[0;34m)\u001b[0m \u001b[0;32mfrom\u001b[0m \u001b[0;32mNone\u001b[0m\u001b[0;34m\u001b[0m\u001b[0;34m\u001b[0m\u001b[0m\n\u001b[0m\u001b[1;32m    893\u001b[0m             \u001b[0;32mexcept\u001b[0m \u001b[0mException\u001b[0m \u001b[0;32mas\u001b[0m \u001b[0me\u001b[0m\u001b[0;34m:\u001b[0m\u001b[0;34m\u001b[0m\u001b[0;34m\u001b[0m\u001b[0m\n\u001b[1;32m    894\u001b[0m                 \u001b[0mself\u001b[0m\u001b[0;34m.\u001b[0m\u001b[0mlog\u001b[0m\u001b[0;34m.\u001b[0m\u001b[0mwarning\u001b[0m\u001b[0;34m(\u001b[0m\u001b[0;34m\"Invalid Message:\"\u001b[0m\u001b[0;34m,\u001b[0m \u001b[0mexc_info\u001b[0m\u001b[0;34m=\u001b[0m\u001b[0;32mTrue\u001b[0m\u001b[0;34m)\u001b[0m\u001b[0;34m\u001b[0m\u001b[0;34m\u001b[0m\u001b[0m\n",
      "\u001b[0;31mKeyboardInterrupt\u001b[0m: Interrupted by user"
     ]
    }
   ],
   "source": [
    "theBoard = {'top-L': ' ', 'top-M': ' ', 'top-R': ' ',\n",
    "            'mid-L': ' ', 'mid-M': ' ', 'mid-R': ' ',\n",
    "            'low-L': ' ', 'low-M': ' ', 'low-R': ' '}\n",
    "\n",
    "turn = 'X'\n",
    "for i in range(9):\n",
    "    printBoard(theBoard)\n",
    "    move = None\n",
    "    while move not in theBoard or theBoard[move] != ' ':\n",
    "        move = input('Turn for ' + turn + '. Move on which space?')\n",
    "        \n",
    "    theBoard[move] = turn\n",
    "    if turn == 'X':\n",
    "        turn = 'O'\n",
    "    else:\n",
    "        turn = 'X'\n",
    "    #printBoard(theBoard)"
   ]
  },
  {
   "cell_type": "markdown",
   "id": "f3509d0a-1dde-4168-ab5d-586bbc6e109a",
   "metadata": {},
   "source": [
    "**Exercise**: Fix the bug in the current program if the user entered move does not existtheBoard"
   ]
  },
  {
   "cell_type": "markdown",
   "id": "21aa4a4b-5a64-40b8-85d1-5309fd90e135",
   "metadata": {},
   "source": [
    "This isn’t a complete tic-tac-toe game—for instance, it doesn’t ever check whether a player has won—but it’s enough to see how data structures can be used in programs."
   ]
  },
  {
   "cell_type": "markdown",
   "id": "a612b2b1-6996-4e65-87a1-06e378c13516",
   "metadata": {},
   "source": [
    "### Nested Dictionaries and Lists"
   ]
  },
  {
   "cell_type": "markdown",
   "id": "1f2e2f8f-93be-46bf-9748-3c60c42fac5d",
   "metadata": {},
   "source": [
    "Modeling a tic-tac-toe board was fairly simple: the board needed only a single dictionary value with nine key-value pairs. As you model more complicated things, you may find you need dictionaries and lists that contain other dictionaries and lists. Lists are useful to contain an ordered series of values, and dictionaries are useful for associating keys with values. For example, here’s a program that uses a dictionary that contains other dictionaries of what items guests are bringing to a picnic. The `totalBrought()` function can read this data structure and calculate the total number of an item being brought by all the guests."
   ]
  },
  {
   "cell_type": "code",
   "execution_count": 35,
   "id": "4be22fd7-7e74-4756-ad15-d671f3ae24ad",
   "metadata": {},
   "outputs": [
    {
     "name": "stdout",
     "output_type": "stream",
     "text": [
      "Number of things being brought:\n",
      " - Apples         7\n",
      " - Cups           3\n",
      " - Cakes          0\n",
      " - Ham Sandwiches 3\n",
      " - Apple Pies     1\n"
     ]
    }
   ],
   "source": [
    "allGuests = {'Alice': {'apples': 5, 'pretzels': 12},\n",
    "             'Bob': {'ham sandwiches': 3, 'apples': 2},\n",
    "             'Carol': {'cups': 3, 'apple pies': 1}}\n",
    "\n",
    "def totalBrought(guests, item):\n",
    "    numBrought = 0\n",
    "    for k, v in guests.items():\n",
    "        numBrought = numBrought + v.get(item, 0)\n",
    "    return numBrought\n",
    "\n",
    "print('Number of things being brought:')\n",
    "print(' - Apples         ' + str(totalBrought(allGuests, 'apples')))\n",
    "print(' - Cups           ' + str(totalBrought(allGuests, 'cups')))\n",
    "print(' - Cakes          ' + str(totalBrought(allGuests, 'cakes')))\n",
    "print(' - Ham Sandwiches ' + str(totalBrought(allGuests, 'ham sandwiches')))\n",
    "print(' - Apple Pies     ' + str(totalBrought(allGuests, 'apple pies')))"
   ]
  },
  {
   "cell_type": "markdown",
   "id": "35ee9713-48f8-47f8-8374-51644c99e8d8",
   "metadata": {},
   "source": [
    "Inside the `totalBrought()` function, the `for` loop iterates over the key-value pairs in guests. Inside the loop, the string of the guest’s name is assigned to `k`, and the dictionary of picnic items they’re bringing is assigned to `v`. If the item parameter exists as a key in this dictionary, its value (the quantity) is added to `numBrought`. If it does not exist as a key, the `get()` method returns `0` to be added to numBrought."
   ]
  },
  {
   "cell_type": "markdown",
   "id": "8000a1eb-fb4b-4ffd-8765-0740c6f1d5ce",
   "metadata": {},
   "source": [
    "This may seem like such a simple thing to model that you wouldn’t need to bother with writing a program to do it. But realize that this same `totalBrought()` function could easily handle a dictionary that contains thousands of guests, each bringing thousands of different picnic items. Then having this information in a data structure along with the `totalBrought()` function would save you a lot of time!\n",
    "\n",
    "You can model things with data structures in whatever way you like, as long as the rest of the code in your program can work with the data model correctly. When you first begin programming, don’t worry so much about the “right” way to model data. As you gain more experience, you may come up with more efficient models, but the important thing is that the data model works for your program’s needs."
   ]
  },
  {
   "cell_type": "markdown",
   "id": "42a61776-71bd-4d16-a435-2f506588aaf6",
   "metadata": {},
   "source": [
    "## Summary\n",
    "\n",
    "You learned all about dictionaries in this chapter. Lists and dictionaries are values that can contain multiple values, including other lists and dictionaries. Dictionaries are useful because you can map one item (the key) to another (the value), as opposed to lists, which simply contain a series of values in order. Values inside a dictionary are accessed using *square brackets* just as with lists. Instead of an integer index, dictionaries can have keys of a variety of data types: integers, floats, strings, or tuples. By organizing a program’s values into data structures, you can create representations of real-world objects. You saw an example of this with a tic-tac-toe board."
   ]
  },
  {
   "cell_type": "markdown",
   "id": "0ea6ee12-4c1d-4eed-af61-77c3788ee133",
   "metadata": {},
   "source": [
    "## Practice Questions\n",
    "\n",
    "1. What does the code for an empty dictionary look like?"
   ]
  },
  {
   "cell_type": "code",
   "execution_count": 58,
   "id": "3238deb8-83b4-4988-b6b1-ffd42dbf7e17",
   "metadata": {},
   "outputs": [
    {
     "data": {
      "text/plain": [
       "({}, {})"
      ]
     },
     "execution_count": 58,
     "metadata": {},
     "output_type": "execute_result"
    }
   ],
   "source": [
    "{}, dict()"
   ]
  },
  {
   "cell_type": "markdown",
   "id": "5683bb80-ce71-43cc-a028-a7e25494ec71",
   "metadata": {},
   "source": [
    "2. What does a dictionary value with a key 'foo' and a value 42 look like?"
   ]
  },
  {
   "cell_type": "markdown",
   "id": "767647ec-01b3-4e48-99da-5b6ac0363c63",
   "metadata": {},
   "source": [
    "\n",
    "3. What is the main difference between a dictionary and a list?\n",
    "\n",
    "4. What happens if you try to access `spam['foo']` if `spam` is `{'bar': 100}`?"
   ]
  },
  {
   "cell_type": "code",
   "execution_count": 63,
   "id": "c675148c-e10b-4327-a1b7-fc3ac996acd0",
   "metadata": {},
   "outputs": [
    {
     "data": {
      "text/plain": [
       "0"
      ]
     },
     "execution_count": 63,
     "metadata": {},
     "output_type": "execute_result"
    }
   ],
   "source": [
    "spam = {'bar': 100}\n",
    "spam.get('foo', 0)"
   ]
  },
  {
   "cell_type": "markdown",
   "id": "640c27c3-f623-49ec-85eb-634a8c9bf81f",
   "metadata": {},
   "source": [
    "5. If a dictionary is stored in `spam`, what is the difference between the expressions `'cat' in spam` and `'cat' in spam.keys()`?"
   ]
  },
  {
   "cell_type": "code",
   "execution_count": null,
   "id": "228487ef-e1fe-4f95-b031-7b221c2ef80d",
   "metadata": {},
   "outputs": [],
   "source": []
  },
  {
   "cell_type": "markdown",
   "id": "22361646-f792-4104-b5cc-c20d194e2e4b",
   "metadata": {},
   "source": [
    "6. If a dictionary is stored in `spam`, what is the difference between the expressions `'cat' in spam` and `'cat' in spam.values()`?"
   ]
  },
  {
   "cell_type": "code",
   "execution_count": null,
   "id": "687bafa5-2ea4-4256-97dd-28e821c18e8c",
   "metadata": {},
   "outputs": [],
   "source": []
  },
  {
   "cell_type": "markdown",
   "id": "a4a35206-05f7-456a-8973-480bfa3f677e",
   "metadata": {},
   "source": [
    "7. What is a shortcut for the following code?"
   ]
  },
  {
   "cell_type": "code",
   "execution_count": 67,
   "id": "58532b43-4692-4b2b-a134-5e0c445628d0",
   "metadata": {},
   "outputs": [],
   "source": [
    "if 'color' not in spam:\n",
    "    spam['color'] = 'black'"
   ]
  },
  {
   "cell_type": "markdown",
   "id": "d27a3be9-b020-4de6-8d08-bc8d953cbd60",
   "metadata": {},
   "source": [
    "8. What module and function can be used to “pretty print” dictionary values?"
   ]
  },
  {
   "cell_type": "markdown",
   "id": "ed559ba9-14a7-4739-8947-ba39ac00d512",
   "metadata": {},
   "source": [
    "## Practice Projects\n",
    "\n",
    "For practice, write programs to do the following tasks."
   ]
  },
  {
   "cell_type": "markdown",
   "id": "65a60153-0579-46c3-b163-12ff0c99b0b1",
   "metadata": {},
   "source": [
    "### Chess Dictionary Validator\n",
    "\n",
    "In this chapter, we used the dictionary value `{'1h': 'bking', '6c': 'wqueen', '2g': 'bbishop', '5h': 'bqueen', '3e': 'wking'}` to represent a chess board. Write a function named `isValidChessBoard()` that takes a dictionary argument and returns `True` or `False` depending on if the board is valid.\n",
    "\n",
    "A valid board will have exactly one black king and exactly one white king. Each player can only have at most 16 pieces, at most 8 pawns, and all pieces must be on a valid space from '1a' to '8h'; that is, a piece can’t be on space '9z'. The piece names begin with either a 'w' or 'b' to represent white or black, followed by 'pawn', 'knight', 'bishop', 'rook', 'queen', or 'king'. This function should detect when a bug has resulted in an improper chess board."
   ]
  },
  {
   "cell_type": "code",
   "execution_count": 75,
   "id": "2b60619a-f65b-4c88-9329-fa9d90bb1679",
   "metadata": {},
   "outputs": [
    {
     "name": "stdout",
     "output_type": "stream",
     "text": [
      "Combination (9, 'h') is not a valid field id\n"
     ]
    },
    {
     "data": {
      "text/plain": [
       "False"
      ]
     },
     "execution_count": 75,
     "metadata": {},
     "output_type": "execute_result"
    }
   ],
   "source": [
    "board = {'1h': 'bking', '6c': 'wqueen', '2g': 'bbishop', '5h': 'bqueen', '3e': 'wking', '9h': 'wpawn'}\n",
    "\n",
    "def isValidChessBoard(board: dict) -> bool:\n",
    "    # exactly one king for each player\n",
    "    if list(board.values()).count('bking') != 1 or list(board.values()).count('wking') != 1:\n",
    "        return False\n",
    "    \n",
    "    # each filed has to be between '1a' and '8h'\n",
    "    for key in board:\n",
    "        x = int(key[0]) \n",
    "        y = key[1]\n",
    "        if not (1 <= x <= 8 and y in ['a', 'b', 'c', 'd', 'e', 'f', 'g', 'h']):\n",
    "            print(f\"Combination {x,y} is not a valid field id\")\n",
    "            return False\n",
    "    \n",
    "    return True\n",
    "\n",
    "isValidChessBoard(board)"
   ]
  },
  {
   "cell_type": "markdown",
   "id": "9dc0ceb6-7bb9-45f6-b074-246e20474d9d",
   "metadata": {},
   "source": [
    "### Fantasy Game Inventory\n",
    "\n",
    "You are creating a fantasy video game. The data structure to model the player’s inventory will be a dictionary where the keys are string values describing the item in the inventory and the value is an integer value detailing how many of that item the player has. For example, the dictionary value `{'rope': 1, 'torch': 6, 'gold coin': 42, 'dagger': 1, 'arrow': 12}` means the player has 1 rope, 6 torches, 42 gold coins, and so on.\n",
    "\n",
    "Write a function named `displayInventory()` that would take any possible “inventory” and display it like the following:\n",
    "\n",
    "```\n",
    "Inventory:\n",
    "12 arrow\n",
    "42 gold coin\n",
    "1 rope\n",
    "6 torch\n",
    "1 dagger\n",
    "Total number of items: 62\n",
    "```"
   ]
  },
  {
   "cell_type": "markdown",
   "id": "76fceb5e-0e7c-4fa1-ab9b-7b980b1b421e",
   "metadata": {},
   "source": [
    "Hint: You can use a for loop to loop through all the keys in a dictionary."
   ]
  },
  {
   "cell_type": "code",
   "execution_count": 37,
   "id": "6ba627e6-7098-4c72-8053-25007ee5400b",
   "metadata": {},
   "outputs": [
    {
     "name": "stdout",
     "output_type": "stream",
     "text": [
      "Inventory:\n",
      "Total number of items: 0\n"
     ]
    }
   ],
   "source": [
    "# inventory.py\n",
    "stuff = {'rope': 1, 'torch': 6, 'gold coin': 42, 'dagger': 1, 'arrow': 12}\n",
    "\n",
    "def displayInventory(inventory):\n",
    "    print(\"Inventory:\")\n",
    "    item_total = 0\n",
    "    for k, v in inventory.items():\n",
    "        ...\n",
    "        # FILL THIS PART IN\n",
    "    print(\"Total number of items: \" + str(item_total))\n",
    "\n",
    "displayInventory(stuff)"
   ]
  },
  {
   "cell_type": "markdown",
   "id": "83d6660b-580f-4f35-af2c-51062cce6577",
   "metadata": {},
   "source": [
    "### List to Dictionary Function for Fantasy Game Inventory\n",
    "\n",
    "Imagine that a vanquished dragon’s loot is represented as a list of strings like this:\n",
    "\n",
    "`dragonLoot = ['gold coin', 'dagger', 'gold coin', 'gold coin', 'ruby']`\n",
    "\n",
    "Write a function named `addToInventory(inventory, addedItems)`, where the `inventory` parameter is a dictionary representing the player’s inventory (like in the previous project) and the `addedItems` parameter is a list like `dragonLoot`. The `addToInventory()` function should return a dictionary that represents the updated inventory. Note that the `addedItems` list can contain multiples of the same item. Your code could look something like this:"
   ]
  },
  {
   "cell_type": "code",
   "execution_count": 38,
   "id": "3ad7f567-e640-44bf-8465-6cabd0c4e205",
   "metadata": {},
   "outputs": [
    {
     "name": "stdout",
     "output_type": "stream",
     "text": [
      "Inventory:\n"
     ]
    },
    {
     "ename": "AttributeError",
     "evalue": "'NoneType' object has no attribute 'items'",
     "output_type": "error",
     "traceback": [
      "\u001b[0;31m---------------------------------------------------------------------------\u001b[0m",
      "\u001b[0;31mAttributeError\u001b[0m                            Traceback (most recent call last)",
      "\u001b[0;32m<ipython-input-38-23ba64702bf8>\u001b[0m in \u001b[0;36m<module>\u001b[0;34m\u001b[0m\n\u001b[1;32m      6\u001b[0m \u001b[0mdragonLoot\u001b[0m \u001b[0;34m=\u001b[0m \u001b[0;34m[\u001b[0m\u001b[0;34m'gold coin'\u001b[0m\u001b[0;34m,\u001b[0m \u001b[0;34m'dagger'\u001b[0m\u001b[0;34m,\u001b[0m \u001b[0;34m'gold coin'\u001b[0m\u001b[0;34m,\u001b[0m \u001b[0;34m'gold coin'\u001b[0m\u001b[0;34m,\u001b[0m \u001b[0;34m'ruby'\u001b[0m\u001b[0;34m]\u001b[0m\u001b[0;34m\u001b[0m\u001b[0;34m\u001b[0m\u001b[0m\n\u001b[1;32m      7\u001b[0m \u001b[0minv\u001b[0m \u001b[0;34m=\u001b[0m \u001b[0maddToInventory\u001b[0m\u001b[0;34m(\u001b[0m\u001b[0minv\u001b[0m\u001b[0;34m,\u001b[0m \u001b[0mdragonLoot\u001b[0m\u001b[0;34m)\u001b[0m\u001b[0;34m\u001b[0m\u001b[0;34m\u001b[0m\u001b[0m\n\u001b[0;32m----> 8\u001b[0;31m \u001b[0mdisplayInventory\u001b[0m\u001b[0;34m(\u001b[0m\u001b[0minv\u001b[0m\u001b[0;34m)\u001b[0m\u001b[0;34m\u001b[0m\u001b[0;34m\u001b[0m\u001b[0m\n\u001b[0m",
      "\u001b[0;32m<ipython-input-37-a23cdb7f599d>\u001b[0m in \u001b[0;36mdisplayInventory\u001b[0;34m(inventory)\u001b[0m\n\u001b[1;32m      5\u001b[0m     \u001b[0mprint\u001b[0m\u001b[0;34m(\u001b[0m\u001b[0;34m\"Inventory:\"\u001b[0m\u001b[0;34m)\u001b[0m\u001b[0;34m\u001b[0m\u001b[0;34m\u001b[0m\u001b[0m\n\u001b[1;32m      6\u001b[0m     \u001b[0mitem_total\u001b[0m \u001b[0;34m=\u001b[0m \u001b[0;36m0\u001b[0m\u001b[0;34m\u001b[0m\u001b[0;34m\u001b[0m\u001b[0m\n\u001b[0;32m----> 7\u001b[0;31m     \u001b[0;32mfor\u001b[0m \u001b[0mk\u001b[0m\u001b[0;34m,\u001b[0m \u001b[0mv\u001b[0m \u001b[0;32min\u001b[0m \u001b[0minventory\u001b[0m\u001b[0;34m.\u001b[0m\u001b[0mitems\u001b[0m\u001b[0;34m(\u001b[0m\u001b[0;34m)\u001b[0m\u001b[0;34m:\u001b[0m\u001b[0;34m\u001b[0m\u001b[0;34m\u001b[0m\u001b[0m\n\u001b[0m\u001b[1;32m      8\u001b[0m         \u001b[0;34m...\u001b[0m\u001b[0;34m\u001b[0m\u001b[0;34m\u001b[0m\u001b[0m\n\u001b[1;32m      9\u001b[0m         \u001b[0;31m# FILL THIS PART IN\u001b[0m\u001b[0;34m\u001b[0m\u001b[0;34m\u001b[0m\u001b[0;34m\u001b[0m\u001b[0m\n",
      "\u001b[0;31mAttributeError\u001b[0m: 'NoneType' object has no attribute 'items'"
     ]
    }
   ],
   "source": [
    "def addToInventory(inventory, addedItems):\n",
    "    # your code goes here\n",
    "    ...\n",
    "\n",
    "inv = {'gold coin': 42, 'rope': 1}\n",
    "dragonLoot = ['gold coin', 'dagger', 'gold coin', 'gold coin', 'ruby']\n",
    "inv = addToInventory(inv, dragonLoot)\n",
    "displayInventory(inv)"
   ]
  },
  {
   "cell_type": "markdown",
   "id": "7a0ae6c1-575f-4682-92cb-9ae4b9bb71aa",
   "metadata": {},
   "source": [
    "The previous program (with your displayInventory() function from the previous project) would output the following:\n",
    "\n",
    "```\n",
    "Inventory:\n",
    "45 gold coin\n",
    "1 rope\n",
    "1 ruby\n",
    "1 dagger\n",
    "\n",
    "Total number of items: 48\n",
    "```"
   ]
  },
  {
   "cell_type": "code",
   "execution_count": null,
   "id": "c0c0fac6-493c-4203-9ec9-a1534dd63271",
   "metadata": {},
   "outputs": [],
   "source": []
  }
 ],
 "metadata": {
  "kernelspec": {
   "display_name": "base",
   "language": "python",
   "name": "base"
  },
  "language_info": {
   "codemirror_mode": {
    "name": "ipython",
    "version": 3
   },
   "file_extension": ".py",
   "mimetype": "text/x-python",
   "name": "python",
   "nbconvert_exporter": "python",
   "pygments_lexer": "ipython3",
   "version": "3.8.12"
  }
 },
 "nbformat": 4,
 "nbformat_minor": 5
}
