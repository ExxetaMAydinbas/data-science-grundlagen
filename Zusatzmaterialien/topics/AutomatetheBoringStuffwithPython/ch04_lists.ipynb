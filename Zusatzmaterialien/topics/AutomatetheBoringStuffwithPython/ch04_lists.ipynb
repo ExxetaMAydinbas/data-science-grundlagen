{
 "cells": [
  {
   "cell_type": "markdown",
   "id": "257b78b7-92bc-4a8d-b8b3-2537999d939b",
   "metadata": {},
   "source": [
    "# Lists\n",
    "\n",
    "One more topic you’ll need to understand before you can begin writing programs in earnest is the `list` data type and its cousin, the `tuple`. Lists and tuples can contain multiple values, which makes writing programs that handle large amounts of data easier. And since lists themselves can contain other lists, you can use them to arrange data into *hierarchical structures*.\n",
    "\n",
    "In this chapter, I’ll discuss the basics of lists. I’ll also teach you about methods, which are functions that are tied to values of a certain data type. Then I’ll briefly cover the sequence data types (lists, tuples, and strings) and show how they compare with each other. In the next chapter, I’ll introduce you to the dictionary data type."
   ]
  },
  {
   "cell_type": "markdown",
   "id": "53a5c78c-1116-46f7-9c8d-7c32c5718843",
   "metadata": {},
   "source": [
    "## The `List` Data Type\n",
    "\n",
    "A `list` is a value that contains multiple values in an **ordered sequence**. The term list value refers to the `list` itself (which is a value that can be stored in a variable or passed to a function like any other value), not the values inside the list value. A list value looks like this: `['cat', 'bat', 'rat', 'elephant']`. Just as string values are typed with quote characters to mark where the string begins and ends, a list begins with an opening square bracket and ends with a closing square bracket, `[]`. Values inside the list are also called *items*. Items are separated with commas (that is, they are comma-delimited). For example, enter the following:\n",
    "\n"
   ]
  },
  {
   "cell_type": "code",
   "execution_count": 1,
   "id": "282201c8-aec1-4bd8-9029-c65b6ac469b7",
   "metadata": {},
   "outputs": [],
   "source": [
    "[1, 2, 3]\n",
    "['cat', 'bat', 'rat', 'elephant']\n",
    "['hello', 3.1415, True, None, 42]\n",
    "\n",
    "spam = ['cat', 'bat', 'rat', 'elephant']\n",
    "assert spam == ['cat', 'bat', 'rat', 'elephant']"
   ]
  },
  {
   "cell_type": "code",
   "execution_count": 5,
   "id": "0207579b-7aae-4f8f-bcac-fb3bf83f05ba",
   "metadata": {},
   "outputs": [
    {
     "data": {
      "text/plain": [
       "True"
      ]
     },
     "execution_count": 5,
     "metadata": {},
     "output_type": "execute_result"
    }
   ],
   "source": [
    "[1,2,3] == list(range(1,4))"
   ]
  },
  {
   "cell_type": "markdown",
   "id": "034beb43-6c55-4ad8-8004-7ed429398918",
   "metadata": {},
   "source": [
    "The `spam` variable is still assigned only one value: the list value. But the list value itself contains other values. The value `[]` is an empty list that contains no values, similar to '', the empty string.\n"
   ]
  },
  {
   "cell_type": "code",
   "execution_count": 7,
   "id": "ad3dddc4-0c84-4a9a-8ce4-3241ee3fe53f",
   "metadata": {},
   "outputs": [],
   "source": [
    "assert bool(\"\") == False\n",
    "assert bool([]) == False"
   ]
  },
  {
   "cell_type": "markdown",
   "id": "5dd72005-9934-4fb8-ab85-b703291d2b6c",
   "metadata": {},
   "source": [
    "### Getting Individual Values in a List with Indexes\n",
    "\n",
    "Say you have the list `['cat', 'bat', 'rat', 'elephant']` stored in a variable named `spam`. The Python code `spam[0]` would evaluate to 'cat', and `spam[1]` would evaluate to 'bat', and so on. The integer inside the square brackets that follows the list is called an **index**. The first value in the list is at index `0`, the second value is at index `1`, the third value is at index `2`, and so on. Figure 4-1 shows a list value assigned to spam, along with what the index expressions would evaluate to. Note that because the first index is `0`, the last index is *one less than the size of the list*; a list of four items has 3 as its last index.\n",
    "\n",
    "![](https://automatetheboringstuff.com/2e/images/000090.jpg)"
   ]
  },
  {
   "cell_type": "markdown",
   "id": "a4e4fab0-176d-4a07-8342-7612f8a35e9e",
   "metadata": {},
   "source": [
    "For example, enter the following expressions into the interactive shell. Start by assigning a list to the variable `spam`."
   ]
  },
  {
   "cell_type": "code",
   "execution_count": 8,
   "id": "3f6fa4f9-1501-414e-b580-5717951ca313",
   "metadata": {},
   "outputs": [],
   "source": [
    "spam = ['cat', 'bat', 'rat', 'elephant']\n",
    "\n",
    "assert spam[0] == 'cat'\n",
    "assert spam[1] == 'bat'\n",
    "assert spam[2] == 'rat'\n",
    "assert spam[3] == 'elephant'\n",
    "\n",
    "assert ['cat', 'bat', 'rat', 'elephant'][3] == 'elephant'\n",
    "\n",
    "assert 'Hello, ' + spam[0] == 'Hello, cat'\n",
    "assert 'The ' + spam[1] + ' ate the ' + spam[0] + '.' == 'The bat ate the cat.'"
   ]
  },
  {
   "cell_type": "markdown",
   "id": "daa2548a-b1e7-4e7a-8945-bf8b1bcc1e2e",
   "metadata": {},
   "source": [
    "Notice that the expression `'Hello, ' + spam[0]` evaluates to `'Hello, ' + 'cat'` because `spam[0]` evaluates to the string 'cat'. This expression in turn evaluates to the string value 'Hello, cat'."
   ]
  },
  {
   "cell_type": "markdown",
   "id": "5f732033-2dd3-4e3d-b32f-883b9e8ed893",
   "metadata": {},
   "source": [
    "Python will give you an `IndexError` error message if you use an index that exceeds the number of values in your list value."
   ]
  },
  {
   "cell_type": "code",
   "execution_count": 9,
   "id": "6946fa1a-52de-4260-b880-4ecb5f9a3feb",
   "metadata": {},
   "outputs": [
    {
     "ename": "IndexError",
     "evalue": "list index out of range",
     "output_type": "error",
     "traceback": [
      "\u001b[0;31m---------------------------------------------------------------------------\u001b[0m",
      "\u001b[0;31mIndexError\u001b[0m                                Traceback (most recent call last)",
      "\u001b[0;32m<ipython-input-9-c534d1257239>\u001b[0m in \u001b[0;36m<module>\u001b[0;34m\u001b[0m\n\u001b[0;32m----> 1\u001b[0;31m \u001b[0;34m[\u001b[0m\u001b[0;34m'cat'\u001b[0m\u001b[0;34m,\u001b[0m \u001b[0;34m'bat'\u001b[0m\u001b[0;34m,\u001b[0m \u001b[0;34m'rat'\u001b[0m\u001b[0;34m,\u001b[0m \u001b[0;34m'elephant'\u001b[0m\u001b[0;34m]\u001b[0m\u001b[0;34m[\u001b[0m\u001b[0;36m5\u001b[0m\u001b[0;34m]\u001b[0m\u001b[0;34m\u001b[0m\u001b[0;34m\u001b[0m\u001b[0m\n\u001b[0m",
      "\u001b[0;31mIndexError\u001b[0m: list index out of range"
     ]
    }
   ],
   "source": [
    "['cat', 'bat', 'rat', 'elephant'][5]"
   ]
  },
  {
   "cell_type": "markdown",
   "id": "d3dd258d-8ea4-4deb-aefc-afb7183a48f8",
   "metadata": {},
   "source": [
    "Indexes can be only integer values, not floats. The following example will cause a `TypeError` error:"
   ]
  },
  {
   "cell_type": "code",
   "execution_count": 14,
   "id": "1e0ff30b-2d7f-444d-bfa0-1ada1d1b9ab6",
   "metadata": {},
   "outputs": [
    {
     "name": "stderr",
     "output_type": "stream",
     "text": [
      "<>:3: SyntaxWarning: list indices must be integers or slices, not float; perhaps you missed a comma?\n",
      "<>:3: SyntaxWarning: list indices must be integers or slices, not float; perhaps you missed a comma?\n",
      "<ipython-input-14-2856aa3eddf3>:3: SyntaxWarning: list indices must be integers or slices, not float; perhaps you missed a comma?\n",
      "  ['cat', 'bat', 'rat', 'elephant'][1.0]\n"
     ]
    },
    {
     "ename": "TypeError",
     "evalue": "list indices must be integers or slices, not float",
     "output_type": "error",
     "traceback": [
      "\u001b[0;31m---------------------------------------------------------------------------\u001b[0m",
      "\u001b[0;31mTypeError\u001b[0m                                 Traceback (most recent call last)",
      "\u001b[0;32m<ipython-input-14-2856aa3eddf3>\u001b[0m in \u001b[0;36m<module>\u001b[0;34m\u001b[0m\n\u001b[1;32m      1\u001b[0m \u001b[0;32massert\u001b[0m \u001b[0;34m[\u001b[0m\u001b[0;34m'cat'\u001b[0m\u001b[0;34m,\u001b[0m \u001b[0;34m'bat'\u001b[0m\u001b[0;34m,\u001b[0m \u001b[0;34m'rat'\u001b[0m\u001b[0;34m,\u001b[0m \u001b[0;34m'elephant'\u001b[0m\u001b[0;34m]\u001b[0m\u001b[0;34m[\u001b[0m\u001b[0;36m1\u001b[0m\u001b[0;34m]\u001b[0m \u001b[0;34m==\u001b[0m \u001b[0;34m'bat'\u001b[0m\u001b[0;34m\u001b[0m\u001b[0;34m\u001b[0m\u001b[0m\n\u001b[1;32m      2\u001b[0m \u001b[0;34m\u001b[0m\u001b[0m\n\u001b[0;32m----> 3\u001b[0;31m \u001b[0;34m[\u001b[0m\u001b[0;34m'cat'\u001b[0m\u001b[0;34m,\u001b[0m \u001b[0;34m'bat'\u001b[0m\u001b[0;34m,\u001b[0m \u001b[0;34m'rat'\u001b[0m\u001b[0;34m,\u001b[0m \u001b[0;34m'elephant'\u001b[0m\u001b[0;34m]\u001b[0m\u001b[0;34m[\u001b[0m\u001b[0;36m1.0\u001b[0m\u001b[0;34m]\u001b[0m\u001b[0;34m\u001b[0m\u001b[0;34m\u001b[0m\u001b[0m\n\u001b[0m",
      "\u001b[0;31mTypeError\u001b[0m: list indices must be integers or slices, not float"
     ]
    }
   ],
   "source": [
    "assert ['cat', 'bat', 'rat', 'elephant'][1] == 'bat'\n",
    "\n",
    "['cat', 'bat', 'rat', 'elephant'][1.0]"
   ]
  },
  {
   "cell_type": "markdown",
   "id": "3ac1e3a7-944c-4235-a645-497e816e8667",
   "metadata": {},
   "source": [
    "Lists can also contain other list values. The values in these lists of lists can be accessed using multiple indexes, like so:"
   ]
  },
  {
   "cell_type": "code",
   "execution_count": 15,
   "id": "78f81260-94b0-4b92-940c-604b6dc7ce3c",
   "metadata": {},
   "outputs": [],
   "source": [
    "spam = [['cat', 'bat'], [10, 20, 30, 40, 50]]\n",
    "\n",
    "assert spam[0] == ['cat', 'bat']\n",
    "assert spam[0][1] == 'bat'\n",
    "assert spam[1][4] == 50"
   ]
  },
  {
   "cell_type": "markdown",
   "id": "db32c1f3-8ee8-4bf8-ae0b-17eeb8014130",
   "metadata": {},
   "source": [
    "The first index dictates which list value to use, and the second indicates the value within the list value. For example, `spam[0][1]` prints 'bat', the second value in the first list. If you only use one index, the program will print the *full list* value at that index."
   ]
  },
  {
   "cell_type": "markdown",
   "id": "33eaf2cd-0922-4507-9755-119ca5b7a6ac",
   "metadata": {},
   "source": [
    "### Negative Indexes\n",
    "\n",
    "While indexes start at `0` and go up, you can also use **negative integers** for the index. The integer value `-1` refers to the *last index* in a list, the value `-2` refers to the *second-to-last index* in a list, and so on:"
   ]
  },
  {
   "cell_type": "code",
   "execution_count": 16,
   "id": "1aebdc44-730e-4cab-acc8-2a455a6c2aa3",
   "metadata": {},
   "outputs": [],
   "source": [
    "spam = ['cat', 'bat', 'rat', 'elephant']\n",
    "\n",
    "assert spam[-1] == 'elephant'\n",
    "assert spam[-3] == 'bat'\n",
    "assert 'The ' + spam[-1] + ' is afraid of the ' + spam[-3] + '.' == 'The elephant is afraid of the bat.'"
   ]
  },
  {
   "cell_type": "markdown",
   "id": "34c3f0ae-e0f6-4a3d-9412-cc6ca26426cd",
   "metadata": {},
   "source": [
    "### Getting a List from Another List with Slices\n",
    "\n",
    "Just as an index can get a single value from a list, a **slice** can get several values from a list, in the form of a *new list*. A slice is typed between square brackets, like an index, but it has *two integers separated by a colon*. Notice the difference between indexes and slices.\n",
    "\n",
    "- `spam[2]` returns a single value because it's accessed with an index (one integer).\n",
    "- `spam[1:4]` returns a list because it's accessed with a slice (two integers).\n",
    "\n",
    "In a slice, the first integer is the index where the slice *starts*. The second integer is the index where the slice *ends*. A slice goes up to, but will *not include*, the value at the second index. A slice evaluates to a new list value:"
   ]
  },
  {
   "cell_type": "code",
   "execution_count": 17,
   "id": "a462a544-216a-4ca6-bf0b-61313d59fa22",
   "metadata": {},
   "outputs": [],
   "source": [
    "spam = ['cat', 'bat', 'rat', 'elephant']\n",
    "\n",
    "assert spam[0:4] == ['cat', 'bat', 'rat', 'elephant']\n",
    "assert spam[1:3] == ['bat', 'rat']\n",
    "assert spam[0:-1] == ['cat', 'bat', 'rat']"
   ]
  },
  {
   "cell_type": "markdown",
   "id": "0bcd8af3-4e3d-473e-b4e4-62d6ba44ad1d",
   "metadata": {},
   "source": [
    "As a *shortcut*, you can leave out one or both of the indexes on either side of the colon in the slice. Leaving out the first index is the same as using `0`, or the beginning of the list. Leaving out the second index is the same as using the *length of the list*, which will slice to the end of the list:\n"
   ]
  },
  {
   "cell_type": "code",
   "execution_count": 18,
   "id": "88e162d8-6c2d-49c8-bd93-ecf20ef7e80c",
   "metadata": {},
   "outputs": [],
   "source": [
    "spam = ['cat', 'bat', 'rat', 'elephant'] \n",
    "\n",
    "assert spam[:2] == ['cat', 'bat']\n",
    "assert spam[1:] == ['bat', 'rat', 'elephant']\n",
    "assert spam == ['cat', 'bat', 'rat', 'elephant']  # copy!"
   ]
  },
  {
   "cell_type": "markdown",
   "id": "8ef4604d-2905-4163-8c95-fb6a782a905c",
   "metadata": {},
   "source": [
    "### Getting a List’s Length with the `len()` Function\n",
    "\n",
    "The `len()` function will return the number of values that are in a list value passed to it, just like it can count the number of characters in a string value:"
   ]
  },
  {
   "cell_type": "code",
   "execution_count": 31,
   "id": "8ee6ed9c-3d7e-4ed9-87b0-8d1b8fe9f890",
   "metadata": {},
   "outputs": [],
   "source": [
    "spam = ['cat', 'dog', 'moose']\n",
    "\n",
    "assert len(spam) == 3"
   ]
  },
  {
   "cell_type": "markdown",
   "id": "9147ba8e-f95e-48e7-8aed-890d8e3724a8",
   "metadata": {},
   "source": [
    "### Changing Values in a List with Indexes\n",
    "\n",
    "Normally, a *variable name* goes on the left side of an assignment statement, like `spam = 42`. However, you can also use an *index of a list to change the value at that index*. For example, `spam[1] = 'aardvark'` means “Assign the value at index 1 in the list spam to the string 'aardvark'.”:"
   ]
  },
  {
   "cell_type": "code",
   "execution_count": 20,
   "id": "d4ba6771-c51e-4edc-85a7-61f42a62aaee",
   "metadata": {},
   "outputs": [],
   "source": [
    "spam = ['cat', 'bat', 'rat', 'elephant']\n",
    "\n",
    "\n",
    "spam[1] = 'aardvark'\n",
    "assert spam == ['cat', 'aardvark', 'rat', 'elephant']\n",
    "\n",
    "spam[2] = spam[1]\n",
    "assert spam == ['cat', 'aardvark', 'aardvark', 'elephant']\n",
    "\n",
    "spam[-1] = 12345\n",
    "assert spam == ['cat', 'aardvark', 'aardvark', 12345]"
   ]
  },
  {
   "cell_type": "code",
   "execution_count": 2,
   "id": "ae3ee346-2a09-4303-af8e-64273ee5b9b9",
   "metadata": {},
   "outputs": [
    {
     "data": {
      "text/plain": [
       "[1, 4, 5, 4]"
      ]
     },
     "execution_count": 2,
     "metadata": {},
     "output_type": "execute_result"
    }
   ],
   "source": [
    "spam = [1,2,3,4]\n",
    "spam[1:3] = [4,5] # spam[1] = 4, spam[2] = 5\n",
    "spam"
   ]
  },
  {
   "cell_type": "markdown",
   "id": "b85f0da6-e77c-42f3-9cdb-7474df0ae919",
   "metadata": {},
   "source": [
    "### List Concatenation and List Replication\n",
    "\n",
    "Lists can be concatenated and replicated just like strings. The `+ `operator **combines two lists** to create a new list value and the `*` operator can be used with a list and an integer value to *replicate the list*:"
   ]
  },
  {
   "cell_type": "code",
   "execution_count": 9,
   "id": "90fb6142-a764-4f64-824d-2a319f00d65f",
   "metadata": {},
   "outputs": [
    {
     "name": "stdout",
     "output_type": "stream",
     "text": [
      "140360746948608\n",
      "140360746948608\n"
     ]
    }
   ],
   "source": [
    "assert [1, 2, 3] + ['A', 'B', 'C'] == [1, 2, 3, 'A', 'B', 'C']  # .extend()\n",
    "assert ['X', 'Y', 'Z'] * 3 == ['X', 'Y', 'Z', 'X', 'Y', 'Z', 'X', 'Y', 'Z']\n",
    "\n",
    "spam = [1, 2, 3]\n",
    "print(id(spam))\n",
    "\n",
    "spam.extend(['A', 'B', 'C'])\n",
    "print(id(spam))\n",
    "assert  spam == [1, 2, 3, 'A', 'B', 'C']"
   ]
  },
  {
   "cell_type": "markdown",
   "id": "5613b296-4c5c-44a1-977c-085c40139324",
   "metadata": {},
   "source": [
    "### Removing Values from Lists with `del` Statements\n",
    "\n",
    "The `del` statement will *delete values at an index* in a list. All of the values in the list after the deleted value will be moved up one index:"
   ]
  },
  {
   "cell_type": "code",
   "execution_count": 30,
   "id": "49793a00-eec4-47c6-9d27-6e7d045514f2",
   "metadata": {},
   "outputs": [],
   "source": [
    "spam = ['cat', 'bat', 'rat', 'elephant']\n",
    "del spam[2]\n",
    "\n",
    "assert spam == ['cat', 'bat', 'elephant']\n",
    "\n",
    "del spam[2]\n",
    "\n",
    "assert spam == ['cat', 'bat']"
   ]
  },
  {
   "cell_type": "markdown",
   "id": "778e0a75-554d-4150-9aa1-5eb4454f6e81",
   "metadata": {},
   "source": [
    "The `del` statement can also be used on a simple variable to delete it, as if it were an “unassignment” statement. If you try to use the variable after deleting it, you will get a `NameError` error because the variable no longer exists. In practice, you almost never need to delete simple variables. The del statement is mostly used to delete values from lists."
   ]
  },
  {
   "cell_type": "markdown",
   "id": "5a882cce-2f36-4bf3-8bad-88240a23e4dd",
   "metadata": {},
   "source": [
    "## Working with Lists\n",
    "\n",
    "When you first begin writing programs, it’s tempting to create many individual variables to store a group of similar values. For example, if I wanted to store the names of my cats, I might be tempted to write code like this:"
   ]
  },
  {
   "cell_type": "code",
   "execution_count": 23,
   "id": "e8856f16-61f3-4437-8c40-712e99212072",
   "metadata": {},
   "outputs": [],
   "source": [
    "catName1 = 'Zophie'\n",
    "catName2 = 'Pooka'\n",
    "catName3 = 'Simon'\n",
    "catName4 = 'Lady Macbeth'\n",
    "catName5 = 'Fat-tail'\n",
    "catName6 = 'Miss Cleo'"
   ]
  },
  {
   "cell_type": "markdown",
   "id": "07781cfe-32ba-42ba-8e21-caa5de2e81a1",
   "metadata": {},
   "source": [
    "It turns out that this is a bad way to write code. (Also, I don’t actually own this many cats, I swear.) For one thing, if the number of cats changes, your program will never be able to store more cats than you have variables. These types of programs also have a lot of *duplicate or nearly identical code* in them. Consider how much duplicate code is in the following program:"
   ]
  },
  {
   "cell_type": "code",
   "execution_count": 24,
   "id": "2c0912db-7ad1-4d07-bcce-143ae1509367",
   "metadata": {},
   "outputs": [
    {
     "name": "stdout",
     "output_type": "stream",
     "text": [
      "Enter the name of cat 1:\n"
     ]
    },
    {
     "name": "stdin",
     "output_type": "stream",
     "text": [
      " a\n"
     ]
    },
    {
     "name": "stdout",
     "output_type": "stream",
     "text": [
      "Enter the name of cat 2:\n"
     ]
    },
    {
     "name": "stdin",
     "output_type": "stream",
     "text": [
      " b\n"
     ]
    },
    {
     "name": "stdout",
     "output_type": "stream",
     "text": [
      "Enter the name of cat 3:\n"
     ]
    },
    {
     "name": "stdin",
     "output_type": "stream",
     "text": [
      " c\n"
     ]
    },
    {
     "name": "stdout",
     "output_type": "stream",
     "text": [
      "Enter the name of cat 4:\n"
     ]
    },
    {
     "name": "stdin",
     "output_type": "stream",
     "text": [
      " d\n"
     ]
    },
    {
     "name": "stdout",
     "output_type": "stream",
     "text": [
      "Enter the name of cat 5:\n"
     ]
    },
    {
     "name": "stdin",
     "output_type": "stream",
     "text": [
      " e\n"
     ]
    },
    {
     "name": "stdout",
     "output_type": "stream",
     "text": [
      "Enter the name of cat 6:\n"
     ]
    },
    {
     "name": "stdin",
     "output_type": "stream",
     "text": [
      " f\n"
     ]
    },
    {
     "name": "stdout",
     "output_type": "stream",
     "text": [
      "The cat names are:\n",
      "a b c d e f\n"
     ]
    }
   ],
   "source": [
    "print('Enter the name of cat 1:')\n",
    "catName1 = input()\n",
    "print('Enter the name of cat 2:')\n",
    "catName2 = input()\n",
    "print('Enter the name of cat 3:')\n",
    "catName3 = input()\n",
    "print('Enter the name of cat 4:')\n",
    "catName4 = input()\n",
    "print('Enter the name of cat 5:')\n",
    "catName5 = input()\n",
    "print('Enter the name of cat 6:')\n",
    "catName6 = input()\n",
    "print('The cat names are:')\n",
    "print(catName1 + ' ' + catName2 + ' ' + catName3 + ' ' + catName4 + ' ' +\n",
    "catName5 + ' ' + catName6)"
   ]
  },
  {
   "cell_type": "markdown",
   "id": "41d928c9-44fb-4fda-be44-908b459fc0fb",
   "metadata": {},
   "source": [
    "Instead of using multiple, repetitive variables, you can use a single variable that contains a list value. For example, here’s a new and improved version of the allMyCats1.py program. This new version uses a single `list` and can store any number of cats that the user types in:"
   ]
  },
  {
   "cell_type": "code",
   "execution_count": 12,
   "id": "9f7ea4df-a6bc-4a2d-84a9-6455c4ba0328",
   "metadata": {},
   "outputs": [
    {
     "name": "stdout",
     "output_type": "stream",
     "text": [
      "Enter the name of cat 1 (Or enter nothing to stop.):\n"
     ]
    },
    {
     "name": "stdin",
     "output_type": "stream",
     "text": [
      " miau\n"
     ]
    },
    {
     "name": "stdout",
     "output_type": "stream",
     "text": [
      "Enter the name of cat 2 (Or enter nothing to stop.):\n"
     ]
    },
    {
     "name": "stdin",
     "output_type": "stream",
     "text": [
      " test\n"
     ]
    },
    {
     "name": "stdout",
     "output_type": "stream",
     "text": [
      "Enter the name of cat 3 (Or enter nothing to stop.):\n"
     ]
    },
    {
     "name": "stdin",
     "output_type": "stream",
     "text": [
      " \n"
     ]
    },
    {
     "name": "stdout",
     "output_type": "stream",
     "text": [
      "The cat names are:\n",
      "  miau\n",
      "  test\n"
     ]
    }
   ],
   "source": [
    "catNames = []\n",
    "while True:\n",
    "    print('Enter the name of cat ' + str(len(catNames) + 1) +\n",
    "      ' (Or enter nothing to stop.):')\n",
    "    name = input()\n",
    "    if name == '':\n",
    "        break\n",
    "    catNames.append(name)  # list concatenation\n",
    "    \n",
    "print('The cat names are:')\n",
    "for name in catNames:\n",
    "    print('  ' + name)"
   ]
  },
  {
   "cell_type": "markdown",
   "id": "a669203a-15b2-4769-a9ec-68a28b8e0dee",
   "metadata": {},
   "source": [
    "The benefit of using a `list` is that your data is now in a structure, so your program is much *more flexible in processing the data* than it would be with several repetitive variables."
   ]
  },
  {
   "cell_type": "markdown",
   "id": "b6efb4dd-3550-4e61-bf83-14a48d9e82a4",
   "metadata": {},
   "source": [
    "### Using `for` Loops with Lists\n",
    "\n",
    "In Chapter 2, you learned about using `for` loops to execute a block of code a certain number of times. Technically, a for loop repeats the code block once for each item in a list value. For example, if you ran this code:\n",
    "\n"
   ]
  },
  {
   "cell_type": "code",
   "execution_count": 29,
   "id": "cfb0a5c7-e07b-402f-97b6-c81829db27ae",
   "metadata": {},
   "outputs": [
    {
     "name": "stdout",
     "output_type": "stream",
     "text": [
      "0\n",
      "1\n",
      "2\n",
      "3\n"
     ]
    }
   ],
   "source": [
    "for i in range(4):\n",
    "    print(i)"
   ]
  },
  {
   "cell_type": "markdown",
   "id": "f78e0566-baca-436b-912b-48d6795b3917",
   "metadata": {},
   "source": [
    "This is because the return value from `range(4)` is a **sequence value** that Python considers similar to `[0, 1, 2, 3]`. (Sequences are described in “Sequence Data Types” on page 93.) The following program has the same output as the previous one:"
   ]
  },
  {
   "cell_type": "code",
   "execution_count": 27,
   "id": "a933f871-6603-44ce-9792-d38fe7c4b2cd",
   "metadata": {},
   "outputs": [
    {
     "name": "stdout",
     "output_type": "stream",
     "text": [
      "0\n",
      "1\n",
      "2\n",
      "3\n"
     ]
    }
   ],
   "source": [
    "for i in [0, 1, 2, 3]:\n",
    "    print(i)"
   ]
  },
  {
   "cell_type": "markdown",
   "id": "41c34fe5-4295-46e1-9804-5db1fa466f12",
   "metadata": {},
   "source": [
    "The previous `for` loop actually loops through its clause with the variable `i` set to a successive value in the `[0, 1, 2, 3]` list in each iteration.\n",
    "\n",
    "A common Python technique is to use `range(len(someList))` with a `for` loop to iterate over the indexes of a list."
   ]
  },
  {
   "cell_type": "code",
   "execution_count": 14,
   "id": "eaeb3df6-7452-4b79-b335-28703a4ca590",
   "metadata": {},
   "outputs": [
    {
     "name": "stdout",
     "output_type": "stream",
     "text": [
      "Index 0 in supplies is: pens\n",
      "Index 1 in supplies is: staplers\n",
      "Index 2 in supplies is: flamethrowers\n",
      "Index 3 in supplies is: binders\n"
     ]
    }
   ],
   "source": [
    "supplies = ['pens', 'staplers', 'flamethrowers', 'binders']\n",
    "for i in range(len(supplies)):\n",
    "    print('Index ' + str(i) + ' in supplies is: ' + supplies[i])\n"
   ]
  },
  {
   "cell_type": "code",
   "execution_count": 15,
   "id": "899a550c-8003-4a29-a9ff-849729fa0998",
   "metadata": {},
   "outputs": [
    {
     "name": "stdout",
     "output_type": "stream",
     "text": [
      "0 pens\n",
      "1 staplers\n",
      "2 flamethrowers\n",
      "3 binders\n"
     ]
    }
   ],
   "source": [
    "for i, supply in enumerate(supplies): # (index, element)\n",
    "    print(i, supply)"
   ]
  },
  {
   "cell_type": "markdown",
   "id": "20eef094-ce58-4776-91a2-94701cd4ae1b",
   "metadata": {},
   "source": [
    "Using `range(len(supplies))` in the previously shown `for` loop is handy because the code in the loop can access the index (as the variable `i`) and the value at that index (as `supplies[i]`). Best of all, `range(len(supplies))` will iterate through all the indexes of supplies, no matter how many items it contains.\n"
   ]
  },
  {
   "cell_type": "markdown",
   "id": "2bfa5eb6-68f2-4ac7-aac5-b0296ffa935b",
   "metadata": {},
   "source": [
    "### The `in` and `not in` Operators\n",
    "\n",
    "You can determine whether a value is or isn’t in a list with the `in` and `not in` operators. Like other operators, `in` and `not in` are used in expressions and connect two values: a value to look for in a list and the list where it may be found. These expressions will evaluate to a Boolean value."
   ]
  },
  {
   "cell_type": "code",
   "execution_count": 34,
   "id": "56933ff5-46f4-47f3-817c-2b41293965d7",
   "metadata": {},
   "outputs": [],
   "source": [
    "assert 'howdy' in ['hello', 'hi', 'howdy', 'heyas']\n",
    "\n",
    "spam = ['hello', 'hi', 'howdy', 'heyas']\n",
    "assert ('cat' in spam) == False\n",
    "assert ('howdy' not in spam) == False\n",
    "assert ('cat' not in spam) == True"
   ]
  },
  {
   "cell_type": "markdown",
   "id": "3349a19b-f5de-46d0-84fe-31cbc009940e",
   "metadata": {},
   "source": [
    "For example, the following program lets the user type in a pet name and then checks to see whether the name is in a list of pets."
   ]
  },
  {
   "cell_type": "code",
   "execution_count": 36,
   "id": "babb386c-ba11-44d3-a761-a2862400cca6",
   "metadata": {},
   "outputs": [
    {
     "name": "stdout",
     "output_type": "stream",
     "text": [
      "Enter a pet name:\n"
     ]
    },
    {
     "name": "stdin",
     "output_type": "stream",
     "text": [
      " a\n"
     ]
    },
    {
     "name": "stdout",
     "output_type": "stream",
     "text": [
      "I do not have a pet named a\n"
     ]
    }
   ],
   "source": [
    "myPets = ['Zophie', 'Pooka', 'Fat-tail']\n",
    "\n",
    "print('Enter a pet name:')\n",
    "name = input()\n",
    "\n",
    "if name not in myPets:\n",
    "    print('I do not have a pet named ' + name)\n",
    "else:\n",
    "    print(name + ' is my pet.')"
   ]
  },
  {
   "cell_type": "markdown",
   "id": "f0c5d3f0-49f6-4a91-bc0d-68abdc0dc2e2",
   "metadata": {},
   "source": [
    "### The Multiple Assignment Trick\n",
    "\n",
    "The multiple assignment trick (technically called **tuple unpacking**) is a shortcut that lets you assign multiple variables with the values in a list in one line of code. So instead of doing this:"
   ]
  },
  {
   "cell_type": "code",
   "execution_count": 37,
   "id": "5a8412b7-d168-43a3-b796-ef2305fad954",
   "metadata": {},
   "outputs": [],
   "source": [
    "cat = ['fat', 'gray', 'loud']\n",
    "size = cat[0]\n",
    "color = cat[1]\n",
    "disposition = cat[2]"
   ]
  },
  {
   "cell_type": "markdown",
   "id": "beea40b8-20ed-4bba-bb92-77564d6193b2",
   "metadata": {},
   "source": [
    "you could type this line of code:"
   ]
  },
  {
   "cell_type": "code",
   "execution_count": 38,
   "id": "87f7f930-119a-440c-ab29-14b3cc886325",
   "metadata": {},
   "outputs": [],
   "source": [
    "cat = ['fat', 'gray', 'loud']\n",
    "size, color, disposition = cat"
   ]
  },
  {
   "cell_type": "markdown",
   "id": "eb69eb70-7604-40aa-b698-eb91d69e624a",
   "metadata": {},
   "source": [
    "The number of variables and the length of the list must be exactly equal, or Python will give you a `ValueError`:"
   ]
  },
  {
   "cell_type": "code",
   "execution_count": 39,
   "id": "a0993558-ec3f-42a5-acec-0827475f0ad8",
   "metadata": {},
   "outputs": [
    {
     "ename": "ValueError",
     "evalue": "not enough values to unpack (expected 4, got 3)",
     "output_type": "error",
     "traceback": [
      "\u001b[0;31m---------------------------------------------------------------------------\u001b[0m",
      "\u001b[0;31mValueError\u001b[0m                                Traceback (most recent call last)",
      "\u001b[0;32m<ipython-input-39-ee84a0560228>\u001b[0m in \u001b[0;36m<module>\u001b[0;34m\u001b[0m\n\u001b[1;32m      1\u001b[0m \u001b[0mcat\u001b[0m \u001b[0;34m=\u001b[0m \u001b[0;34m[\u001b[0m\u001b[0;34m'fat'\u001b[0m\u001b[0;34m,\u001b[0m \u001b[0;34m'gray'\u001b[0m\u001b[0;34m,\u001b[0m \u001b[0;34m'loud'\u001b[0m\u001b[0;34m]\u001b[0m\u001b[0;34m\u001b[0m\u001b[0;34m\u001b[0m\u001b[0m\n\u001b[0;32m----> 2\u001b[0;31m \u001b[0msize\u001b[0m\u001b[0;34m,\u001b[0m \u001b[0mcolor\u001b[0m\u001b[0;34m,\u001b[0m \u001b[0mdisposition\u001b[0m\u001b[0;34m,\u001b[0m \u001b[0mname\u001b[0m \u001b[0;34m=\u001b[0m \u001b[0mcat\u001b[0m\u001b[0;34m\u001b[0m\u001b[0;34m\u001b[0m\u001b[0m\n\u001b[0m",
      "\u001b[0;31mValueError\u001b[0m: not enough values to unpack (expected 4, got 3)"
     ]
    }
   ],
   "source": [
    "cat = ['fat', 'gray', 'loud']\n",
    "size, color, disposition, name = cat"
   ]
  },
  {
   "cell_type": "markdown",
   "id": "0f06b59a-dfc3-4420-b213-166f7cca14bb",
   "metadata": {},
   "source": [
    "### Using the `enumerate()` Function with Lists\n",
    "\n",
    "Instead of using the `range(len(someList))` technique with a `for` loop to obtain the integer index of the items in the list, you can call the `enumerate()` function instead. On each iteration of the loop, `enumerate()` will return two values: the index of the item in the list, and the item in the list itself. For example, this code is equivalent to the code in the “Using for Loops with Lists” on page 84:\n"
   ]
  },
  {
   "cell_type": "code",
   "execution_count": 40,
   "id": "4e717312-bca1-4a7c-bbe1-2d20ef258d7a",
   "metadata": {},
   "outputs": [
    {
     "name": "stdout",
     "output_type": "stream",
     "text": [
      "Index 0 in supplies is: pens\n",
      "Index 1 in supplies is: staplers\n",
      "Index 2 in supplies is: flamethrowers\n",
      "Index 3 in supplies is: binders\n"
     ]
    }
   ],
   "source": [
    "supplies = ['pens', 'staplers', 'flamethrowers', 'binders']\n",
    "for index, item in enumerate(supplies):\n",
    "    print('Index ' + str(index) + ' in supplies is: ' + item)"
   ]
  },
  {
   "cell_type": "markdown",
   "id": "786c92d7-2bb2-48a1-ac25-7c8efcea2157",
   "metadata": {},
   "source": [
    "The `enumerate(`) function is useful if you need both the item and the item’s index in the loop’s block."
   ]
  },
  {
   "cell_type": "markdown",
   "id": "8d5a34f9-bcd8-4e93-a09d-bd155faa6709",
   "metadata": {},
   "source": [
    "### Using the `random.choice()` and `random.shuffle()` Functions with Lists"
   ]
  },
  {
   "cell_type": "markdown",
   "id": "521e6020-5266-484d-899d-6b65a887d80d",
   "metadata": {},
   "source": [
    "The `random` module has a couple functions that accept lists for arguments. The `random.choice()` function will return a randomly selected item from the list."
   ]
  },
  {
   "cell_type": "code",
   "execution_count": 47,
   "id": "7d1ef876-1640-4427-94f0-6aa91973dee5",
   "metadata": {},
   "outputs": [
    {
     "name": "stdout",
     "output_type": "stream",
     "text": [
      "Dog\n",
      "Moose\n",
      "Dog\n"
     ]
    }
   ],
   "source": [
    "import random\n",
    "\n",
    "pets = ['r', 's', 'p']\n",
    "print(random.choice(pets))\n",
    "print(random.choice(pets))\n",
    "print(random.choice(pets))"
   ]
  },
  {
   "cell_type": "markdown",
   "id": "155f6c3d-d144-4501-889e-b04b62aa8adf",
   "metadata": {},
   "source": [
    "You can consider `random.choice(someList)` to be a shorter form of `someList[random.randint(0, len(someList) – 1]`."
   ]
  },
  {
   "cell_type": "markdown",
   "id": "b0911e76-2a7a-4303-a73f-79bc5cd4521d",
   "metadata": {},
   "source": [
    "The `random.shuffle()` function will reorder the items in a list. This function modifies the list *in place*, rather than returning a new list."
   ]
  },
  {
   "cell_type": "code",
   "execution_count": 17,
   "id": "446dafb0-99d6-4956-b4ea-0200ff3f45d3",
   "metadata": {},
   "outputs": [
    {
     "name": "stdout",
     "output_type": "stream",
     "text": [
      "['Alice', 'Bob', 'Carol', 'David']\n",
      "['Bob', 'Alice', 'David', 'Carol']\n"
     ]
    }
   ],
   "source": [
    "import random\n",
    "\n",
    "people = ['Alice', 'Bob', 'Carol', 'David']\n",
    "\n",
    "print(people)\n",
    "random.shuffle(people)\n",
    "print(people)"
   ]
  },
  {
   "cell_type": "markdown",
   "id": "3c0fe2b6-fe1d-4af5-a2c4-fb7ed08c0f42",
   "metadata": {},
   "source": [
    "## Augmented Assignment Operators\n",
    "\n",
    "When assigning a value to a variable, you will frequently use the variable itself. For example, after assigning 42 to the variable `spam`, you would increase the value in spam by 1 with the following code:"
   ]
  },
  {
   "cell_type": "code",
   "execution_count": 51,
   "id": "22262659-4c89-4b78-a470-662367d2541c",
   "metadata": {},
   "outputs": [],
   "source": [
    "spam = 42\n",
    "spam = spam + 1\n",
    "assert spam == 43"
   ]
  },
  {
   "cell_type": "markdown",
   "id": "1d04fc46-831a-4ac6-a55c-df59447e4bc1",
   "metadata": {},
   "source": [
    "As a shortcut, you can use the augmented assignment operator `+=` to do the same thing:"
   ]
  },
  {
   "cell_type": "code",
   "execution_count": 52,
   "id": "f053694b-16d5-4484-b9e1-e7de2478cef5",
   "metadata": {},
   "outputs": [],
   "source": [
    "spam = 42\n",
    "spam += 1\n",
    "assert spam == 43"
   ]
  },
  {
   "cell_type": "markdown",
   "id": "833babe9-9ca7-411c-afbf-5c73597e1351",
   "metadata": {},
   "source": [
    "There are augmented assignment operators for the `+`,`-`, `*`, `/`, and `%`operators, described in Table 4-1.\n",
    "\n",
    "Table 4-1: The Augmented Assignment Operators\n",
    "\n",
    "| Augmented assignment statement| Equivalent assignment statement |\n",
    "|---|---|\n",
    "|spam += 1 | spam = spam + 1|\n",
    "|spam -= 1 | spam = spam - 1|\n",
    "|spam *= 1 | spam = spam * 1|\n",
    "|spam /= 1 | spam = spam / 1|\n",
    "|spam %= 1 | spam = spam % 1|\n",
    "\n",
    "The `+=` operator can also do string and list concatenation, and the `*=` operator can do string and list replication."
   ]
  },
  {
   "cell_type": "code",
   "execution_count": 55,
   "id": "3ab7e5e2-5eca-46de-b96d-933a2f2a2efe",
   "metadata": {},
   "outputs": [],
   "source": [
    "spam = 'Hello,'\n",
    "spam += ' world!'\n",
    "assert spam == 'Hello, world!'\n",
    "\n",
    "bacon = ['Zophie']\n",
    "bacon *= 3\n",
    "assert bacon == ['Zophie', 'Zophie', 'Zophie']"
   ]
  },
  {
   "cell_type": "markdown",
   "id": "370a1f78-baca-47e7-93f9-f48da19fef95",
   "metadata": {},
   "source": [
    "## Methods\n",
    "\n",
    "A **method** is the same thing as a function, except it is “called on” a value. For example, if a list value were stored in spam, you would call the `index()` list method (which I’ll explain shortly) on that list like so: `spam.index('hello')`. The method part comes after the value, separated by a *period*.\n",
    "\n",
    "Each data type has its own set of methods. The list data type, for example, has several useful methods for finding, adding, removing, and otherwise manipulating values in a list."
   ]
  },
  {
   "cell_type": "markdown",
   "id": "346fa936-7048-4eb4-ac11-bd569305f2fb",
   "metadata": {},
   "source": [
    "### Finding a Value in a List with the `index()` Method"
   ]
  },
  {
   "cell_type": "markdown",
   "id": "c96447ce-bca9-4074-9cbe-e473178d91f5",
   "metadata": {},
   "source": [
    "List values have an `index()` method that can be passed a value, and if that value exists in the list, the index of the value is returned. If the value isn’t in the list, then Python produces a `ValueError` error.\n",
    "\n"
   ]
  },
  {
   "cell_type": "code",
   "execution_count": 21,
   "id": "00067e02-3d25-4bfc-9807-cfe9896cae0d",
   "metadata": {},
   "outputs": [],
   "source": [
    "spam = ['hello', 'hi', 'howdy', 'heyas']\n",
    "\n",
    "assert spam.index('hello') == 0\n",
    "assert spam.index('heyas') == 3"
   ]
  },
  {
   "cell_type": "code",
   "execution_count": 18,
   "id": "15e76b1f-d7de-4c55-99a2-12bc329325d3",
   "metadata": {},
   "outputs": [
    {
     "ename": "ValueError",
     "evalue": "'Hello' is not in list",
     "output_type": "error",
     "traceback": [
      "\u001b[0;31m---------------------------------------------------------------------------\u001b[0m",
      "\u001b[0;31mValueError\u001b[0m                                Traceback (most recent call last)",
      "\u001b[0;32m<ipython-input-18-89729064bade>\u001b[0m in \u001b[0;36m<module>\u001b[0;34m\u001b[0m\n\u001b[0;32m----> 1\u001b[0;31m \u001b[0mspam\u001b[0m\u001b[0;34m.\u001b[0m\u001b[0mindex\u001b[0m\u001b[0;34m(\u001b[0m\u001b[0;34m'Hello'\u001b[0m\u001b[0;34m)\u001b[0m\u001b[0;34m\u001b[0m\u001b[0;34m\u001b[0m\u001b[0m\n\u001b[0m",
      "\u001b[0;31mValueError\u001b[0m: 'Hello' is not in list"
     ]
    }
   ],
   "source": [
    "spam.index('Hello')"
   ]
  },
  {
   "cell_type": "markdown",
   "id": "b480bd20-cbf5-43ef-96ba-713324cc2170",
   "metadata": {},
   "source": [
    "When there are *duplicates* of the value in the list, the index of its *first* appearance is returned. Enter the following into the interactive shell, and notice that `index()` returns 1, not 3:"
   ]
  },
  {
   "cell_type": "markdown",
   "id": "cd6daac8-342a-4ebd-9671-9d8ccfa75667",
   "metadata": {},
   "source": [
    "### Adding Values to Lists with the `append()` and `insert()` Methods\n",
    "\n",
    "To add new values to a list, use the `append()` and `insert()` methods. Enter the following into the interactive shell to call the `append()` method on a list value stored in the variable spam:"
   ]
  },
  {
   "cell_type": "code",
   "execution_count": 61,
   "id": "ac4e8703-7ccd-4d75-bbb7-2ffdf62d11f7",
   "metadata": {},
   "outputs": [],
   "source": [
    "spam = ['cat', 'dog', 'bat']\n",
    "spam.append('moose')\n",
    "\n",
    "assert spam == ['cat', 'dog', 'bat', 'moose']"
   ]
  },
  {
   "cell_type": "markdown",
   "id": "17dc385c-4536-456d-8720-7380b9b92416",
   "metadata": {},
   "source": [
    "The previous `append()` method call adds the argument to the end of the list. The `insert()` method can insert a value at *any index* in the list. The first argument to `insert()` is the index for the new value, and the second argument is the new value to be inserted."
   ]
  },
  {
   "cell_type": "code",
   "execution_count": 62,
   "id": "4438dcd1-082d-464d-97c5-d327f55cd48b",
   "metadata": {},
   "outputs": [],
   "source": [
    "spam = ['cat', 'dog', 'bat']\n",
    "spam.insert(1, 'chicken')\n",
    "\n",
    "assert spam == ['cat', 'chicken', 'dog', 'bat']"
   ]
  },
  {
   "cell_type": "markdown",
   "id": "e46b9298-3192-4935-9683-3bd5172eedc9",
   "metadata": {},
   "source": [
    "Notice that the code is `spam.append('moose')` and `spam.insert(1, 'chicken')`, not `spam = spam.append('moose')` and `spam = spam.insert(1, 'chicken')`. Neither `append()` nor `insert()` gives the new value of spam as its return value. (In fact, the return value of `append()` and `insert()` is `None`, so you definitely wouldn’t want to store this as the new variable value.) Rather, the list is modified in place. Modifying a list **in place** is covered in more detail later in “Mutable and Immutable Data Types” on page 94.\n",
    "\n",
    "Methods belong to a single data type. The `append()` and `insert()` methods are list methods and can be called *only on list values*, not on other values such as strings or integers. Note the `AttributeError` error messages that show up:"
   ]
  },
  {
   "cell_type": "code",
   "execution_count": 75,
   "id": "9a4671c6-b808-4bd7-8af5-86516d3e09d7",
   "metadata": {},
   "outputs": [
    {
     "ename": "AttributeError",
     "evalue": "'str' object has no attribute 'append'",
     "output_type": "error",
     "traceback": [
      "\u001b[0;31m---------------------------------------------------------------------------\u001b[0m",
      "\u001b[0;31mAttributeError\u001b[0m                            Traceback (most recent call last)",
      "\u001b[0;32m<ipython-input-75-f5dd91fa6055>\u001b[0m in \u001b[0;36m<module>\u001b[0;34m\u001b[0m\n\u001b[1;32m      1\u001b[0m \u001b[0meggs\u001b[0m \u001b[0;34m=\u001b[0m \u001b[0;34m'hello'\u001b[0m\u001b[0;34m\u001b[0m\u001b[0;34m\u001b[0m\u001b[0m\n\u001b[0;32m----> 2\u001b[0;31m \u001b[0meggs\u001b[0m\u001b[0;34m.\u001b[0m\u001b[0mappend\u001b[0m\u001b[0;34m(\u001b[0m\u001b[0;34m'world'\u001b[0m\u001b[0;34m)\u001b[0m\u001b[0;34m\u001b[0m\u001b[0;34m\u001b[0m\u001b[0m\n\u001b[0m",
      "\u001b[0;31mAttributeError\u001b[0m: 'str' object has no attribute 'append'"
     ]
    }
   ],
   "source": [
    "eggs = 'hello'\n",
    "eggs.append('world')"
   ]
  },
  {
   "cell_type": "code",
   "execution_count": 64,
   "id": "b8bae29d-44e5-4770-88e6-1b6b6657454b",
   "metadata": {},
   "outputs": [
    {
     "ename": "AttributeError",
     "evalue": "'int' object has no attribute 'insert'",
     "output_type": "error",
     "traceback": [
      "\u001b[0;31m---------------------------------------------------------------------------\u001b[0m",
      "\u001b[0;31mAttributeError\u001b[0m                            Traceback (most recent call last)",
      "\u001b[0;32m<ipython-input-64-d48d36e80f90>\u001b[0m in \u001b[0;36m<module>\u001b[0;34m\u001b[0m\n\u001b[1;32m      1\u001b[0m \u001b[0mbacon\u001b[0m \u001b[0;34m=\u001b[0m \u001b[0;36m42\u001b[0m\u001b[0;34m\u001b[0m\u001b[0;34m\u001b[0m\u001b[0m\n\u001b[0;32m----> 2\u001b[0;31m \u001b[0mbacon\u001b[0m\u001b[0;34m.\u001b[0m\u001b[0minsert\u001b[0m\u001b[0;34m(\u001b[0m\u001b[0;36m1\u001b[0m\u001b[0;34m,\u001b[0m \u001b[0;34m'world'\u001b[0m\u001b[0;34m)\u001b[0m\u001b[0;34m\u001b[0m\u001b[0;34m\u001b[0m\u001b[0m\n\u001b[0m",
      "\u001b[0;31mAttributeError\u001b[0m: 'int' object has no attribute 'insert'"
     ]
    }
   ],
   "source": [
    "bacon = 42\n",
    "bacon.insert(1, 'world')"
   ]
  },
  {
   "cell_type": "markdown",
   "id": "413a1b41-4d6a-4336-9c8c-f57a9ab05ef9",
   "metadata": {},
   "source": [
    "### Removing Values from Lists with the `remove()` Method\n",
    "\n",
    "The `remove()` method is passed the value to be removed from the list it is called on."
   ]
  },
  {
   "cell_type": "code",
   "execution_count": 65,
   "id": "f14a5dfb-05c4-47d0-9131-fc5fd09f28c6",
   "metadata": {},
   "outputs": [],
   "source": [
    "spam = ['cat', 'bat', 'rat', 'elephant']\n",
    "spam.remove('bat')\n",
    "\n",
    "assert spam == ['cat', 'rat', 'elephant']"
   ]
  },
  {
   "cell_type": "markdown",
   "id": "f28623ae-ba1e-4999-b11f-d4ef6857a8df",
   "metadata": {},
   "source": [
    "Attempting to delete a value that does not exist in the list will result in a `ValueError` error. Notice the error that is displayed:"
   ]
  },
  {
   "cell_type": "code",
   "execution_count": 66,
   "id": "ab2a5bf3-b88a-4869-aa36-c56045eac234",
   "metadata": {},
   "outputs": [
    {
     "ename": "ValueError",
     "evalue": "list.remove(x): x not in list",
     "output_type": "error",
     "traceback": [
      "\u001b[0;31m---------------------------------------------------------------------------\u001b[0m",
      "\u001b[0;31mValueError\u001b[0m                                Traceback (most recent call last)",
      "\u001b[0;32m<ipython-input-66-618c1979cd80>\u001b[0m in \u001b[0;36m<module>\u001b[0;34m\u001b[0m\n\u001b[1;32m      1\u001b[0m \u001b[0mspam\u001b[0m \u001b[0;34m=\u001b[0m \u001b[0;34m[\u001b[0m\u001b[0;34m'cat'\u001b[0m\u001b[0;34m,\u001b[0m \u001b[0;34m'bat'\u001b[0m\u001b[0;34m,\u001b[0m \u001b[0;34m'rat'\u001b[0m\u001b[0;34m,\u001b[0m \u001b[0;34m'elephant'\u001b[0m\u001b[0;34m]\u001b[0m\u001b[0;34m\u001b[0m\u001b[0;34m\u001b[0m\u001b[0m\n\u001b[0;32m----> 2\u001b[0;31m \u001b[0mspam\u001b[0m\u001b[0;34m.\u001b[0m\u001b[0mremove\u001b[0m\u001b[0;34m(\u001b[0m\u001b[0;34m'chicken'\u001b[0m\u001b[0;34m)\u001b[0m\u001b[0;34m\u001b[0m\u001b[0;34m\u001b[0m\u001b[0m\n\u001b[0m",
      "\u001b[0;31mValueError\u001b[0m: list.remove(x): x not in list"
     ]
    }
   ],
   "source": [
    "spam = ['cat', 'bat', 'rat', 'elephant']\n",
    "spam.remove('chicken')"
   ]
  },
  {
   "cell_type": "markdown",
   "id": "70697c6a-88e4-4642-a229-65e48ecf4404",
   "metadata": {},
   "source": [
    "If the value appears multiple times in the list, only the first instance of the value will be removed."
   ]
  },
  {
   "cell_type": "code",
   "execution_count": 68,
   "id": "866e563c-27fd-49e1-8f20-b74ba6b0f653",
   "metadata": {},
   "outputs": [],
   "source": [
    "spam = ['cat', 'bat', 'rat', 'cat', 'hat', 'cat']\n",
    "spam.remove('cat')\n",
    "\n",
    "assert spam == ['bat', 'rat', 'cat', 'hat', 'cat']"
   ]
  },
  {
   "cell_type": "markdown",
   "id": "6d0165a7-51e4-40a6-a273-398d9b154710",
   "metadata": {},
   "source": [
    "The `del` statement is good to use when you know the index of the value you want to remove from the list. The `remove()` method is useful when you know the value you want to remove from the list."
   ]
  },
  {
   "cell_type": "markdown",
   "id": "d2a0f4c4-ce0a-4748-894e-36d95d0e8152",
   "metadata": {},
   "source": [
    "### Sorting the Values in a List with the `sort()` Method\n",
    "\n",
    "Lists of number values or lists of strings can be sorted with the `sort()` method."
   ]
  },
  {
   "cell_type": "code",
   "execution_count": 69,
   "id": "7559f49f-ef48-4b3b-afe4-44b3df0e8bb3",
   "metadata": {},
   "outputs": [],
   "source": [
    "spam = [2, 5, 3.14, 1, -7]\n",
    "spam.sort()\n",
    "\n",
    "assert spam == [-7, 1, 2, 3.14, 5]\n",
    "\n",
    "spam = ['ants', 'cats', 'dogs', 'badgers', 'elephants']\n",
    "spam.sort()\n",
    "\n",
    "assert spam == ['ants', 'badgers', 'cats', 'dogs', 'elephants']"
   ]
  },
  {
   "cell_type": "markdown",
   "id": "67625114-156d-4ef8-880d-f869c7c18022",
   "metadata": {},
   "source": [
    "You can also pass True for the reverse keyword argument to have `sort()` sort the values in reverse order."
   ]
  },
  {
   "cell_type": "code",
   "execution_count": 70,
   "id": "243e16a5-5ef7-4085-8791-a426d47d154a",
   "metadata": {},
   "outputs": [],
   "source": [
    "spam.sort(reverse=True)\n",
    "assert spam == ['elephants', 'dogs', 'cats', 'badgers', 'ants']"
   ]
  },
  {
   "cell_type": "markdown",
   "id": "04d37595-9086-441a-a387-9f0cc20dfd60",
   "metadata": {},
   "source": [
    "There are three things you should note about the `sort()` method. First, the `sort()` method sorts the list **in place**; don’t try to capture the return value by writing code like `spam = spam.sort()`.\n",
    "\n",
    "Second, you cannot sort lists that have both number values and string values in them, since Python doesn’t know how to compare these values. Notice the `TypeError` error:"
   ]
  },
  {
   "cell_type": "code",
   "execution_count": 71,
   "id": "a173dc63-a170-4e79-ab43-955d4d1c092c",
   "metadata": {},
   "outputs": [
    {
     "ename": "TypeError",
     "evalue": "'<' not supported between instances of 'str' and 'int'",
     "output_type": "error",
     "traceback": [
      "\u001b[0;31m---------------------------------------------------------------------------\u001b[0m",
      "\u001b[0;31mTypeError\u001b[0m                                 Traceback (most recent call last)",
      "\u001b[0;32m<ipython-input-71-c8acbeae1737>\u001b[0m in \u001b[0;36m<module>\u001b[0;34m\u001b[0m\n\u001b[1;32m      1\u001b[0m \u001b[0mspam\u001b[0m \u001b[0;34m=\u001b[0m \u001b[0;34m[\u001b[0m\u001b[0;36m1\u001b[0m\u001b[0;34m,\u001b[0m \u001b[0;36m3\u001b[0m\u001b[0;34m,\u001b[0m \u001b[0;36m2\u001b[0m\u001b[0;34m,\u001b[0m \u001b[0;36m4\u001b[0m\u001b[0;34m,\u001b[0m \u001b[0;34m'Alice'\u001b[0m\u001b[0;34m,\u001b[0m \u001b[0;34m'Bob'\u001b[0m\u001b[0;34m]\u001b[0m\u001b[0;34m\u001b[0m\u001b[0;34m\u001b[0m\u001b[0m\n\u001b[0;32m----> 2\u001b[0;31m \u001b[0mspam\u001b[0m\u001b[0;34m.\u001b[0m\u001b[0msort\u001b[0m\u001b[0;34m(\u001b[0m\u001b[0;34m)\u001b[0m\u001b[0;34m\u001b[0m\u001b[0;34m\u001b[0m\u001b[0m\n\u001b[0m",
      "\u001b[0;31mTypeError\u001b[0m: '<' not supported between instances of 'str' and 'int'"
     ]
    }
   ],
   "source": [
    "spam = [1, 3, 2, 4, 'Alice', 'Bob']\n",
    "spam.sort()"
   ]
  },
  {
   "cell_type": "markdown",
   "id": "af729668-c2ec-41e8-ade2-b7170c702198",
   "metadata": {},
   "source": [
    "Third, `sort()` uses “ASCIIbetical order” rather than actual alphabetical order for sorting strings. This means *uppercase letters come before lowercase* letters. Therefore, the lowercase a is sorted so that it comes after the uppercase Z."
   ]
  },
  {
   "cell_type": "code",
   "execution_count": 72,
   "id": "557f552b-aa96-4b6c-9b67-08adf2688d6e",
   "metadata": {},
   "outputs": [],
   "source": [
    "spam = ['Alice', 'ants', 'Bob', 'badgers', 'Carol', 'cats']\n",
    "spam.sort()\n",
    "\n",
    "assert spam == ['Alice', 'Bob', 'Carol', 'ants', 'badgers', 'cats']"
   ]
  },
  {
   "cell_type": "markdown",
   "id": "5f0d1fd1-b512-4f90-8aab-82817fa54249",
   "metadata": {},
   "source": [
    "If you need to sort the values in regular alphabetical order, pass `str.lower` for the `key` keyword argument in the `sort()` method call. This causes the `sort()` method to treat all the items in the list as if they were lowercase without actually changing the values in the list."
   ]
  },
  {
   "cell_type": "code",
   "execution_count": 73,
   "id": "ea92b344-c4b0-418a-8c4c-5463911c6a60",
   "metadata": {},
   "outputs": [],
   "source": [
    "spam = ['a', 'z', 'A', 'Z']\n",
    "spam.sort(key=str.lower)\n",
    "\n",
    "assert spam == ['a', 'A', 'z', 'Z']"
   ]
  },
  {
   "cell_type": "markdown",
   "id": "374d6350-8ac8-4c23-8e35-a01c9f4ad520",
   "metadata": {},
   "source": [
    "### Reversing the Values in a List with the `reverse()` Method\n",
    "\n",
    "If you need to quickly reverse the order of the items in a list, you can call the `reverse()` list method. Like the `sort()` list method, `reverse()` doesn’t return a list (but `None`). This is why you write `spam.reverse()`, instead of `spam = spam.reverse()`."
   ]
  },
  {
   "cell_type": "code",
   "execution_count": 74,
   "id": "d4527338-21e5-4069-bf22-aec2ef989770",
   "metadata": {},
   "outputs": [],
   "source": [
    "spam = ['cat', 'dog', 'moose']\n",
    "spam.reverse()\n",
    "\n",
    "assert spam == ['moose', 'dog', 'cat']"
   ]
  },
  {
   "cell_type": "markdown",
   "id": "c1197243-c1da-4447-9bc6-b92397d4fd2f",
   "metadata": {},
   "source": [
    "## Example Program: Magic 8 Ball with a List"
   ]
  },
  {
   "cell_type": "markdown",
   "id": "fb9d3167-2f0a-4f8f-b0dd-60a2d0950f18",
   "metadata": {},
   "source": [
    "Using lists, you can write a much more elegant version of the previous chapter’s *Magic 8 Ball program*. Instead of several lines of nearly identical `elif` statements, you can create a single list that the code works with. "
   ]
  },
  {
   "cell_type": "code",
   "execution_count": 77,
   "id": "7550b0dc-e056-475b-832c-7acc72814bb8",
   "metadata": {},
   "outputs": [
    {
     "name": "stdout",
     "output_type": "stream",
     "text": [
      "Concentrate and ask again\n"
     ]
    }
   ],
   "source": [
    "import random\n",
    "\n",
    "messages = ['It is certain',\n",
    "    'It is decidedly so',\n",
    "    'Yes definitely',\n",
    "    'Reply hazy try again',\n",
    "    'Ask again later',\n",
    "    'Concentrate and ask again',\n",
    "    'My reply is no',\n",
    "    'Outlook not so good',\n",
    "    'Very doubtful']\n",
    "\n",
    "print(random.choice(messages))"
   ]
  },
  {
   "cell_type": "markdown",
   "id": "c1d48507-4cd0-4967-be2f-52a35def9443",
   "metadata": {},
   "source": [
    "## Sequence Data Types\n",
    "\n",
    "Lists aren’t the only data types that represent ordered sequences of values. For example, strings and lists are actually similar if you consider a string to be a “list” of single text characters. The Python `sequence` data types include *lists, strings, range objects returned by `range()`, and `tuples` (explained in the “The Tuple Data Type” on page 96)*. Many of the things you can do with lists can also be done with strings and other values of sequence types: indexing; slicing; and using them with `for` loops, with `len()`, and with the `in` and `not in` operators."
   ]
  },
  {
   "cell_type": "code",
   "execution_count": 25,
   "id": "7a3e75d7-d5ae-4574-b4dc-18bebe995070",
   "metadata": {},
   "outputs": [
    {
     "name": "stdout",
     "output_type": "stream",
     "text": [
      "* * * Z * * *\n",
      "* * * o * * *\n",
      "* * * p * * *\n",
      "* * * h * * *\n",
      "* * * i * * *\n",
      "* * * e * * *\n"
     ]
    }
   ],
   "source": [
    "name = 'Zophie'\n",
    "assert name[0] == 'Z'\n",
    "assert name[-2] == 'i'\n",
    "assert name[0:4] == 'Zoph'\n",
    "assert 'Zo' in name\n",
    "assert ('z' in name) == False\n",
    "assert ('p' not in name) == False\n",
    "\n",
    "for i in name:\n",
    "    print('* * * ' + i + ' * * *')"
   ]
  },
  {
   "cell_type": "markdown",
   "id": "23ef36fc-2ea8-4bcf-9255-a718df6675fd",
   "metadata": {},
   "source": [
    "### Mutable and Immutable Data Types\n",
    "\n",
    "But lists and strings are different in an important way. A list value is a **mutable data type**: it can have *values added, removed, or changed*. However, a string is **immutable**: it cannot be changed. Trying to reassign a single character in a string results in a `TypeError` error, as you can see by entering the following:"
   ]
  },
  {
   "cell_type": "code",
   "execution_count": 83,
   "id": "53d96bbf-97cd-4efa-8d89-4976f8899fd7",
   "metadata": {},
   "outputs": [
    {
     "ename": "TypeError",
     "evalue": "'str' object does not support item assignment",
     "output_type": "error",
     "traceback": [
      "\u001b[0;31m---------------------------------------------------------------------------\u001b[0m",
      "\u001b[0;31mTypeError\u001b[0m                                 Traceback (most recent call last)",
      "\u001b[0;32m<ipython-input-83-089de5a94ffe>\u001b[0m in \u001b[0;36m<module>\u001b[0;34m\u001b[0m\n\u001b[1;32m      1\u001b[0m \u001b[0mname\u001b[0m \u001b[0;34m=\u001b[0m \u001b[0;34m'Zophie a cat'\u001b[0m\u001b[0;34m\u001b[0m\u001b[0;34m\u001b[0m\u001b[0m\n\u001b[0;32m----> 2\u001b[0;31m \u001b[0mname\u001b[0m\u001b[0;34m[\u001b[0m\u001b[0;36m7\u001b[0m\u001b[0;34m]\u001b[0m \u001b[0;34m=\u001b[0m \u001b[0;34m'the'\u001b[0m\u001b[0;34m\u001b[0m\u001b[0;34m\u001b[0m\u001b[0m\n\u001b[0m",
      "\u001b[0;31mTypeError\u001b[0m: 'str' object does not support item assignment"
     ]
    }
   ],
   "source": [
    "name = 'Zophie a cat'\n",
    "name[7] = 'the'"
   ]
  },
  {
   "cell_type": "markdown",
   "id": "e5ca5b33-836d-4f6f-a4c0-c8fdef127ade",
   "metadata": {},
   "source": [
    "The proper way to “mutate” a string is to use *slicing and concatenation* to build a new string by copying from parts of the old string."
   ]
  },
  {
   "cell_type": "code",
   "execution_count": 85,
   "id": "67cdd34e-f371-48c1-8333-3c48cfb9b462",
   "metadata": {},
   "outputs": [],
   "source": [
    "name = 'Zophie a cat'\n",
    "newName = name[0:7] + 'the' + name[8:12]\n",
    "\n",
    "assert name == 'Zophie a cat'\n",
    "assert newName == 'Zophie the cat'"
   ]
  },
  {
   "cell_type": "markdown",
   "id": "578ee851-f3d1-48f7-9fd5-dcc30d08e4f6",
   "metadata": {},
   "source": [
    "We used `[0:7]` and `[8:12]` to refer to the characters that we don’t wish to replace. Notice that the original 'Zophie a cat' string is not modified, because strings are immutable."
   ]
  },
  {
   "cell_type": "markdown",
   "id": "43b30abe-5a84-402b-a129-5f635c197632",
   "metadata": {},
   "source": [
    "Although a list value is mutable, the second line in the following code does not modify the list eggs:"
   ]
  },
  {
   "cell_type": "code",
   "execution_count": 86,
   "id": "c7e8c4e2-48fd-4a18-9fbf-22b7bcb194cc",
   "metadata": {},
   "outputs": [],
   "source": [
    "eggs = [1, 2, 3]\n",
    "eggs = [4, 5, 6]\n",
    "assert eggs == [4, 5, 6]"
   ]
  },
  {
   "cell_type": "code",
   "execution_count": 88,
   "id": "767f2b97-1085-40f2-a88d-bb267be89738",
   "metadata": {},
   "outputs": [
    {
     "name": "stdout",
     "output_type": "stream",
     "text": [
      "140557106369728\n",
      "140556165487936\n"
     ]
    }
   ],
   "source": [
    "eggs = [1, 2, 3]\n",
    "print(id(eggs))\n",
    "\n",
    "eggs = [4, 5, 6]\n",
    "print(id(eggs))"
   ]
  },
  {
   "cell_type": "markdown",
   "id": "2ba07312-766c-49e8-acd9-b74497f88c66",
   "metadata": {},
   "source": [
    "The list value in eggs isn’t being changed here; rather, an entirely new and different list value (`[4, 5, 6]`) is *overwriting* the old list value (`[1, 2, 3]`). This is depicted in Figure 4-2.\n",
    "\n",
    "![](https://automatetheboringstuff.com/2e/images/000037.jpg)"
   ]
  },
  {
   "cell_type": "markdown",
   "id": "6b914b82-459b-4bfa-849f-3efdd810cff1",
   "metadata": {},
   "source": [
    "If you wanted to actually modify the original list in eggs to contain `[4, 5, 6]`, you would have to do something like this:"
   ]
  },
  {
   "cell_type": "code",
   "execution_count": 90,
   "id": "d0fc690d-6acd-4bbe-9389-44b2854c99e2",
   "metadata": {},
   "outputs": [],
   "source": [
    "eggs = [1, 2, 3]\n",
    "del eggs[2]\n",
    "del eggs[1]\n",
    "del eggs[0]\n",
    "eggs.append(4)\n",
    "eggs.append(5)\n",
    "eggs.append(6)\n",
    "\n",
    "assert eggs == [4, 5, 6]  # not a correct comparison, should use id() function, see below\n",
    "\n",
    "eggs = [1, 2, 3]\n",
    "eggs[0] = 4\n",
    "eggs[1] = 5\n",
    "eggs[2] = 6\n",
    "\n",
    "assert eggs == [4, 5, 6]"
   ]
  },
  {
   "cell_type": "markdown",
   "id": "7cdedeed-e7ee-402a-8f9e-6db489d0da36",
   "metadata": {},
   "source": [
    "Mutable versus immutable types may seem like a meaningless distinction, but “Passing References” on page 100 will explain the different behavior when calling functions with mutable arguments versus immutable arguments. But first, let’s find out about the `tuple` data type, which is an immutable form of the list data type."
   ]
  },
  {
   "cell_type": "markdown",
   "id": "be3ec8ed-6b21-4ebf-9d04-ee564ab53f06",
   "metadata": {},
   "source": [
    "### The Tuple Data Type\n",
    "\n",
    "The `tuple` data type is almost identical to the `list` data type, except in two ways. First, tuples are typed with parentheses, `(` and `)`, instead of square brackets, `[` and `]`."
   ]
  },
  {
   "cell_type": "code",
   "execution_count": 91,
   "id": "98654532-8963-4c7a-940c-7f0f1b044854",
   "metadata": {},
   "outputs": [],
   "source": [
    "eggs = ('hello', 42, 0.5)  # a tuple, not a list!\n",
    "assert eggs[0] == 'hello'  # index access via []\n",
    "assert eggs[1:3] == (42, 0.5)  # slice acces via []\n",
    "assert len(eggs) == 3"
   ]
  },
  {
   "cell_type": "markdown",
   "id": "cf0ee48f-6335-43a3-86ce-1d904a7fe67b",
   "metadata": {},
   "source": [
    "But the main way that tuples are different from lists is that tuples, like strings, are **immutable**. Tuples cannot have their values modified, appended, or removed."
   ]
  },
  {
   "cell_type": "code",
   "execution_count": 92,
   "id": "3cae4d36-7add-4107-a78b-d67da5613c23",
   "metadata": {},
   "outputs": [
    {
     "ename": "TypeError",
     "evalue": "'tuple' object does not support item assignment",
     "output_type": "error",
     "traceback": [
      "\u001b[0;31m---------------------------------------------------------------------------\u001b[0m",
      "\u001b[0;31mTypeError\u001b[0m                                 Traceback (most recent call last)",
      "\u001b[0;32m<ipython-input-92-63fbe7c1f507>\u001b[0m in \u001b[0;36m<module>\u001b[0;34m\u001b[0m\n\u001b[1;32m      1\u001b[0m \u001b[0meggs\u001b[0m \u001b[0;34m=\u001b[0m \u001b[0;34m(\u001b[0m\u001b[0;34m'hello'\u001b[0m\u001b[0;34m,\u001b[0m \u001b[0;36m42\u001b[0m\u001b[0;34m,\u001b[0m \u001b[0;36m0.5\u001b[0m\u001b[0;34m)\u001b[0m\u001b[0;34m\u001b[0m\u001b[0;34m\u001b[0m\u001b[0m\n\u001b[0;32m----> 2\u001b[0;31m \u001b[0meggs\u001b[0m\u001b[0;34m[\u001b[0m\u001b[0;36m1\u001b[0m\u001b[0;34m]\u001b[0m \u001b[0;34m=\u001b[0m \u001b[0;36m99\u001b[0m\u001b[0;34m\u001b[0m\u001b[0;34m\u001b[0m\u001b[0m\n\u001b[0m",
      "\u001b[0;31mTypeError\u001b[0m: 'tuple' object does not support item assignment"
     ]
    }
   ],
   "source": [
    "eggs = ('hello', 42, 0.5)\n",
    "eggs[1] = 99"
   ]
  },
  {
   "cell_type": "code",
   "execution_count": 94,
   "id": "ce203554-b6c7-4132-9bc2-39355fadc042",
   "metadata": {},
   "outputs": [
    {
     "ename": "TypeError",
     "evalue": "'tuple' object doesn't support item deletion",
     "output_type": "error",
     "traceback": [
      "\u001b[0;31m---------------------------------------------------------------------------\u001b[0m",
      "\u001b[0;31mTypeError\u001b[0m                                 Traceback (most recent call last)",
      "\u001b[0;32m<ipython-input-94-16bb7672e65e>\u001b[0m in \u001b[0;36m<module>\u001b[0;34m\u001b[0m\n\u001b[1;32m      1\u001b[0m \u001b[0meggs\u001b[0m \u001b[0;34m=\u001b[0m \u001b[0;34m(\u001b[0m\u001b[0;34m'hello'\u001b[0m\u001b[0;34m,\u001b[0m \u001b[0;36m42\u001b[0m\u001b[0;34m,\u001b[0m \u001b[0;36m0.5\u001b[0m\u001b[0;34m)\u001b[0m\u001b[0;34m\u001b[0m\u001b[0;34m\u001b[0m\u001b[0m\n\u001b[0;32m----> 2\u001b[0;31m \u001b[0;32mdel\u001b[0m \u001b[0meggs\u001b[0m\u001b[0;34m[\u001b[0m\u001b[0;36m1\u001b[0m\u001b[0;34m]\u001b[0m\u001b[0;34m\u001b[0m\u001b[0;34m\u001b[0m\u001b[0m\n\u001b[0m",
      "\u001b[0;31mTypeError\u001b[0m: 'tuple' object doesn't support item deletion"
     ]
    }
   ],
   "source": [
    "eggs = ('hello', 42, 0.5)\n",
    "del eggs[1]"
   ]
  },
  {
   "cell_type": "markdown",
   "id": "47e8a71c-a9b7-4d3e-b250-71a898063adb",
   "metadata": {},
   "source": [
    "If you have only one value in your tuple, you can indicate this by placing a *trailing comma* after the value inside the parentheses. Otherwise, Python will think you’ve just typed a value inside regular parentheses. The comma is what lets Python know this is a tuple value. (Unlike some other programming languages, it’s fine to have a trailing comma after the last item in a list or tuple in Python.) "
   ]
  },
  {
   "cell_type": "code",
   "execution_count": 95,
   "id": "744d5adf-489e-420b-8f29-08fe0d55b9de",
   "metadata": {},
   "outputs": [
    {
     "name": "stdout",
     "output_type": "stream",
     "text": [
      "<class 'tuple'>\n",
      "<class 'str'>\n"
     ]
    }
   ],
   "source": [
    "print(type(('hello',)))\n",
    "print(type(('hello')))"
   ]
  },
  {
   "cell_type": "markdown",
   "id": "6d3e7f39-8f87-4da4-820e-a066ac85eb87",
   "metadata": {},
   "source": [
    "You can use tuples to convey to anyone reading your code that you **don’t intend for that sequence of values to change**. If you need an ordered sequence of values that never changes, use a tuple. A second benefit of using tuples instead of lists is that, because they are immutable and their contents don’t change, Python can implement some optimizations that make code using tuples *slightly faster than code using lists*."
   ]
  },
  {
   "cell_type": "markdown",
   "id": "00e3b49b-4619-42ff-8c86-33a83faad9bb",
   "metadata": {},
   "source": [
    "### Converting Types with the `list()` and `tuple()` Functions\n",
    "\n",
    "Just like how `str(42)` will return '42', the string representation of the integer 42, the functions `list()` and `tuple()` will return `list` and `tuple` versions of the values passed to them:"
   ]
  },
  {
   "cell_type": "code",
   "execution_count": 96,
   "id": "f498c050-e8a5-4c64-9147-3f8a0ab1fbf7",
   "metadata": {},
   "outputs": [],
   "source": [
    "assert tuple(['cat', 'dog', 5]) == ('cat', 'dog', 5)\n",
    "assert list(('cat', 'dog', 5)) == ['cat', 'dog', 5]\n",
    "assert list('hello') == ['h', 'e', 'l', 'l', 'o']"
   ]
  },
  {
   "cell_type": "markdown",
   "id": "dbcc0181-d7ec-4ddd-b6e5-b14fb477ba9a",
   "metadata": {},
   "source": [
    "Converting a tuple to a list is handy if you need a mutable version of a tuple value."
   ]
  },
  {
   "cell_type": "markdown",
   "id": "2b53fa14-f344-4f4f-a6f8-ddc566c1dcb2",
   "metadata": {},
   "source": [
    "## References\n",
    "\n",
    "As you’ve seen, variables “store” strings and integer values. However, this explanation is a simplification of what Python is actually doing. Technically, variables are storing references to the *computer memory locations* where the values are stored."
   ]
  },
  {
   "cell_type": "code",
   "execution_count": 97,
   "id": "0a6cf4a4-15f8-4019-8ad4-729dcc5bf97b",
   "metadata": {},
   "outputs": [],
   "source": [
    "spam = 42\n",
    "cheese = spam\n",
    "spam = 100\n",
    "\n",
    "assert spam == 100\n",
    "assert cheese == 42"
   ]
  },
  {
   "cell_type": "markdown",
   "id": "e9b6e027-af0e-4c41-83ba-118b7aea7475",
   "metadata": {},
   "source": [
    "When you assign 42 to the `spam` variable, you are actually creating the 42 value in the computer’s memory and storing a **reference** to it in the `spam` variable. When you copy the value in `spam` and assign it to the variable `cheese`, you are actually *copying the reference*. Both the `spam` and `cheese` variables refer to the 42 value in the computer’s memory. When you later change the value in `spam` to 100, you’re creating a new 100 value and storing a **reference** to it in `spam`. This doesn’t affect the value in `cheese`. Integers are *immutable* values that don’t change; changing the `spam` variable is actually making it refer to a completely different value in memory."
   ]
  },
  {
   "cell_type": "markdown",
   "id": "07fa5714-6b43-402b-adee-2ab1268b6536",
   "metadata": {},
   "source": [
    "But lists don’t work this way, because list values can change; that is, lists are *mutable*. Here is some code that will make this distinction easier to understand."
   ]
  },
  {
   "cell_type": "code",
   "execution_count": 26,
   "id": "55389494-9ec3-4479-a043-c339ffbb7f85",
   "metadata": {},
   "outputs": [],
   "source": [
    "spam = [0, 1, 2, 3, 4, 5]\n",
    "cheese = spam # The reference is being copied, not the list.\n",
    "cheese[1] = 'Hello!' # This changes the list value.\n",
    "\n",
    "assert spam == [0, 'Hello!', 2, 3, 4, 5]\n",
    "assert cheese == [0, 'Hello!', 2, 3, 4, 5] # The cheese variable refers to the same list.   "
   ]
  },
  {
   "cell_type": "markdown",
   "id": "1529fdcd-221e-4aae-8fc1-5e43e4f3ed8e",
   "metadata": {},
   "source": [
    "This might look odd to you. The code touched only the `cheese` list, but it seems that both the `cheese` and `spam` lists have changed.\n",
    "\n",
    "When you create the list, you assign a reference to it in the `spam` variable. But the next line copies only the list reference in `spam` to `cheese`, not the list value itself. This means the values stored in `spam` and `cheese` now both refer to the same list. There is only *one underlying list* because the list itself was never actually copied. So when you modify the first element of `cheese`, you are modifying the same list that `spam` refers to.\n",
    "\n",
    "Remember that variables are like boxes that contain values. The previous figures in this chapter show that lists in boxes aren’t exactly accurate, because list variables don’t actually contain lists—they contain references to lists. (These references will have *ID* numbers that Python uses internally, but you can ignore them.) Using boxes as a metaphor for variables, Figure 4-4 shows what happens when a list is assigned to the spam variable.\n",
    "\n",
    "![](https://automatetheboringstuff.com/2e/images/000041.jpg)\n",
    "\n",
    "\n",
    "Then, in Figure 4-5, the reference in `spam` is copied to `cheese`. Only a new reference was created and stored in `cheese`, not a new list. Note how both references refer to the same list.\n",
    "\n",
    "![](https://automatetheboringstuff.com/2e/images/000132.jpg)\n",
    "\n",
    "When you alter the list that `cheese` refers to, the list that `spam` refers to is also changed, because both `cheese` and `spam` refer to the same list. You can see this in Figure 4-6.\n",
    "\n",
    "![](https://automatetheboringstuff.com/2e/images/000077.jpg)\n",
    "\n",
    "Although Python variables technically contain references to values, people often casually say that the variable contains the value."
   ]
  },
  {
   "cell_type": "markdown",
   "id": "e249630a-94a5-4ae9-b7ef-524f554266f8",
   "metadata": {},
   "source": [
    "### Identity and the `id()` Function\n",
    "\n",
    "You may be wondering why the weird behavior with mutable lists in the previous section doesn’t happen with immutable values like integers or strings. We can use Python’s `id()` function to understand this. All values in Python have a unique identity that can be obtained with the `id()` function:"
   ]
  },
  {
   "cell_type": "code",
   "execution_count": 101,
   "id": "5da02c08-4d82-4eab-86d0-83826a435244",
   "metadata": {},
   "outputs": [
    {
     "data": {
      "text/plain": [
       "140557106532976"
      ]
     },
     "execution_count": 101,
     "metadata": {},
     "output_type": "execute_result"
    }
   ],
   "source": [
    "id('Howdy')  # The returned number will be different on your machine and for each new program."
   ]
  },
  {
   "cell_type": "markdown",
   "id": "e02649e4-b615-4286-bbae-32b07bfb665b",
   "metadata": {},
   "source": [
    "When Python runs `id('Howdy')`, it creates the 'Howdy' string in the computer’s memory. The numeric memory address where the string is stored is returned by the `id()` function. Python picks this address based on which memory bytes happen to be free on your computer at the time, so it’ll be different each time you run this code.\n",
    "\n",
    "Like all strings, 'Howdy' is immutable and cannot be changed. If you “change” the string in a variable, a new string object is being made at a different place in memory, and the variable refers to this new string."
   ]
  },
  {
   "cell_type": "code",
   "execution_count": 102,
   "id": "07c2a2ec-1846-4706-be56-af6e83a75888",
   "metadata": {},
   "outputs": [
    {
     "name": "stdout",
     "output_type": "stream",
     "text": [
      "140556167283504\n",
      "140556167286192\n"
     ]
    }
   ],
   "source": [
    "bacon = 'Hello'\n",
    "print(id(bacon))\n",
    "\n",
    "bacon += ' world!' # A new string is made from 'Hello' and ' world!'.\n",
    "print(id(bacon)) # bacon now refers to a completely different string."
   ]
  },
  {
   "cell_type": "markdown",
   "id": "9f2e9dc0-2640-497c-98ea-da36c2688ced",
   "metadata": {},
   "source": [
    "However, lists can be modified because they are mutable objects. The `append()` method doesn’t create a new list object; it changes the existing list object. We call this “modifying the object in-place.”"
   ]
  },
  {
   "cell_type": "code",
   "execution_count": 27,
   "id": "29520ad6-6773-4df1-b09a-3ff081056b3c",
   "metadata": {},
   "outputs": [],
   "source": [
    "eggs = ['cat', 'dog'] # This creates a new list.\n",
    "id_eggs = id(eggs)\n",
    "\n",
    "eggs.append('moose') # append() modifies the list \"in place\".\n",
    "assert id(eggs) == id_eggs # eggs still refers to the same list as before.\n",
    "\n",
    "eggs = ['bat', 'rat', 'cow'] # This creates a new list, which has a new identity.\n",
    "assert id(eggs) != id_eggs # eggs now refers to a completely different list."
   ]
  },
  {
   "cell_type": "markdown",
   "id": "019dbfdf-6f08-4d42-9de0-222dd1508923",
   "metadata": {},
   "source": [
    "If two variables refer to the same list (like `spam` and `cheese` in the previous section) and the list value itself changes, both variables are affected because they both refer to the same list. The `append()`, `extend()`, `remove()`, `sort()`, `reverse()`, and other list methods modify their lists **in place**.\n",
    "\n",
    "Python’s automatic **garbage collector** deletes any values not being *referred to* by any variables to free up memory. You don’t need to worry about how the garbage collector works, which is a good thing: manual memory management in other programming languages is a common source of bugs."
   ]
  },
  {
   "cell_type": "markdown",
   "id": "229b824a-86ba-45eb-bcce-1a898e11e2e9",
   "metadata": {},
   "source": [
    "### Passing References"
   ]
  },
  {
   "cell_type": "markdown",
   "id": "2def8d52-c406-4b7a-8718-d4d152b6cc7b",
   "metadata": {},
   "source": [
    "**References** are particularly important for understanding how arguments get passed to functions. When a function is called, the *values of the arguments are copied to the parameter variables*. For *lists* (and *dictionaries*, which I’ll describe in the next chapter), this means a **copy of the reference** is used for the parameter. To see the consequences of this:"
   ]
  },
  {
   "cell_type": "code",
   "execution_count": 28,
   "id": "d245f752-e844-4243-9001-233794961a8f",
   "metadata": {},
   "outputs": [],
   "source": [
    "def eggs(someList):\n",
    "    someList.append('Hello')\n",
    "\n",
    "spam = [1, 2, 3]\n",
    "eggs(spam)"
   ]
  },
  {
   "cell_type": "markdown",
   "id": "64160aad-e2f2-4ef7-9782-8b3a5b7fb83f",
   "metadata": {},
   "source": [
    "Notice that when `eggs()` is called, a return value is not used to assign a new value to spam. Instead, it *modifies the list in place*, directly. When run, this program produces the following output:"
   ]
  },
  {
   "cell_type": "code",
   "execution_count": 29,
   "id": "03b55345-2598-4a22-a2d4-55bd96601a23",
   "metadata": {},
   "outputs": [
    {
     "data": {
      "text/plain": [
       "[1, 2, 3, 'Hello']"
      ]
     },
     "execution_count": 29,
     "metadata": {},
     "output_type": "execute_result"
    }
   ],
   "source": [
    "spam"
   ]
  },
  {
   "cell_type": "code",
   "execution_count": 34,
   "id": "36ad8c53-4b7d-4b22-a934-2adf3efc015d",
   "metadata": {},
   "outputs": [
    {
     "name": "stdout",
     "output_type": "stream",
     "text": [
      "[0]\n",
      "[0]\n"
     ]
    }
   ],
   "source": [
    "def f(input=None):\n",
    "    if input is None:\n",
    "        input = []\n",
    "    \n",
    "    if input:\n",
    "        print(\"nicht leer\")\n",
    "        print(input)\n",
    "    else:\n",
    "        input.append(0)\n",
    "        print(input)\n",
    "        \n",
    "f()\n",
    "f()"
   ]
  },
  {
   "cell_type": "code",
   "execution_count": 36,
   "id": "28f2931a-256a-41e8-bbff-5215302323d1",
   "metadata": {},
   "outputs": [
    {
     "name": "stdout",
     "output_type": "stream",
     "text": [
      "[1, 2, 3]\n",
      "[10, 2, 3]\n"
     ]
    }
   ],
   "source": [
    "spam = [1,2,3]\n",
    "cheese = spam[:]\n",
    "cheese[0] = 10\n",
    "\n",
    "print(spam)\n",
    "print(cheese)"
   ]
  },
  {
   "cell_type": "markdown",
   "id": "739c1a0f-1571-4f41-9e90-d9ee59950c56",
   "metadata": {},
   "source": [
    "Even though `spam` and `someList` contain separate references (because the reference was copied when calling the function), they both refer to the *same list*. This is why the `append('Hello')` method call inside the function affects the original list even after the function call has returned.\n",
    "\n",
    "Keep this behavior in mind: forgetting that Python handles list and dictionary variables this way can lead to confusing bugs."
   ]
  },
  {
   "cell_type": "markdown",
   "id": "4f95b038-6f3a-469d-964d-5364297fac23",
   "metadata": {},
   "source": [
    "### The copy Module’s `copy()` and `deepcopy()` Functions\n",
    "\n",
    "Although passing around references is often the handiest way to deal with lists and dictionaries, if the function modifies the list or dictionary that is passed, you may not want these changes in the original list or dictionary value. For this, Python provides a module named `copy` that provides both the `copy()` and `deepcopy()` functions. The first of these, `copy.copy()`, can be used to *make a duplicate copy of a mutable value* like a list or dictionary, not just a copy of a reference:"
   ]
  },
  {
   "cell_type": "code",
   "execution_count": 37,
   "id": "3fdeabe2-f0de-4477-8966-d6b4f78c7c24",
   "metadata": {},
   "outputs": [
    {
     "name": "stdout",
     "output_type": "stream",
     "text": [
      "140360607103872\n",
      "140361563790528\n"
     ]
    }
   ],
   "source": [
    "import copy\n",
    "\n",
    "spam = ['A', 'B', 'C', 'D']\n",
    "print(id(spam))\n",
    "\n",
    "cheese = copy.copy(spam)\n",
    "print(id(cheese))  # cheese is a different list with different identity.\n",
    "\n",
    "cheese[1] = 42\n",
    "assert spam == ['A', 'B', 'C', 'D']\n",
    "assert cheese == ['A', 42, 'C', 'D']"
   ]
  },
  {
   "cell_type": "markdown",
   "id": "33ebb340-dec1-4b93-87db-313ad084aa46",
   "metadata": {},
   "source": [
    "Now the `spam` and `cheese` variables refer to separate lists, which is why only the list in `cheese` is modified when you assign 42 at index 1. As you can see in Figure 4-7, the reference ID numbers are no longer the same for both variables because the variables refer to independent lists.\n",
    "\n",
    "![](https://automatetheboringstuff.com/2e/images/000025.jpg)"
   ]
  },
  {
   "cell_type": "markdown",
   "id": "f4ce78b1-7c77-45d9-8195-01a774a3e72f",
   "metadata": {},
   "source": [
    "If the list you need to copy contains lists, then use the `copy.deepcopy()` function instead of `copy.copy()`. The `deepcopy()` function will copy these inner lists as well."
   ]
  },
  {
   "cell_type": "code",
   "execution_count": 44,
   "id": "de2251fc-6f90-4725-b836-b51eec3755c3",
   "metadata": {},
   "outputs": [
    {
     "name": "stdout",
     "output_type": "stream",
     "text": [
      "[[1, 2], [3, 4]]\n",
      "[[10, 2], [3, 4]]\n"
     ]
    }
   ],
   "source": [
    "spam = [[None,2], [3,None]]\n",
    "cheese = copy.deepcopy(spam)\n",
    "cheese[0][0] = 10\n",
    "\n",
    "print(spam)\n",
    "print(cheese)"
   ]
  },
  {
   "cell_type": "markdown",
   "id": "eb2a8d91-ae99-424f-8fd2-f8032fa44577",
   "metadata": {
    "jp-MarkdownHeadingCollapsed": true,
    "tags": []
   },
   "source": [
    "## Summary\n",
    "\n",
    "Lists are useful data types since they allow you to write code that works on a modifiable number of values in a single variable. Later in this book, you will see programs using lists to do things that would be difficult or impossible to do without them.\n",
    "\n",
    "Lists are a sequence data type that is **mutable**, meaning that their contents can change. Tuples and strings, though also sequence data types, are **immutable** and cannot be changed. A variable that contains a tuple or string value can be *overwritten* with a new tuple or string value, but this is not the same thing as modifying the existing value *in place*—like, say, the `append()` or `remove()` methods do on lists.\n",
    "\n",
    "Variables do not store list values directly; they store **references** to lists. This is an important distinction when you are copying variables or passing lists as arguments in function calls. Because the value that is being copied is the list reference, be aware that any changes you make to the list might impact another variable in your program. You can use `copy()` or `deepcopy()` if you want to make changes to a list in one variable without modifying the original list."
   ]
  },
  {
   "cell_type": "markdown",
   "id": "a4b8ed8a-250f-412a-9618-43a632b59f6c",
   "metadata": {
    "tags": []
   },
   "source": [
    "## Practice Questions\n",
    "\n",
    "1. What is `[]`?"
   ]
  },
  {
   "cell_type": "code",
   "execution_count": 52,
   "id": "e72e6b9d-8287-4fea-9261-9497e85a612a",
   "metadata": {},
   "outputs": [
    {
     "data": {
      "text/plain": [
       "(list, 0)"
      ]
     },
     "execution_count": 52,
     "metadata": {},
     "output_type": "execute_result"
    }
   ],
   "source": [
    "type([]), len([])"
   ]
  },
  {
   "cell_type": "markdown",
   "id": "67280869-a51d-4dc9-bd5d-db761849174b",
   "metadata": {},
   "source": [
    "2. How would you assign the value 'hello' as the third value in a list stored in a variable named `spam`? (Assume `spam` contains `[2, 4, 6, 8, 10]`.)"
   ]
  },
  {
   "cell_type": "code",
   "execution_count": 53,
   "id": "3d7e3fdd-1c36-4949-8c25-68b726279077",
   "metadata": {},
   "outputs": [
    {
     "data": {
      "text/plain": [
       "[2, 4, 'hello', 8, 10]"
      ]
     },
     "execution_count": 53,
     "metadata": {},
     "output_type": "execute_result"
    }
   ],
   "source": [
    "spam = [2, 4, 6, 8, 10]\n",
    "spam[2] = 'hello'\n",
    "spam"
   ]
  },
  {
   "cell_type": "markdown",
   "id": "006518c8-f0b8-48ba-956a-b2fee62112ac",
   "metadata": {},
   "source": [
    "For the following three questions, let’s say `spam` contains the list `['a', 'b', 'c', 'd']`."
   ]
  },
  {
   "cell_type": "markdown",
   "id": "b6b6cf73-20cc-4945-a00b-120613c0349f",
   "metadata": {},
   "source": [
    "3. What does `spam[int(int('3' * 2) // 11)]` evaluate to?"
   ]
  },
  {
   "cell_type": "code",
   "execution_count": 56,
   "id": "801d4d6a-07a8-4c32-85c9-6d84402e80e0",
   "metadata": {},
   "outputs": [
    {
     "data": {
      "text/plain": [
       "'d'"
      ]
     },
     "execution_count": 56,
     "metadata": {},
     "output_type": "execute_result"
    }
   ],
   "source": [
    "spam = ['a', 'b', 'c', 'd']\n",
    "spam[int(int('3' * 2) // 11)]"
   ]
  },
  {
   "cell_type": "markdown",
   "id": "a2f4d991-8063-4266-ac46-c4da09bc3b26",
   "metadata": {},
   "source": [
    "4. What does `spam[-1]` evaluate to?"
   ]
  },
  {
   "cell_type": "code",
   "execution_count": null,
   "id": "4164c723-4c06-453e-a91d-f8ca0651a3c3",
   "metadata": {},
   "outputs": [],
   "source": [
    "spam = ['a', 'b', 'c', 'd']"
   ]
  },
  {
   "cell_type": "markdown",
   "id": "d299550a-4973-4c4e-910e-563dd9b8e63e",
   "metadata": {},
   "source": [
    "5. What does `spam[:2]` evaluate to?"
   ]
  },
  {
   "cell_type": "code",
   "execution_count": 57,
   "id": "7a46b11d-1e33-4b06-a4d0-37e61a4aecba",
   "metadata": {},
   "outputs": [
    {
     "data": {
      "text/plain": [
       "['a', 'b']"
      ]
     },
     "execution_count": 57,
     "metadata": {},
     "output_type": "execute_result"
    }
   ],
   "source": [
    "spam = ['a', 'b', 'c', 'd']\n",
    "spam[:2]"
   ]
  },
  {
   "cell_type": "markdown",
   "id": "cae4b70a-6cab-410f-9cdc-a5da646137ec",
   "metadata": {},
   "source": [
    "For the following three questions, let’s say `bacon` contains the list `[3.14, 'cat', 11, 'cat', True]`.\n",
    "\n",
    "6. What does `bacon.index('cat')` evaluate to?\n"
   ]
  },
  {
   "cell_type": "code",
   "execution_count": 59,
   "id": "ef7d00e4-c6ec-48ee-80d2-3a3c5c582efe",
   "metadata": {},
   "outputs": [
    {
     "data": {
      "text/plain": [
       "1"
      ]
     },
     "execution_count": 59,
     "metadata": {},
     "output_type": "execute_result"
    }
   ],
   "source": [
    "bacon = [3.14, 'cat', 11, 'cat', True]\n",
    "bacon.index('cat')"
   ]
  },
  {
   "cell_type": "markdown",
   "id": "56567232-632d-49e5-81de-3dc6cb3e278e",
   "metadata": {},
   "source": [
    "7. What does `bacon.append(99)` make the list value in bacon look like?"
   ]
  },
  {
   "cell_type": "code",
   "execution_count": 61,
   "id": "bf8df5a9-f1eb-4a64-aeca-c4994fedc92b",
   "metadata": {},
   "outputs": [
    {
     "data": {
      "text/plain": [
       "[3.14, 'cat', 11, 'cat', True, 99]"
      ]
     },
     "execution_count": 61,
     "metadata": {},
     "output_type": "execute_result"
    }
   ],
   "source": [
    "bacon = [3.14, 'cat', 11, 'cat', True]\n",
    "bacon.insert(len(bacon), 99)\n",
    "bacon"
   ]
  },
  {
   "cell_type": "markdown",
   "id": "ad7e979c-ae7d-463d-816d-3b59943e0809",
   "metadata": {},
   "source": [
    "8. What does `bacon.remove('cat')` make the list value in bacon look like?"
   ]
  },
  {
   "cell_type": "code",
   "execution_count": 62,
   "id": "61e92623-8ca1-4872-89e9-13a9d45eff0d",
   "metadata": {},
   "outputs": [
    {
     "data": {
      "text/plain": [
       "[3.14, 11, 'cat', True]"
      ]
     },
     "execution_count": 62,
     "metadata": {},
     "output_type": "execute_result"
    }
   ],
   "source": [
    "bacon = [3.14, 'cat', 11, 'cat', True]\n",
    "bacon.remove('cat')\n",
    "bacon"
   ]
  },
  {
   "cell_type": "code",
   "execution_count": null,
   "id": "6ce9f626-b73c-41a4-adce-73ed9c53386f",
   "metadata": {},
   "outputs": [],
   "source": [
    "def remove_all():\n",
    "    \n",
    "    \n",
    "remove_all([1,2,3,2,1,2,3,2,1], 3) -> [1,2,2,1,2,2,1]"
   ]
  },
  {
   "cell_type": "code",
   "execution_count": 63,
   "id": "1d8c2c47-787d-47f9-a82e-7d2379f83cf1",
   "metadata": {},
   "outputs": [
    {
     "name": "stdout",
     "output_type": "stream",
     "text": [
      "The Zen of Python, by Tim Peters\n",
      "\n",
      "Beautiful is better than ugly.\n",
      "Explicit is better than implicit.\n",
      "Simple is better than complex.\n",
      "Complex is better than complicated.\n",
      "Flat is better than nested.\n",
      "Sparse is better than dense.\n",
      "Readability counts.\n",
      "Special cases aren't special enough to break the rules.\n",
      "Although practicality beats purity.\n",
      "Errors should never pass silently.\n",
      "Unless explicitly silenced.\n",
      "In the face of ambiguity, refuse the temptation to guess.\n",
      "There should be one-- and preferably only one --obvious way to do it.\n",
      "Although that way may not be obvious at first unless you're Dutch.\n",
      "Now is better than never.\n",
      "Although never is often better than *right* now.\n",
      "If the implementation is hard to explain, it's a bad idea.\n",
      "If the implementation is easy to explain, it may be a good idea.\n",
      "Namespaces are one honking great idea -- let's do more of those!\n"
     ]
    }
   ],
   "source": [
    "import this"
   ]
  },
  {
   "cell_type": "markdown",
   "id": "d929ec02-c27d-4ea6-ba35-3bef6533753f",
   "metadata": {},
   "source": [
    "9. What are the operators for list concatenation and list replication?"
   ]
  },
  {
   "cell_type": "code",
   "execution_count": null,
   "id": "1cd32a3a-1e1c-41e1-96f9-90cca94b20b0",
   "metadata": {},
   "outputs": [],
   "source": [
    "+, "
   ]
  },
  {
   "cell_type": "markdown",
   "id": "44d5804a-e560-4bd4-840f-51cba5c8e383",
   "metadata": {},
   "source": [
    "10. What is the difference between the `append()` and `insert()` list methods?"
   ]
  },
  {
   "cell_type": "markdown",
   "id": "bceea1ba-bb0e-4ab2-9438-65b4e689cd62",
   "metadata": {},
   "source": [
    "11. What are two ways to remove values from a list?"
   ]
  },
  {
   "cell_type": "code",
   "execution_count": null,
   "id": "9f657f5a-ee32-42a9-8a67-41adf2f944bd",
   "metadata": {},
   "outputs": [],
   "source": [
    "list.remove(\"hello\"), del list[0]"
   ]
  },
  {
   "cell_type": "markdown",
   "id": "3e063e19-fb26-43a7-9e6d-f5fe38887213",
   "metadata": {},
   "source": [
    "12. Name a few ways that list values are similar to string values."
   ]
  },
  {
   "cell_type": "code",
   "execution_count": 66,
   "id": "527b7aae-e266-4eca-ada4-6acd32b395a6",
   "metadata": {},
   "outputs": [
    {
     "data": {
      "text/plain": [
       "('h', 5, True)"
      ]
     },
     "execution_count": 66,
     "metadata": {},
     "output_type": "execute_result"
    }
   ],
   "source": [
    "\"hello\"[0], len(\"hello\"), \"h\" in \"hello\""
   ]
  },
  {
   "cell_type": "markdown",
   "id": "1aaca442-3b55-4852-b76f-e83f598bd90a",
   "metadata": {},
   "source": [
    "13. What is the difference between lists and tuples?"
   ]
  },
  {
   "cell_type": "code",
   "execution_count": 69,
   "id": "1f9cf973-f622-4680-9b31-d33067a6e183",
   "metadata": {},
   "outputs": [
    {
     "data": {
      "text/plain": [
       "['h', 'e', 'l', 'l', 'o']"
      ]
     },
     "execution_count": 69,
     "metadata": {},
     "output_type": "execute_result"
    }
   ],
   "source": []
  },
  {
   "cell_type": "markdown",
   "id": "ce9e5e24-0e6d-483f-a146-1b268d280ba7",
   "metadata": {},
   "source": [
    "14. How do you type the tuple value that has just the integer value 42 in it?"
   ]
  },
  {
   "cell_type": "code",
   "execution_count": null,
   "id": "6bbe91af-bddd-401d-9f67-f01d90ae5ea7",
   "metadata": {},
   "outputs": [],
   "source": [
    "(42,)"
   ]
  },
  {
   "cell_type": "markdown",
   "id": "66826a2c-6bde-4127-b7c0-db6187a76154",
   "metadata": {},
   "source": [
    "15. How can you get the tuple form of a list value? How can you get the list form of a tuple value?"
   ]
  },
  {
   "cell_type": "code",
   "execution_count": null,
   "id": "fe2c7bd7-3341-4359-b964-04368dde35e1",
   "metadata": {},
   "outputs": [],
   "source": [
    "tuple(list), list(tuple)"
   ]
  },
  {
   "cell_type": "markdown",
   "id": "ad5c1d21-e181-4474-825a-723fb7446467",
   "metadata": {},
   "source": [
    "16. Variables that “contain” list values don’t actually contain lists directly. What do they contain instead?"
   ]
  },
  {
   "cell_type": "markdown",
   "id": "819118e2-28f7-4508-ad1e-f34e96ec3478",
   "metadata": {},
   "source": [
    "17. What is the difference between `copy.copy()` and `copy.deepcopy()`?"
   ]
  },
  {
   "cell_type": "markdown",
   "id": "fa567844-6f92-47c4-b359-9ec68555da51",
   "metadata": {},
   "source": [
    "## A Short Program: Conway’s Game of Life"
   ]
  },
  {
   "cell_type": "markdown",
   "id": "7eeeb278-b5ac-46d2-9a41-f992390ee7e1",
   "metadata": {},
   "source": [
    "Conway’s Game of Life is an example of **cellular automata**: a set of rules governing the behavior of a field made up of discrete cells. In practice, it creates a pretty animation to look at. You can draw out each step on graph paper, using the squares as cells. A filled-in square will be “alive” and an empty square will be “dead.” If a living square has two or three living neighbors, it continues to live on the next step. If a dead square has exactly three living neighbors, it comes alive on the next step. Every other square dies or remains dead on the next step. You can see an example of the progression of steps in Figure 4-8.\n",
    "\n",
    "![](https://automatetheboringstuff.com/2e/images/000117.jpg)\n",
    "\n",
    "Even though the rules are simple, there are many surprising behaviors that emerge. Patterns in Conway’s Game of Life can move, self-replicate, or even mimic CPUs. But at the foundation of all of this complex, advanced behavior is a rather simple program.\n",
    "\n",
    "We can use a *list of lists* to represent the two-dimensional field. The inner list represents each column of squares and stores a '#' hash string for living squares and a ' ' space string for dead squares. It’s fine if you don’t quite understand how all of the code works; just enter it and follow along with comments and explanations provided here as close as you can:"
   ]
  },
  {
   "cell_type": "code",
   "execution_count": 70,
   "id": "e02ebf14-7d62-47b2-bb42-30bc4ab0b1bd",
   "metadata": {},
   "outputs": [
    {
     "name": "stdout",
     "output_type": "stream",
     "text": [
      "\n",
      "\n",
      "\n",
      "□ ■ □ ■ □ ■ \n",
      "□ ■ ■ ■ □ □ \n",
      "□ □ □ ■ ■ □ \n",
      "□ □ □ ■ □ □ \n",
      "□ ■ □ ■ □ ■ \n",
      "□ ■ ■ □ □ ■ \n",
      "\n",
      "\n",
      "\n",
      "□ □ □ ■ □ □ \n",
      "■ ■ □ □ □ □ \n",
      "□ □ □ □ ■ □ \n",
      "□ □ □ ■ □ □ \n",
      "□ ■ □ ■ □ □ \n",
      "□ ■ □ ■ □ ■ \n",
      "\n",
      "\n",
      "\n",
      "□ ■ □ □ ■ □ \n",
      "□ □ □ □ □ □ \n",
      "□ □ □ □ □ □ \n",
      "□ □ ■ ■ ■ □ \n",
      "■ □ □ ■ □ □ \n",
      "■ □ □ ■ □ □ \n",
      "\n",
      "\n",
      "\n",
      "□ □ □ □ □ □ \n",
      "□ □ □ □ □ □ \n",
      "□ □ □ ■ □ □ \n",
      "□ □ ■ ■ ■ □ \n",
      "□ ■ □ □ □ ■ \n",
      "■ ■ ■ ■ ■ ■ \n",
      "\n",
      "\n",
      "\n",
      "■ ■ ■ ■ ■ ■ \n",
      "□ □ □ □ □ □ \n",
      "□ □ ■ ■ ■ □ \n",
      "□ □ ■ ■ ■ □ \n",
      "□ □ □ □ □ □ \n",
      "□ ■ ■ ■ ■ ■ \n",
      "\n",
      "\n",
      "\n",
      "□ □ □ □ □ □ \n",
      "■ □ □ □ □ □ \n",
      "□ □ ■ □ ■ □ \n",
      "□ □ ■ □ ■ □ \n",
      "□ ■ □ □ □ ■ \n",
      "□ □ □ □ □ □ \n",
      "\n",
      "\n",
      "\n",
      "□ □ □ □ □ □ \n",
      "□ □ □ □ □ □ \n",
      "□ ■ □ □ □ ■ \n",
      "□ ■ ■ □ ■ ■ \n",
      "□ □ □ □ □ □ \n",
      "□ □ □ □ □ □ \n",
      "\n",
      "\n",
      "\n",
      "□ □ □ □ □ □ \n",
      "□ □ □ □ □ □ \n",
      "□ ■ ■ □ ■ ■ \n",
      "□ ■ ■ □ ■ ■ \n",
      "□ □ □ □ □ □ \n",
      "□ □ □ □ □ □ \n",
      "\n",
      "\n",
      "\n",
      "□ □ □ □ □ □ \n",
      "□ □ □ □ □ □ \n",
      "□ ■ ■ □ ■ ■ \n",
      "□ ■ ■ □ ■ ■ \n",
      "□ □ □ □ □ □ \n",
      "□ □ □ □ □ □ \n",
      "\n",
      "\n",
      "\n",
      "□ □ □ □ □ □ \n",
      "□ □ □ □ □ □ \n",
      "□ ■ ■ □ ■ ■ \n",
      "□ ■ ■ □ ■ ■ \n",
      "□ □ □ □ □ □ \n",
      "□ □ □ □ □ □ \n",
      "\n",
      "\n",
      "\n",
      "□ □ □ □ □ □ \n",
      "□ □ □ □ □ □ \n",
      "□ ■ ■ □ ■ ■ \n",
      "□ ■ ■ □ ■ ■ \n",
      "□ □ □ □ □ □ \n",
      "□ □ □ □ □ □ \n",
      "\n",
      "\n",
      "\n",
      "□ □ □ □ □ □ \n",
      "□ □ □ □ □ □ \n",
      "□ ■ ■ □ ■ ■ \n",
      "□ ■ ■ □ ■ ■ \n",
      "□ □ □ □ □ □ \n",
      "□ □ □ □ □ □ \n",
      "\n",
      "\n",
      "\n",
      "□ □ □ □ □ □ \n",
      "□ □ □ □ □ □ \n",
      "□ ■ ■ □ ■ ■ \n",
      "□ ■ ■ □ ■ ■ \n",
      "□ □ □ □ □ □ \n",
      "□ □ □ □ □ □ \n",
      "\n",
      "\n",
      "\n",
      "□ □ □ □ □ □ \n",
      "□ □ □ □ □ □ \n",
      "□ ■ ■ □ ■ ■ \n",
      "□ ■ ■ □ ■ ■ \n",
      "□ □ □ □ □ □ \n",
      "□ □ □ □ □ □ \n"
     ]
    },
    {
     "ename": "KeyboardInterrupt",
     "evalue": "",
     "output_type": "error",
     "traceback": [
      "\u001b[0;31m---------------------------------------------------------------------------\u001b[0m",
      "\u001b[0;31mKeyboardInterrupt\u001b[0m                         Traceback (most recent call last)",
      "\u001b[0;32m<ipython-input-70-4e313562dc8a>\u001b[0m in \u001b[0;36m<module>\u001b[0;34m\u001b[0m\n\u001b[1;32m     66\u001b[0m                 \u001b[0;31m# Everything else dies or stays dead:\u001b[0m\u001b[0;34m\u001b[0m\u001b[0;34m\u001b[0m\u001b[0;34m\u001b[0m\u001b[0m\n\u001b[1;32m     67\u001b[0m                 \u001b[0mnextCells\u001b[0m\u001b[0;34m[\u001b[0m\u001b[0mx\u001b[0m\u001b[0;34m]\u001b[0m\u001b[0;34m[\u001b[0m\u001b[0my\u001b[0m\u001b[0;34m]\u001b[0m \u001b[0;34m=\u001b[0m \u001b[0mCHARACTER_DEAD\u001b[0m\u001b[0;34m\u001b[0m\u001b[0;34m\u001b[0m\u001b[0m\n\u001b[0;32m---> 68\u001b[0;31m     \u001b[0mtime\u001b[0m\u001b[0;34m.\u001b[0m\u001b[0msleep\u001b[0m\u001b[0;34m(\u001b[0m\u001b[0;36m1\u001b[0m\u001b[0;34m)\u001b[0m \u001b[0;31m# Add a 1-second pause to reduce flickering.\u001b[0m\u001b[0;34m\u001b[0m\u001b[0;34m\u001b[0m\u001b[0m\n\u001b[0m",
      "\u001b[0;31mKeyboardInterrupt\u001b[0m: "
     ]
    }
   ],
   "source": [
    "# Conway's Game of Life\n",
    "import random, time, copy\n",
    "WIDTH = 6\n",
    "HEIGHT = 6\n",
    "CHARACTER_ALIVE = '\\u25A0'\n",
    "CHARACTER_DEAD = '\\u25A1'\n",
    "\n",
    "# Create a list of list for the cells:\n",
    "nextCells = []\n",
    "for x in range(WIDTH):\n",
    "    column = [] # Create a new column.\n",
    "    for y in range(HEIGHT):\n",
    "        if random.randint(0, 1) == 0:\n",
    "            column.append(CHARACTER_ALIVE) # Add a living cell.\n",
    "        else:\n",
    "            column.append(CHARACTER_DEAD) # Add a dead cell.\n",
    "    nextCells.append(column) # nextCells is a list of column lists.\n",
    "\n",
    "while True: # Main program loop.\n",
    "    print('\\n\\n') # Separate each step with newlines.\n",
    "    currentCells = copy.deepcopy(nextCells)\n",
    "\n",
    "    # Print currentCells on the screen:\n",
    "    for y in range(HEIGHT):\n",
    "        for x in range(WIDTH):\n",
    "            print(currentCells[x][y], end=\" \") # Print the # or space.\n",
    "        print() # Print a newline at the end of the row.\n",
    "\n",
    "    # Calculate the next step's cells based on current step's cells:\n",
    "    for x in range(WIDTH):\n",
    "        for y in range(HEIGHT):\n",
    "            # Get neighboring coordinates:\n",
    "            # `% WIDTH` ensures leftCoord is always between 0 and WIDTH - 1\n",
    "            leftCoord  = (x - 1) % WIDTH\n",
    "            rightCoord = (x + 1) % WIDTH\n",
    "            aboveCoord = (y - 1) % HEIGHT\n",
    "            belowCoord = (y + 1) % HEIGHT\n",
    "\n",
    "            # Count number of living neighbors:\n",
    "            numNeighbors = 0\n",
    "            if currentCells[leftCoord][aboveCoord] == CHARACTER_ALIVE:\n",
    "                numNeighbors += 1 # Top-left neighbor is alive.\n",
    "            if currentCells[x][aboveCoord] == CHARACTER_ALIVE:\n",
    "                numNeighbors += 1 # Top neighbor is alive.\n",
    "            if currentCells[rightCoord][aboveCoord] == CHARACTER_ALIVE:\n",
    "                numNeighbors += 1 # Top-right neighbor is alive.\n",
    "            if currentCells[leftCoord][y] == CHARACTER_ALIVE:\n",
    "                numNeighbors += 1 # Left neighbor is alive.\n",
    "            if currentCells[rightCoord][y] == CHARACTER_ALIVE:\n",
    "                numNeighbors += 1 # Right neighbor is alive.\n",
    "            if currentCells[leftCoord][belowCoord] == CHARACTER_ALIVE:\n",
    "                numNeighbors += 1 # Bottom-left neighbor is alive.\n",
    "            if currentCells[x][belowCoord] == CHARACTER_ALIVE:\n",
    "                numNeighbors += 1 # Bottom neighbor is alive.\n",
    "            if currentCells[rightCoord][belowCoord] == CHARACTER_ALIVE:\n",
    "                numNeighbors += 1 # Bottom-right neighbor is alive.\n",
    "\n",
    "            # Set cell based on Conway's Game of Life rules:\n",
    "            if currentCells[x][y] == CHARACTER_ALIVE and (numNeighbors == 2 or numNeighbors == 3):\n",
    "                # Living cells with 2 or 3 neighbors stay alive:\n",
    "                nextCells[x][y] = CHARACTER_ALIVE\n",
    "            elif currentCells[x][y] == CHARACTER_DEAD and numNeighbors == 3:\n",
    "                # Dead cells with 3 neighbors become alive:\n",
    "                nextCells[x][y] = CHARACTER_ALIVE\n",
    "            else:\n",
    "                # Everything else dies or stays dead:\n",
    "                nextCells[x][y] = CHARACTER_DEAD\n",
    "    time.sleep(1) # Add a 1-second pause to reduce flickering."
   ]
  },
  {
   "cell_type": "markdown",
   "id": "e394c931-6400-467b-b3f9-2364cabfa3cf",
   "metadata": {},
   "source": [
    "**Exercise**: Change the program so that \n",
    "\n",
    "- it shows the current step number\n",
    "- it stops when the board is not changing anymore\n",
    "- it calls functions instead of being one long script"
   ]
  },
  {
   "cell_type": "markdown",
   "id": "6500f466-3d1f-4f03-a638-882931f9cebd",
   "metadata": {},
   "source": [
    "## Practice Projects\n",
    "\n",
    "For practice, write programs to do the following tasks."
   ]
  },
  {
   "cell_type": "markdown",
   "id": "66f5106f-cbc1-44fd-977f-10dcd393f8c3",
   "metadata": {
    "tags": []
   },
   "source": [
    "### Comma Code\n",
    "\n",
    "Say you have a list value like this:\n",
    "\n",
    "`spam = ['apples', 'bananas', 'tofu', 'cats']`\n",
    "\n",
    "Write a function that takes a list value as an argument and returns a string with all the items separated by a comma and a space, with \"and\" inserted before the last item. For example, passing the previous `spam` list to the function would return 'apples, bananas, tofu, and cats'. But your function should be able to work with any list value passed to it. Be sure to test the case where an empty list `[]` is passed to your function."
   ]
  },
  {
   "cell_type": "code",
   "execution_count": 81,
   "id": "addca7a4-ed90-491d-9a3b-afae57006d46",
   "metadata": {
    "jupyter": {
     "source_hidden": true
    },
    "tags": []
   },
   "outputs": [
    {
     "data": {
      "text/plain": [
       "' and apples'"
      ]
     },
     "execution_count": 83,
     "metadata": {},
     "output_type": "execute_result"
    }
   ],
   "source": [
    "def list2str(liste) -> str:\n",
    "    string = \"\"\n",
    "    \n",
    "    for i in range(len(liste)-2):\n",
    "        string += liste[i] + \", \"\n",
    "    \n",
    "    string += f\"{liste[-2]} and {liste[-1]}\"\n",
    "    \n",
    "    return string\n",
    "\n",
    "def list2str(liste) -> str:\n",
    "    string = \"\"\n",
    "    \n",
    "    for i, item in enumerate(liste[:-1]):\n",
    "        string += item + \", \"\n",
    "    \n",
    "    string = string[:-2] + f\" and {liste[-1]}\"\n",
    "    \n",
    "    return string\n",
    "\n",
    "def list2str(liste) -> str:\n",
    "    string = \", \".join(liste[:-1])\n",
    "    \n",
    "    string += f\" and {liste[-1]}\"\n",
    "    \n",
    "    return string\n",
    "\n",
    "\n",
    "list2str(['apples', 'bananas', 'tofu', 'cats'])"
   ]
  },
  {
   "cell_type": "markdown",
   "id": "4fcc9ee7-a905-430c-b46d-1a290f425b1b",
   "metadata": {},
   "source": [
    "### Coin Flip Streaks\n",
    "\n",
    "For this exercise, we’ll try doing an experiment. If you flip a coin 100 times and write down an “H” for each heads and “T” for each tails, you’ll create a list that looks like “T T T T H H H H T T.” If you ask a human to make up 100 random coin flips, you’ll probably end up with alternating head-tail results like “H T H T H H T H T T,” which looks random (to humans), but isn’t mathematically random. A human will almost never write down a streak of six heads or six tails in a row, even though it is highly likely to happen in truly random coin flips. Humans are predictably bad at being random.\n",
    "\n",
    "Write a program to find out how often a streak of six heads or a streak of six tails comes up in a randomly generated list of heads and tails. Your program breaks up the experiment into two parts: the first part generates a list of randomly selected 'heads' and 'tails' values, and the second part checks if there is a streak in it. Put all of this code in a loop that repeats the experiment `10,000` times so we can find out what percentage of the coin flips contains a streak of six heads or tails in a row. As a hint, the function call random.randint(0, 1) will return a 0 value 50% of the time and a 1 value the other 50% of the time.\n",
    "\n",
    "You can start with the following template:\n",
    "\n",
    "```\n",
    "import random\n",
    "numberOfStreaks = 0\n",
    "for experimentNumber in range(10000):\n",
    "    # Code that creates a list of 100 'heads' or 'tails' values.\n",
    "\n",
    "    # Code that checks if there is a streak of 6 heads or tails in a row.\n",
    "print('Chance of streak: %s%%' % (numberOfStreaks / 100))\n",
    "```\n",
    "\n",
    "Of course, this is only an estimate, but `10,000` is a decent sample size. Some knowledge of mathematics could give you the exact answer and save you the trouble of writing a program, but programmers are notoriously bad at math."
   ]
  },
  {
   "cell_type": "code",
   "execution_count": 98,
   "id": "4fd6a0b2-c33a-49cf-829e-391ee1130c15",
   "metadata": {},
   "outputs": [
    {
     "name": "stdout",
     "output_type": "stream",
     "text": [
      "Chance of streak: 55.28\n"
     ]
    }
   ],
   "source": [
    "import random\n",
    "\n",
    "VALID_MOVES = ['H', 'T']\n",
    "\n",
    "numberOfStreaks = 0\n",
    "for experimentNumber in range(10000):\n",
    "    # Code that creates a list of 100 'heads' or 'tails' values.\n",
    "    experiment = []\n",
    "    for i in range(100):\n",
    "        experiment.append(random.choice(VALID_MOVES))\n",
    "    \n",
    "    # Code that checks if there is a streak of 6 heads or tails in a row.\n",
    "    current_counter = 0\n",
    "    current_letter = experiment[0]\n",
    "    for x in experiment[1:]:\n",
    "        if x == current_letter:\n",
    "            current_counter += 1\n",
    "        else:\n",
    "            current_letter = x\n",
    "            current_counter = 0\n",
    "        \n",
    "        if current_counter == 6:\n",
    "            numberOfStreaks += 1\n",
    "            break\n",
    "        \n",
    "        \n",
    "print(f'Chance of streak: {(numberOfStreaks) / 100}')\n"
   ]
  },
  {
   "cell_type": "code",
   "execution_count": 105,
   "id": "d7770408-7c61-4440-9086-7b40bb152871",
   "metadata": {},
   "outputs": [
    {
     "name": "stdout",
     "output_type": "stream",
     "text": [
      "Chance for 6 times K or Z is: 0.03266\n"
     ]
    }
   ],
   "source": [
    "import random\n",
    "\n",
    "VALID_MOVES = ['K', 'Z']\n",
    "N = 100000\n",
    "rounds = 6\n",
    "number_strikes = 0\n",
    "for i in range(N):\n",
    "    experiment = \"\"\n",
    "    for i in range(rounds):\n",
    "        experiment += random.choice(VALID_MOVES)\n",
    "    #print(experiment)\n",
    "    \n",
    "    for move in VALID_MOVES:\n",
    "        if experiment == move * rounds:\n",
    "            number_strikes += 1\n",
    "        \n",
    "print(f\"Chance for {rounds} times {' or '.join(VALID_MOVES)} is: {number_strikes / N}\")"
   ]
  },
  {
   "cell_type": "markdown",
   "id": "d910a305-8083-425a-879a-23ec6e98969c",
   "metadata": {},
   "source": [
    "### Character Picture Grid\n",
    "\n",
    "Say you have a list of lists where each value in the inner lists is a one-character string, like this:\n",
    "\n",
    "```\n",
    "grid = [['.', '.', '.', '.', '.', '.'],\n",
    "        ['.', 'O', 'O', '.', '.', '.'],\n",
    "        ['O', 'O', 'O', 'O', '.', '.'],\n",
    "        ['O', 'O', 'O', 'O', 'O', '.'],\n",
    "        ['.', 'O', 'O', 'O', 'O', 'O'],\n",
    "        ['O', 'O', 'O', 'O', 'O', '.'],\n",
    "        ['O', 'O', 'O', 'O', '.', '.'],\n",
    "        ['.', 'O', 'O', '.', '.', '.'],\n",
    "        ['.', '.', '.', '.', '.', '.']]\n",
    "```\n",
    "\n",
    "Think of `grid[x][y]` as being the character at the $x$- and $y$-coordinates of a “picture” drawn with text characters. The `(0, 0)` origin is in the upper-left corner, the $x$-coordinates increase going right, and the $y$-coordinates increase going down.\n",
    "\n",
    "Copy the previous grid value, and write code that uses it to print the image.\n",
    "\n",
    "```\n",
    "..OO.OO..\n",
    ".OOOOOOO.\n",
    ".OOOOOOO.\n",
    "..OOOOO..\n",
    "...OOO...\n",
    "....O....\n",
    "```\n",
    "\n",
    "Hint: You will need to use a loop in a loop in order to print `grid[0][0]`, then `grid[1][0]`, then `grid[2][0]`, and so on, up to `grid[8][0]`. This will finish the first row, so then print a newline. Then your program should print `grid[0][1]`, then `grid[1][1]`, then `grid[2][1]`, and so on. The last thing your program will print is `grid[8][5]`.\n",
    "\n",
    "\n",
    "Also, remember to pass the `end` keyword argument to `print()` if you don’t want a newline printed automatically after each `print()` call."
   ]
  },
  {
   "cell_type": "code",
   "execution_count": null,
   "id": "d0f30e22-af89-4ad5-a0a3-2483b405e353",
   "metadata": {},
   "outputs": [],
   "source": []
  }
 ],
 "metadata": {
  "kernelspec": {
   "display_name": "Python 3",
   "language": "python",
   "name": "python3"
  },
  "language_info": {
   "codemirror_mode": {
    "name": "ipython",
    "version": 3
   },
   "file_extension": ".py",
   "mimetype": "text/x-python",
   "name": "python",
   "nbconvert_exporter": "python",
   "pygments_lexer": "ipython3",
   "version": "3.8.8"
  }
 },
 "nbformat": 4,
 "nbformat_minor": 5
}
