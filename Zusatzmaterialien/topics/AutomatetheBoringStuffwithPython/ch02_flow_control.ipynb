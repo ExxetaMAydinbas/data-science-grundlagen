{
 "cells": [
  {
   "cell_type": "markdown",
   "metadata": {
    "tags": []
   },
   "source": [
    "# Flow control\n",
    "\n",
    "These flow control statements directly correspond to the symbols in a flowchart, so I’ll provide flowchart versions of the code discussed in this chapter. Figure 2-1 shows a flowchart for what to do if it’s raining. Follow the path made by the arrows from Start to End.\n",
    "\n",
    "![](https://automatetheboringstuff.com/2e/images/000039.jpg)\n",
    "\n",
    "In a flowchart, there is usually more than one way to go from the start to the end. The same is true for lines of code in a computer program. Flowcharts represent these branching points with diamonds, while the other steps are represented with rectangles. The starting and ending steps are represented with rounded rectangles."
   ]
  },
  {
   "cell_type": "markdown",
   "metadata": {},
   "source": [
    "## Boolean Values\n",
    "\n",
    "While the integer, floating-point, and string data types have an unlimited number of possible values, the Boolean data type has only two values: `True` and `False`. (Boolean is capitalized because the data type is named after mathematician George Boole.) "
   ]
  },
  {
   "cell_type": "markdown",
   "metadata": {},
   "source": [
    "Like any other value, Boolean values are used in expressions and can be stored in variables. If you don’t use the proper case or you try to use `True` and `False` for variable names, Python will give you an error message."
   ]
  },
  {
   "cell_type": "code",
   "execution_count": 6,
   "metadata": {},
   "outputs": [],
   "source": [
    "spam = True\n",
    "\n",
    "assert spam == True"
   ]
  },
  {
   "cell_type": "code",
   "execution_count": null,
   "metadata": {},
   "outputs": [],
   "source": [
    "True = 2 + 2"
   ]
  },
  {
   "cell_type": "markdown",
   "metadata": {},
   "source": [
    "## Comparison Operators\n",
    "\n",
    "Comparison operators, also called relational operators, compare two values and evaluate down to a single Boolean value. Table 2-1 lists the comparison operators.\n",
    "\n",
    "Table 2-1: Comparison Operators\n",
    "\n",
    "| Operator | Meaning |\n",
    "|---|---|\n",
    "| == | Equal to |\n",
    "| != | Not equal to | \n",
    "| < | Less than | \n",
    "| > |  Greater than | \n",
    "| <=| Less than or equal to| \n",
    "| >=| Greater than or equal to|\n",
    "\n",
    "These operators evaluate to `True` or `False` depending on the values you give them. Let’s try some operators now, starting with `==` and `!=`.\n"
   ]
  },
  {
   "cell_type": "code",
   "execution_count": null,
   "metadata": {},
   "outputs": [],
   "source": [
    "assert (42 == 42) == True\n",
    "assert (42 == 99) == False\n",
    "assert (2 != 3) == True\n",
    "assert (2 != 2) == False"
   ]
  },
  {
   "cell_type": "markdown",
   "metadata": {},
   "source": [
    "As you might expect, `==` (equal to) evaluates to `True` when the values on both sides are the same, and `!=` (not equal to) evaluates to `True` when the two values are different. The `==` and `!=` operators can actually work with values of any data type."
   ]
  },
  {
   "cell_type": "code",
   "execution_count": null,
   "metadata": {},
   "outputs": [],
   "source": [
    "assert ('hello' == 'hello') == True\n",
    "assert ('hello' == 'Hello') == False\n",
    "assert ('dog' != 'cat') ==  True\n",
    "assert (True == True) == True\n",
    "assert (True != False) == True\n",
    "assert (42 == 42.0) == True\n",
    "assert (42 == '42') == False"
   ]
  },
  {
   "cell_type": "markdown",
   "metadata": {},
   "source": [
    "The `<`, `>`, `<=`, and `>=` operators, on the other hand, work properly only with integer and floating-point values."
   ]
  },
  {
   "cell_type": "code",
   "execution_count": 1,
   "metadata": {},
   "outputs": [],
   "source": [
    "assert  (42 < 100) == True\n",
    "assert (42 > 100) == False\n",
    "assert (42 < 42) == False\n",
    "\n",
    "eggCount = 42\n",
    "assert (eggCount <= 42) == True\n",
    "\n",
    "myAge = 29\n",
    "assert (myAge >= 10) == True"
   ]
  },
  {
   "cell_type": "markdown",
   "metadata": {},
   "source": [
    "## Boolean Operators\n",
    "\n",
    "The three Boolean operators (`and`, `or`, and `not`) are used to compare Boolean values. Like comparison operators, they evaluate these expressions down to a Boolean value. Let’s explore these operators in detail, starting with the and operator."
   ]
  },
  {
   "cell_type": "markdown",
   "metadata": {},
   "source": [
    "The `and` and `or` operators always take two Boolean values (or expressions), so they’re considered **binary** operators. The `and` operator evaluates an expression to `True` if both Boolean values are `True`; otherwise, it evaluates to `False`."
   ]
  },
  {
   "cell_type": "code",
   "execution_count": 11,
   "metadata": {},
   "outputs": [],
   "source": [
    "assert True and True == True\n",
    "assert True and False == False"
   ]
  },
  {
   "cell_type": "markdown",
   "metadata": {},
   "source": [
    "A truth table shows every possible result of a Boolean operator. Table 2-2 is the truth table for the and operator.\n",
    "\n",
    "Table 2-2: The and Operator’s Truth Table\n",
    "\n",
    "| Expression | Evaluates to ...|\n",
    "|---|---|\n",
    "| `True` and `True` | `True`|\n",
    "| `True` and `False`| `False`|\n",
    "|`False` and `True` | `False`|\n",
    "| `False` and `False`| `False`|"
   ]
  },
  {
   "cell_type": "markdown",
   "metadata": {},
   "source": [
    "On the other hand, the `or` operator evaluates an expression to `True` if either of the two Boolean values is `True`. If both are `False`, it evaluates to `False`."
   ]
  },
  {
   "cell_type": "code",
   "execution_count": 3,
   "metadata": {},
   "outputs": [],
   "source": [
    "assert False or True == True\n",
    "assert False or False == False"
   ]
  },
  {
   "cell_type": "markdown",
   "metadata": {},
   "source": [
    "You can see every possible outcome of the or operator in its truth table, shown in Table 2-3.\n",
    "\n",
    "Table 2-3: The or Operator’s Truth Table\n",
    "\n",
    "| Expression | Evaluates to ...|\n",
    "|---|---|\n",
    "| `True` or `True` | `True` |\n",
    "| `True` or `False` | `True` | \n",
    "| `False` or `True` | `True` |\n",
    "| `False` or `False` | `False` |\n"
   ]
  },
  {
   "cell_type": "markdown",
   "metadata": {},
   "source": [
    "Unlike `and` and `or`, the `not` operator operates on only one Boolean value (or expression). This makes it a unary operator. The not operator simply evaluates to the opposite Boolean value.\n",
    "\n"
   ]
  },
  {
   "cell_type": "code",
   "execution_count": 17,
   "metadata": {},
   "outputs": [
    {
     "name": "stdout",
     "output_type": "stream",
     "text": [
      "False\n"
     ]
    }
   ],
   "source": [
    "from operator import xor\n",
    "\n",
    "print(xor(True, True))\n",
    "\n",
    "assert not True == False\n",
    "assert not not not not True == True"
   ]
  },
  {
   "cell_type": "markdown",
   "metadata": {},
   "source": [
    "## Mixing Boolean and Comparison Operators\n",
    "\n",
    "Since the comparison operators evaluate to Boolean values, you can use them in expressions with the Boolean operators.\n",
    "\n",
    "Recall that the `and`, `or`, and `not` operators are called Boolean operators because they always operate on the Boolean values `True` and `False` (note: not correct, you can do `1 and 2` which returns `2`). While expressions like `4 < 5` aren’t Boolean values, they are expressions that evaluate down to Boolean values."
   ]
  },
  {
   "cell_type": "code",
   "execution_count": null,
   "metadata": {},
   "outputs": [],
   "source": [
    "assert (4 < 5) and (5 < 6) == True\n",
    "assert (4 < 5) and (9 < 6) == False\n",
    "assert (1 == 2) or (2 == 2) == True "
   ]
  },
  {
   "cell_type": "markdown",
   "metadata": {},
   "source": [
    "The computer will evaluate the **left expression first**, and then it will evaluate the right expression. When it knows the Boolean value for each, it will then evaluate the whole expression down to one Boolean value. You can think of the computer’s evaluation process for (4 < 5) and (5 < 6) as the following:\n",
    "\n",
    "![](https://automatetheboringstuff.com/2e/images/000095.jpg)"
   ]
  },
  {
   "cell_type": "code",
   "execution_count": null,
   "metadata": {},
   "outputs": [],
   "source": [
    "2 + 2 == 4 and not 2 + 2 == 5 and 2 * 2 == 2 + 2"
   ]
  },
  {
   "cell_type": "markdown",
   "metadata": {},
   "source": [
    "## Elements of Flow Control\n",
    "\n",
    "Flow control statements often start with a part called the condition and are always followed by a block of code called the clause. Before you learn about Python’s specific flow control statements, I’ll cover what a condition and a block are."
   ]
  },
  {
   "cell_type": "markdown",
   "metadata": {},
   "source": [
    "> Conditions\n",
    ">\n",
    ">The Boolean expressions you’ve seen so far could all be considered conditions, which are the same thing as expressions; condition is just a more specific name in the context of flow control statements. Conditions always evaluate down to a on whether its condition is True or False, and almost every flow control statement uses a condition."
   ]
  },
  {
   "cell_type": "markdown",
   "metadata": {},
   "source": [
    "> Blocks of Code\n",
    ">\n",
    ">Lines of Python code can be grouped together in blocks. You can tell when a block begins and ends from the indentation of the lines of code. There are three rules for blocks.\n",
    ">\n",
    ">    - Blocks begin when the indentation increases.\n",
    ">    - Blocks can contain other blocks.\n",
    ">    - Blocks end when the indentation decreases to zero or to a containing block’s indentation.\n"
   ]
  },
  {
   "cell_type": "markdown",
   "metadata": {},
   "source": [
    "Blocks are easier to understand by looking at some indented code, so let’s find the blocks in part of a small game program, shown here:\n",
    "\n",
    "[pythontutor](https://pythontutor.com/visualize.html#mode=display)"
   ]
  },
  {
   "cell_type": "code",
   "execution_count": 23,
   "metadata": {},
   "outputs": [
    {
     "name": "stdout",
     "output_type": "stream",
     "text": [
      "Hello, Mary\n",
      "Access granted.\n"
     ]
    }
   ],
   "source": [
    "name = 'Mary'\n",
    "password = 'swordfish'\n",
    "if name == 'Mary':\n",
    "    print('Hello, Mary')\n",
    "    if password == 'swordfish':\n",
    "        print('Access granted.')\n",
    "    else:\n",
    "        print('Wrong password.')"
   ]
  },
  {
   "cell_type": "markdown",
   "metadata": {},
   "source": [
    "## Flow Control Statements"
   ]
  },
  {
   "cell_type": "markdown",
   "metadata": {},
   "source": [
    "> `if` Statements\n",
    ">\n",
    "> The most common type of flow control statement is the `if` statement. An `if` statement’s clause (that is, the block following the `if` statement) will execute if the statement’s condition is `True`. The clause is skipped if the condition is `False`."
   ]
  },
  {
   "cell_type": "markdown",
   "metadata": {},
   "source": [
    "In plain English, an `if` statement could be read as, “If this condition is true, execute the code in the clause.” In Python, an `if` statement consists of the following:\n",
    "\n",
    "- The `if` keyword\n",
    "- A condition (that is, an expression that evaluates to True or False)\n",
    "- A colon `:`\n",
    "- Starting on the next line, an indented block of code (called the if clause)\n"
   ]
  },
  {
   "cell_type": "code",
   "execution_count": null,
   "metadata": {},
   "outputs": [],
   "source": [
    "if name == 'Alice':\n",
    "    print('Hi, Alice.')"
   ]
  },
  {
   "cell_type": "markdown",
   "metadata": {},
   "source": [
    "![](https://automatetheboringstuff.com/2e/images/000147.jpg)"
   ]
  },
  {
   "cell_type": "markdown",
   "metadata": {},
   "source": [
    "> `else` Statements\n",
    "> \n",
    "> An if clause can **optionally** be followed by an `else` statement. The `else` clause is executed only when the `if` statement’s condition is `False`."
   ]
  },
  {
   "cell_type": "markdown",
   "metadata": {},
   "source": [
    "In plain English, an `else` statement could be read as, “If this condition is true, execute this code. Or else, execute that code.” An `else` statement doesn’t have a condition, and in code, an `else` statement always consists of the following:\n",
    "\n",
    "- The `else` keyword\n",
    "- A colon `:`\n",
    "- Starting on the next line, an indented block of code (called the else clause)\n",
    "\n",
    "Returning to the Alice example, let’s look at some code that uses an else statement to offer a different greeting if the person’s name isn’t Alice."
   ]
  },
  {
   "cell_type": "code",
   "execution_count": null,
   "metadata": {},
   "outputs": [],
   "source": [
    "if name == 'Alice':\n",
    "    print('Hi, Alice.')\n",
    "else:\n",
    "    print('Hello, stranger.')"
   ]
  },
  {
   "cell_type": "markdown",
   "metadata": {},
   "source": [
    "![](https://automatetheboringstuff.com/2e/images/000118.jpg)"
   ]
  },
  {
   "cell_type": "markdown",
   "metadata": {},
   "source": [
    "> `elif` Statements\n",
    ">\n",
    "> While only one of the `if` or `else` clauses will execute, you may have a case where you want one of many possible clauses to execute. The `elif` statement is an “else if” statement that always follows an `if` or another `elif` statement. It provides another condition that is checked only if all of the previous conditions were `False`. "
   ]
  },
  {
   "cell_type": "markdown",
   "metadata": {},
   "source": [
    "In code, an elif statement always consists of the following:\n",
    "\n",
    "- The `elif` keyword\n",
    "- A condition (that is, an expression that evaluates to `True` or `False`)\n",
    "- A colon `:`\n",
    "- Starting on the next line, an indented block of code (called the elif clause)\n",
    "\n",
    "Let’s add an `elif` to the name checker to see this statement in action."
   ]
  },
  {
   "cell_type": "code",
   "execution_count": null,
   "metadata": {},
   "outputs": [],
   "source": [
    "if name == 'Alice':\n",
    "    print('Hi, Alice.')\n",
    "elif age < 12:\n",
    "    print('You are not Alice, kiddo.')"
   ]
  },
  {
   "cell_type": "markdown",
   "metadata": {},
   "source": [
    "![](https://automatetheboringstuff.com/2e/images/000145.jpg)"
   ]
  },
  {
   "cell_type": "code",
   "execution_count": 24,
   "metadata": {},
   "outputs": [
    {
     "name": "stdout",
     "output_type": "stream",
     "text": [
      "Unlike you, Alice is not an undead, immortal vampire.\n"
     ]
    }
   ],
   "source": [
    "# vampire.py\n",
    "name = 'Carol'\n",
    "age = 3000\n",
    "if name == 'Alice':\n",
    "    print('Hi, Alice.')\n",
    "elif age < 12:\n",
    "    print('You are not Alice, kiddo.')\n",
    "elif age > 2000:\n",
    "    print('Unlike you, Alice is not an undead, immortal vampire.')\n",
    "elif age > 100:\n",
    "    print('You are not Alice, grannie.')"
   ]
  },
  {
   "cell_type": "markdown",
   "metadata": {},
   "source": [
    "The order of the `elif` statements does matter, however. Let’s rearrange them to introduce a bug. Remember that the rest of the `elif` clauses are automatically skipped once a `True` condition has been found, so if you swap around some of the clauses in `vampire.py`, you run into a problem. Change the code to look like the following:"
   ]
  },
  {
   "cell_type": "code",
   "execution_count": 25,
   "metadata": {},
   "outputs": [
    {
     "name": "stdout",
     "output_type": "stream",
     "text": [
      "You are not Alice, grannie.\n"
     ]
    }
   ],
   "source": [
    "# vampire.py with a bug\n",
    "name = 'Carol'\n",
    "age = 3000\n",
    "if name == 'Alice':\n",
    "    print('Hi, Alice.')\n",
    "elif age < 12:\n",
    "    print('You are not Alice, kiddo.')\n",
    "elif age > 100:\n",
    "    print('You are not Alice, grannie.')\n",
    "elif age > 2000:\n",
    "    print('Unlike you, Alice is not an undead, immortal vampire.')"
   ]
  },
  {
   "cell_type": "markdown",
   "metadata": {},
   "source": [
    "Optionally, you can have an `else` statement after the last `elif` statement. In that case, it is guaranteed that at least one (and only one) of the clauses will be executed. If the conditions in every `if` and `elif` statement are `False`, then the `else` clause is executed. For example, let’s re-create the Alice program to use `if`, `elif`, and `else` clauses."
   ]
  },
  {
   "cell_type": "code",
   "execution_count": null,
   "metadata": {},
   "outputs": [],
   "source": [
    "name = 'Carol'\n",
    "age = 3000\n",
    "if name == 'Alice':\n",
    "    print('Hi, Alice.')\n",
    "elif age < 12:\n",
    "    print('You are not Alice, kiddo.')\n",
    "else:\n",
    "    print('You are neither Alice nor a little kid.')"
   ]
  },
  {
   "cell_type": "markdown",
   "metadata": {},
   "source": [
    "![](https://automatetheboringstuff.com/2e/images/000032.jpg)"
   ]
  },
  {
   "cell_type": "markdown",
   "metadata": {},
   "source": [
    "## while Loop Statements"
   ]
  },
  {
   "cell_type": "markdown",
   "metadata": {},
   "source": [
    "You can make a block of code execute over and over again using a `while` statement. The code in a `while` clause will be executed as long as the `while` statement’s condition is `True`. In code, a `while` statement always consists of the following:\n",
    "\n",
    "- The `while` keyword\n",
    "- A condition (that is, an expression that evaluates to `True` or `False`)\n",
    "- A colon `:`\n",
    "- Starting on the next line, an indented block of code (called the while clause)\n"
   ]
  },
  {
   "cell_type": "markdown",
   "metadata": {},
   "source": [
    "Let’s look at an `if` statement and a `while` loop that use the same condition and take the same actions based on that condition. Here is the code with an `if` statement:"
   ]
  },
  {
   "cell_type": "code",
   "execution_count": 26,
   "metadata": {},
   "outputs": [
    {
     "name": "stdout",
     "output_type": "stream",
     "text": [
      "Hello, world.\n"
     ]
    }
   ],
   "source": [
    "spam = 0\n",
    "if spam < 5:\n",
    "    print('Hello, world.')\n",
    "    spam = spam + 1\n",
    "    \n",
    "assert spam == 1"
   ]
  },
  {
   "cell_type": "markdown",
   "metadata": {},
   "source": [
    "Here is the code with a while statement:"
   ]
  },
  {
   "cell_type": "code",
   "execution_count": 27,
   "metadata": {},
   "outputs": [
    {
     "name": "stdout",
     "output_type": "stream",
     "text": [
      "Hello, world.\n",
      "Hello, world.\n",
      "Hello, world.\n",
      "Hello, world.\n",
      "Hello, world.\n"
     ]
    }
   ],
   "source": [
    "spam = 0\n",
    "while spam < 5:\n",
    "    print('Hello, world.')\n",
    "    spam = spam + 1\n",
    "    \n",
    "assert spam == 5"
   ]
  },
  {
   "cell_type": "markdown",
   "metadata": {},
   "source": [
    "These statements are similar—both `if` and `while` check the value of spam, and if it’s less than 5, they print a message. But when you run these two code snippets, something very different happens for each one. For the `if` statement, the output is simply \"Hello, world.\". But for the `while` statement, it’s \"Hello, world.\" repeated five times! Take a look at the flowcharts for these two pieces of code, Figures 2-8 and 2-9, to see why this happens.\n",
    "\n",
    "![](https://automatetheboringstuff.com/2e/images/000112.jpg)"
   ]
  },
  {
   "cell_type": "markdown",
   "metadata": {},
   "source": [
    "In the `while` loop, the condition is always checked at the *start* of each **iteration** (that is, each time the loop is executed). If the condition is `True`, then the clause is executed, and afterward, the condition is checked again. The first time the condition is found to be `False`, the while clause is skipped."
   ]
  },
  {
   "cell_type": "markdown",
   "metadata": {},
   "source": [
    "### An Annoying while Loop"
   ]
  },
  {
   "cell_type": "markdown",
   "metadata": {},
   "source": [
    "Here’s a small example program that will keep asking you to type, literally, your name."
   ]
  },
  {
   "cell_type": "code",
   "execution_count": null,
   "metadata": {},
   "outputs": [],
   "source": [
    "name = ''\n",
    "while name != 'your name':\n",
    "    print('Please type your name.')\n",
    "    name = input()\n",
    "print('Thank you!')"
   ]
  },
  {
   "cell_type": "markdown",
   "metadata": {},
   "source": [
    "If you never enter your name, then the `while` loop’s condition will never be `False`, and the program will just keep asking forever. Here, the `input()` call lets the user enter the right string to make the program move on. In other programs, the condition might never actually change, and that can be a problem. Let’s look at how you can break out of a while loop."
   ]
  },
  {
   "cell_type": "markdown",
   "metadata": {},
   "source": [
    "### `break` Statements"
   ]
  },
  {
   "cell_type": "markdown",
   "metadata": {},
   "source": [
    "There is a shortcut to getting the program execution to break out of a `while` loop’s clause early. If the execution reaches a `break` statement, it immediately **exits** the `while` loop’s clause. In code, a `break` statement simply contains the `break` keyword.\n",
    "\n",
    "Pretty simple, right? Here’s a program that does the same thing as the previous program, but it uses a break statement to escape the loop."
   ]
  },
  {
   "cell_type": "code",
   "execution_count": null,
   "metadata": {},
   "outputs": [],
   "source": [
    "while True:  # infinite loop!\n",
    "    print('Please type your name.')\n",
    "    name = input()\n",
    "    if name == 'your name':\n",
    "        break\n",
    "\n",
    "print('Thank you!')"
   ]
  },
  {
   "cell_type": "markdown",
   "metadata": {},
   "source": [
    "![](https://automatetheboringstuff.com/2e/images/000134.jpg)"
   ]
  },
  {
   "cell_type": "markdown",
   "metadata": {},
   "source": [
    "### `continue` Statement"
   ]
  },
  {
   "cell_type": "markdown",
   "metadata": {},
   "source": [
    "Like `break` statements, `continue` statements are used inside loops. When the program execution reaches a `continue` statement, the program execution immediately jumps back to the **start of the loop** and reevaluates the loop’s condition. (This is also what happens when the execution reaches the end of the loop.)\n",
    "\n",
    "Let’s use `continue` to write a program that asks for a name and password. Enter the following code into a new file editor window and save the program as swordfish.py.\n",
    "\n"
   ]
  },
  {
   "cell_type": "code",
   "execution_count": 28,
   "metadata": {},
   "outputs": [
    {
     "name": "stdout",
     "output_type": "stream",
     "text": [
      "Who are you?\n"
     ]
    },
    {
     "name": "stdin",
     "output_type": "stream",
     "text": [
      " Michael\n"
     ]
    },
    {
     "name": "stdout",
     "output_type": "stream",
     "text": [
      "Who are you?\n"
     ]
    },
    {
     "name": "stdin",
     "output_type": "stream",
     "text": [
      " Joe\n"
     ]
    },
    {
     "name": "stdout",
     "output_type": "stream",
     "text": [
      "Hello, Joe. What is the password? (It is a fish.)\n"
     ]
    },
    {
     "name": "stdin",
     "output_type": "stream",
     "text": [
      " korrekt\n"
     ]
    },
    {
     "name": "stdout",
     "output_type": "stream",
     "text": [
      "Who are you?\n"
     ]
    },
    {
     "ename": "KeyboardInterrupt",
     "evalue": "Interrupted by user",
     "output_type": "error",
     "traceback": [
      "\u001b[0;31m---------------------------------------------------------------------------\u001b[0m",
      "\u001b[0;31mKeyboardInterrupt\u001b[0m                         Traceback (most recent call last)",
      "\u001b[0;32m<ipython-input-28-8ffe90a2998e>\u001b[0m in \u001b[0;36m<module>\u001b[0;34m\u001b[0m\n\u001b[1;32m      2\u001b[0m     \u001b[0mprint\u001b[0m\u001b[0;34m(\u001b[0m\u001b[0;34m'Who are you?'\u001b[0m\u001b[0;34m)\u001b[0m\u001b[0;34m\u001b[0m\u001b[0;34m\u001b[0m\u001b[0m\n\u001b[1;32m      3\u001b[0m \u001b[0;34m\u001b[0m\u001b[0m\n\u001b[0;32m----> 4\u001b[0;31m     \u001b[0mname\u001b[0m \u001b[0;34m=\u001b[0m \u001b[0minput\u001b[0m\u001b[0;34m(\u001b[0m\u001b[0;34m)\u001b[0m\u001b[0;34m\u001b[0m\u001b[0;34m\u001b[0m\u001b[0m\n\u001b[0m\u001b[1;32m      5\u001b[0m     \u001b[0;32mif\u001b[0m \u001b[0mname\u001b[0m \u001b[0;34m!=\u001b[0m \u001b[0;34m'Joe'\u001b[0m\u001b[0;34m:\u001b[0m\u001b[0;34m\u001b[0m\u001b[0;34m\u001b[0m\u001b[0m\n\u001b[1;32m      6\u001b[0m         \u001b[0;32mcontinue\u001b[0m\u001b[0;34m\u001b[0m\u001b[0;34m\u001b[0m\u001b[0m\n",
      "\u001b[0;32m~/miniconda3/envs/greta/lib/python3.8/site-packages/ipykernel/kernelbase.py\u001b[0m in \u001b[0;36mraw_input\u001b[0;34m(self, prompt)\u001b[0m\n\u001b[1;32m    846\u001b[0m                 \u001b[0;34m\"raw_input was called, but this frontend does not support input requests.\"\u001b[0m\u001b[0;34m\u001b[0m\u001b[0;34m\u001b[0m\u001b[0m\n\u001b[1;32m    847\u001b[0m             )\n\u001b[0;32m--> 848\u001b[0;31m         return self._input_request(str(prompt),\n\u001b[0m\u001b[1;32m    849\u001b[0m             \u001b[0mself\u001b[0m\u001b[0;34m.\u001b[0m\u001b[0m_parent_ident\u001b[0m\u001b[0;34m,\u001b[0m\u001b[0;34m\u001b[0m\u001b[0;34m\u001b[0m\u001b[0m\n\u001b[1;32m    850\u001b[0m             \u001b[0mself\u001b[0m\u001b[0;34m.\u001b[0m\u001b[0m_parent_header\u001b[0m\u001b[0;34m,\u001b[0m\u001b[0;34m\u001b[0m\u001b[0;34m\u001b[0m\u001b[0m\n",
      "\u001b[0;32m~/miniconda3/envs/greta/lib/python3.8/site-packages/ipykernel/kernelbase.py\u001b[0m in \u001b[0;36m_input_request\u001b[0;34m(self, prompt, ident, parent, password)\u001b[0m\n\u001b[1;32m    890\u001b[0m             \u001b[0;32mexcept\u001b[0m \u001b[0mKeyboardInterrupt\u001b[0m\u001b[0;34m:\u001b[0m\u001b[0;34m\u001b[0m\u001b[0;34m\u001b[0m\u001b[0m\n\u001b[1;32m    891\u001b[0m                 \u001b[0;31m# re-raise KeyboardInterrupt, to truncate traceback\u001b[0m\u001b[0;34m\u001b[0m\u001b[0;34m\u001b[0m\u001b[0;34m\u001b[0m\u001b[0m\n\u001b[0;32m--> 892\u001b[0;31m                 \u001b[0;32mraise\u001b[0m \u001b[0mKeyboardInterrupt\u001b[0m\u001b[0;34m(\u001b[0m\u001b[0;34m\"Interrupted by user\"\u001b[0m\u001b[0;34m)\u001b[0m \u001b[0;32mfrom\u001b[0m \u001b[0;32mNone\u001b[0m\u001b[0;34m\u001b[0m\u001b[0;34m\u001b[0m\u001b[0m\n\u001b[0m\u001b[1;32m    893\u001b[0m             \u001b[0;32mexcept\u001b[0m \u001b[0mException\u001b[0m \u001b[0;32mas\u001b[0m \u001b[0me\u001b[0m\u001b[0;34m:\u001b[0m\u001b[0;34m\u001b[0m\u001b[0;34m\u001b[0m\u001b[0m\n\u001b[1;32m    894\u001b[0m                 \u001b[0mself\u001b[0m\u001b[0;34m.\u001b[0m\u001b[0mlog\u001b[0m\u001b[0;34m.\u001b[0m\u001b[0mwarning\u001b[0m\u001b[0;34m(\u001b[0m\u001b[0;34m\"Invalid Message:\"\u001b[0m\u001b[0;34m,\u001b[0m \u001b[0mexc_info\u001b[0m\u001b[0;34m=\u001b[0m\u001b[0;32mTrue\u001b[0m\u001b[0;34m)\u001b[0m\u001b[0;34m\u001b[0m\u001b[0;34m\u001b[0m\u001b[0m\n",
      "\u001b[0;31mKeyboardInterrupt\u001b[0m: Interrupted by user"
     ]
    },
    {
     "name": "stdin",
     "output_type": "stream",
     "text": [
      " \n"
     ]
    }
   ],
   "source": [
    "while True:\n",
    "    print('Who are you?')\n",
    "    \n",
    "    name = input()\n",
    "    if name != 'Joe':\n",
    "        continue\n",
    "        \n",
    "    print('Hello, Joe. What is the password? (It is a fish.)')\n",
    "    \n",
    "    password = input()\n",
    "    if password == 'swordfish':\n",
    "        break\n",
    "print('Access granted.')    "
   ]
  },
  {
   "cell_type": "markdown",
   "metadata": {},
   "source": [
    "![](https://automatetheboringstuff.com/2e/images/000078.jpg)"
   ]
  },
  {
   "cell_type": "markdown",
   "metadata": {},
   "source": [
    "**Exercise**: Change the program so that, when given a wrong password, only the password is asked for again, and not the user name."
   ]
  },
  {
   "cell_type": "markdown",
   "metadata": {},
   "source": [
    "### \"TRUTHY\" AND \"FALSEY\" VALUES"
   ]
  },
  {
   "cell_type": "markdown",
   "metadata": {},
   "source": [
    "Conditions will consider some values in other data types equivalent to `True` and `False`. When used in conditions, `0`, `0.0`, and `''` (the empty string) are considered `False`, while all other values are considered `True`. For example, look at the following program:\n",
    "\n",
    "```\n",
    "name = ''\n",
    "➊ while not name:\n",
    "    print('Enter your name:')\n",
    "    name = input()\n",
    "    \n",
    "print('How many guests will you have?')\n",
    "numOfGuests = int(input())\n",
    "➋ if numOfGuests:\n",
    "    ➌ print('Be sure to have enough room for all your guests.')\n",
    "print('Done')\n",
    "```\n",
    "\n",
    "You can view the execution of this program at https://autbor.com/howmanyguests/. If the user enters a blank string for `name`, then the `while` statement’s condition will be `True` ➊, and the program continues to ask for a name. If the value for `numOfGuests` is not `0` ➋, then the condition is considered to be `True`, and the program will print a reminder for the user ➌.\n",
    "\n",
    "You could have entered n`ot name != ''` instead of `not name`, and `numOfGuests != 0` instead of `numOfGuests`, but using the truthy and falsey values can make your code easier to read."
   ]
  },
  {
   "cell_type": "markdown",
   "metadata": {},
   "source": [
    "## `for` Loops and the `range()` Function"
   ]
  },
  {
   "cell_type": "markdown",
   "metadata": {},
   "source": [
    "The `while` loop keeps looping while its condition is `True` (which is the reason for its name), but what if you want to execute a block of code **only a certain number of times**? You can do this with a `for` loop statement and the `range()` function.\n",
    "\n",
    "In code, a `for` statement looks something like `for i in range(5):` and includes the following:\n",
    "\n",
    "- The `for` keyword\n",
    "- A variable name\n",
    "- The `in` keyword\n",
    "- A call to the `range()` method with up to three integers passed to it\n",
    "- A colon `:`\n",
    "- Starting on the next line, an indented block of code (called the for clause)\n",
    "\n",
    "Let’s create a new program called fiveTimes.py to help you see a `for` loop in action."
   ]
  },
  {
   "cell_type": "code",
   "execution_count": 52,
   "metadata": {},
   "outputs": [
    {
     "name": "stdout",
     "output_type": "stream",
     "text": [
      "My name is\n",
      "Jimmy Five Times (0)\n",
      "Jimmy Five Times (1)\n",
      "Jimmy Five Times (2)\n",
      "Jimmy Five Times (3)\n",
      "Jimmy Five Times (4)\n"
     ]
    }
   ],
   "source": [
    "print('My name is')\n",
    "for i in range(5):\n",
    "    print('Jimmy Five Times (' + str(i) + ')')"
   ]
  },
  {
   "cell_type": "markdown",
   "metadata": {},
   "source": [
    "![](https://automatetheboringstuff.com/2e/images/000027.jpg)"
   ]
  },
  {
   "cell_type": "markdown",
   "metadata": {},
   "source": [
    "You can use `break` and `continue` statements inside `for` loops as well. The `continue` statement will continue to the next value of the `for` loop’s counter, as if the program execution had reached the end of the loop and returned to the start. In fact, you can use `continue` and `break` statements only inside `while` and `for` loops. If you try to use these statements elsewhere, Python will give you an error."
   ]
  },
  {
   "cell_type": "code",
   "execution_count": 53,
   "metadata": {},
   "outputs": [
    {
     "name": "stdout",
     "output_type": "stream",
     "text": [
      "Only odd numbers:  1\n",
      "Only odd numbers:  3\n",
      "Only odd numbers:  5\n",
      "Only odd numbers:  7\n",
      "Done\n"
     ]
    }
   ],
   "source": [
    "for i in range(10):\n",
    "    if i % 2 == 0:  # will skip 2,4,6,8\n",
    "        continue\n",
    "    \n",
    "    if i > 8: # will skip 9\n",
    "        break\n",
    "        \n",
    "    print(\"Only odd numbers: \", i)\n",
    "\n",
    "print(\"Done\")"
   ]
  },
  {
   "cell_type": "markdown",
   "metadata": {},
   "source": [
    "As another `for` loop example, consider this story about the mathematician *Carl Friedrich Gauss*. When Gauss was a boy, a teacher wanted to give the class some busywork. The teacher told them to add up all the numbers from `0` to `100`. Young Gauss came up with a clever trick to figure out the answer in a few seconds, but you can write a Python program with a for loop to do this calculation for you."
   ]
  },
  {
   "cell_type": "code",
   "execution_count": 57,
   "metadata": {},
   "outputs": [],
   "source": [
    "total = 0\n",
    "for num in range(101):  # 100 iterations!\n",
    "    total = total + num\n",
    "    \n",
    "assert total == 5050"
   ]
  },
  {
   "cell_type": "markdown",
   "metadata": {},
   "source": [
    "### An Equivalent `while` Loop"
   ]
  },
  {
   "cell_type": "markdown",
   "metadata": {},
   "source": [
    "You can actually use a `while` loop to do the same thing as a `for` loop; `for` loops are just more concise. Let’s rewrite fiveTimes.py to use a `while` loop equivalent of a `for` loop."
   ]
  },
  {
   "cell_type": "code",
   "execution_count": null,
   "metadata": {},
   "outputs": [],
   "source": [
    "print('My name is')\n",
    "i = 0  # not needed when using for\n",
    "while i < 5:\n",
    "    print('Jimmy Five Times (' + str(i) + ')')\n",
    "    i = i + 1  # not needed when using for"
   ]
  },
  {
   "cell_type": "markdown",
   "metadata": {},
   "source": [
    "### The Starting, Stopping, and Stepping Arguments to `range()`"
   ]
  },
  {
   "cell_type": "markdown",
   "metadata": {},
   "source": [
    "Some functions can be called with multiple arguments separated by a comma, and `range()` is one of them. This lets you change the integer passed to `range()` to follow any sequence of integers, including starting at a number other than zero. The first argument will be where the for loop’s variable **starts**, and the second argument will be up to, but not including, the number to **stop** at."
   ]
  },
  {
   "cell_type": "code",
   "execution_count": 58,
   "metadata": {},
   "outputs": [
    {
     "name": "stdout",
     "output_type": "stream",
     "text": [
      "12\n",
      "13\n",
      "14\n",
      "15\n"
     ]
    }
   ],
   "source": [
    "for i in range(12, 16):\n",
    "    print(i)"
   ]
  },
  {
   "cell_type": "markdown",
   "metadata": {},
   "source": [
    "The `range()` function can also be called with three arguments. The first two arguments will be the **start** and **stop** values, and the third will be the **step** argument. The step is the amount that the variable is increased by after each iteration."
   ]
  },
  {
   "cell_type": "code",
   "execution_count": 62,
   "metadata": {},
   "outputs": [
    {
     "ename": "TypeError",
     "evalue": "'float' object cannot be interpreted as an integer",
     "output_type": "error",
     "traceback": [
      "\u001b[0;31m---------------------------------------------------------------------------\u001b[0m",
      "\u001b[0;31mTypeError\u001b[0m                                 Traceback (most recent call last)",
      "\u001b[0;32m<ipython-input-62-5ee38b05e74c>\u001b[0m in \u001b[0;36m<module>\u001b[0;34m\u001b[0m\n\u001b[0;32m----> 1\u001b[0;31m \u001b[0;32mfor\u001b[0m \u001b[0mi\u001b[0m \u001b[0;32min\u001b[0m \u001b[0mrange\u001b[0m\u001b[0;34m(\u001b[0m\u001b[0;36m0\u001b[0m\u001b[0;34m,\u001b[0m \u001b[0;36m10\u001b[0m\u001b[0;34m,\u001b[0m \u001b[0;36m1.5\u001b[0m\u001b[0;34m)\u001b[0m\u001b[0;34m:\u001b[0m\u001b[0;34m\u001b[0m\u001b[0;34m\u001b[0m\u001b[0m\n\u001b[0m\u001b[1;32m      2\u001b[0m     \u001b[0mprint\u001b[0m\u001b[0;34m(\u001b[0m\u001b[0mi\u001b[0m\u001b[0;34m)\u001b[0m\u001b[0;34m\u001b[0m\u001b[0;34m\u001b[0m\u001b[0m\n",
      "\u001b[0;31mTypeError\u001b[0m: 'float' object cannot be interpreted as an integer"
     ]
    }
   ],
   "source": [
    "for i in range(0, 10, 1.5):\n",
    "    print(i)"
   ]
  },
  {
   "cell_type": "markdown",
   "metadata": {},
   "source": [
    "The `range()` function is flexible in the sequence of numbers it produces for for loops. *For* example (I never apologize for my puns), you can even use a **negative number** for the **step** argument to make the for loop count down instead of up."
   ]
  },
  {
   "cell_type": "code",
   "execution_count": 60,
   "metadata": {},
   "outputs": [
    {
     "name": "stdout",
     "output_type": "stream",
     "text": [
      "5\n",
      "4\n",
      "3\n",
      "2\n",
      "1\n"
     ]
    }
   ],
   "source": [
    "for i in range(5, 0, -1):\n",
    "    print(i)"
   ]
  },
  {
   "cell_type": "markdown",
   "metadata": {},
   "source": [
    "**Exercise**: Change the code above so that the `for` loop counts down to zero."
   ]
  },
  {
   "cell_type": "markdown",
   "metadata": {},
   "source": [
    "## Importing Modules"
   ]
  },
  {
   "cell_type": "markdown",
   "metadata": {},
   "source": [
    "All Python programs can call a basic set of functions called **built-in functions**, including the `print()`, `input()`, and `len()` functions you’ve seen before. Python also comes with a set of modules called the **standard library**. Each module is a Python program that contains a related group of functions that can be embedded in your programs. For example, the **math** module has mathematics-related functions, the **random** module has random number-related functions, and so on.\n",
    "\n",
    "Before you can use the functions in a module, you must **import** the module with an import statement. In code, an `import` statement consists of the following:\n",
    "\n",
    "- The `import` keyword\n",
    "- The name of the module\n",
    "- Optionally, more module names, as long as they are separated by commas\n",
    "\n",
    "Once you import a module, you can use all the cool functions of that module. Let’s give it a try with the random module, which will give us access to the `random.randint()` function."
   ]
  },
  {
   "cell_type": "code",
   "execution_count": 69,
   "metadata": {},
   "outputs": [
    {
     "name": "stdout",
     "output_type": "stream",
     "text": [
      "8\n",
      "5\n",
      "7\n",
      "1\n",
      "6\n"
     ]
    }
   ],
   "source": [
    "import random\n",
    "\n",
    "for i in range(5):\n",
    "    print(random.randint(1, 10))"
   ]
  },
  {
   "cell_type": "markdown",
   "metadata": {},
   "source": [
    "The `random.randint()` function call evaluates to a random integer value between the two integers that you pass it. Since `randint()` is in the random module, you must first type random. in front of the function name to tell Python to look for this function inside the random module."
   ]
  },
  {
   "cell_type": "markdown",
   "metadata": {},
   "source": [
    "**Exercise**: Simulate 100 throws of two fair dices."
   ]
  },
  {
   "cell_type": "code",
   "execution_count": 22,
   "metadata": {},
   "outputs": [
    {
     "data": {
      "text/plain": [
       "(array([ 23.,  64.,  86., 117., 148., 179., 135.,  91.,  81.,  52.,  24.]),\n",
       " array([ 2.        ,  2.90909091,  3.81818182,  4.72727273,  5.63636364,\n",
       "         6.54545455,  7.45454545,  8.36363636,  9.27272727, 10.18181818,\n",
       "        11.09090909, 12.        ]),\n",
       " <BarContainer object of 11 artists>)"
      ]
     },
     "execution_count": 22,
     "metadata": {},
     "output_type": "execute_result"
    },
    {
     "data": {
      "image/png": "[encoded data removed]",
      "text/plain": [
       "<Figure size 432x288 with 1 Axes>"
      ]
     },
     "metadata": {
      "needs_background": "light"
     },
     "output_type": "display_data"
    }
   ],
   "source": [
    "import random\n",
    "import matplotlib.pyplot as plt\n",
    "\n",
    "numbers = []\n",
    "\n",
    "for i in range(1000):\n",
    "    x = random.randint(1, 6)\n",
    "    y = random.randint(1, 6)\n",
    "    numbers.append(x+y)\n",
    "    \n",
    "plt.hist(numbers, bins=11)"
   ]
  },
  {
   "cell_type": "markdown",
   "metadata": {},
   "source": [
    "Here’s an example of an import statement that imports four different modules:"
   ]
  },
  {
   "cell_type": "code",
   "execution_count": null,
   "metadata": {},
   "outputs": [],
   "source": [
    "import random, sys, os, math"
   ]
  },
  {
   "cell_type": "markdown",
   "metadata": {},
   "source": [
    "Now we can use any of the functions in these four modules. We’ll learn more about them later in the book."
   ]
  },
  {
   "cell_type": "markdown",
   "metadata": {},
   "source": [
    "### `from import` Statements"
   ]
  },
  {
   "cell_type": "markdown",
   "metadata": {},
   "source": [
    "An alternative form of the `import` statement is composed of the `from` keyword, followed by the module name, the `import` keyword, and a star; for example, `from random import *`.\n",
    "\n",
    "With this form of `import` statement, calls to functions in random will not need the `random.` prefix. However, using the full name makes for more readable code, so it is better to use the import random form of the statement."
   ]
  },
  {
   "cell_type": "markdown",
   "metadata": {},
   "source": [
    "More importantly, you can use the `from import` statement but instead of importing all names with `*`, you can just import the names you need."
   ]
  },
  {
   "cell_type": "code",
   "execution_count": null,
   "metadata": {},
   "outputs": [],
   "source": [
    "from random import randint\n",
    "for i in range(5):\n",
    "    print(randint(1, 10))"
   ]
  },
  {
   "cell_type": "markdown",
   "metadata": {},
   "source": [
    "## Ending a Program Early with the `sys.exit()` Function"
   ]
  },
  {
   "cell_type": "markdown",
   "metadata": {},
   "source": [
    "The last flow control concept to cover is how to **terminate** the program. Programs always terminate if the program execution reaches the bottom of the instructions. However, you can cause the program to terminate, or exit, before the last instruction by calling the `sys.exit()` function. Since this function is in the `sys` module, you have to `import sys` before your program can use it.\n",
    "\n",
    "Open a file editor window and enter the following code, saving it as exitExample.py:"
   ]
  },
  {
   "cell_type": "code",
   "execution_count": null,
   "metadata": {},
   "outputs": [],
   "source": [
    "import sys\n",
    "\n",
    "while True:\n",
    "    print('Type exit to exit.')\n",
    "    response = input()\n",
    "    if response == 'exit':\n",
    "        sys.exit()\n",
    "        \n",
    "    print('You typed ' + response + '.')"
   ]
  },
  {
   "cell_type": "markdown",
   "metadata": {},
   "source": [
    "## A Short Program: Guess the Number"
   ]
  },
  {
   "cell_type": "markdown",
   "metadata": {},
   "source": [
    "The examples I’ve shown you so far are useful for introducing basic concepts, but now let’s see how everything you’ve learned comes together in a more complete program. In this section, I’ll show you a simple “guess the number” game. When you run this program, the output will look something like this:\n",
    "\n",
    "```\n",
    "I am thinking of a number between 1 and 20.\n",
    "Take a guess.\n",
    "10\n",
    "Your guess is too low.\n",
    "Take a guess.\n",
    "15\n",
    "Your guess is too low.\n",
    "Take a guess.\n",
    "17\n",
    "Your guess is too high.\n",
    "Take a guess.\n",
    "16\n",
    "Good job! You guessed my number in 4 guesses!\n",
    "```"
   ]
  },
  {
   "cell_type": "code",
   "execution_count": null,
   "metadata": {},
   "outputs": [],
   "source": [
    "print(\"I am thinking of a number between 1 and 20.\")\n"
   ]
  },
  {
   "cell_type": "markdown",
   "metadata": {},
   "source": [
    "You can view the execution of this program at https://autbor.com/guessthenumber/. "
   ]
  },
  {
   "cell_type": "code",
   "execution_count": 24,
   "metadata": {},
   "outputs": [
    {
     "name": "stdout",
     "output_type": "stream",
     "text": [
      "I am thinking of a number between 1 and 20.\n",
      "Take a guess.\n"
     ]
    },
    {
     "name": "stdin",
     "output_type": "stream",
     "text": [
      " 10\n"
     ]
    },
    {
     "name": "stdout",
     "output_type": "stream",
     "text": [
      "Your guess is too low.\n",
      "Take a guess.\n"
     ]
    },
    {
     "name": "stdin",
     "output_type": "stream",
     "text": [
      " 12\n"
     ]
    },
    {
     "name": "stdout",
     "output_type": "stream",
     "text": [
      "Your guess is too low.\n",
      "Take a guess.\n"
     ]
    },
    {
     "name": "stdin",
     "output_type": "stream",
     "text": [
      " 18\n"
     ]
    },
    {
     "name": "stdout",
     "output_type": "stream",
     "text": [
      "Good job! You guessed my number in 3 guesses!\n"
     ]
    }
   ],
   "source": [
    "# solution\n",
    "%run -i \"../code/automate_online-materials/guessTheNumber.py\""
   ]
  },
  {
   "cell_type": "code",
   "execution_count": 25,
   "metadata": {},
   "outputs": [
    {
     "name": "stdout",
     "output_type": "stream",
     "text": [
      "# This is a guess the number game.\n",
      "import random\n",
      "secretNumber = random.randint(1, 20)\n",
      "print('I am thinking of a number between 1 and 20.')\n",
      "\n",
      "# Ask the player to guess 6 times.\n",
      "for guessesTaken in range(1, 7):\n",
      "    print('Take a guess.')\n",
      "    guess = int(input())\n",
      "\n",
      "    if guess < secretNumber:\n",
      "        print('Your guess is too low.')\n",
      "    elif guess > secretNumber:\n",
      "        print('Your guess is too high.')\n",
      "    else:\n",
      "        break # This condition is the correct guess!\n",
      "\n",
      "if guess == secretNumber:\n",
      "    print('Good job! You guessed my number in ' + str(guessesTaken) + ' guesses!')\n",
      "else:\n",
      "    print('Nope. The number I was thinking of was ' + str(secretNumber))\n"
     ]
    }
   ],
   "source": [
    "!cat \"../code/automate_online-materials/guessTheNumber.py\""
   ]
  },
  {
   "cell_type": "markdown",
   "metadata": {},
   "source": [
    "## A Short Program: Rock, Paper, Scissors"
   ]
  },
  {
   "cell_type": "markdown",
   "metadata": {},
   "source": [
    "Let’s use the programming concepts we’ve learned so far to create a simple rock, paper, scissors game. The output will look like this:\n",
    "\n",
    "```\n",
    "ROCK, PAPER, SCISSORS\n",
    "0 Wins, 0 Losses, 0 Ties\n",
    "Enter your move: (r)ock (p)aper (s)cissors or (q)uit\n",
    "p\n",
    "PAPER versus...\n",
    "PAPER\n",
    "It is a tie!\n",
    "0 Wins, 1 Losses, 1 Ties\n",
    "Enter your move: (r)ock (p)aper (s)cissors or (q)uit\n",
    "s\n",
    "SCISSORS versus...\n",
    "PAPER\n",
    "You win!\n",
    "1 Wins, 1 Losses, 1 Ties\n",
    "Enter your move: (r)ock (p)aper (s)cissors or (q)uit\n",
    "q\n",
    "```"
   ]
  },
  {
   "cell_type": "code",
   "execution_count": 26,
   "metadata": {},
   "outputs": [],
   "source": [
    "x = {1: \"hallo\", 2: \"test\", \"bla\": 3}"
   ]
  },
  {
   "cell_type": "code",
   "execution_count": null,
   "metadata": {},
   "outputs": [],
   "source": [
    "%run -i \"../code/automate_online-materials/rpsGame.py\""
   ]
  },
  {
   "cell_type": "code",
   "execution_count": 27,
   "metadata": {},
   "outputs": [
    {
     "name": "stdout",
     "output_type": "stream",
     "text": [
      "import random, sys\n",
      "\n",
      "print('ROCK, PAPER, SCISSORS')\n",
      "\n",
      "# These variables keep track of the number of wins, losses, and ties.\n",
      "wins = 0\n",
      "losses = 0\n",
      "ties = 0\n",
      "\n",
      "while True: # The main game loop.\n",
      "    print('%s Wins, %s Losses, %s Ties' % (wins, losses, ties))\n",
      "    while True: # The player input loop.\n",
      "        print('Enter your move: (r)ock (p)aper (s)cissors or (q)uit')\n",
      "        playerMove = input()\n",
      "        if playerMove == 'q':\n",
      "            sys.exit() # Quit the program.\n",
      "        if playerMove == 'r' or playerMove == 'p' or playerMove == 's':\n",
      "            break # Break out of the player input loop.\n",
      "        print('Type one of r, p, s, or q.')\n",
      "\n",
      "    # Display what the player chose:\n",
      "    if playerMove == 'r':\n",
      "        print('ROCK versus...')\n",
      "    elif playerMove == 'p':\n",
      "        print('PAPER versus...')\n",
      "    elif playerMove == 's':\n",
      "        print('SCISSORS versus...')\n",
      "\n",
      "    # Display what the computer chose:\n",
      "    randomNumber = random.randint(1, 3)\n",
      "    if randomNumber == 1:\n",
      "        computerMove = 'r'\n",
      "        print('ROCK')\n",
      "    elif randomNumber == 2:\n",
      "        computerMove = 'p'\n",
      "        print('PAPER')\n",
      "    elif randomNumber == 3:\n",
      "        computerMove = 's'\n",
      "        print('SCISSORS')\n",
      "\n",
      "    # Display and record the win/loss/tie:\n",
      "    if playerMove == computerMove:\n",
      "        print('It is a tie!')\n",
      "        ties = ties + 1\n",
      "    elif playerMove == 'r' and computerMove == 's':\n",
      "        print('You win!')\n",
      "        wins = wins + 1\n",
      "    elif playerMove == 'p' and computerMove == 'r':\n",
      "        print('You win!')\n",
      "        wins = wins + 1\n",
      "    elif playerMove == 's' and computerMove == 'p':\n",
      "        print('You win!')\n",
      "        wins = wins + 1\n",
      "    elif playerMove == 'r' and computerMove == 'p':\n",
      "        print('You lose!')\n",
      "        losses = losses + 1\n",
      "    elif playerMove == 'p' and computerMove == 's':\n",
      "        print('You lose!')\n",
      "        losses = losses + 1\n",
      "    elif playerMove == 's' and computerMove == 'r':\n",
      "        print('You lose!')\n",
      "        losses = losses + 1"
     ]
    }
   ],
   "source": [
    "!cat \"../code/automate_online-materials/rpsGame.py\""
   ]
  },
  {
   "cell_type": "markdown",
   "metadata": {},
   "source": [
    "## Summary\n",
    "\n",
    "By using expressions that evaluate to `True` or `False` (also called **conditions**), you can write programs that make decisions on what code to execute and what code to skip. You can also execute code over and over again in a **loop** while a certain condition evaluates to `True`. The `break` and `continue` statements are useful if you need to exit a loop or jump back to the loop’s start.\n",
    "\n",
    "These flow control statements will let you write more intelligent programs. You can also use another type of flow control by writing your own functions, which is the topic of the next chapter."
   ]
  },
  {
   "cell_type": "markdown",
   "metadata": {},
   "source": [
    "## Practice Questions\n",
    "\n",
    "1. What are the two values of the Boolean data type? How do you write them?\n",
    "\n",
    "2. What are the three Boolean operators?\n",
    "\n",
    "3. Write out the truth tables of each Boolean operator (that is, every possible combination of Boolean values for the operator and what they evaluate to).\n"
   ]
  },
  {
   "cell_type": "markdown",
   "metadata": {},
   "source": [
    "4. What do the following expressions evaluate to?"
   ]
  },
  {
   "cell_type": "code",
   "execution_count": null,
   "metadata": {},
   "outputs": [],
   "source": [
    "(5 > 4) and (3 == 5)\n",
    "not (5 > 4)\n",
    "(5 > 4) or (3 == 5)\n",
    "not ((5 > 4) or (3 == 5))\n",
    "(True and True) and (True == False)\n",
    "(not False) or (not True)"
   ]
  },
  {
   "cell_type": "markdown",
   "metadata": {},
   "source": [
    "5. What are the six comparison operators?\n",
    "\n",
    "6. What is the difference between the equal to operator and the assignment operator?\n",
    "\n",
    "7. Explain what a condition is and where you would use one."
   ]
  },
  {
   "cell_type": "markdown",
   "metadata": {},
   "source": [
    "8. Identify the three blocks in this code:"
   ]
  },
  {
   "cell_type": "code",
   "execution_count": null,
   "metadata": {},
   "outputs": [],
   "source": [
    "spam = 0\n",
    "if spam == 10:\n",
    "    print('eggs')\n",
    "    if spam > 5:\n",
    "        print('bacon')\n",
    "    else:\n",
    "        print('ham')\n",
    "    print('spam')\n",
    "print('spam')"
   ]
  },
  {
   "cell_type": "markdown",
   "metadata": {},
   "source": [
    "9. Write code that prints \"Hello\" if `1` is stored in `spam`, prints \"Howdy\" if `2` is stored in `spam`, and prints \"Greetings!\" if anything else is stored in `spam`."
   ]
  },
  {
   "cell_type": "markdown",
   "metadata": {},
   "source": [
    "\n",
    "10. What keys can you press if your program is stuck in an infinite loop?\n",
    "\n",
    "11. What is the difference between `break` and `continue`?\n",
    "\n",
    "12. What is the difference between `range(10)`, `range(0, 10)`, and `range(0, 10, 1)` in a` for` loop?"
   ]
  },
  {
   "cell_type": "code",
   "execution_count": 30,
   "metadata": {},
   "outputs": [
    {
     "data": {
      "text/plain": [
       "[0, 1, 2, 3, 4, 5, 6, 7, 8, 9]"
      ]
     },
     "execution_count": 30,
     "metadata": {},
     "output_type": "execute_result"
    }
   ],
   "source": [
    "list(range(0, 10, 1))"
   ]
  },
  {
   "cell_type": "markdown",
   "metadata": {},
   "source": [
    "13. Write a short program that prints the numbers 1 to 10 using a `for` loop. Then write an equivalent program that prints the numbers 1 to 10 using a `while` loop."
   ]
  },
  {
   "cell_type": "markdown",
   "metadata": {},
   "source": [
    "14. If you had a function named `bacon()` inside a module named `spam`, how would you call it after importing spam?"
   ]
  },
  {
   "cell_type": "code",
   "execution_count": null,
   "metadata": {},
   "outputs": [],
   "source": [
    "from spam import bacon\n",
    "\n",
    "bacon()"
   ]
  },
  {
   "cell_type": "markdown",
   "metadata": {},
   "source": [
    "**Extra credit**: Look up the `round()` and `abs()` functions on the internet, and find out what they do. Experiment with them in the interactive shell."
   ]
  },
  {
   "cell_type": "code",
   "execution_count": null,
   "metadata": {},
   "outputs": [],
   "source": []
  }
 ],
 "metadata": {
  "interpreter": {
   "hash": "d64f0687a27bb3128d11226fa645f116d573ef8368ece383196a2b247fa11dfc"
  },
  "kernelspec": {
   "display_name": "Python 3.9 (gfu)",
   "language": "python",
   "name": "gfu"
  },
  "language_info": {
   "codemirror_mode": {
    "name": "ipython",
    "version": 3
   },
   "file_extension": ".py",
   "mimetype": "text/x-python",
   "name": "python",
   "nbconvert_exporter": "python",
   "pygments_lexer": "ipython3",
   "version": "3.9.7"
  }
 },
 "nbformat": 4,
 "nbformat_minor": 4
}
