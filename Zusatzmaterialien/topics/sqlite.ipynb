{
 "cells": [
  {
   "cell_type": "code",
   "execution_count": 3,
   "id": "0f7b81ae-8259-41ff-b1bf-87201d14aace",
   "metadata": {},
   "outputs": [],
   "source": [
    "import sqlite3"
   ]
  },
  {
   "cell_type": "markdown",
   "id": "292b781a-b847-402c-8e4c-628f90cc4bc9",
   "metadata": {},
   "source": [
    "[Documentation](https://docs.python.org/3/library/sqlite3.html)"
   ]
  },
  {
   "cell_type": "markdown",
   "id": "1c9b0bf9-db58-43ed-a969-59d2d96e7682",
   "metadata": {},
   "source": [
    "![](https://www.sqlitetutorial.net/wp-content/uploads/2015/11/sqlite-sample-database-color.jpg)"
   ]
  },
  {
   "cell_type": "markdown",
   "id": "f3c76598-4336-48ef-b224-0d714668bb2b",
   "metadata": {},
   "source": [
    "Chinook sample database tables\n",
    "\n",
    "There are 11 tables in the chinook sample database.\n",
    "\n",
    "- `employees` table stores employees data such as employee id, last name, first name, etc. It also has a field named `ReportsTo` to specify who reports to whom.\n",
    "- `customers` table stores customers data.\n",
    "- `invoices` & `invoice_items` tables: these two tables store invoice data. The `invoices` table stores invoice header data and the `invoice_items` table stores the invoice line items data.\n",
    "- `artists` table stores artists data. It is a simple table that contains only the artist id and name.\n",
    "- `albums` table stores data about a list of tracks. Each album belongs to one artist. However, one artist may have multiple albums.\n",
    "- `media_types` table stores media types such as MPEG audio and AAC audio files.\n",
    "- `genres` table stores music types such as rock, jazz, metal, etc.\n",
    "- `tracks` table stores the data of songs. Each track belongs to one album.\n",
    "- `playlists` & `playlist_track` tables: playlists table store data about playlists. Each playlist contains a list of tracks. Each track may belong to multiple playlists. The relationship between the `playlists` table and `tracks table` is many-to-many. The `playlist_track` table is used to reflect this relationship."
   ]
  },
  {
   "cell_type": "markdown",
   "id": "60ecfa94-5f74-45b9-8d97-ce2fc0319640",
   "metadata": {},
   "source": [
    "## Connect to db"
   ]
  },
  {
   "cell_type": "code",
   "execution_count": 9,
   "id": "47ac47ef-9d4f-405d-800f-70cbe1a04379",
   "metadata": {},
   "outputs": [],
   "source": [
    "def create_connection(db_file):\n",
    "    \"\"\" create a database connection to a SQLite database \"\"\"\n",
    "    conn = None\n",
    "    try:\n",
    "        conn = sqlite3.connect(db_file)\n",
    "        cursor = conn.cursor()\n",
    "        cursor.execute(\"SELECT name FROM sqlite_master WHERE type='table';\")\n",
    "        print(cursor.fetchall())\n",
    "        print(sqlite3.version)\n",
    "    except sqlite3.Error as e:\n",
    "        print(e)\n",
    "    finally:\n",
    "        if conn:\n",
    "            conn.close()"
   ]
  },
  {
   "cell_type": "code",
   "execution_count": 10,
   "id": "26b3751d-6804-4144-964b-edd8de44c441",
   "metadata": {},
   "outputs": [
    {
     "name": "stdout",
     "output_type": "stream",
     "text": [
      "[('albums',), ('sqlite_sequence',), ('artists',), ('customers',), ('employees',), ('genres',), ('invoices',), ('invoice_items',), ('media_types',), ('playlists',), ('playlist_track',), ('tracks',), ('sqlite_stat1',)]\n",
      "2.6.0\n"
     ]
    }
   ],
   "source": [
    "create_connection(\"../data/chinook.db\")"
   ]
  },
  {
   "cell_type": "code",
   "execution_count": 11,
   "id": "2e3fcca8-07a8-434f-b3de-6015a16c4b69",
   "metadata": {},
   "outputs": [
    {
     "name": "stdout",
     "output_type": "stream",
     "text": [
      "[]\n",
      "2.6.0\n"
     ]
    }
   ],
   "source": [
    "create_connection(\":memory:\")"
   ]
  },
  {
   "cell_type": "markdown",
   "id": "1120ae40-1914-4f0c-898e-940202f5a0f1",
   "metadata": {},
   "source": [
    "The `connect()` function opens a connection to an SQLite database. It returns a `Connection` object that represents the database. By using the `Connection` object, you can perform various database operations."
   ]
  },
  {
   "cell_type": "markdown",
   "id": "e136e925-6c27-4f4a-b036-36f91e8f940c",
   "metadata": {},
   "source": [
    "## Create tables"
   ]
  },
  {
   "cell_type": "markdown",
   "id": "5b32060d-5560-4c79-bb64-0f6da1be83e3",
   "metadata": {},
   "source": [
    "To create a new table in an SQLite database from a Python program, you use the following steps:\n",
    "\n",
    "1. First, create a `Connection` object using the `connect()` function of the sqlite3 module.\n",
    "1. Second, create a `Cursor` object by calling the `cursor()` method of the Connection object.\n",
    "1. Third, pass the `CREATE TABLE` statement to the `execute()` method of the `Cursor` object and execute this method"
   ]
  },
  {
   "attachments": {
    "0dd52ed7-cd3c-48f5-810d-3cbb1c08f841.png": {
     "image/png": "[encoded data removed]"
    }
   },
   "cell_type": "markdown",
   "id": "b63cb44e-82c5-4564-8ca0-8c3d704cf92f",
   "metadata": {},
   "source": [
    "![grafik.png](attachment:0dd52ed7-cd3c-48f5-810d-3cbb1c08f841.png)"
   ]
  },
  {
   "cell_type": "markdown",
   "id": "ff480a2c-9ad6-4930-8204-e084a9486335",
   "metadata": {},
   "source": [
    "The following CREATE TABLE statements create these two tables:\n",
    "\n",
    "```SQL\n",
    "-- projects table\n",
    "CREATE TABLE IF NOT EXISTS projects (\n",
    "\tid integer PRIMARY KEY,\n",
    "\tname text NOT NULL,\n",
    "\tbegin_date text,\n",
    "\tend_date text\n",
    ");\n",
    "\n",
    "-- tasks table\n",
    "CREATE TABLE IF NOT EXISTS tasks (\n",
    "\tid integer PRIMARY KEY,\n",
    "\tname text NOT NULL,\n",
    "\tpriority integer,\n",
    "\tproject_id integer NOT NULL,\n",
    "\tstatus_id integer NOT NULL,\n",
    "\tbegin_date text NOT NULL,\n",
    "\tend_date text NOT NULL,\n",
    "\tFOREIGN KEY (project_id) REFERENCES projects (id)\n",
    ");\n",
    "```"
   ]
  },
  {
   "cell_type": "code",
   "execution_count": 12,
   "id": "65cf156d-b626-440e-a36e-1f78ffd0a8b3",
   "metadata": {},
   "outputs": [],
   "source": [
    "def create_connection(db_file):\n",
    "    \"\"\" create a database connection to the SQLite database\n",
    "        specified by db_file\n",
    "    :param db_file: database file\n",
    "    :return: Connection object or None\n",
    "    \"\"\"\n",
    "    conn = None\n",
    "    try:\n",
    "        conn = sqlite3.connect(db_file)\n",
    "    except Error as e:\n",
    "        print(e)\n",
    "\n",
    "    return conn"
   ]
  },
  {
   "cell_type": "code",
   "execution_count": 13,
   "id": "14d5344b-709e-44d7-b9e2-5f4f2ecb9a47",
   "metadata": {},
   "outputs": [],
   "source": [
    "def create_table(conn, create_table_sql):\n",
    "    \"\"\" create a table from the create_table_sql statement\n",
    "    :param conn: Connection object\n",
    "    :param create_table_sql: a CREATE TABLE statement\n",
    "    :return:\n",
    "    \"\"\"\n",
    "    try:\n",
    "        c = conn.cursor()\n",
    "        c.execute(create_table_sql)\n",
    "    except Error as e:\n",
    "        print(e)"
   ]
  },
  {
   "cell_type": "code",
   "execution_count": 14,
   "id": "29e77b03-3c6a-4bb3-ae8e-398e2beaaba0",
   "metadata": {},
   "outputs": [],
   "source": [
    "database = \"../data/chinook.db\"\n",
    "\n",
    "sql_create_projects_table = \"\"\"\n",
    "CREATE TABLE IF NOT EXISTS projects (\n",
    "    id integer PRIMARY KEY,\n",
    "    name text NOT NULL,\n",
    "    begin_date text,\n",
    "    end_date text\n",
    "); \"\"\"\n",
    "\n",
    "sql_create_tasks_table = \"\"\"\n",
    "CREATE TABLE IF NOT EXISTS tasks (\n",
    "    id integer PRIMARY KEY,\n",
    "    name text NOT NULL,\n",
    "    priority integer,\n",
    "    status_id integer NOT NULL,\n",
    "    project_id integer NOT NULL,\n",
    "    begin_date text NOT NULL,\n",
    "    end_date text NOT NULL,\n",
    "    FOREIGN KEY (project_id) REFERENCES projects (id)\n",
    ");\"\"\"\n",
    "\n",
    "# create a database connection\n",
    "conn = create_connection(database)\n",
    "\n",
    "# create tables\n",
    "if conn is not None:\n",
    "    # create projects table\n",
    "    create_table(conn, sql_create_projects_table)\n",
    "\n",
    "    # create tasks table\n",
    "    create_table(conn, sql_create_tasks_table)\n",
    "else:\n",
    "    print(\"Error! cannot create the database connection.\")"
   ]
  },
  {
   "cell_type": "code",
   "execution_count": 15,
   "id": "d3b59e3a-7e26-43f7-8c42-13fcf05e2c1d",
   "metadata": {},
   "outputs": [
    {
     "name": "stdout",
     "output_type": "stream",
     "text": [
      "[('albums',), ('sqlite_sequence',), ('artists',), ('customers',), ('employees',), ('genres',), ('invoices',), ('invoice_items',), ('media_types',), ('playlists',), ('playlist_track',), ('tracks',), ('sqlite_stat1',), ('projects',), ('tasks',)]\n"
     ]
    }
   ],
   "source": [
    "cursor = conn.cursor()\n",
    "cursor.execute(\"SELECT name FROM sqlite_master WHERE type='table';\")\n",
    "print(cursor.fetchall())"
   ]
  },
  {
   "cell_type": "markdown",
   "id": "6cc17434-516b-471d-ad32-93f572c53893",
   "metadata": {},
   "source": [
    "## Inserting Data"
   ]
  },
  {
   "attachments": {
    "d32c2620-78bf-4d39-aeda-c8c0703ac458.png": {
     "image/png": "[encoded data removed]"
    }
   },
   "cell_type": "markdown",
   "id": "b8e33bfc-a28d-46eb-90d0-1016c269c753",
   "metadata": {},
   "source": [
    "To insert rows into a table in SQLite database, you use the following steps:\n",
    "\n",
    "1. First, connect to the SQLite database by creating a `Connection` object.\n",
    "1. Second, create a `Cursor` object by calling the `cursor` method of the `Connection` object.\n",
    "1. Third, execute an `INSERT` statement. If you want to pass arguments to the `INSERT` statement, you use the **question mark (?)** as the placeholder for each argument.\n",
    "\n",
    "![grafik.png](attachment:d32c2620-78bf-4d39-aeda-c8c0703ac458.png)"
   ]
  },
  {
   "cell_type": "code",
   "execution_count": 16,
   "id": "a359e5b6-2d1f-41e4-83b7-d840c5c421d3",
   "metadata": {},
   "outputs": [],
   "source": [
    "def create_connection(db_file):\n",
    "    \"\"\" create a database connection to the SQLite database\n",
    "        specified by db_file\n",
    "    :param db_file: database file\n",
    "    :return: Connection object or None\n",
    "    \"\"\"\n",
    "    conn = None\n",
    "    try:\n",
    "        conn = sqlite3.connect(db_file)\n",
    "    except Error as e:\n",
    "        print(e)\n",
    "\n",
    "    return conn"
   ]
  },
  {
   "cell_type": "code",
   "execution_count": 17,
   "id": "cba636cc-2cef-45f3-896d-22635e73cb12",
   "metadata": {},
   "outputs": [],
   "source": [
    "def create_project(conn, project):\n",
    "    \"\"\"\n",
    "    Create a new project into the projects table\n",
    "    :param conn:\n",
    "    :param project:\n",
    "    :return: project id\n",
    "    \"\"\"\n",
    "    sql = ''' INSERT INTO projects(name, begin_date, end_date)\n",
    "              VALUES(?,?,?) '''\n",
    "    cur = conn.cursor()\n",
    "    cur.execute(sql, project)\n",
    "    conn.commit()\n",
    "    return cur.lastrowid"
   ]
  },
  {
   "cell_type": "markdown",
   "id": "f0eff67b-dfbe-44a3-a556-913de74c1477",
   "metadata": {},
   "source": [
    "In this function, we used the `lastrowid` attribute of the `Cursor` object to get back the generated id."
   ]
  },
  {
   "cell_type": "code",
   "execution_count": 18,
   "id": "7f05a05f-4343-4cad-a9c3-e8f3631a03da",
   "metadata": {},
   "outputs": [],
   "source": [
    "def create_task(conn, task):\n",
    "    \"\"\"\n",
    "    Create a new task\n",
    "    :param conn:\n",
    "    :param task:\n",
    "    :return:\n",
    "    \"\"\"\n",
    "\n",
    "    sql = ''' INSERT INTO tasks(name,priority,status_id,project_id,begin_date,end_date)\n",
    "              VALUES(?,?,?,?,?,?) '''\n",
    "    cur = conn.cursor()\n",
    "    cur.execute(sql, task)\n",
    "    conn.commit()\n",
    "\n",
    "    return cur.lastrowid"
   ]
  },
  {
   "cell_type": "code",
   "execution_count": 20,
   "id": "a9b2b979-0dfd-422e-810a-431f7cafdceb",
   "metadata": {},
   "outputs": [
    {
     "name": "stdout",
     "output_type": "stream",
     "text": [
      "Created new project (id=2)\n",
      "Created two new tasks (id=[3, 4])\n"
     ]
    }
   ],
   "source": [
    "database = \"../data/chinook.db\"\n",
    "\n",
    "# create a database connection\n",
    "conn = create_connection(database)\n",
    "with conn:\n",
    "    # create a new project\n",
    "    project = ('Cool App with SQLite & Python', '2015-01-01', '2015-01-30');\n",
    "    project_id = create_project(conn, project)\n",
    "    print(f\"Created new project (id={project_id})\")\n",
    "\n",
    "    # tasks\n",
    "    task_1 = ('Analyze the requirements of the app', 1, 1, project_id, '2015-01-01', '2015-01-02')\n",
    "    task_2 = ('Confirm with user about the top requirements', 1, 1, project_id, '2015-01-03', '2015-01-05')\n",
    "    \n",
    "    # create tasks\n",
    "    task_id_1 = create_task(conn, task_1)\n",
    "    task_id_2 = create_task(conn, task_2)\n",
    "    \n",
    "    print(f\"Created two new tasks (id=[{task_id_1}, {task_id_2}])\")"
   ]
  },
  {
   "cell_type": "code",
   "execution_count": 21,
   "id": "2ccca486-d025-42ad-a5b1-5ffc794801f4",
   "metadata": {},
   "outputs": [
    {
     "name": "stdout",
     "output_type": "stream",
     "text": [
      "[(1, 'Analyze the requirements of the app', 1, 1, 1, '2015-01-01', '2015-01-02'), (2, 'Confirm with user about the top requirements', 1, 1, 1, '2015-01-03', '2015-01-05'), (3, 'Analyze the requirements of the app', 1, 1, 2, '2015-01-01', '2015-01-02'), (4, 'Confirm with user about the top requirements', 1, 1, 2, '2015-01-03', '2015-01-05')]\n"
     ]
    }
   ],
   "source": [
    "cursor = conn.cursor()\n",
    "cursor.execute(\"SELECT * FROM tasks;\")\n",
    "print(cursor.fetchall())"
   ]
  },
  {
   "cell_type": "code",
   "execution_count": null,
   "id": "c79d26ee-6d4e-4b5b-a936-c4fc2edcddf7",
   "metadata": {},
   "outputs": [],
   "source": []
  }
 ],
 "metadata": {
  "kernelspec": {
   "display_name": "Python 3 (ipykernel)",
   "language": "python",
   "name": "python3"
  },
  "language_info": {
   "codemirror_mode": {
    "name": "ipython",
    "version": 3
   },
   "file_extension": ".py",
   "mimetype": "text/x-python",
   "name": "python",
   "nbconvert_exporter": "python",
   "pygments_lexer": "ipython3",
   "version": "3.9.7"
  }
 },
 "nbformat": 4,
 "nbformat_minor": 5
}
